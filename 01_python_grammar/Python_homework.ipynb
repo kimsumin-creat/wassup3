{
 "cells": [
  {
   "cell_type": "markdown",
   "id": "2e8afe05-1f0f-4d02-8068-8b24ae354d9c",
   "metadata": {},
   "source": [
    "# 초보자를 위한 파이썬 300제"
   ]
  },
  {
   "cell_type": "code",
   "execution_count": 1,
   "id": "104dd092-ed01-439e-be2a-8242bc77eb0a",
   "metadata": {},
   "outputs": [
    {
     "name": "stdout",
     "output_type": "stream",
     "text": [
      "Hello World\n"
     ]
    }
   ],
   "source": [
    "#001 \n",
    "print(\"Hello World\")"
   ]
  },
  {
   "cell_type": "code",
   "execution_count": 2,
   "id": "3e1688a9-55a9-48d4-92db-f0cacea89f45",
   "metadata": {},
   "outputs": [
    {
     "name": "stdout",
     "output_type": "stream",
     "text": [
      "Mary's cosmetics\n"
     ]
    }
   ],
   "source": [
    "#002\n",
    "print(\"Mary's cosmetics\")"
   ]
  },
  {
   "cell_type": "code",
   "execution_count": 3,
   "id": "14eddec1-56a0-4390-98a8-80d5b63ff1d7",
   "metadata": {},
   "outputs": [
    {
     "name": "stdout",
     "output_type": "stream",
     "text": [
      "신씨가 소리질렀다. \"도둑이야.\"\n"
     ]
    }
   ],
   "source": [
    "#003\n",
    "print('신씨가 소리질렀다. \"도둑이야.\"')"
   ]
  },
  {
   "cell_type": "code",
   "execution_count": 5,
   "id": "ebfe0332-214e-4c2d-b22e-964cf707afb3",
   "metadata": {},
   "outputs": [
    {
     "name": "stdout",
     "output_type": "stream",
     "text": [
      "C:\\windows\n"
     ]
    }
   ],
   "source": [
    "#004\n",
    "print(\"C:\\windows\")"
   ]
  },
  {
   "cell_type": "code",
   "execution_count": 8,
   "id": "754d8a2a-ca4e-4cf5-8bb1-e736857e9a03",
   "metadata": {},
   "outputs": [
    {
     "name": "stdout",
     "output_type": "stream",
     "text": [
      "안녕하세요.\n",
      "만나서\t\t반갑습니다.\n"
     ]
    }
   ],
   "source": [
    "#005\n",
    "print(\"안녕하세요.\\n만나서\\t\\t반갑습니다.\")\n",
    "#\\n은 줄바꿈, \\t는 tab 인데 두번 들어가서 탭2번"
   ]
  },
  {
   "cell_type": "code",
   "execution_count": 9,
   "id": "092d9e57-893b-473e-9271-5e60931a9938",
   "metadata": {},
   "outputs": [
    {
     "name": "stdout",
     "output_type": "stream",
     "text": [
      "오늘은 일요일\n"
     ]
    }
   ],
   "source": [
    "#006\n",
    "print (\"오늘은\", \"일요일\")"
   ]
  },
  {
   "cell_type": "code",
   "execution_count": 13,
   "id": "8a41df1d-32de-41e0-b866-5e5b986ee706",
   "metadata": {},
   "outputs": [
    {
     "name": "stdout",
     "output_type": "stream",
     "text": [
      "naver;kakao;sk;samsung\n"
     ]
    }
   ],
   "source": [
    "#007\n",
    "print(\"naver\",\"kakao\",\"sk\",\"samsung\",sep=\";\")"
   ]
  },
  {
   "cell_type": "code",
   "execution_count": 15,
   "id": "7bb79e41-479e-4019-8b65-db6893d529fa",
   "metadata": {},
   "outputs": [
    {
     "name": "stdout",
     "output_type": "stream",
     "text": [
      "naver/kakao/sk/samsung\n"
     ]
    }
   ],
   "source": [
    "#008\n",
    "print(\"naver\",\"kakao\",\"sk\",\"samsung\",sep=\"/\")"
   ]
  },
  {
   "cell_type": "code",
   "execution_count": 18,
   "id": "2e0b2246-fb1a-4a75-bb3b-364846aff6e8",
   "metadata": {},
   "outputs": [
    {
     "name": "stdout",
     "output_type": "stream",
     "text": [
      "firstsecond\n"
     ]
    }
   ],
   "source": [
    "#009\n",
    "print(\"first\", end=\"\");print(\"second\")"
   ]
  },
  {
   "cell_type": "code",
   "execution_count": 17,
   "id": "83b44118-09ef-463e-ada7-617b113b8242",
   "metadata": {},
   "outputs": [
    {
     "name": "stdout",
     "output_type": "stream",
     "text": [
      "1.6666666666666667\n"
     ]
    }
   ],
   "source": [
    "#010\n",
    "print(5/3)"
   ]
  },
  {
   "cell_type": "code",
   "execution_count": null,
   "id": "2e5b5362-b4e9-48cc-8c13-da72edb2d8d3",
   "metadata": {},
   "outputs": [],
   "source": [
    "#011"
   ]
  },
  {
   "cell_type": "code",
   "execution_count": null,
   "id": "d4981244-d69b-405b-8d9b-962c865caf0a",
   "metadata": {},
   "outputs": [],
   "source": [
    "#01"
   ]
  },
  {
   "cell_type": "code",
   "execution_count": null,
   "id": "15a3545b-90d3-43b3-a320-6131ef3ff3d7",
   "metadata": {},
   "outputs": [],
   "source": [
    "#01"
   ]
  },
  {
   "cell_type": "code",
   "execution_count": null,
   "id": "30b38557-235e-4f69-970c-4af977906481",
   "metadata": {},
   "outputs": [],
   "source": [
    "#01"
   ]
  },
  {
   "cell_type": "code",
   "execution_count": null,
   "id": "90258194-8259-446d-8176-ef3211f44eab",
   "metadata": {},
   "outputs": [],
   "source": [
    "#01"
   ]
  },
  {
   "cell_type": "code",
   "execution_count": null,
   "id": "c0c0bee0-2e2b-4aca-b398-808e1859c742",
   "metadata": {},
   "outputs": [],
   "source": [
    "#01"
   ]
  },
  {
   "cell_type": "code",
   "execution_count": null,
   "id": "a3dd2b29-1ae5-4318-8553-041d0b5754a6",
   "metadata": {},
   "outputs": [],
   "source": [
    "#01"
   ]
  },
  {
   "cell_type": "code",
   "execution_count": null,
   "id": "ef4e99aa-a17a-4296-a1b9-c70084301797",
   "metadata": {},
   "outputs": [],
   "source": [
    "#01"
   ]
  },
  {
   "cell_type": "code",
   "execution_count": null,
   "id": "2429ba30-3740-4b48-b7f7-f97abd251347",
   "metadata": {},
   "outputs": [],
   "source": [
    "#01"
   ]
  },
  {
   "cell_type": "code",
   "execution_count": null,
   "id": "02836301-f8d7-48fe-b997-a01f69670a8f",
   "metadata": {},
   "outputs": [],
   "source": [
    "#020"
   ]
  },
  {
   "cell_type": "code",
   "execution_count": null,
   "id": "7aa6b48a-2bdd-4eff-a5b1-2f85de609a6e",
   "metadata": {},
   "outputs": [],
   "source": [
    "#021"
   ]
  },
  {
   "cell_type": "code",
   "execution_count": null,
   "id": "f968a41b-c25a-48cc-a5c7-61fda99c2d80",
   "metadata": {},
   "outputs": [],
   "source": [
    "#022"
   ]
  },
  {
   "cell_type": "code",
   "execution_count": null,
   "id": "5434cba3-5cf3-4532-ac8a-2386f300bf68",
   "metadata": {},
   "outputs": [],
   "source": [
    "#023"
   ]
  },
  {
   "cell_type": "code",
   "execution_count": null,
   "id": "7404609d-9198-44a6-bc5b-c4315bc903ef",
   "metadata": {},
   "outputs": [],
   "source": [
    "#024"
   ]
  },
  {
   "cell_type": "code",
   "execution_count": null,
   "id": "82788696-e244-4fdc-9cb4-54f97d1b160a",
   "metadata": {},
   "outputs": [],
   "source": [
    "#025"
   ]
  },
  {
   "cell_type": "code",
   "execution_count": null,
   "id": "5400ed8e-5686-4f0e-81a4-81eb39019543",
   "metadata": {},
   "outputs": [],
   "source": [
    "#026"
   ]
  },
  {
   "cell_type": "code",
   "execution_count": null,
   "id": "cdf9d3a2-37e4-4931-8c1e-38527b3fbb2f",
   "metadata": {},
   "outputs": [],
   "source": [
    "#027"
   ]
  },
  {
   "cell_type": "code",
   "execution_count": null,
   "id": "64c3d391-5096-4f79-8767-a398921577d8",
   "metadata": {},
   "outputs": [],
   "source": [
    "#028"
   ]
  },
  {
   "cell_type": "code",
   "execution_count": null,
   "id": "1c261c6b-8dca-4187-bc52-03d211b861c3",
   "metadata": {},
   "outputs": [],
   "source": [
    "#029"
   ]
  },
  {
   "cell_type": "code",
   "execution_count": null,
   "id": "e6a9866c-06e3-4a1e-961f-4e866556bbb1",
   "metadata": {},
   "outputs": [],
   "source": [
    "#030"
   ]
  },
  {
   "cell_type": "code",
   "execution_count": null,
   "id": "6015d693-87c6-4628-9e23-298754730d0a",
   "metadata": {},
   "outputs": [],
   "source": [
    "#03"
   ]
  },
  {
   "cell_type": "code",
   "execution_count": null,
   "id": "fa81cb6b-f499-4d33-9c69-ad497e071eeb",
   "metadata": {},
   "outputs": [],
   "source": [
    "#03"
   ]
  },
  {
   "cell_type": "code",
   "execution_count": null,
   "id": "c3fd2986-367f-4bc2-a51c-9496ab8be85c",
   "metadata": {},
   "outputs": [],
   "source": [
    "#03"
   ]
  },
  {
   "cell_type": "code",
   "execution_count": null,
   "id": "20c9d852-5df8-48af-9f18-12a53a520155",
   "metadata": {},
   "outputs": [],
   "source": [
    "#03"
   ]
  },
  {
   "cell_type": "code",
   "execution_count": null,
   "id": "efc8d97e-57aa-4a43-aba0-5eabe35d32be",
   "metadata": {},
   "outputs": [],
   "source": [
    "#03"
   ]
  },
  {
   "cell_type": "code",
   "execution_count": null,
   "id": "b593022b-ab06-4052-90da-105cb8dba98d",
   "metadata": {},
   "outputs": [],
   "source": [
    "#03"
   ]
  },
  {
   "cell_type": "code",
   "execution_count": null,
   "id": "84ac1a33-672b-4bb8-bda5-293d9d536fc8",
   "metadata": {},
   "outputs": [],
   "source": [
    "#03"
   ]
  },
  {
   "cell_type": "code",
   "execution_count": null,
   "id": "e6893691-c3b3-476e-8211-f656863aa971",
   "metadata": {},
   "outputs": [],
   "source": [
    "#03"
   ]
  },
  {
   "cell_type": "code",
   "execution_count": null,
   "id": "f7d3fe71-961d-4576-9dd7-b084aaf04ef7",
   "metadata": {},
   "outputs": [],
   "source": [
    "#03"
   ]
  },
  {
   "cell_type": "code",
   "execution_count": null,
   "id": "20a1b09f-e239-4ed1-a9ae-662094fca361",
   "metadata": {},
   "outputs": [],
   "source": [
    "#040"
   ]
  },
  {
   "cell_type": "code",
   "execution_count": null,
   "id": "a2f36a71-0141-4418-8fa7-e0d267d90b88",
   "metadata": {},
   "outputs": [],
   "source": []
  },
  {
   "cell_type": "code",
   "execution_count": null,
   "id": "806940a2-1912-468b-a6cc-304a94951195",
   "metadata": {},
   "outputs": [],
   "source": []
  },
  {
   "cell_type": "code",
   "execution_count": null,
   "id": "2feffc28-adda-483d-98a5-a1f703267486",
   "metadata": {},
   "outputs": [],
   "source": []
  },
  {
   "cell_type": "code",
   "execution_count": null,
   "id": "d0fb7733-7499-4fd2-b401-085fe602923f",
   "metadata": {},
   "outputs": [],
   "source": []
  },
  {
   "cell_type": "code",
   "execution_count": null,
   "id": "1de9e8ce-ec29-406e-93cf-f5d1c05b2fec",
   "metadata": {},
   "outputs": [],
   "source": []
  },
  {
   "cell_type": "code",
   "execution_count": null,
   "id": "66b4492d-b9a5-4e57-868e-1ef70eba0f86",
   "metadata": {},
   "outputs": [],
   "source": []
  },
  {
   "cell_type": "code",
   "execution_count": null,
   "id": "fe1e4eaf-204b-485a-af29-5cd6c9865845",
   "metadata": {},
   "outputs": [],
   "source": []
  },
  {
   "cell_type": "code",
   "execution_count": null,
   "id": "b2b63b38-4570-45af-84c0-47f6e0290e38",
   "metadata": {},
   "outputs": [],
   "source": []
  },
  {
   "cell_type": "code",
   "execution_count": null,
   "id": "7af903b3-e181-4ada-b597-65c9ac6c2462",
   "metadata": {},
   "outputs": [],
   "source": []
  },
  {
   "cell_type": "code",
   "execution_count": null,
   "id": "4202c5a7-ae3f-49b6-9188-b328096004fa",
   "metadata": {},
   "outputs": [],
   "source": []
  },
  {
   "cell_type": "code",
   "execution_count": null,
   "id": "d454de96-4dab-4ae8-b878-0c3559b98b08",
   "metadata": {},
   "outputs": [],
   "source": []
  },
  {
   "cell_type": "code",
   "execution_count": null,
   "id": "d65cfa9c-480c-4f71-9d69-c3e84732c5d6",
   "metadata": {},
   "outputs": [],
   "source": []
  },
  {
   "cell_type": "code",
   "execution_count": null,
   "id": "783c4761-af86-4d46-8048-67d9c7706b30",
   "metadata": {},
   "outputs": [],
   "source": []
  },
  {
   "cell_type": "code",
   "execution_count": null,
   "id": "9b26e7f9-8e02-48a6-b8ab-686a03ab8632",
   "metadata": {},
   "outputs": [],
   "source": []
  },
  {
   "cell_type": "code",
   "execution_count": null,
   "id": "9998461a-8314-4439-95ef-861e7829ee1c",
   "metadata": {},
   "outputs": [],
   "source": []
  },
  {
   "cell_type": "code",
   "execution_count": null,
   "id": "2a01b9f1-6377-4a9c-8b7c-ad6686535199",
   "metadata": {},
   "outputs": [],
   "source": []
  },
  {
   "cell_type": "code",
   "execution_count": null,
   "id": "c91f1d34-5826-4109-88e1-ed0da033f33b",
   "metadata": {},
   "outputs": [],
   "source": []
  },
  {
   "cell_type": "code",
   "execution_count": null,
   "id": "3b369e11-61da-4e69-9a00-8174a376d202",
   "metadata": {},
   "outputs": [],
   "source": []
  },
  {
   "cell_type": "code",
   "execution_count": null,
   "id": "2e8aeb85-19ad-4964-b6a8-98d23379e89d",
   "metadata": {},
   "outputs": [],
   "source": []
  },
  {
   "cell_type": "code",
   "execution_count": null,
   "id": "7c8bf863-6013-4635-937e-cb13879da0ee",
   "metadata": {},
   "outputs": [],
   "source": []
  },
  {
   "cell_type": "code",
   "execution_count": null,
   "id": "b27e486a-011a-492f-bf93-1c1bc9eecd72",
   "metadata": {},
   "outputs": [],
   "source": []
  },
  {
   "cell_type": "code",
   "execution_count": null,
   "id": "84523e0f-1938-4536-a63b-61c4901c30f0",
   "metadata": {},
   "outputs": [],
   "source": []
  },
  {
   "cell_type": "code",
   "execution_count": null,
   "id": "fa9f1901-30fb-4244-b263-256a67ef53ac",
   "metadata": {},
   "outputs": [],
   "source": []
  },
  {
   "cell_type": "code",
   "execution_count": null,
   "id": "dcd7a2bd-4738-40c6-a5c4-a1dff8e0fb7d",
   "metadata": {},
   "outputs": [],
   "source": []
  },
  {
   "cell_type": "code",
   "execution_count": null,
   "id": "96ec1565-d0a3-4cf4-8a48-a20972cf4729",
   "metadata": {},
   "outputs": [],
   "source": []
  },
  {
   "cell_type": "code",
   "execution_count": null,
   "id": "22882f13-8587-466f-a066-7dc1b62a1104",
   "metadata": {},
   "outputs": [],
   "source": []
  },
  {
   "cell_type": "code",
   "execution_count": null,
   "id": "7c5361cc-f05f-4be8-be51-76c991b185b2",
   "metadata": {},
   "outputs": [],
   "source": []
  },
  {
   "cell_type": "code",
   "execution_count": null,
   "id": "d057ca03-5dae-46c1-b62e-efbb03fcd9ea",
   "metadata": {},
   "outputs": [],
   "source": []
  },
  {
   "cell_type": "code",
   "execution_count": null,
   "id": "4f941f20-e594-4298-aa6b-34c99ed0849e",
   "metadata": {},
   "outputs": [],
   "source": []
  },
  {
   "cell_type": "code",
   "execution_count": null,
   "id": "09bf9f44-34b2-4fdf-a480-9cf4178d225f",
   "metadata": {},
   "outputs": [],
   "source": []
  },
  {
   "cell_type": "code",
   "execution_count": null,
   "id": "c4df69e0-2fba-44c6-89f5-b818556b87ef",
   "metadata": {},
   "outputs": [],
   "source": []
  },
  {
   "cell_type": "code",
   "execution_count": null,
   "id": "2b0bda19-1c27-453b-acc2-48c32baf6956",
   "metadata": {},
   "outputs": [],
   "source": []
  },
  {
   "cell_type": "code",
   "execution_count": null,
   "id": "a07305bd-81e3-4745-b13d-2dac4bdb3017",
   "metadata": {},
   "outputs": [],
   "source": []
  },
  {
   "cell_type": "code",
   "execution_count": null,
   "id": "d95ffc89-004b-45eb-b93a-39eaaf92a037",
   "metadata": {},
   "outputs": [],
   "source": []
  },
  {
   "cell_type": "code",
   "execution_count": null,
   "id": "d49d1b46-2318-435d-a654-f628add0ab93",
   "metadata": {},
   "outputs": [],
   "source": []
  },
  {
   "cell_type": "code",
   "execution_count": null,
   "id": "3e1ba625-0c20-4243-96ed-d0c0d8508ee4",
   "metadata": {},
   "outputs": [],
   "source": []
  },
  {
   "cell_type": "code",
   "execution_count": null,
   "id": "188bf797-b3b3-4e1f-bffa-0b4e56c084a3",
   "metadata": {},
   "outputs": [],
   "source": []
  }
 ],
 "metadata": {
  "kernelspec": {
   "display_name": "Python 3 (ipykernel)",
   "language": "python",
   "name": "python3"
  },
  "language_info": {
   "codemirror_mode": {
    "name": "ipython",
    "version": 3
   },
   "file_extension": ".py",
   "mimetype": "text/x-python",
   "name": "python",
   "nbconvert_exporter": "python",
   "pygments_lexer": "ipython3",
   "version": "3.11.7"
  }
 },
 "nbformat": 4,
 "nbformat_minor": 5
}

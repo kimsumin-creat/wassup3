{
 "cells": [
  {
   "cell_type": "markdown",
   "metadata": {},
   "source": [
    "# 전화번호 프로그램 만들기\n",
    "\n",
    "* 홍길동 010-123-4567\n",
    "* 기능1 : 연락처 추가\n",
    "* 기능2 : 연락처 전체 보기\n",
    "* 기능3 : 검색, 이름을 입력받아서 전화번호 조회\n",
    "* 기능4 : 수정, 이름을 입력받아서 전화번호 입력수정\n",
    "* 기능5 : 삭제, 이름 입력받아서 삭제\n",
    "* 기능6 : 프로그램 종료"
   ]
  },
  {
   "cell_type": "code",
   "execution_count": null,
   "metadata": {},
   "outputs": [
    {
     "name": "stdout",
     "output_type": "stream",
     "text": [
      "1.연락처 추가 2.연락처 전체보기 3.전화번호 조회 4.전화번호 수정 5.삭제 6.프로그램 종료\n"
     ]
    }
   ],
   "source": [
    "\n",
    "#info={'홍길동':'010-123-4567'}\n",
    "while True: \n",
    "    print('1.연락처 추가 2.연락처 전체보기 3.전화번호 조회 4.전화번호 수정 5.삭제 6.프로그램 종료')\n",
    "    user=int(input('메뉴선택(숫자로만): '))\n",
    "    \n",
    "    if user == 1:\n",
    "        print(\"1.연락처 추가\")\n",
    "        #dict[key]=value\n",
    "        #info['김수민']=['010-1111-2222']\n",
    "        #print(info)\n",
    "    elif user == 2:\n",
    "        print(\"2.연락처 전체보기\")\n",
    "        #print(info)\n",
    "    elif user == 3:\n",
    "        print(\"3.전화번호 조회\")\n",
    "        #if user in info:\n",
    "        #print(info.values())\n",
    "    elif user == 4:\n",
    "        print(\"4.전화번호 수정\")\n",
    "        #전화번호 수정       \n",
    "    elif user == 5:\n",
    "        print(\"5.삭제\")\n",
    "        #del info[홍길동]\n",
    "    elif user == 6:\n",
    "        print(\"6.프로그램 종료\")\n",
    "        break\n",
    "    else:\n",
    "         print(\"잘못된 입력입니다.\")\n"
   ]
  },
  {
   "cell_type": "code",
   "execution_count": 6,
   "metadata": {},
   "outputs": [
    {
     "name": "stdin",
     "output_type": "stream",
     "text": [
      "이름 입력:  홍길동\n"
     ]
    },
    {
     "name": "stdout",
     "output_type": "stream",
     "text": [
      "dict_values(['010-123-4567'])\n"
     ]
    }
   ],
   "source": [
    "\n",
    "\n",
    "\n",
    "\n",
    "# 기능3\n",
    "info={'홍길동':'010-123-4567'}\n",
    "user=input('이름 입력: ')\n",
    "\n",
    "if user in info:\n",
    "    print(info.values())\n",
    "    \n",
    "\n"
   ]
  },
  {
   "cell_type": "code",
   "execution_count": null,
   "metadata": {},
   "outputs": [],
   "source": [
    "contact = {}\n",
    "\n",
    "while True:\n",
    "    print('-----전화번호부 프로그램-----')\n",
    "    print('1.추가   2.보기   3.검색   4.수정   5.삭제   9.종료')\n",
    "    menu = int(input('메뉴를 선택해주세요.(숫자only): ' ))\n",
    "\n",
    "    if menu == 1:\n",
    "        print('연락처를 추가합니다.')\n",
    "        new_name = input('이름: ')\n",
    "        new_tel = input('전화번호: ')\n",
    "        print(new_name, new_tel)\n",
    "        # contact[new_name] = new_tel\n",
    "        contact.setdefault(new_name, new_tel)\n",
    "\n",
    "    elif menu == 2: #완성\n",
    "        print('연락처를 조회합니다.')\n",
    "        # print(contact)\n",
    "        for name, tel in contact.items():\n",
    "            print(name, '=', tel )\n",
    "\n",
    "    elif menu == 3: # 완성\n",
    "        print('연락처를 검색합니다.')\n",
    "        search_name = input('검색 이름: ')\n",
    "        # print(contact[search_name])\n",
    "        print(contact.get(search_name, '없는 이름입니다.'))\n",
    "\n",
    "\n",
    "    elif menu == 4: # 완성\n",
    "        print('연락처를 수정합니다.')\n",
    "        mod_name = input('수정 이름 : ')\n",
    "\n",
    "        if mod_name in contact:\n",
    "            mod_tel = input('새 전화번호 : ')\n",
    "            contact[mod_name] = mod_tel\n",
    "        else :\n",
    "            print('등록되지 않은 이름입니다.')\n",
    "\n",
    "    elif menu == 5: # 완성\n",
    "        print('연락처를 삭제합니다.')\n",
    "        del_name = input('삭제 이름: ')\n",
    "\n",
    "        if del_name in contact:\n",
    "            del contact[del_name]\n",
    "        else :\n",
    "            print('등록되지 않은 이름입니다.')\n",
    "\n",
    "\n",
    "    elif menu == 9: # 완성\n",
    "        print('연락처를 종료합니다.')\n",
    "        break\n",
    "\n",
    "    else :\n",
    "        print('잘못된 입력입니다.')"
   ]
  }
 ],
 "metadata": {
  "kernelspec": {
   "display_name": "Python 3 (ipykernel)",
   "language": "python",
   "name": "python3"
  },
  "language_info": {
   "codemirror_mode": {
    "name": "ipython",
    "version": 3
   },
   "file_extension": ".py",
   "mimetype": "text/x-python",
   "name": "python",
   "nbconvert_exporter": "python",
   "pygments_lexer": "ipython3",
   "version": "3.11.7"
  },
  "toc": {
   "base_numbering": 1,
   "nav_menu": {},
   "number_sections": true,
   "sideBar": true,
   "skip_h1_title": false,
   "title_cell": "Table of Contents",
   "title_sidebar": "Contents",
   "toc_cell": false,
   "toc_position": {},
   "toc_section_display": true,
   "toc_window_display": false
  },
  "varInspector": {
   "cols": {
    "lenName": 16,
    "lenType": 16,
    "lenVar": 40
   },
   "kernels_config": {
    "python": {
     "delete_cmd_postfix": "",
     "delete_cmd_prefix": "del ",
     "library": "var_list.py",
     "varRefreshCmd": "print(var_dic_list())"
    },
    "r": {
     "delete_cmd_postfix": ") ",
     "delete_cmd_prefix": "rm(",
     "library": "var_list.r",
     "varRefreshCmd": "cat(var_dic_list()) "
    }
   },
   "types_to_exclude": [
    "module",
    "function",
    "builtin_function_or_method",
    "instance",
    "_Feature"
   ],
   "window_display": false
  }
 },
 "nbformat": 4,
 "nbformat_minor": 4
}

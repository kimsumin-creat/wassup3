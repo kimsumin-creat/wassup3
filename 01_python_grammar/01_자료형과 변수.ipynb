{
 "cells": [
  {
   "cell_type": "markdown",
   "id": "761e4add-d676-4d06-8ae3-c65eccf8c744",
   "metadata": {},
   "source": [
    "숫자 자료형"
   ]
  },
  {
   "cell_type": "code",
   "execution_count": 3,
   "id": "08fcbe1b-a267-4948-b7d2-ce2119c26d02",
   "metadata": {},
   "outputs": [
    {
     "data": {
      "text/plain": [
       "123"
      ]
     },
     "execution_count": 3,
     "metadata": {},
     "output_type": "execute_result"
    }
   ],
   "source": [
    "a=123\n",
    "a"
   ]
  },
  {
   "cell_type": "code",
   "execution_count": 4,
   "id": "649f5c06-3a23-4c8d-a50e-c7dad7e8c336",
   "metadata": {},
   "outputs": [
    {
     "data": {
      "text/plain": [
       "-3.45"
      ]
     },
     "execution_count": 4,
     "metadata": {},
     "output_type": "execute_result"
    }
   ],
   "source": [
    "a=-3.45\n",
    "a"
   ]
  },
  {
   "cell_type": "code",
   "execution_count": 7,
   "id": "4daa340e-0d39-4cce-92fd-2c0755eb274f",
   "metadata": {},
   "outputs": [
    {
     "data": {
      "text/plain": [
       "42400000000.0"
      ]
     },
     "execution_count": 7,
     "metadata": {},
     "output_type": "execute_result"
    }
   ],
   "source": [
    "a=4.24E10\n",
    "a"
   ]
  },
  {
   "cell_type": "code",
   "execution_count": 8,
   "id": "b7c1b4bc-ba48-451f-ab75-05c0e85f70f7",
   "metadata": {},
   "outputs": [
    {
     "data": {
      "text/plain": [
       "127"
      ]
     },
     "execution_count": 8,
     "metadata": {},
     "output_type": "execute_result"
    }
   ],
   "source": [
    "a=0o177\n",
    "a"
   ]
  },
  {
   "cell_type": "code",
   "execution_count": 9,
   "id": "ca0ffa38-77b6-44bb-876e-886172b94055",
   "metadata": {},
   "outputs": [
    {
     "data": {
      "text/plain": [
       "(2303, 2748)"
      ]
     },
     "execution_count": 9,
     "metadata": {},
     "output_type": "execute_result"
    }
   ],
   "source": [
    "a=0x8ff\n",
    "b=0xABC\n",
    "a,b"
   ]
  },
  {
   "cell_type": "markdown",
   "id": "b7f29da4-15e8-4737-b57f-d0538937aaba",
   "metadata": {},
   "source": [
    "사칙연산"
   ]
  },
  {
   "cell_type": "code",
   "execution_count": 10,
   "id": "c872d193-3472-4162-9a34-e38bcdcb840f",
   "metadata": {},
   "outputs": [
    {
     "data": {
      "text/plain": [
       "7"
      ]
     },
     "execution_count": 10,
     "metadata": {},
     "output_type": "execute_result"
    }
   ],
   "source": [
    "a=3\n",
    "b=4\n",
    "a+b"
   ]
  },
  {
   "cell_type": "code",
   "execution_count": 11,
   "id": "0471486c-b7ac-4f62-b6cc-e0ccf4617065",
   "metadata": {},
   "outputs": [
    {
     "data": {
      "text/plain": [
       "-1"
      ]
     },
     "execution_count": 11,
     "metadata": {},
     "output_type": "execute_result"
    }
   ],
   "source": [
    "a-b"
   ]
  },
  {
   "cell_type": "code",
   "execution_count": 12,
   "id": "16141cfa-53d0-4dff-8810-f3a4da6050cf",
   "metadata": {},
   "outputs": [
    {
     "data": {
      "text/plain": [
       "12"
      ]
     },
     "execution_count": 12,
     "metadata": {},
     "output_type": "execute_result"
    }
   ],
   "source": [
    "a*b"
   ]
  },
  {
   "cell_type": "code",
   "execution_count": 13,
   "id": "a07e64ee-687a-4fd1-aa86-595cb7d47cef",
   "metadata": {},
   "outputs": [
    {
     "data": {
      "text/plain": [
       "0.75"
      ]
     },
     "execution_count": 13,
     "metadata": {},
     "output_type": "execute_result"
    }
   ],
   "source": [
    "a/b"
   ]
  },
  {
   "cell_type": "code",
   "execution_count": 15,
   "id": "af4de66d-ee0d-4fdf-941f-18b93a035af8",
   "metadata": {},
   "outputs": [
    {
     "data": {
      "text/plain": [
       "81"
      ]
     },
     "execution_count": 15,
     "metadata": {},
     "output_type": "execute_result"
    }
   ],
   "source": [
    "a**b #제곱연산"
   ]
  },
  {
   "cell_type": "code",
   "execution_count": 16,
   "id": "8b3bbadd-3b83-411a-9ed8-15238ae37e56",
   "metadata": {},
   "outputs": [
    {
     "data": {
      "text/plain": [
       "1"
      ]
     },
     "execution_count": 16,
     "metadata": {},
     "output_type": "execute_result"
    }
   ],
   "source": [
    "7%3 #나눗셈 나머지 연"
   ]
  },
  {
   "cell_type": "code",
   "execution_count": 17,
   "id": "22697c2a-4152-42e0-8054-5dfde79f1b54",
   "metadata": {},
   "outputs": [
    {
     "data": {
      "text/plain": [
       "3"
      ]
     },
     "execution_count": 17,
     "metadata": {},
     "output_type": "execute_result"
    }
   ],
   "source": [
    "3%7"
   ]
  },
  {
   "cell_type": "markdown",
   "id": "b64e97cf-bb5e-44bf-83f1-913fc4bf5871",
   "metadata": {},
   "source": [
    "##나눗셈 몫 연산"
   ]
  },
  {
   "cell_type": "code",
   "execution_count": 18,
   "id": "b6ca7a21-20df-433a-83aa-ec8405aa988c",
   "metadata": {},
   "outputs": [
    {
     "data": {
      "text/plain": [
       "1"
      ]
     },
     "execution_count": 18,
     "metadata": {},
     "output_type": "execute_result"
    }
   ],
   "source": [
    "7//4"
   ]
  },
  {
   "cell_type": "code",
   "execution_count": 19,
   "id": "e56f71e7-5f19-43d3-9993-c7f90caea475",
   "metadata": {},
   "outputs": [
    {
     "data": {
      "text/plain": [
       "1.75"
      ]
     },
     "execution_count": 19,
     "metadata": {},
     "output_type": "execute_result"
    }
   ],
   "source": [
    "7/4"
   ]
  },
  {
   "cell_type": "markdown",
   "id": "c8441cda-54ca-4bda-be2e-42bd776fb792",
   "metadata": {},
   "source": [
    "## 문자열 자료형"
   ]
  },
  {
   "cell_type": "code",
   "execution_count": 20,
   "id": "20999328-e7d3-4646-8ec3-b39cea97f4e8",
   "metadata": {},
   "outputs": [
    {
     "data": {
      "text/plain": [
       "'hello world'"
      ]
     },
     "execution_count": 20,
     "metadata": {},
     "output_type": "execute_result"
    }
   ],
   "source": [
    "\"hello world\""
   ]
  },
  {
   "cell_type": "code",
   "execution_count": 26,
   "id": "ad47af37-4363-4f4a-96d6-71666431c636",
   "metadata": {},
   "outputs": [
    {
     "data": {
      "text/plain": [
       "'\\nhello world\\n'"
      ]
     },
     "execution_count": 26,
     "metadata": {},
     "output_type": "execute_result"
    }
   ],
   "source": [
    "\"\"\"hello world\"\"\""
   ]
  },
  {
   "cell_type": "markdown",
   "id": "39e757f3-ce56-43ea-8bff-dd316fc67b7b",
   "metadata": {},
   "source": [
    "# 문자열 안에 작은 따옴표나 큰 따옴표를 포함시키고싶을때"
   ]
  },
  {
   "cell_type": "code",
   "execution_count": 23,
   "id": "e4d8802c-026a-4c9c-ac5c-0f9e56f1608e",
   "metadata": {},
   "outputs": [
    {
     "data": {
      "text/plain": [
       "\"python's favorite food is perl\""
      ]
     },
     "execution_count": 23,
     "metadata": {},
     "output_type": "execute_result"
    }
   ],
   "source": [
    "\"python's favorite food is perl\""
   ]
  },
  {
   "cell_type": "code",
   "execution_count": 24,
   "id": "79d5a86e-09c3-4e75-a0be-6feab78aeb98",
   "metadata": {},
   "outputs": [
    {
     "data": {
      "text/plain": [
       "'\"python is very easy.\" he says.'"
      ]
     },
     "execution_count": 24,
     "metadata": {},
     "output_type": "execute_result"
    }
   ],
   "source": [
    "'\"python is very easy.\" he says.'"
   ]
  },
  {
   "cell_type": "code",
   "execution_count": 25,
   "id": "a8dd15d3-9adc-4f03-973f-9862b72c56fb",
   "metadata": {},
   "outputs": [
    {
     "data": {
      "text/plain": [
       "\"python's favorite food is perl\""
      ]
     },
     "execution_count": 25,
     "metadata": {},
     "output_type": "execute_result"
    }
   ],
   "source": [
    "'python\\'s favorite food is perl' #\\개행문자 구분-> 규칙이다."
   ]
  },
  {
   "cell_type": "code",
   "execution_count": 27,
   "id": "b878d284-0a4e-437f-8e3c-b2289b261f31",
   "metadata": {},
   "outputs": [
    {
     "data": {
      "text/plain": [
       "'life is too short You need python'"
      ]
     },
     "execution_count": 27,
     "metadata": {},
     "output_type": "execute_result"
    }
   ],
   "source": [
    "\"life is too short You need python\""
   ]
  },
  {
   "cell_type": "code",
   "execution_count": 28,
   "id": "839be72c-4377-4ea6-9bda-fcb2b940b16d",
   "metadata": {},
   "outputs": [
    {
     "data": {
      "text/plain": [
       "'life is too short \\nYou need python'"
      ]
     },
     "execution_count": 28,
     "metadata": {},
     "output_type": "execute_result"
    }
   ],
   "source": [
    "\"life is too short \\nYou need python\" # 개행문자 썼음에도 줄바꿈이 왜 안될까? 개행함수가 프린트안에 업어서이다. "
   ]
  },
  {
   "cell_type": "code",
   "execution_count": 29,
   "id": "10b32304-6e36-4064-b6ef-7f9f3cfdb6d9",
   "metadata": {},
   "outputs": [
    {
     "data": {
      "text/plain": [
       "'life is too short \\nYou need python'"
      ]
     },
     "execution_count": 29,
     "metadata": {},
     "output_type": "execute_result"
    }
   ],
   "source": [
    "multiline=\"life is too short \\nYou need python\"\n",
    "multiline"
   ]
  },
  {
   "cell_type": "code",
   "execution_count": 31,
   "id": "f9dff672-f80a-43e0-8d43-648378df07c1",
   "metadata": {},
   "outputs": [
    {
     "name": "stdout",
     "output_type": "stream",
     "text": [
      "life is too short \n",
      "You need python\n"
     ]
    }
   ],
   "source": [
    "print(multiline)"
   ]
  },
  {
   "cell_type": "code",
   "execution_count": 36,
   "id": "b84ca675-e2e3-4081-aa4f-c68b92d1d14a",
   "metadata": {},
   "outputs": [],
   "source": [
    "multiline='''\n",
    "life is too short\n",
    "you need python\n",
    "'''"
   ]
  },
  {
   "cell_type": "code",
   "execution_count": 34,
   "id": "c78ca34a-b38a-46d7-8812-6a69c9cb8b5f",
   "metadata": {},
   "outputs": [
    {
     "data": {
      "text/plain": [
       "'\\nlife is too short\\nyou need python\\n'"
      ]
     },
     "execution_count": 34,
     "metadata": {},
     "output_type": "execute_result"
    }
   ],
   "source": [
    "multiline"
   ]
  },
  {
   "cell_type": "code",
   "execution_count": 35,
   "id": "f431f3f7-1cf3-4191-ac91-45cca977d30b",
   "metadata": {},
   "outputs": [
    {
     "name": "stdout",
     "output_type": "stream",
     "text": [
      "\n",
      "life is too short\n",
      "you need python\n",
      "\n"
     ]
    }
   ],
   "source": [
    "print(multiline)"
   ]
  },
  {
   "cell_type": "markdown",
   "id": "8b17b09e-891a-4ae8-adbe-0f667a0721eb",
   "metadata": {},
   "source": [
    "## 문자열 연산하기"
   ]
  },
  {
   "cell_type": "code",
   "execution_count": 37,
   "id": "276c21eb-d1c0-4884-aa21-5fbad5b42367",
   "metadata": {},
   "outputs": [
    {
     "data": {
      "text/plain": [
       "'python is fun!'"
      ]
     },
     "execution_count": 37,
     "metadata": {},
     "output_type": "execute_result"
    }
   ],
   "source": [
    "head = \"python\"\n",
    "tail = \" is fun!\"\n",
    "head+tail"
   ]
  },
  {
   "cell_type": "code",
   "execution_count": 38,
   "id": "fa9ea9e7-1d01-419a-9355-70c1f43d6fff",
   "metadata": {},
   "outputs": [
    {
     "data": {
      "text/plain": [
       "'pythonpythonpythonpythonpython'"
      ]
     },
     "execution_count": 38,
     "metadata": {},
     "output_type": "execute_result"
    }
   ],
   "source": [
    "a= \"python\"\n",
    "a*5"
   ]
  },
  {
   "cell_type": "code",
   "execution_count": 39,
   "id": "90cc02b1-e5eb-4406-ae75-95d0f1bf2049",
   "metadata": {},
   "outputs": [
    {
     "name": "stdout",
     "output_type": "stream",
     "text": [
      "==================================================\n"
     ]
    }
   ],
   "source": [
    "print(\"=\"*50)"
   ]
  },
  {
   "cell_type": "markdown",
   "id": "d59ffa8c-c5b6-4a6b-8daa-f53506fdbc32",
   "metadata": {},
   "source": [
    "# 문자열길이"
   ]
  },
  {
   "cell_type": "code",
   "execution_count": 40,
   "id": "22366fb8-0726-41b8-8af8-a84b10ef1661",
   "metadata": {},
   "outputs": [
    {
     "data": {
      "text/plain": [
       "17"
      ]
     },
     "execution_count": 40,
     "metadata": {},
     "output_type": "execute_result"
    }
   ],
   "source": [
    "a= \"life is too short\"\n",
    "len(a)"
   ]
  },
  {
   "cell_type": "markdown",
   "id": "5b631c0c-957e-4a2e-903a-e3cbe4ec7071",
   "metadata": {},
   "source": [
    "# 문자열 인덱싱"
   ]
  },
  {
   "cell_type": "code",
   "execution_count": 41,
   "id": "41dcee21-1bdc-4b9e-80e7-7eaa2049239d",
   "metadata": {},
   "outputs": [
    {
     "data": {
      "text/plain": [
       "34"
      ]
     },
     "execution_count": 41,
     "metadata": {},
     "output_type": "execute_result"
    }
   ],
   "source": [
    "a=\"life is too short, You need python\"\n",
    "len(a)"
   ]
  },
  {
   "cell_type": "code",
   "execution_count": 42,
   "id": "5b44cc8c-0d84-4b60-858a-d1bbf86b38b9",
   "metadata": {},
   "outputs": [
    {
     "data": {
      "text/plain": [
       "'e'"
      ]
     },
     "execution_count": 42,
     "metadata": {},
     "output_type": "execute_result"
    }
   ],
   "source": [
    "a[3]"
   ]
  },
  {
   "cell_type": "code",
   "execution_count": 44,
   "id": "afce53b4-2336-4231-b941-c696f2d26099",
   "metadata": {},
   "outputs": [
    {
     "data": {
      "text/plain": [
       "'h'"
      ]
     },
     "execution_count": 44,
     "metadata": {},
     "output_type": "execute_result"
    }
   ],
   "source": [
    "a[13]"
   ]
  },
  {
   "cell_type": "code",
   "execution_count": 5,
   "id": "d28d8e92-efd6-455b-98ff-7b18e0a524e3",
   "metadata": {},
   "outputs": [
    {
     "ename": "NameError",
     "evalue": "name 'a' is not defined",
     "output_type": "error",
     "traceback": [
      "\u001b[1;31m---------------------------------------------------------------------------\u001b[0m",
      "\u001b[1;31mNameError\u001b[0m                                 Traceback (most recent call last)",
      "Cell \u001b[1;32mIn[5], line 1\u001b[0m\n\u001b[1;32m----> 1\u001b[0m a[\u001b[38;5;241m-\u001b[39m\u001b[38;5;241m1\u001b[39m]\n",
      "\u001b[1;31mNameError\u001b[0m: name 'a' is not defined"
     ]
    }
   ],
   "source": [
    "a[-1] #뒤부터는 -1이고 시작(왼쪽)은 0부터임. "
   ]
  },
  {
   "cell_type": "code",
   "execution_count": 46,
   "id": "7abf88b5-7d01-4f53-9d6f-cc5715848bf3",
   "metadata": {},
   "outputs": [
    {
     "data": {
      "text/plain": [
       "'l'"
      ]
     },
     "execution_count": 46,
     "metadata": {},
     "output_type": "execute_result"
    }
   ],
   "source": [
    "a[-0]"
   ]
  },
  {
   "cell_type": "markdown",
   "id": "f900fbb6-a0cd-4e87-a1ff-2e13f7ea4197",
   "metadata": {},
   "source": [
    "# 문자열 슬라이싱"
   ]
  },
  {
   "cell_type": "code",
   "execution_count": 7,
   "id": "afd8acc5-60fb-44d9-9c7a-7f5564d48a85",
   "metadata": {},
   "outputs": [],
   "source": [
    "a=\"life is too short, You need python\""
   ]
  },
  {
   "cell_type": "code",
   "execution_count": 53,
   "id": "6c31adab-e3ab-4ceb-8204-8591cb952d0f",
   "metadata": {},
   "outputs": [
    {
     "data": {
      "text/plain": [
       "'life'"
      ]
     },
     "execution_count": 53,
     "metadata": {},
     "output_type": "execute_result"
    }
   ],
   "source": [
    "#변수명에 범위를 지정해준다. 범위지정할때 end 인덱스-1이다.\n",
    "a[0:4]"
   ]
  },
  {
   "cell_type": "code",
   "execution_count": 54,
   "id": "7e858f61-68c1-4af0-952c-6a20f0d0827c",
   "metadata": {},
   "outputs": [
    {
     "data": {
      "text/plain": [
       "'You need python'"
      ]
     },
     "execution_count": 54,
     "metadata": {},
     "output_type": "execute_result"
    }
   ],
   "source": [
    "a[19:34]"
   ]
  },
  {
   "cell_type": "code",
   "execution_count": 8,
   "id": "a799d30e-c70d-4086-a32f-e9b824b7228f",
   "metadata": {},
   "outputs": [
    {
     "data": {
      "text/plain": [
       "'is'"
      ]
     },
     "execution_count": 8,
     "metadata": {},
     "output_type": "execute_result"
    }
   ],
   "source": [
    "a[5:7]"
   ]
  },
  {
   "cell_type": "code",
   "execution_count": 55,
   "id": "4e6822d3-30bc-422a-abc4-b773299473d1",
   "metadata": {},
   "outputs": [
    {
     "data": {
      "text/plain": [
       "'You need python'"
      ]
     },
     "execution_count": 55,
     "metadata": {},
     "output_type": "execute_result"
    }
   ],
   "source": [
    "a[19:]"
   ]
  },
  {
   "cell_type": "code",
   "execution_count": 57,
   "id": "b22148cc-cb49-4ce3-b5ed-9f26d333e5af",
   "metadata": {},
   "outputs": [
    {
     "data": {
      "text/plain": [
       "'You need python'"
      ]
     },
     "execution_count": 57,
     "metadata": {},
     "output_type": "execute_result"
    }
   ],
   "source": [
    "a[-15:]"
   ]
  },
  {
   "cell_type": "code",
   "execution_count": 58,
   "id": "b38c468e-c51e-4093-b236-6a02a63cba16",
   "metadata": {},
   "outputs": [
    {
     "data": {
      "text/plain": [
       "'You need'"
      ]
     },
     "execution_count": 58,
     "metadata": {},
     "output_type": "execute_result"
    }
   ],
   "source": [
    "a[19:-7]"
   ]
  },
  {
   "cell_type": "markdown",
   "id": "48a3ce32-d8ef-4d8a-970b-08c9c2e1fbb5",
   "metadata": {},
   "source": [
    "## 슬라이싱으로 문자열 나누기"
   ]
  },
  {
   "cell_type": "code",
   "execution_count": 9,
   "id": "d43bde3a-86ee-4d9a-85d9-9e69e814c659",
   "metadata": {},
   "outputs": [],
   "source": [
    "a=\"20240610Sunny\""
   ]
  },
  {
   "cell_type": "code",
   "execution_count": 65,
   "id": "6dd5080d-53cf-4fd8-870f-a3399222251e",
   "metadata": {},
   "outputs": [
    {
     "data": {
      "text/plain": [
       "('20240610', 'Sunny')"
      ]
     },
     "execution_count": 65,
     "metadata": {},
     "output_type": "execute_result"
    }
   ],
   "source": [
    "date= a[0:8]\n",
    "weather=a[-5:]\n",
    "date,weather"
   ]
  },
  {
   "cell_type": "code",
   "execution_count": 10,
   "id": "0ffe8953-6c23-4bfc-8689-e8a93aaea8a2",
   "metadata": {},
   "outputs": [
    {
     "data": {
      "text/plain": [
       "'Sunny'"
      ]
     },
     "execution_count": 10,
     "metadata": {},
     "output_type": "execute_result"
    }
   ],
   "source": [
    "a[8:13]"
   ]
  },
  {
   "cell_type": "markdown",
   "id": "c422e45e-9f95-49cf-afab-b0ab3fea4fc3",
   "metadata": {},
   "source": [
    "# 문자열 수정하기"
   ]
  },
  {
   "cell_type": "code",
   "execution_count": 67,
   "id": "97d4d380-c7a4-4736-8953-d5e67f004edf",
   "metadata": {},
   "outputs": [
    {
     "ename": "TypeError",
     "evalue": "'str' object does not support item assignment",
     "output_type": "error",
     "traceback": [
      "\u001b[1;31m---------------------------------------------------------------------------\u001b[0m",
      "\u001b[1;31mTypeError\u001b[0m                                 Traceback (most recent call last)",
      "Cell \u001b[1;32mIn[67], line 2\u001b[0m\n\u001b[0;32m      1\u001b[0m a\u001b[38;5;241m=\u001b[39m\u001b[38;5;124m\"\u001b[39m\u001b[38;5;124mpithon\u001b[39m\u001b[38;5;124m\"\u001b[39m\n\u001b[1;32m----> 2\u001b[0m a[\u001b[38;5;241m1\u001b[39m]\u001b[38;5;241m=\u001b[39m\u001b[38;5;124m'\u001b[39m\u001b[38;5;124my\u001b[39m\u001b[38;5;124m'\u001b[39m\n\u001b[0;32m      3\u001b[0m \u001b[38;5;28mprint\u001b[39m(a)\n",
      "\u001b[1;31mTypeError\u001b[0m: 'str' object does not support item assignment"
     ]
    }
   ],
   "source": [
    "a=\"pithon\"\n",
    "a[1]='y'\n",
    "print(a)"
   ]
  },
  {
   "cell_type": "code",
   "execution_count": 71,
   "id": "8c2199f3-1d44-47af-b3a3-92e7584a82ff",
   "metadata": {},
   "outputs": [
    {
     "data": {
      "text/plain": [
       "'python'"
      ]
     },
     "execution_count": 71,
     "metadata": {},
     "output_type": "execute_result"
    }
   ],
   "source": [
    "b=a[0]+'y'+a[2:]\n",
    "b"
   ]
  },
  {
   "cell_type": "markdown",
   "id": "84bf3177-6a1e-44d7-8ba5-9c23e9d3fc55",
   "metadata": {
    "editable": true,
    "slideshow": {
     "slide_type": ""
    },
    "tags": []
   },
   "source": [
    "## 문자열 포매팅"
   ]
  },
  {
   "cell_type": "code",
   "execution_count": 74,
   "id": "fa23671d-eec0-4289-9708-c100acfc664d",
   "metadata": {},
   "outputs": [
    {
     "data": {
      "text/plain": [
       "'I eat 3 apples'"
      ]
     },
     "execution_count": 74,
     "metadata": {},
     "output_type": "execute_result"
    }
   ],
   "source": [
    "#숫자 바로 대입\n",
    "\"I eat %d apples\"%3"
   ]
  },
  {
   "cell_type": "code",
   "execution_count": 76,
   "id": "14af8781-fe4e-4140-913c-3609a4ee701c",
   "metadata": {},
   "outputs": [
    {
     "data": {
      "text/plain": [
       "'I eat five apples'"
      ]
     },
     "execution_count": 76,
     "metadata": {},
     "output_type": "execute_result"
    }
   ],
   "source": [
    "#문자열 바로 대입\n",
    "\"I eat %s apples\"%\"five\""
   ]
  },
  {
   "cell_type": "code",
   "execution_count": 11,
   "id": "745add8e-9785-4fa1-bc02-64fa40c01812",
   "metadata": {},
   "outputs": [
    {
     "data": {
      "text/plain": [
       "'I  eat two oranges'"
      ]
     },
     "execution_count": 11,
     "metadata": {},
     "output_type": "execute_result"
    }
   ],
   "source": [
    "\"I  eat %s oranges\"%\"two\""
   ]
  },
  {
   "cell_type": "code",
   "execution_count": 12,
   "id": "600f67b8-7dff-4b70-b886-c7cd31ead312",
   "metadata": {},
   "outputs": [
    {
     "data": {
      "text/plain": [
       "'I eat 2 oranges'"
      ]
     },
     "execution_count": 12,
     "metadata": {},
     "output_type": "execute_result"
    }
   ],
   "source": [
    "\"I eat %d oranges\"%2"
   ]
  },
  {
   "cell_type": "code",
   "execution_count": null,
   "id": "cd3fa62a-bdc8-4bc7-bc42-4aea19bdcef8",
   "metadata": {},
   "outputs": [],
   "source": [
    "#숫자-> 문자열로 가능 하지만 문자열은 숫자로 변경 "
   ]
  },
  {
   "cell_type": "code",
   "execution_count": 78,
   "id": "8db61286-c330-4ea0-b3b2-454a25cfcd8b",
   "metadata": {},
   "outputs": [
    {
     "ename": "TypeError",
     "evalue": "%d format: a real number is required, not str",
     "output_type": "error",
     "traceback": [
      "\u001b[1;31m---------------------------------------------------------------------------\u001b[0m",
      "\u001b[1;31mTypeError\u001b[0m                                 Traceback (most recent call last)",
      "Cell \u001b[1;32mIn[78], line 1\u001b[0m\n\u001b[1;32m----> 1\u001b[0m \u001b[38;5;124m\"\u001b[39m\u001b[38;5;124mI eat \u001b[39m\u001b[38;5;132;01m%d\u001b[39;00m\u001b[38;5;124m apples\u001b[39m\u001b[38;5;124m\"\u001b[39m\u001b[38;5;241m%\u001b[39m\u001b[38;5;124m\"\u001b[39m\u001b[38;5;124m삼\u001b[39m\u001b[38;5;124m\"\u001b[39m\n",
      "\u001b[1;31mTypeError\u001b[0m: %d format: a real number is required, not str"
     ]
    }
   ],
   "source": [
    "\"I eat %d apples\"%\"삼\""
   ]
  },
  {
   "cell_type": "code",
   "execution_count": 80,
   "id": "2a07e917-0ea6-4968-93c0-14b73dbfca48",
   "metadata": {},
   "outputs": [
    {
     "data": {
      "text/plain": [
       "'I eat 3 apples'"
      ]
     },
     "execution_count": 80,
     "metadata": {},
     "output_type": "execute_result"
    }
   ],
   "source": [
    "#숫자 값을 나타내는 변수로 대입\n",
    "num=3\n",
    "\"I eat %d apples\"%num"
   ]
  },
  {
   "cell_type": "code",
   "execution_count": 81,
   "id": "2a1813c5-2859-434f-9347-23bc5a39ff84",
   "metadata": {},
   "outputs": [
    {
     "data": {
      "text/plain": [
       "'I eat 10 apples. so i was sick for three days.'"
      ]
     },
     "execution_count": 81,
     "metadata": {},
     "output_type": "execute_result"
    }
   ],
   "source": [
    "#2개 이상 값 넣기\n",
    "num=10\n",
    "day='three'\n",
    "\"I eat %d apples. so i was sick for %s days.\"%(num,day)"
   ]
  },
  {
   "cell_type": "code",
   "execution_count": 82,
   "id": "cf7e676f-ae10-43f1-86d8-a26f99b2687b",
   "metadata": {},
   "outputs": [
    {
     "ename": "TypeError",
     "evalue": "%d format: a real number is required, not str",
     "output_type": "error",
     "traceback": [
      "\u001b[1;31m---------------------------------------------------------------------------\u001b[0m",
      "\u001b[1;31mTypeError\u001b[0m                                 Traceback (most recent call last)",
      "Cell \u001b[1;32mIn[82], line 1\u001b[0m\n\u001b[1;32m----> 1\u001b[0m \u001b[38;5;124m\"\u001b[39m\u001b[38;5;124mI eat \u001b[39m\u001b[38;5;132;01m%d\u001b[39;00m\u001b[38;5;124m apples. so i was sick for \u001b[39m\u001b[38;5;132;01m%s\u001b[39;00m\u001b[38;5;124m days.\u001b[39m\u001b[38;5;124m\"\u001b[39m\u001b[38;5;241m%\u001b[39m(day,num)\n",
      "\u001b[1;31mTypeError\u001b[0m: %d format: a real number is required, not str"
     ]
    }
   ],
   "source": [
    "\"I eat %d apples. so i was sick for %s days.\"%(day,num) # 순서 바뀜"
   ]
  },
  {
   "cell_type": "code",
   "execution_count": 83,
   "id": "4a46f354-044e-44ef-bcc9-146377aef556",
   "metadata": {},
   "outputs": [
    {
     "data": {
      "text/plain": [
       "'i have 3 apples'"
      ]
     },
     "execution_count": 83,
     "metadata": {},
     "output_type": "execute_result"
    }
   ],
   "source": [
    "\"i have %s apples\"%3"
   ]
  },
  {
   "cell_type": "code",
   "execution_count": 84,
   "id": "35c15645-c09b-4daa-992a-46bbb14b4d1c",
   "metadata": {},
   "outputs": [
    {
     "data": {
      "text/plain": [
       "'rate is 3.234'"
      ]
     },
     "execution_count": 84,
     "metadata": {},
     "output_type": "execute_result"
    }
   ],
   "source": [
    "\"rate is %s\"%3.234"
   ]
  },
  {
   "cell_type": "code",
   "execution_count": 86,
   "id": "2f42ccaa-7086-4b57-89b6-706171006a6b",
   "metadata": {},
   "outputs": [
    {
     "data": {
      "text/plain": [
       "'오늘 습도는 70% 입니다'"
      ]
     },
     "execution_count": 86,
     "metadata": {},
     "output_type": "execute_result"
    }
   ],
   "source": [
    "\"오늘 습도는 %d%% 입니다\"%70"
   ]
  },
  {
   "cell_type": "markdown",
   "id": "b01d4384-9d75-4794-8cda-a6e14db5b358",
   "metadata": {},
   "source": [
    "## 소수점 표현하기"
   ]
  },
  {
   "cell_type": "code",
   "execution_count": 87,
   "id": "3d465a23-c9b1-46f7-b8c7-ce8f7d771dc0",
   "metadata": {},
   "outputs": [
    {
     "data": {
      "text/plain": [
       "'3.14'"
      ]
     },
     "execution_count": 87,
     "metadata": {},
     "output_type": "execute_result"
    }
   ],
   "source": [
    "\"%0.2f\"%3.14159268"
   ]
  },
  {
   "cell_type": "code",
   "execution_count": 88,
   "id": "73f6bcaa-9b50-4b1f-8d59-5b444267f028",
   "metadata": {},
   "outputs": [
    {
     "data": {
      "text/plain": [
       "'3.1416'"
      ]
     },
     "execution_count": 88,
     "metadata": {},
     "output_type": "execute_result"
    }
   ],
   "source": [
    "\"%0.4f\"%3.14159268"
   ]
  },
  {
   "cell_type": "markdown",
   "id": "253bf1bc-73d4-4d15-966b-1daba45ef1b8",
   "metadata": {},
   "source": [
    "## format 함수를 사용한 포매팅"
   ]
  },
  {
   "cell_type": "code",
   "execution_count": 90,
   "id": "319bb508-8956-4916-b113-4dd53c47dd03",
   "metadata": {},
   "outputs": [
    {
     "data": {
      "text/plain": [
       "'I eat 3 apples'"
      ]
     },
     "execution_count": 90,
     "metadata": {},
     "output_type": "execute_result"
    }
   ],
   "source": [
    "\"I eat {} apples\".format(3) #.은 메서드"
   ]
  },
  {
   "cell_type": "code",
   "execution_count": 91,
   "id": "2dad9f18-aa10-493d-903e-3ce6099dbb1b",
   "metadata": {},
   "outputs": [
    {
     "data": {
      "text/plain": [
       "'I eat five apples'"
      ]
     },
     "execution_count": 91,
     "metadata": {},
     "output_type": "execute_result"
    }
   ],
   "source": [
    "\"I eat {} apples\".format('five') #메서드는 자료형 범우를 구분할 필요없음"
   ]
  },
  {
   "cell_type": "code",
   "execution_count": 93,
   "id": "b0e93394-9503-40f6-b099-af1dff030395",
   "metadata": {},
   "outputs": [
    {
     "data": {
      "text/plain": [
       "'I eat 10 apples. so i was sick for three days.'"
      ]
     },
     "execution_count": 93,
     "metadata": {},
     "output_type": "execute_result"
    }
   ],
   "source": [
    "#2개 이상 값 넣기\n",
    "num=10\n",
    "day='three'\n",
    "\"I eat {} apples. so i was sick for {} days.\".format(num,day)"
   ]
  },
  {
   "cell_type": "code",
   "execution_count": 94,
   "id": "4bc32dee-d34a-4569-bd67-b410a737f7e1",
   "metadata": {},
   "outputs": [
    {
     "data": {
      "text/plain": [
       "'I eat three apples. so i was sick for 10 days.'"
      ]
     },
     "execution_count": 94,
     "metadata": {},
     "output_type": "execute_result"
    }
   ],
   "source": [
    "\"I eat {} apples. so i was sick for {} days.\".format(day,num) #이건 메서드를 사용해서 자료형범위를 구분할 필요가 없어서 num과day가 순서가 바뀌어도 ㄱㅊ"
   ]
  },
  {
   "cell_type": "code",
   "execution_count": 95,
   "id": "232677db-98dd-462c-94d6-b51d962e4c61",
   "metadata": {},
   "outputs": [
    {
     "data": {
      "text/plain": [
       "'I eat 10 apples. so i was sick for three days.'"
      ]
     },
     "execution_count": 95,
     "metadata": {},
     "output_type": "execute_result"
    }
   ],
   "source": [
    "\"I eat {0} apples. so i was sick for {1} days.\".format(num,day)"
   ]
  },
  {
   "cell_type": "code",
   "execution_count": 98,
   "id": "aed1eac1-eee2-4c1b-b3cc-e3caeb378766",
   "metadata": {},
   "outputs": [
    {
     "data": {
      "text/plain": [
       "'I eat 10 apples. so i was sick for 3 days.'"
      ]
     },
     "execution_count": 98,
     "metadata": {},
     "output_type": "execute_result"
    }
   ],
   "source": [
    "\"I eat {num} apples. so i was sick for {day} days.\".format(num=10, day=3) # 인자, 즉 라벨을 달아둔것"
   ]
  },
  {
   "cell_type": "code",
   "execution_count": 99,
   "id": "96cfc707-b3fa-465b-87ba-4b5faba045b9",
   "metadata": {},
   "outputs": [
    {
     "data": {
      "text/plain": [
       "'I eat 10 apples. so i was sick for 3 days.'"
      ]
     },
     "execution_count": 99,
     "metadata": {},
     "output_type": "execute_result"
    }
   ],
   "source": [
    "\"I eat {num} apples. so i was sick for {day} days.\".format(day=3,num=10) #day와 num순서 바뀌어도 ㄱㅊ 인자가 지정되어있어서 인자가 알아서 찾아감"
   ]
  },
  {
   "cell_type": "markdown",
   "id": "85d78f25-bf0b-429e-88b3-694e12b21a6f",
   "metadata": {},
   "source": [
    "# 소수점 표현하기"
   ]
  },
  {
   "cell_type": "code",
   "execution_count": 100,
   "id": "ed40df31-5dde-4e7f-9a18-01388fb1a089",
   "metadata": {},
   "outputs": [
    {
     "data": {
      "text/plain": [
       "'3.4213'"
      ]
     },
     "execution_count": 100,
     "metadata": {},
     "output_type": "execute_result"
    }
   ],
   "source": [
    "y=3.4213426\n",
    "\"{0:0.4f}\".format(y)"
   ]
  },
  {
   "cell_type": "markdown",
   "id": "4fef8161-e5c7-4a09-bb46-3dc8ca200a14",
   "metadata": {},
   "source": [
    "## f문자열 포매팅(강추)"
   ]
  },
  {
   "cell_type": "code",
   "execution_count": 101,
   "id": "6bae7d9e-1a2a-4a53-bf1c-30e9bac4ede8",
   "metadata": {},
   "outputs": [
    {
     "data": {
      "text/plain": [
       "'나의 이름은 홍길동입니다. 나이는30입니다.'"
      ]
     },
     "execution_count": 101,
     "metadata": {},
     "output_type": "execute_result"
    }
   ],
   "source": [
    "name='홍길동'\n",
    "age=30\n",
    "f\"나의 이름은 {name}입니다. 나이는{age}입니다.\""
   ]
  },
  {
   "cell_type": "code",
   "execution_count": 103,
   "id": "d945c32a-3a28-47b7-bcf3-21e327208f4d",
   "metadata": {},
   "outputs": [
    {
     "data": {
      "text/plain": [
       "'나는 내년이면 31살 입니다'"
      ]
     },
     "execution_count": 103,
     "metadata": {},
     "output_type": "execute_result"
    }
   ],
   "source": [
    "f\"나는 내년이면 {age+1}살 입니다\""
   ]
  },
  {
   "cell_type": "code",
   "execution_count": 4,
   "id": "f76a964b-3747-49fc-879d-49fa6729eb64",
   "metadata": {},
   "outputs": [
    {
     "data": {
      "text/plain": [
       "'나의 이름은 홍길동 입니다. 나이는 30살 입니다'"
      ]
     },
     "execution_count": 4,
     "metadata": {},
     "output_type": "execute_result"
    }
   ],
   "source": [
    "d={'name':'홍길동','age':30}\n",
    "f\"나의 이름은 {d['name']} 입니다. 나이는 {d['age']}살 입니다\""
   ]
  },
  {
   "cell_type": "code",
   "execution_count": 2,
   "id": "5067f021-d69a-4f84-b087-f3671c584b07",
   "metadata": {},
   "outputs": [
    {
     "data": {
      "text/plain": [
       "'나의 이름은 홍길동입니다. 나이는 30입니다.'"
      ]
     },
     "execution_count": 2,
     "metadata": {},
     "output_type": "execute_result"
    }
   ],
   "source": [
    "d = {'name' : '홍길동', 'age': 30}\n",
    "f'나의 이름은 {d[\"name\"]}입니다. 나이는 {d[\"age\"]}입니다.'"
   ]
  },
  {
   "cell_type": "markdown",
   "id": "0bb41e52-8b88-4f6a-98a4-9716c56edc25",
   "metadata": {},
   "source": [
    "## 문자열 관련 함수들"
   ]
  },
  {
   "cell_type": "code",
   "execution_count": 1,
   "id": "daf189cc-02c5-4865-a9e2-11dc0c08ac6c",
   "metadata": {},
   "outputs": [
    {
     "data": {
      "text/plain": [
       "2"
      ]
     },
     "execution_count": 1,
     "metadata": {},
     "output_type": "execute_result"
    }
   ],
   "source": [
    "#문자개수 세기 count\n",
    "a='hobby'\n",
    "a.count('b')"
   ]
  },
  {
   "cell_type": "code",
   "execution_count": 2,
   "id": "d2ca6b15-235b-4e80-80a2-a21d59af5e80",
   "metadata": {},
   "outputs": [
    {
     "data": {
      "text/plain": [
       "14"
      ]
     },
     "execution_count": 2,
     "metadata": {},
     "output_type": "execute_result"
    }
   ],
   "source": [
    "#위치알려주기 find\n",
    "a= \"python is the best choice\"\n",
    "a.find('b')"
   ]
  },
  {
   "cell_type": "code",
   "execution_count": 3,
   "id": "20ab8124-4c0c-401f-8bc3-7f13459901c2",
   "metadata": {},
   "outputs": [
    {
     "data": {
      "text/plain": [
       "-1"
      ]
     },
     "execution_count": 3,
     "metadata": {},
     "output_type": "execute_result"
    }
   ],
   "source": [
    "a.find('k') #데이터 없으면 -1로 표현"
   ]
  },
  {
   "cell_type": "code",
   "execution_count": 4,
   "id": "f7a1c33a-538a-4170-8cf2-e25f227f06f8",
   "metadata": {},
   "outputs": [
    {
     "data": {
      "text/plain": [
       "8"
      ]
     },
     "execution_count": 4,
     "metadata": {},
     "output_type": "execute_result"
    }
   ],
   "source": [
    "#위치 메서드 index\n",
    "a='life is too short'\n",
    "a.index('t') #.index는 우리가 찾고자 하는 인덱스가 없으면 오류반환하고 .find는 -1반환\n",
    "# 그럼 언제 오류를 써야 하는 케이스가 뭐가 있을까? "
   ]
  },
  {
   "cell_type": "code",
   "execution_count": 6,
   "id": "2a4d9231-3196-49e4-b9fe-4928d029d661",
   "metadata": {},
   "outputs": [
    {
     "ename": "ValueError",
     "evalue": "substring not found",
     "output_type": "error",
     "traceback": [
      "\u001b[1;31m---------------------------------------------------------------------------\u001b[0m",
      "\u001b[1;31mValueError\u001b[0m                                Traceback (most recent call last)",
      "Cell \u001b[1;32mIn[6], line 1\u001b[0m\n\u001b[1;32m----> 1\u001b[0m a\u001b[38;5;241m.\u001b[39mindex(\u001b[38;5;124m'\u001b[39m\u001b[38;5;124mk\u001b[39m\u001b[38;5;124m'\u001b[39m)\n",
      "\u001b[1;31mValueError\u001b[0m: substring not found"
     ]
    }
   ],
   "source": [
    "a.index('k')"
   ]
  },
  {
   "cell_type": "code",
   "execution_count": 7,
   "id": "a0a7960d-95a6-4547-8105-089654647011",
   "metadata": {},
   "outputs": [
    {
     "data": {
      "text/plain": [
       "'abcd'"
      ]
     },
     "execution_count": 7,
     "metadata": {},
     "output_type": "execute_result"
    }
   ],
   "source": [
    "#문자열 삽입 join\n",
    "a='abcd'\n",
    "a"
   ]
  },
  {
   "cell_type": "code",
   "execution_count": 8,
   "id": "d2fad115-21c5-44f0-9bc7-62e640efc618",
   "metadata": {},
   "outputs": [
    {
     "data": {
      "text/plain": [
       "'a,b,c,d'"
      ]
     },
     "execution_count": 8,
     "metadata": {},
     "output_type": "execute_result"
    }
   ],
   "source": [
    "','.join(a)"
   ]
  },
  {
   "cell_type": "code",
   "execution_count": 9,
   "id": "c46bd3b6-8f76-4274-bc5b-ef56f4979d6c",
   "metadata": {},
   "outputs": [
    {
     "data": {
      "text/plain": [
       "['a', 'b', 'c', 'd']"
      ]
     },
     "execution_count": 9,
     "metadata": {},
     "output_type": "execute_result"
    }
   ],
   "source": [
    "a=['a','b','c','d']\n",
    "a"
   ]
  },
  {
   "cell_type": "code",
   "execution_count": 11,
   "id": "27c457da-7180-49d6-805c-7ea0571df093",
   "metadata": {},
   "outputs": [
    {
     "data": {
      "text/plain": [
       "'h:i'"
      ]
     },
     "execution_count": 11,
     "metadata": {},
     "output_type": "execute_result"
    }
   ],
   "source": [
    "':'.join(a)"
   ]
  },
  {
   "cell_type": "markdown",
   "id": "35ce2575-e248-4f74-ad1d-fcca87f8cb0f",
   "metadata": {},
   "source": [
    "## 소문자를` 대문자로 바꾸기 upper"
   ]
  },
  {
   "cell_type": "code",
   "execution_count": 10,
   "id": "2c580696-e091-45bb-9cbf-01fca545d603",
   "metadata": {},
   "outputs": [
    {
     "data": {
      "text/plain": [
       "'HI'"
      ]
     },
     "execution_count": 10,
     "metadata": {},
     "output_type": "execute_result"
    }
   ],
   "source": [
    "a='hi'\n",
    "a.upper()"
   ]
  },
  {
   "cell_type": "code",
   "execution_count": 12,
   "id": "e2fb2d21-a45c-41b9-a891-4b3074fe785a",
   "metadata": {},
   "outputs": [
    {
     "data": {
      "text/plain": [
       "'hi'"
      ]
     },
     "execution_count": 12,
     "metadata": {},
     "output_type": "execute_result"
    }
   ],
   "source": [
    "a #문자열은 수정이 안됨. 출력만 하는 동작, 그래서 소문자 hi로 나옴"
   ]
  },
  {
   "cell_type": "code",
   "execution_count": 13,
   "id": "e9e8ac6c-e237-4e59-86b6-fdbf2447f587",
   "metadata": {},
   "outputs": [
    {
     "name": "stdout",
     "output_type": "stream",
     "text": [
      "No Python documentation found for 'HI'.\n",
      "Use help() to get the interactive help utility.\n",
      "Use help(str) for help on the str class.\n",
      "\n"
     ]
    }
   ],
   "source": [
    "help(a.upper())"
   ]
  },
  {
   "cell_type": "code",
   "execution_count": 14,
   "id": "7c3437f9-9ffb-4c65-af58-30c2d79e216d",
   "metadata": {},
   "outputs": [
    {
     "data": {
      "text/plain": [
       "\u001b[1;31mSignature:\u001b[0m \u001b[0mprint\u001b[0m\u001b[1;33m(\u001b[0m\u001b[1;33m*\u001b[0m\u001b[0margs\u001b[0m\u001b[1;33m,\u001b[0m \u001b[0msep\u001b[0m\u001b[1;33m=\u001b[0m\u001b[1;34m' '\u001b[0m\u001b[1;33m,\u001b[0m \u001b[0mend\u001b[0m\u001b[1;33m=\u001b[0m\u001b[1;34m'\\n'\u001b[0m\u001b[1;33m,\u001b[0m \u001b[0mfile\u001b[0m\u001b[1;33m=\u001b[0m\u001b[1;32mNone\u001b[0m\u001b[1;33m,\u001b[0m \u001b[0mflush\u001b[0m\u001b[1;33m=\u001b[0m\u001b[1;32mFalse\u001b[0m\u001b[1;33m)\u001b[0m\u001b[1;33m\u001b[0m\u001b[1;33m\u001b[0m\u001b[0m\n",
       "\u001b[1;31mDocstring:\u001b[0m\n",
       "Prints the values to a stream, or to sys.stdout by default.\n",
       "\n",
       "sep\n",
       "  string inserted between values, default a space.\n",
       "end\n",
       "  string appended after the last value, default a newline.\n",
       "file\n",
       "  a file-like object (stream); defaults to the current sys.stdout.\n",
       "flush\n",
       "  whether to forcibly flush the stream.\n",
       "\u001b[1;31mType:\u001b[0m      builtin_function_or_method"
      ]
     },
     "metadata": {},
     "output_type": "display_data"
    }
   ],
   "source": [
    "print?"
   ]
  },
  {
   "cell_type": "code",
   "execution_count": 15,
   "id": "61cbc9f4-89d1-4c9a-b136-bf4e10578783",
   "metadata": {},
   "outputs": [
    {
     "name": "stdout",
     "output_type": "stream",
     "text": [
      "\n",
      "Help on NoneType object:\n",
      "\n",
      "class NoneType(object)\n",
      " |  Methods defined here:\n",
      " |  \n",
      " |  __bool__(self, /)\n",
      " |      True if self else False\n",
      " |  \n",
      " |  __repr__(self, /)\n",
      " |      Return repr(self).\n",
      " |  \n",
      " |  ----------------------------------------------------------------------\n",
      " |  Static methods defined here:\n",
      " |  \n",
      " |  __new__(*args, **kwargs) from builtins.type\n",
      " |      Create and return a new object.  See help(type) for accurate signature.\n",
      "\n"
     ]
    }
   ],
   "source": [
    "help(print())"
   ]
  },
  {
   "cell_type": "code",
   "execution_count": 16,
   "id": "4a81e564-ba83-444c-87a1-63397fef4700",
   "metadata": {},
   "outputs": [
    {
     "data": {
      "text/plain": [
       "' hi  '"
      ]
     },
     "execution_count": 16,
     "metadata": {},
     "output_type": "execute_result"
    }
   ],
   "source": [
    "# 왼쪽공백 지우기 lstrip\n",
    "a=\" hi  \"\n",
    "a"
   ]
  },
  {
   "cell_type": "code",
   "execution_count": 17,
   "id": "764b4efd-d940-4514-8bba-cc098b65058d",
   "metadata": {},
   "outputs": [
    {
     "data": {
      "text/plain": [
       "'hi  '"
      ]
     },
     "execution_count": 17,
     "metadata": {},
     "output_type": "execute_result"
    }
   ],
   "source": [
    "a.lstrip()"
   ]
  },
  {
   "cell_type": "code",
   "execution_count": 18,
   "id": "42466c59-e6f5-4a16-9eb6-16c10d08b366",
   "metadata": {},
   "outputs": [
    {
     "data": {
      "text/plain": [
       "' hi'"
      ]
     },
     "execution_count": 18,
     "metadata": {},
     "output_type": "execute_result"
    }
   ],
   "source": [
    "a.rstrip()"
   ]
  },
  {
   "cell_type": "code",
   "execution_count": 19,
   "id": "a8c125f7-fa78-43c1-8a85-d774dfca4ffb",
   "metadata": {},
   "outputs": [
    {
     "data": {
      "text/plain": [
       "'hi'"
      ]
     },
     "execution_count": 19,
     "metadata": {},
     "output_type": "execute_result"
    }
   ],
   "source": [
    "a.strip()"
   ]
  },
  {
   "cell_type": "markdown",
   "id": "b961cbf4-26f0-4a30-ad3c-97da2916aacd",
   "metadata": {},
   "source": [
    "# 문자열 바꾸기 replace"
   ]
  },
  {
   "cell_type": "code",
   "execution_count": 20,
   "id": "5c7fb292-89b3-401c-9487-67c53a1d28ae",
   "metadata": {},
   "outputs": [
    {
     "data": {
      "text/plain": [
       "\u001b[1;31mSignature:\u001b[0m \u001b[0ma\u001b[0m\u001b[1;33m.\u001b[0m\u001b[0mreplace\u001b[0m\u001b[1;33m(\u001b[0m\u001b[0mold\u001b[0m\u001b[1;33m,\u001b[0m \u001b[0mnew\u001b[0m\u001b[1;33m,\u001b[0m \u001b[0mcount\u001b[0m\u001b[1;33m=\u001b[0m\u001b[1;33m-\u001b[0m\u001b[1;36m1\u001b[0m\u001b[1;33m,\u001b[0m \u001b[1;33m/\u001b[0m\u001b[1;33m)\u001b[0m\u001b[1;33m\u001b[0m\u001b[1;33m\u001b[0m\u001b[0m\n",
       "\u001b[1;31mDocstring:\u001b[0m\n",
       "Return a copy with all occurrences of substring old replaced by new.\n",
       "\n",
       "  count\n",
       "    Maximum number of occurrences to replace.\n",
       "    -1 (the default value) means replace all occurrences.\n",
       "\n",
       "If the optional argument count is given, only the first count occurrences are\n",
       "replaced.\n",
       "\u001b[1;31mType:\u001b[0m      builtin_function_or_method"
      ]
     },
     "metadata": {},
     "output_type": "display_data"
    }
   ],
   "source": [
    "a='life is too short'\n",
    "a.replace?"
   ]
  },
  {
   "cell_type": "code",
   "execution_count": 21,
   "id": "ad50933d-a54b-4293-a53e-aaf20eba1372",
   "metadata": {},
   "outputs": [
    {
     "data": {
      "text/plain": [
       "'your leg is too short'"
      ]
     },
     "execution_count": 21,
     "metadata": {},
     "output_type": "execute_result"
    }
   ],
   "source": [
    "a.replace('life','your leg')"
   ]
  },
  {
   "cell_type": "code",
   "execution_count": 22,
   "id": "dce871f8-9521-4d90-84a2-ec435d296a05",
   "metadata": {},
   "outputs": [
    {
     "data": {
      "text/plain": [
       "'life is too short'"
      ]
     },
     "execution_count": 22,
     "metadata": {},
     "output_type": "execute_result"
    }
   ],
   "source": [
    "a"
   ]
  },
  {
   "cell_type": "code",
   "execution_count": 24,
   "id": "6d6ba93b-7499-400f-af3b-67f253189d0f",
   "metadata": {},
   "outputs": [
    {
     "data": {
      "text/plain": [
       "'your leg is too short'"
      ]
     },
     "execution_count": 24,
     "metadata": {},
     "output_type": "execute_result"
    }
   ],
   "source": [
    "a=a.replace('life','your leg')\n",
    "a"
   ]
  },
  {
   "cell_type": "markdown",
   "id": "1491fc4b-4caa-4154-8b0e-da6189ca9b75",
   "metadata": {},
   "source": [
    "# 문자열 나누기"
   ]
  },
  {
   "cell_type": "code",
   "execution_count": 25,
   "id": "3cfdb789-9c2c-4c0b-b09d-a91b023362a9",
   "metadata": {},
   "outputs": [
    {
     "data": {
      "text/plain": [
       "['your', 'leg', 'is', 'too', 'short']"
      ]
     },
     "execution_count": 25,
     "metadata": {},
     "output_type": "execute_result"
    }
   ],
   "source": [
    "a.split()"
   ]
  },
  {
   "cell_type": "code",
   "execution_count": 26,
   "id": "30b2401e-2d76-4191-8204-88e625e4df1a",
   "metadata": {},
   "outputs": [
    {
     "data": {
      "text/plain": [
       "\u001b[1;31mSignature:\u001b[0m \u001b[0ma\u001b[0m\u001b[1;33m.\u001b[0m\u001b[0msplit\u001b[0m\u001b[1;33m(\u001b[0m\u001b[0msep\u001b[0m\u001b[1;33m=\u001b[0m\u001b[1;32mNone\u001b[0m\u001b[1;33m,\u001b[0m \u001b[0mmaxsplit\u001b[0m\u001b[1;33m=\u001b[0m\u001b[1;33m-\u001b[0m\u001b[1;36m1\u001b[0m\u001b[1;33m)\u001b[0m\u001b[1;33m\u001b[0m\u001b[1;33m\u001b[0m\u001b[0m\n",
       "\u001b[1;31mDocstring:\u001b[0m\n",
       "Return a list of the substrings in the string, using sep as the separator string.\n",
       "\n",
       "  sep\n",
       "    The separator used to split the string.\n",
       "\n",
       "    When set to None (the default value), will split on any whitespace\n",
       "    character (including \\n \\r \\t \\f and spaces) and will discard\n",
       "    empty strings from the result.\n",
       "  maxsplit\n",
       "    Maximum number of splits (starting from the left).\n",
       "    -1 (the default value) means no limit.\n",
       "\n",
       "Note, str.split() is mainly useful for data that has been intentionally\n",
       "delimited.  With natural text that includes punctuation, consider using\n",
       "the regular expression module.\n",
       "\u001b[1;31mType:\u001b[0m      builtin_function_or_method"
      ]
     },
     "metadata": {},
     "output_type": "display_data"
    }
   ],
   "source": [
    "a.split? #sep=none은 우리가 지정해줄 수 있다"
   ]
  },
  {
   "cell_type": "code",
   "execution_count": 29,
   "id": "21e7b6d8-8b30-4d71-9a34-86bb214ec041",
   "metadata": {},
   "outputs": [
    {
     "data": {
      "text/plain": [
       "'a:b:c:d'"
      ]
     },
     "execution_count": 29,
     "metadata": {},
     "output_type": "execute_result"
    }
   ],
   "source": [
    "b='a:b:c:d'\n",
    "b"
   ]
  },
  {
   "cell_type": "code",
   "execution_count": 30,
   "id": "4ed69afa-afe9-41b4-8c06-34b75f0dcc82",
   "metadata": {},
   "outputs": [
    {
     "data": {
      "text/plain": [
       "['a', 'b', 'c', 'd']"
      ]
     },
     "execution_count": 30,
     "metadata": {},
     "output_type": "execute_result"
    }
   ],
   "source": [
    "b.split(':')"
   ]
  },
  {
   "cell_type": "markdown",
   "id": "a778fbb3-42d2-4173-b28f-9d32e63bda24",
   "metadata": {},
   "source": [
    "# 변수"
   ]
  },
  {
   "cell_type": "code",
   "execution_count": 32,
   "id": "d8bfd312-13dc-44a9-82a2-78b2d4b97133",
   "metadata": {},
   "outputs": [
    {
     "data": {
      "text/plain": [
       "(1, int)"
      ]
     },
     "execution_count": 32,
     "metadata": {},
     "output_type": "execute_result"
    }
   ],
   "source": [
    "a=1\n",
    "a, type(a) #type은 내장함수, 데이터자료형에 종속되어x"
   ]
  },
  {
   "cell_type": "code",
   "execution_count": 33,
   "id": "7610aa93-dbde-4960-8385-c02069b99107",
   "metadata": {},
   "outputs": [
    {
     "data": {
      "text/plain": [
       "('python', str)"
      ]
     },
     "execution_count": 33,
     "metadata": {},
     "output_type": "execute_result"
    }
   ],
   "source": [
    "b='python'\n",
    "b,type(b)"
   ]
  },
  {
   "cell_type": "code",
   "execution_count": 34,
   "id": "12057318-a26c-4f41-93a2-29e9b2e8ce2b",
   "metadata": {},
   "outputs": [
    {
     "data": {
      "text/plain": [
       "([1, 2, 3], list)"
      ]
     },
     "execution_count": 34,
     "metadata": {},
     "output_type": "execute_result"
    }
   ],
   "source": [
    "c=[1,2,3]\n",
    "c, type(c)"
   ]
  },
  {
   "cell_type": "code",
   "execution_count": 35,
   "id": "2531d776-7025-4426-8be2-f7618af80b3c",
   "metadata": {},
   "outputs": [
    {
     "data": {
      "text/plain": [
       "140703474959144"
      ]
     },
     "execution_count": 35,
     "metadata": {},
     "output_type": "execute_result"
    }
   ],
   "source": [
    "id(a)"
   ]
  },
  {
   "cell_type": "code",
   "execution_count": 36,
   "id": "1ecc9d8a-d58c-4f4e-9e9b-ddb050f2a709",
   "metadata": {},
   "outputs": [
    {
     "data": {
      "text/plain": [
       "(1891175667968, 1891175667968)"
      ]
     },
     "execution_count": 36,
     "metadata": {},
     "output_type": "execute_result"
    }
   ],
   "source": [
    "# 복사\n",
    "a=[1,2,3]\n",
    "b=a\n",
    "id(a), id(b) #id는 메모리 주소"
   ]
  },
  {
   "cell_type": "code",
   "execution_count": 37,
   "id": "9fc601cf-9942-4f39-91a9-89a8f0a06d9a",
   "metadata": {},
   "outputs": [
    {
     "data": {
      "text/plain": [
       "True"
      ]
     },
     "execution_count": 37,
     "metadata": {},
     "output_type": "execute_result"
    }
   ],
   "source": [
    "a is b"
   ]
  },
  {
   "cell_type": "code",
   "execution_count": 38,
   "id": "ea2dce4b-db29-4c85-b0ae-bf687cde8cc5",
   "metadata": {},
   "outputs": [
    {
     "data": {
      "text/plain": [
       "True"
      ]
     },
     "execution_count": 38,
     "metadata": {},
     "output_type": "execute_result"
    }
   ],
   "source": [
    "a==b"
   ]
  },
  {
   "cell_type": "code",
   "execution_count": 41,
   "id": "0502b5ed-ae24-4d2c-8797-769978d7f652",
   "metadata": {},
   "outputs": [
    {
     "ename": "NameError",
     "evalue": "name 'b' is not defined",
     "output_type": "error",
     "traceback": [
      "\u001b[1;31m---------------------------------------------------------------------------\u001b[0m",
      "\u001b[1;31mNameError\u001b[0m                                 Traceback (most recent call last)",
      "Cell \u001b[1;32mIn[41], line 1\u001b[0m\n\u001b[1;32m----> 1\u001b[0m \u001b[38;5;28;01mdel\u001b[39;00m b \u001b[38;5;66;03m#b삭제\u001b[39;00m\n\u001b[0;32m      2\u001b[0m b\n",
      "\u001b[1;31mNameError\u001b[0m: name 'b' is not defined"
     ]
    }
   ],
   "source": [
    "del b #b삭제\n",
    "b"
   ]
  },
  {
   "cell_type": "code",
   "execution_count": 47,
   "id": "6aa31352-651e-4e5f-be8b-e068bc069e87",
   "metadata": {},
   "outputs": [
    {
     "data": {
      "text/plain": [
       "(1891176269952, 1891176269952)"
      ]
     },
     "execution_count": 47,
     "metadata": {},
     "output_type": "execute_result"
    }
   ],
   "source": [
    "a=[1,2,3]\n",
    "b=a\n",
    "id(a), id(b) "
   ]
  },
  {
   "cell_type": "code",
   "execution_count": 48,
   "id": "73a66685-7ff8-4ee8-bb5c-0c42702acf88",
   "metadata": {},
   "outputs": [
    {
     "data": {
      "text/plain": [
       "[1, 4, 3]"
      ]
     },
     "execution_count": 48,
     "metadata": {},
     "output_type": "execute_result"
    }
   ],
   "source": [
    "a[1]=4\n",
    "a"
   ]
  },
  {
   "cell_type": "code",
   "execution_count": 49,
   "id": "2ed93a64-8fdc-4840-9fd6-589c287d7b29",
   "metadata": {},
   "outputs": [
    {
     "data": {
      "text/plain": [
       "[1, 4, 3]"
      ]
     },
     "execution_count": 49,
     "metadata": {},
     "output_type": "execute_result"
    }
   ],
   "source": [
    "b"
   ]
  },
  {
   "cell_type": "code",
   "execution_count": 50,
   "id": "e9f245f6-4ba1-4a51-bcbd-41f1d08816e1",
   "metadata": {},
   "outputs": [
    {
     "data": {
      "text/plain": [
       "(1891163656320, 1891176376512)"
      ]
     },
     "execution_count": 50,
     "metadata": {},
     "output_type": "execute_result"
    }
   ],
   "source": [
    "a=[1,2,3]\n",
    "b=a[:] #실제변수가 아님. 실제로는 값이 들어간거임. 그래서 아래에서 b아이디 출력하면 메모리가 다르게 나옴\n",
    "id(a),id(b) #"
   ]
  },
  {
   "cell_type": "markdown",
   "id": "f4fd3159-97d9-4682-822d-633d77103f25",
   "metadata": {
    "editable": true,
    "slideshow": {
     "slide_type": ""
    },
    "tags": []
   },
   "source": [
    "## copy"
   ]
  },
  {
   "cell_type": "code",
   "execution_count": 51,
   "id": "4440ff44-0f14-46ab-bdfc-0ef52cb3fd76",
   "metadata": {},
   "outputs": [],
   "source": [
    "from copy import copy #라이브러리(특정기능의 집합)"
   ]
  },
  {
   "cell_type": "code",
   "execution_count": 52,
   "id": "abf5cfe3-8d3d-4982-b4bd-4051f2be7dac",
   "metadata": {},
   "outputs": [
    {
     "data": {
      "text/plain": [
       "[1, 2, 3]"
      ]
     },
     "execution_count": 52,
     "metadata": {},
     "output_type": "execute_result"
    }
   ],
   "source": [
    "a=[1,2,3]\n",
    "a"
   ]
  },
  {
   "cell_type": "code",
   "execution_count": 53,
   "id": "4c3d1d4e-ec7f-4233-a9be-dcf08da22140",
   "metadata": {
    "editable": true,
    "slideshow": {
     "slide_type": ""
    },
    "tags": []
   },
   "outputs": [
    {
     "data": {
      "text/plain": [
       "(1891144468736, 1891163600064)"
      ]
     },
     "execution_count": 53,
     "metadata": {},
     "output_type": "execute_result"
    }
   ],
   "source": [
    "b=copy(a) # 깊은 복사, \n",
    "id(a),id(b)"
   ]
  },
  {
   "cell_type": "code",
   "execution_count": 54,
   "id": "2eaa7130-61eb-4e9e-b2e1-e1af354e6096",
   "metadata": {},
   "outputs": [
    {
     "data": {
      "text/plain": [
       "([1, 2, 3], [1, 2, 3])"
      ]
     },
     "execution_count": 54,
     "metadata": {},
     "output_type": "execute_result"
    }
   ],
   "source": [
    "a,b"
   ]
  },
  {
   "cell_type": "code",
   "execution_count": 55,
   "id": "fb3747a8-f0ea-47cb-9b37-c103abb9b637",
   "metadata": {},
   "outputs": [
    {
     "data": {
      "text/plain": [
       "False"
      ]
     },
     "execution_count": 55,
     "metadata": {},
     "output_type": "execute_result"
    }
   ],
   "source": [
    "b is a #변수그자체를 비교"
   ]
  },
  {
   "cell_type": "code",
   "execution_count": 56,
   "id": "43298662-0ee2-479b-9609-27b0832fa326",
   "metadata": {},
   "outputs": [
    {
     "data": {
      "text/plain": [
       "True"
      ]
     },
     "execution_count": 56,
     "metadata": {},
     "output_type": "execute_result"
    }
   ],
   "source": [
    "b==a #비교연산 #값을 비교"
   ]
  },
  {
   "cell_type": "markdown",
   "id": "0d8758df-cf74-424a-92b8-811f6ccd357e",
   "metadata": {},
   "source": [
    "## 변수를 만드는 여러가지 방법"
   ]
  },
  {
   "cell_type": "code",
   "execution_count": 57,
   "id": "6bdd2aa7-d820-4913-ba84-cae170266af5",
   "metadata": {},
   "outputs": [
    {
     "data": {
      "text/plain": [
       "('python', 'life')"
      ]
     },
     "execution_count": 57,
     "metadata": {},
     "output_type": "execute_result"
    }
   ],
   "source": [
    "a= 'python'\n",
    "b= 'life'\n",
    "a,b"
   ]
  },
  {
   "cell_type": "code",
   "execution_count": 60,
   "id": "4ce52623-d860-402e-a243-6c7a7c13d9d8",
   "metadata": {},
   "outputs": [
    {
     "data": {
      "text/plain": [
       "('python', 'life')"
      ]
     },
     "execution_count": 60,
     "metadata": {},
     "output_type": "execute_result"
    }
   ],
   "source": [
    "a,b=('python','life')\n",
    "a,b"
   ]
  },
  {
   "cell_type": "code",
   "execution_count": 62,
   "id": "ecc88e36-bff9-4d8e-b66a-fc74214e6056",
   "metadata": {},
   "outputs": [
    {
     "data": {
      "text/plain": [
       "('python', 'life')"
      ]
     },
     "execution_count": 62,
     "metadata": {},
     "output_type": "execute_result"
    }
   ],
   "source": [
    "(a,b)='python','life'\n",
    "a,b"
   ]
  },
  {
   "cell_type": "code",
   "execution_count": 63,
   "id": "b7f45bae-c55e-45e0-8abc-559944a0cf7b",
   "metadata": {},
   "outputs": [
    {
     "data": {
      "text/plain": [
       "'python'"
      ]
     },
     "execution_count": 63,
     "metadata": {},
     "output_type": "execute_result"
    }
   ],
   "source": [
    "[a,b]=['python','life']\n",
    "a"
   ]
  },
  {
   "cell_type": "code",
   "execution_count": 64,
   "id": "3ef5456f-6be7-4d62-a175-cf0b1320b9d5",
   "metadata": {},
   "outputs": [
    {
     "data": {
      "text/plain": [
       "'life'"
      ]
     },
     "execution_count": 64,
     "metadata": {},
     "output_type": "execute_result"
    }
   ],
   "source": [
    "b"
   ]
  },
  {
   "cell_type": "code",
   "execution_count": 67,
   "id": "9ad91a61-2a25-4515-b304-c51190eb89b9",
   "metadata": {},
   "outputs": [
    {
     "data": {
      "text/plain": [
       "('python', 'life')"
      ]
     },
     "execution_count": 67,
     "metadata": {},
     "output_type": "execute_result"
    }
   ],
   "source": [
    "#값 서로 바꾸기\n",
    "a,b=b,a\n",
    "a,b"
   ]
  },
  {
   "cell_type": "markdown",
   "id": "55406ec9-66dc-4d2c-89de-de9d206f74f1",
   "metadata": {},
   "source": [
    "# list 객체"
   ]
  },
  {
   "cell_type": "code",
   "execution_count": 69,
   "id": "85555a71-9dcf-4978-806e-7bbc95a2b0c2",
   "metadata": {},
   "outputs": [
    {
     "data": {
      "text/plain": [
       "[1, 3, 5, 7, 9]"
      ]
     },
     "execution_count": 69,
     "metadata": {},
     "output_type": "execute_result"
    }
   ],
   "source": [
    "odd=[1,3,5,7,9]\n",
    "odd"
   ]
  },
  {
   "cell_type": "code",
   "execution_count": 70,
   "id": "86fd3af4-69d1-4498-b34a-9e9dbdf42596",
   "metadata": {},
   "outputs": [
    {
     "data": {
      "text/plain": [
       "list"
      ]
     },
     "execution_count": 70,
     "metadata": {},
     "output_type": "execute_result"
    }
   ],
   "source": [
    "type(odd)"
   ]
  },
  {
   "cell_type": "code",
   "execution_count": 72,
   "id": "e9393d1a-999d-4d0a-86ca-994c1f881fab",
   "metadata": {},
   "outputs": [
    {
     "name": "stdout",
     "output_type": "stream",
     "text": [
      "[] <class 'list'>\n",
      "[1, 2, 3] <class 'list'>\n",
      "['life', 'is', 'too', 'short'] <class 'list'>\n",
      "[1, 2, 'life', 'is'] <class 'list'>\n",
      "[1, 2, ['life', 'is']] <class 'list'>\n"
     ]
    }
   ],
   "source": [
    "a=[]\n",
    "b=[1,2,3]\n",
    "c=['life','is','too','short']\n",
    "d=[1,2,'life','is']\n",
    "e=[1,2,['life','is']]\n",
    "print(a,type(a))\n",
    "print(b,type(b))\n",
    "print(c,type(c))\n",
    "print(d,type(d))\n",
    "print(e,type(e))"
   ]
  },
  {
   "cell_type": "code",
   "execution_count": 73,
   "id": "1c343fd5-39df-4f1d-91cf-b39cf4f5e624",
   "metadata": {},
   "outputs": [
    {
     "data": {
      "text/plain": [
       "([], list)"
      ]
     },
     "execution_count": 73,
     "metadata": {},
     "output_type": "execute_result"
    }
   ],
   "source": [
    "a=list()\n",
    "a,type(a)"
   ]
  },
  {
   "cell_type": "markdown",
   "id": "277e4f26-ae52-4a36-b558-7d9ba35bb213",
   "metadata": {},
   "source": [
    "## 리스트의 인덱싱"
   ]
  },
  {
   "cell_type": "code",
   "execution_count": 76,
   "id": "8db4b381-2efa-4d0a-a705-01d1919f0a1e",
   "metadata": {},
   "outputs": [
    {
     "data": {
      "text/plain": [
       "[1, 2, 3]"
      ]
     },
     "execution_count": 76,
     "metadata": {},
     "output_type": "execute_result"
    }
   ],
   "source": [
    "a=[1,2,3]\n",
    "a"
   ]
  },
  {
   "cell_type": "code",
   "execution_count": 77,
   "id": "7eb9a9d2-c098-4997-a7f2-666d5a69288e",
   "metadata": {},
   "outputs": [
    {
     "data": {
      "text/plain": [
       "1"
      ]
     },
     "execution_count": 77,
     "metadata": {},
     "output_type": "execute_result"
    }
   ],
   "source": [
    "a[0]"
   ]
  },
  {
   "cell_type": "code",
   "execution_count": 78,
   "id": "c9da87dc-e564-4a0b-b3e1-a0d42a619ec0",
   "metadata": {},
   "outputs": [
    {
     "data": {
      "text/plain": [
       "4"
      ]
     },
     "execution_count": 78,
     "metadata": {},
     "output_type": "execute_result"
    }
   ],
   "source": [
    "a[0]+a[2]"
   ]
  },
  {
   "cell_type": "code",
   "execution_count": 79,
   "id": "2bd62f1b-6dcf-45b4-95f4-a50e8c282f60",
   "metadata": {},
   "outputs": [
    {
     "data": {
      "text/plain": [
       "[1, 2, 3, ['a', 'b', 'c']]"
      ]
     },
     "execution_count": 79,
     "metadata": {},
     "output_type": "execute_result"
    }
   ],
   "source": [
    "a=[1,2,3,['a','b','c']]\n",
    "a"
   ]
  },
  {
   "cell_type": "code",
   "execution_count": 80,
   "id": "5d8004d3-7078-44b3-bfa7-249561ee5adf",
   "metadata": {},
   "outputs": [
    {
     "data": {
      "text/plain": [
       "4"
      ]
     },
     "execution_count": 80,
     "metadata": {},
     "output_type": "execute_result"
    }
   ],
   "source": [
    "len(a)"
   ]
  },
  {
   "cell_type": "code",
   "execution_count": 81,
   "id": "9cf1044f-f917-41dc-bb50-0fc9d45e7389",
   "metadata": {},
   "outputs": [
    {
     "data": {
      "text/plain": [
       "['a', 'b', 'c']"
      ]
     },
     "execution_count": 81,
     "metadata": {},
     "output_type": "execute_result"
    }
   ],
   "source": [
    "a[3]"
   ]
  },
  {
   "cell_type": "code",
   "execution_count": 82,
   "id": "a711b51b-0739-4e82-9667-5e19b39feafa",
   "metadata": {},
   "outputs": [
    {
     "data": {
      "text/plain": [
       "'b'"
      ]
     },
     "execution_count": 82,
     "metadata": {},
     "output_type": "execute_result"
    }
   ],
   "source": [
    "a[3][1]"
   ]
  },
  {
   "cell_type": "code",
   "execution_count": 87,
   "id": "2bf91a20-a98a-4520-8316-c9f9a8aeca98",
   "metadata": {},
   "outputs": [
    {
     "data": {
      "text/plain": [
       "[1, 2, ['a', 'b', ['life', 'is']]]"
      ]
     },
     "execution_count": 87,
     "metadata": {},
     "output_type": "execute_result"
    }
   ],
   "source": [
    "#삼중 리스트 인덱싱\n",
    "a=[1,2,['a','b',['life','is']]]\n",
    "a"
   ]
  },
  {
   "cell_type": "code",
   "execution_count": 88,
   "id": "af226c3b-5a7f-4765-aa0e-5de5fb2f2704",
   "metadata": {},
   "outputs": [
    {
     "data": {
      "text/plain": [
       "'life'"
      ]
     },
     "execution_count": 88,
     "metadata": {},
     "output_type": "execute_result"
    }
   ],
   "source": [
    "a[2][2][0]"
   ]
  },
  {
   "cell_type": "markdown",
   "id": "d16168ed-7078-4882-9098-3173fef122cf",
   "metadata": {},
   "source": [
    "## 리스트 슬라이싱"
   ]
  },
  {
   "cell_type": "code",
   "execution_count": 89,
   "id": "59ee8961-227a-48e8-8d72-8423c41b1f6f",
   "metadata": {},
   "outputs": [],
   "source": [
    "a=[1,2,3,4,5]"
   ]
  },
  {
   "cell_type": "code",
   "execution_count": 90,
   "id": "c17296c7-acac-4acf-9b8c-cda53ea333e7",
   "metadata": {},
   "outputs": [
    {
     "data": {
      "text/plain": [
       "[3, 4]"
      ]
     },
     "execution_count": 90,
     "metadata": {},
     "output_type": "execute_result"
    }
   ],
   "source": [
    "a[2:4]"
   ]
  },
  {
   "cell_type": "code",
   "execution_count": 91,
   "id": "310e2982-7569-4547-b6e4-fd9e27b56c2b",
   "metadata": {},
   "outputs": [
    {
     "data": {
      "text/plain": [
       "[1, 3, 5]"
      ]
     },
     "execution_count": 91,
     "metadata": {},
     "output_type": "execute_result"
    }
   ],
   "source": [
    "a[::2] #step "
   ]
  },
  {
   "cell_type": "code",
   "execution_count": 92,
   "id": "7124ef7e-7a78-4fc8-928f-30fdec234bb1",
   "metadata": {},
   "outputs": [
    {
     "data": {
      "text/plain": [
       "[2, 4]"
      ]
     },
     "execution_count": 92,
     "metadata": {},
     "output_type": "execute_result"
    }
   ],
   "source": [
    "a[1::2]"
   ]
  },
  {
   "cell_type": "markdown",
   "id": "228e63c2-1e59-4461-bfbf-ec8ca3cdb4d0",
   "metadata": {
    "editable": true,
    "slideshow": {
     "slide_type": ""
    },
    "tags": []
   },
   "source": [
    "## 중첩리스트"
   ]
  },
  {
   "cell_type": "code",
   "execution_count": null,
   "id": "4c0facfa-ff16-4f5b-ab8d-7193da43e8d2",
   "metadata": {},
   "outputs": [],
   "source": []
  },
  {
   "cell_type": "code",
   "execution_count": 93,
   "id": "5261c7f8-3615-4b2f-b391-79602dd1fe0f",
   "metadata": {},
   "outputs": [
    {
     "data": {
      "text/plain": [
       "[3, ['a', 'b', 'c'], 4]"
      ]
     },
     "execution_count": 93,
     "metadata": {},
     "output_type": "execute_result"
    }
   ],
   "source": [
    "a=[1,2,3,['a','b','c'],4,5]\n",
    "a[2:-1]"
   ]
  },
  {
   "cell_type": "code",
   "execution_count": 95,
   "id": "7fe13187-cb24-43ad-8209-b21ecc9b1994",
   "metadata": {},
   "outputs": [
    {
     "data": {
      "text/plain": [
       "['a', 'b']"
      ]
     },
     "execution_count": 95,
     "metadata": {},
     "output_type": "execute_result"
    }
   ],
   "source": [
    "a[3][:2]"
   ]
  },
  {
   "cell_type": "markdown",
   "id": "d5f4cc11-8458-4466-a2a9-8c86150a4987",
   "metadata": {},
   "source": [
    "## del로 리스트 요소 삭제하기"
   ]
  },
  {
   "cell_type": "code",
   "execution_count": 97,
   "id": "e599445c-b974-4a99-96fb-27ba7f964c9b",
   "metadata": {},
   "outputs": [],
   "source": [
    "a=[1,2,3]\n",
    "del a[1] #원본 반영하므로 주의"
   ]
  },
  {
   "cell_type": "code",
   "execution_count": 99,
   "id": "02514954-dffe-4077-9fc5-3bb8cbfd2bbe",
   "metadata": {},
   "outputs": [
    {
     "data": {
      "text/plain": [
       "[1, 3]"
      ]
     },
     "execution_count": 99,
     "metadata": {},
     "output_type": "execute_result"
    }
   ],
   "source": [
    "a"
   ]
  },
  {
   "cell_type": "code",
   "execution_count": 100,
   "id": "113354f1-38bd-4b81-b295-dbe49a85deba",
   "metadata": {},
   "outputs": [],
   "source": [
    "a=[1,2,3,4,5]"
   ]
  },
  {
   "cell_type": "code",
   "execution_count": 104,
   "id": "8e1c7ed2-d1a6-45f0-810a-035c76259293",
   "metadata": {},
   "outputs": [
    {
     "data": {
      "text/plain": [
       "[1, 2]"
      ]
     },
     "execution_count": 104,
     "metadata": {},
     "output_type": "execute_result"
    }
   ],
   "source": [
    "del a[2:]\n",
    "a"
   ]
  },
  {
   "cell_type": "markdown",
   "id": "ad0393a6-f9c2-416d-bb3b-a283d0369bf2",
   "metadata": {},
   "source": [
    "## 리스트 관련 함수"
   ]
  },
  {
   "cell_type": "code",
   "execution_count": 109,
   "id": "95f58394-7228-4ef4-8783-2a6f7a3d7ada",
   "metadata": {},
   "outputs": [
    {
     "data": {
      "text/plain": [
       "[1, 2, 3]"
      ]
     },
     "execution_count": 109,
     "metadata": {},
     "output_type": "execute_result"
    }
   ],
   "source": [
    "#리스트 요소 추가 append\n",
    "a=[1,2,3]\n",
    "a"
   ]
  },
  {
   "cell_type": "code",
   "execution_count": 110,
   "id": "6cc3d42d-9c4a-4505-ad88-a77ff8354b1e",
   "metadata": {},
   "outputs": [
    {
     "data": {
      "text/plain": [
       "[1, 2, 3, 4]"
      ]
     },
     "execution_count": 110,
     "metadata": {},
     "output_type": "execute_result"
    }
   ],
   "source": [
    "a.append(4)\n",
    "a"
   ]
  },
  {
   "cell_type": "code",
   "execution_count": 112,
   "id": "773076ac-c888-458a-a817-b2189f481c66",
   "metadata": {},
   "outputs": [
    {
     "data": {
      "text/plain": [
       "[1, 2, 3, 4]"
      ]
     },
     "execution_count": 112,
     "metadata": {},
     "output_type": "execute_result"
    }
   ],
   "source": [
    "# 리스트 정렬 sort\n",
    "a=[1,4,3,2]\n",
    "a.sort()\n",
    "a"
   ]
  },
  {
   "cell_type": "code",
   "execution_count": 113,
   "id": "3feac801-efca-4898-84d4-4b512ee4084c",
   "metadata": {},
   "outputs": [
    {
     "data": {
      "text/plain": [
       "[4, 3, 2, 1]"
      ]
     },
     "execution_count": 113,
     "metadata": {},
     "output_type": "execute_result"
    }
   ],
   "source": [
    "a.sort(reverse=True)\n",
    "a"
   ]
  },
  {
   "cell_type": "code",
   "execution_count": 116,
   "id": "0672e35b-c87a-4ebd-b30f-3bc50a12af0d",
   "metadata": {},
   "outputs": [
    {
     "data": {
      "text/plain": [
       "['b', 'c', 'a']"
      ]
     },
     "execution_count": 116,
     "metadata": {},
     "output_type": "execute_result"
    }
   ],
   "source": [
    "#리스트 뒤집기 reverse\n",
    "a=['a','c','b']\n",
    "a.reverse()\n",
    "a"
   ]
  },
  {
   "cell_type": "code",
   "execution_count": 117,
   "id": "f9dccef3-28f5-409a-bb11-fb3aa3b59073",
   "metadata": {},
   "outputs": [
    {
     "data": {
      "text/plain": [
       "2"
      ]
     },
     "execution_count": 117,
     "metadata": {},
     "output_type": "execute_result"
    }
   ],
   "source": [
    "#인덱스 반환 index\n",
    "a=[1,2,3]\n",
    "a.index(3)"
   ]
  },
  {
   "cell_type": "code",
   "execution_count": 119,
   "id": "3a86b80d-2908-44a7-bdad-1f7b1b767cf7",
   "metadata": {},
   "outputs": [
    {
     "data": {
      "text/plain": [
       "[4, 1, 2, 3]"
      ]
     },
     "execution_count": 119,
     "metadata": {},
     "output_type": "execute_result"
    }
   ],
   "source": [
    "# 리스트 요소 삽입 insert \n",
    "a=[1,2,3]\n",
    "a.insert(0,4) #0번째에 4를 넣어줘 \n",
    "a"
   ]
  },
  {
   "cell_type": "code",
   "execution_count": 122,
   "id": "c436f978-0523-47d4-9857-316f2cd1d999",
   "metadata": {},
   "outputs": [
    {
     "data": {
      "text/plain": [
       "[1, 2, 1, 2, 3]"
      ]
     },
     "execution_count": 122,
     "metadata": {},
     "output_type": "execute_result"
    }
   ],
   "source": [
    "#remove\n",
    "a=[1,2,3,1,2,3]\n",
    "a.remove(3) #가장 처음 만나는 3을 삭제\n",
    "a"
   ]
  },
  {
   "cell_type": "code",
   "execution_count": 128,
   "id": "328dfc48-41e3-4574-936e-cfdc069f5140",
   "metadata": {},
   "outputs": [
    {
     "data": {
      "text/plain": [
       "3"
      ]
     },
     "execution_count": 128,
     "metadata": {},
     "output_type": "execute_result"
    }
   ],
   "source": [
    "# pop\n",
    "b=[1,2,3]\n",
    "b.pop() "
   ]
  },
  {
   "cell_type": "code",
   "execution_count": 130,
   "id": "610575f0-9607-42e6-acbb-e25507bddc0e",
   "metadata": {},
   "outputs": [
    {
     "data": {
      "text/plain": [
       "[1, 2]"
      ]
     },
     "execution_count": 130,
     "metadata": {},
     "output_type": "execute_result"
    }
   ],
   "source": [
    "b"
   ]
  },
  {
   "cell_type": "code",
   "execution_count": 131,
   "id": "7c376f6c-563a-48d2-962e-b488f46487eb",
   "metadata": {},
   "outputs": [
    {
     "data": {
      "text/plain": [
       "\u001b[1;31mSignature:\u001b[0m \u001b[0mb\u001b[0m\u001b[1;33m.\u001b[0m\u001b[0mpop\u001b[0m\u001b[1;33m(\u001b[0m\u001b[0mindex\u001b[0m\u001b[1;33m=\u001b[0m\u001b[1;33m-\u001b[0m\u001b[1;36m1\u001b[0m\u001b[1;33m,\u001b[0m \u001b[1;33m/\u001b[0m\u001b[1;33m)\u001b[0m\u001b[1;33m\u001b[0m\u001b[1;33m\u001b[0m\u001b[0m\n",
       "\u001b[1;31mDocstring:\u001b[0m\n",
       "Remove and return item at index (default last).\n",
       "\n",
       "Raises IndexError if list is empty or index is out of range.\n",
       "\u001b[1;31mType:\u001b[0m      builtin_function_or_method"
      ]
     },
     "metadata": {},
     "output_type": "display_data"
    }
   ],
   "source": [
    "b.pop?"
   ]
  },
  {
   "cell_type": "code",
   "execution_count": 132,
   "id": "9ca5dda4-189f-40ad-8a37-982d46bb81f9",
   "metadata": {},
   "outputs": [
    {
     "data": {
      "text/plain": [
       "2"
      ]
     },
     "execution_count": 132,
     "metadata": {},
     "output_type": "execute_result"
    }
   ],
   "source": [
    "#count\n",
    "a= [1,2,3,1]\n",
    "a.count(1)"
   ]
  },
  {
   "cell_type": "code",
   "execution_count": 137,
   "id": "0f8f7909-d8c3-4e58-a610-14b3c39f1146",
   "metadata": {},
   "outputs": [
    {
     "data": {
      "text/plain": [
       "[1, 2, 3, 4, 5]"
      ]
     },
     "execution_count": 137,
     "metadata": {},
     "output_type": "execute_result"
    }
   ],
   "source": [
    "#extend\n",
    "a=[1,2,3]\n",
    "a.extend([4,5])\n",
    "a"
   ]
  },
  {
   "cell_type": "code",
   "execution_count": 138,
   "id": "be880488-0815-43cf-876b-f23c4159efef",
   "metadata": {},
   "outputs": [
    {
     "data": {
      "text/plain": [
       "[1, 2, 3, 4, 5, 6, 7]"
      ]
     },
     "execution_count": 138,
     "metadata": {},
     "output_type": "execute_result"
    }
   ],
   "source": [
    "b=[6,7]\n",
    "a.extend(b)\n",
    "a"
   ]
  },
  {
   "cell_type": "code",
   "execution_count": 139,
   "id": "c9f465d1-72e0-4a5c-9e8e-45e3f71cf2ef",
   "metadata": {},
   "outputs": [
    {
     "data": {
      "text/plain": [
       "\u001b[1;31mSignature:\u001b[0m \u001b[0ma\u001b[0m\u001b[1;33m.\u001b[0m\u001b[0mextend\u001b[0m\u001b[1;33m(\u001b[0m\u001b[0miterable\u001b[0m\u001b[1;33m,\u001b[0m \u001b[1;33m/\u001b[0m\u001b[1;33m)\u001b[0m\u001b[1;33m\u001b[0m\u001b[1;33m\u001b[0m\u001b[0m\n",
       "\u001b[1;31mDocstring:\u001b[0m Extend list by appending elements from the iterable.\n",
       "\u001b[1;31mType:\u001b[0m      builtin_function_or_method"
      ]
     },
     "metadata": {},
     "output_type": "display_data"
    }
   ],
   "source": [
    "a.extend?"
   ]
  },
  {
   "cell_type": "markdown",
   "id": "5b73345f-0e0b-4346-b445-dc64125f27a9",
   "metadata": {},
   "source": [
    "## 리스트 연산 "
   ]
  },
  {
   "cell_type": "code",
   "execution_count": 144,
   "id": "368e5d0a-5c05-49c2-b859-24f1a6ac2b16",
   "metadata": {},
   "outputs": [
    {
     "data": {
      "text/plain": [
       "3"
      ]
     },
     "execution_count": 144,
     "metadata": {},
     "output_type": "execute_result"
    }
   ],
   "source": [
    "a=1\n",
    "a=a+2\n",
    "a"
   ]
  },
  {
   "cell_type": "code",
   "execution_count": 145,
   "id": "76bf95f3-447c-4133-b647-f87219479dc2",
   "metadata": {},
   "outputs": [
    {
     "data": {
      "text/plain": [
       "6"
      ]
     },
     "execution_count": 145,
     "metadata": {},
     "output_type": "execute_result"
    }
   ],
   "source": [
    "a+=3\n",
    "a"
   ]
  },
  {
   "cell_type": "code",
   "execution_count": 151,
   "id": "e5e0e677-90d3-4239-946f-8b59c00e1a6a",
   "metadata": {},
   "outputs": [
    {
     "data": {
      "text/plain": [
       "[1, 2, 3, 4, 5]"
      ]
     },
     "execution_count": 151,
     "metadata": {},
     "output_type": "execute_result"
    }
   ],
   "source": [
    "a=[1,2,3]\n",
    "a+=[4,5]\n",
    "a"
   ]
  },
  {
   "cell_type": "code",
   "execution_count": 152,
   "id": "c17b6628-5c31-4018-85dc-f97e6dceb2b2",
   "metadata": {},
   "outputs": [
    {
     "data": {
      "text/plain": [
       "[1, 2, 3, 4, 5, 9]"
      ]
     },
     "execution_count": 152,
     "metadata": {},
     "output_type": "execute_result"
    }
   ],
   "source": [
    "a+=[9] #리스트는 리스트끼리만 연산가능\n",
    "a"
   ]
  },
  {
   "cell_type": "markdown",
   "id": "88c6269e-a119-467d-940b-220ade47bcc4",
   "metadata": {},
   "source": [
    "# 튜플 자료형"
   ]
  },
  {
   "cell_type": "code",
   "execution_count": 154,
   "id": "d0254e8d-7319-404f-873c-ef8306b65fe9",
   "metadata": {},
   "outputs": [
    {
     "name": "stdout",
     "output_type": "stream",
     "text": [
      "() <class 'tuple'>\n",
      "(1,) <class 'tuple'>\n",
      "(1, 2, 3) <class 'tuple'>\n",
      "(1, 2, 3) <class 'tuple'>\n",
      "('a', 'b', ('ab', 'cd')) <class 'tuple'>\n"
     ]
    }
   ],
   "source": [
    "#튜플은 원본 변경 불가(리스트는 원본 변경 가능)\n",
    "t1=()\n",
    "t2=(1, )\n",
    "t3=(1,2,3)\n",
    "t4=1,2,3\n",
    "t5=('a','b',('ab','cd'))\n",
    "print(t1,type(t1))\n",
    "print(t2,type(t2))\n",
    "print(t3,type(t3))\n",
    "print(t4,type(t4))\n",
    "print(t5,type(t5))"
   ]
  },
  {
   "cell_type": "code",
   "execution_count": 155,
   "id": "34ac583a-b0eb-43a0-9f78-21c898aa6cf5",
   "metadata": {},
   "outputs": [
    {
     "data": {
      "text/plain": [
       "((), (1,))"
      ]
     },
     "execution_count": 155,
     "metadata": {},
     "output_type": "execute_result"
    }
   ],
   "source": [
    "t1,t2"
   ]
  },
  {
   "cell_type": "code",
   "execution_count": 156,
   "id": "e6d872bd-5d2d-4930-91e1-d0fba17defa2",
   "metadata": {},
   "outputs": [
    {
     "data": {
      "text/plain": [
       "(int, tuple)"
      ]
     },
     "execution_count": 156,
     "metadata": {},
     "output_type": "execute_result"
    }
   ],
   "source": [
    "type((1)),type((1,)) #괄호+복수개 가 있어야 튜플/ 그래서 두번째는 타입이 튜플로 나옴."
   ]
  },
  {
   "cell_type": "code",
   "execution_count": 157,
   "id": "609574bf-094b-49b2-ab16-379f1df2c85d",
   "metadata": {},
   "outputs": [
    {
     "data": {
      "text/plain": [
       "(1, 2, 'a', 'b')"
      ]
     },
     "execution_count": 157,
     "metadata": {},
     "output_type": "execute_result"
    }
   ],
   "source": [
    "t1=(1,2,'a','b')\n",
    "t1"
   ]
  },
  {
   "cell_type": "code",
   "execution_count": 158,
   "id": "98bec3d3-d465-4fac-9f25-5a98089669b1",
   "metadata": {},
   "outputs": [
    {
     "ename": "NameError",
     "evalue": "name 'tl' is not defined",
     "output_type": "error",
     "traceback": [
      "\u001b[1;31m---------------------------------------------------------------------------\u001b[0m",
      "\u001b[1;31mNameError\u001b[0m                                 Traceback (most recent call last)",
      "Cell \u001b[1;32mIn[158], line 1\u001b[0m\n\u001b[1;32m----> 1\u001b[0m \u001b[38;5;28;01mdel\u001b[39;00m tl[\u001b[38;5;241m0\u001b[39m]\n",
      "\u001b[1;31mNameError\u001b[0m: name 'tl' is not defined"
     ]
    }
   ],
   "source": [
    "del tl[0] #튜플 삭제불가"
   ]
  },
  {
   "cell_type": "code",
   "execution_count": 159,
   "id": "5551c325-8cb5-4afd-abcf-22f7536a7687",
   "metadata": {},
   "outputs": [
    {
     "ename": "TypeError",
     "evalue": "'tuple' object does not support item assignment",
     "output_type": "error",
     "traceback": [
      "\u001b[1;31m---------------------------------------------------------------------------\u001b[0m",
      "\u001b[1;31mTypeError\u001b[0m                                 Traceback (most recent call last)",
      "Cell \u001b[1;32mIn[159], line 1\u001b[0m\n\u001b[1;32m----> 1\u001b[0m t1[\u001b[38;5;241m0\u001b[39m]\u001b[38;5;241m=\u001b[39m\u001b[38;5;124m'\u001b[39m\u001b[38;5;124mc\u001b[39m\u001b[38;5;124m'\u001b[39m\n",
      "\u001b[1;31mTypeError\u001b[0m: 'tuple' object does not support item assignment"
     ]
    }
   ],
   "source": [
    "t1[0]='c'"
   ]
  },
  {
   "cell_type": "markdown",
   "id": "8b536bd5-e32e-4ba9-97de-e352974ccccb",
   "metadata": {},
   "source": [
    "## 튜플 다루기(조회)"
   ]
  },
  {
   "cell_type": "code",
   "execution_count": 160,
   "id": "6bf153fa-2ed4-4826-b8a4-2dec9869c7fe",
   "metadata": {},
   "outputs": [
    {
     "data": {
      "text/plain": [
       "1"
      ]
     },
     "execution_count": 160,
     "metadata": {},
     "output_type": "execute_result"
    }
   ],
   "source": [
    "#인덱싱\n",
    "t1=(1,2,'a','b')\n",
    "t1[0]"
   ]
  },
  {
   "cell_type": "code",
   "execution_count": 162,
   "id": "17fe5ce7-14ca-4e3a-b62a-6f32aca02208",
   "metadata": {},
   "outputs": [
    {
     "data": {
      "text/plain": [
       "(2, 'a', 'b')"
      ]
     },
     "execution_count": 162,
     "metadata": {},
     "output_type": "execute_result"
    }
   ],
   "source": [
    "t1=(1,2,'a','b')\n",
    "t1[1:]"
   ]
  },
  {
   "cell_type": "code",
   "execution_count": 163,
   "id": "a5fae9ed-518e-4e6e-8d72-5b1c2cedb60c",
   "metadata": {},
   "outputs": [
    {
     "data": {
      "text/plain": [
       "(1, 2, 'a', 'b', 3, 4)"
      ]
     },
     "execution_count": 163,
     "metadata": {},
     "output_type": "execute_result"
    }
   ],
   "source": [
    "t1=(1,2,'a','b')\n",
    "t2=(3,4)\n",
    "t3=t1+t2\n",
    "t3"
   ]
  },
  {
   "cell_type": "code",
   "execution_count": 165,
   "id": "462e610a-444a-4b2a-b902-52272c7658ff",
   "metadata": {},
   "outputs": [
    {
     "data": {
      "text/plain": [
       "(3, 4, 3, 4, 3, 4)"
      ]
     },
     "execution_count": 165,
     "metadata": {},
     "output_type": "execute_result"
    }
   ],
   "source": [
    "t2=(3,4)\n",
    "t3=t2*3\n",
    "t3"
   ]
  },
  {
   "cell_type": "markdown",
   "id": "7a60d7e6-cf4c-40b6-b6d0-07da6c48fced",
   "metadata": {},
   "source": [
    "## 튜플 길이 구하기"
   ]
  },
  {
   "cell_type": "code",
   "execution_count": 166,
   "id": "76c42390-99f3-46d9-9a10-7a72b82c9e81",
   "metadata": {},
   "outputs": [
    {
     "data": {
      "text/plain": [
       "4"
      ]
     },
     "execution_count": 166,
     "metadata": {},
     "output_type": "execute_result"
    }
   ],
   "source": [
    "len(t1) #리스트중에서도 수정이 안되는 "
   ]
  },
  {
   "cell_type": "markdown",
   "id": "bbe8b594-9a4b-42f9-a600-47f0bd064104",
   "metadata": {},
   "source": [
    "# 딕셔너리 자료형 "
   ]
  },
  {
   "cell_type": "code",
   "execution_count": null,
   "id": "e079ec80-2840-4181-8f8a-46f291a4ba89",
   "metadata": {},
   "outputs": [],
   "source": [
    "#매핑타입이고 키를 가지고 밸류 를 찾는다. 시퀀스는 순서이다. \n",
    "#그럼 매핑과 시퀀스는 무슨 차이지?\n",
    "#순서대로 찾아와 바로 찾는다.\n",
    "#nosql을 쓰는 이유는 파일데이터를 대응하고 관리하기 좋다. -> 키와 밸류"
   ]
  },
  {
   "cell_type": "markdown",
   "id": "c06fd367-df37-4a40-aeea-326afcf7c7e3",
   "metadata": {},
   "source": [
    "## 딕션너리 쌍 추가, 삭제하기"
   ]
  },
  {
   "cell_type": "code",
   "execution_count": 3,
   "id": "6a22b2d2-48e6-475e-a925-60e8a9b509c2",
   "metadata": {
    "editable": true,
    "slideshow": {
     "slide_type": ""
    },
    "tags": []
   },
   "outputs": [],
   "source": [
    "a={1: 'a'}\n"
   ]
  },
  {
   "cell_type": "code",
   "execution_count": 4,
   "id": "781376ed-d128-4019-84be-a4edcfef402d",
   "metadata": {},
   "outputs": [
    {
     "data": {
      "text/plain": [
       "{1: 'a', 2: 'b'}"
      ]
     },
     "execution_count": 4,
     "metadata": {},
     "output_type": "execute_result"
    }
   ],
   "source": [
    "a[2]='b'\n",
    "a"
   ]
  },
  {
   "cell_type": "code",
   "execution_count": 7,
   "id": "a799760e-f3e3-491f-a136-3627f7a8dabd",
   "metadata": {},
   "outputs": [
    {
     "data": {
      "text/plain": [
       "{1: 'a', 2: 'b', 'name': 'pey'}"
      ]
     },
     "execution_count": 7,
     "metadata": {},
     "output_type": "execute_result"
    }
   ],
   "source": [
    "a['name'] ='pey'\n",
    "a#시퀀스는 문자로 조회가 안되지만 딕셔너리는 가능"
   ]
  },
  {
   "cell_type": "code",
   "execution_count": 9,
   "id": "d30dd565-7cba-4cfa-8f35-21c307f00d26",
   "metadata": {},
   "outputs": [
    {
     "data": {
      "text/plain": [
       "{1: 'a', 2: 'b', 'name': 'pey', 3: [1, 2, 3]}"
      ]
     },
     "execution_count": 9,
     "metadata": {},
     "output_type": "execute_result"
    }
   ],
   "source": [
    "a[3]=[1,2,3]\n",
    "a"
   ]
  },
  {
   "cell_type": "code",
   "execution_count": 10,
   "id": "79047d6a-34ab-4928-923d-f00c6a8d9f1e",
   "metadata": {},
   "outputs": [
    {
     "data": {
      "text/plain": [
       "{2: 'b', 'name': 'pey', 3: [1, 2, 3]}"
      ]
     },
     "execution_count": 10,
     "metadata": {},
     "output_type": "execute_result"
    }
   ],
   "source": [
    "#삭제\n",
    "del a[1] #1인 인덱스가 삭제가 아니라 키값자체가 1 인 것을을 삭제\n",
    "a"
   ]
  },
  {
   "cell_type": "markdown",
   "id": "14cb6f39-5989-48cd-bb5d-03bc79c66338",
   "metadata": {},
   "source": [
    "## 딕션어리 사용법"
   ]
  },
  {
   "cell_type": "code",
   "execution_count": 11,
   "id": "48dcb5ec-56f1-486f-8d5e-aeeb60853791",
   "metadata": {},
   "outputs": [
    {
     "data": {
      "text/plain": [
       "{'pay': 10, 'julliet': 99}"
      ]
     },
     "execution_count": 11,
     "metadata": {},
     "output_type": "execute_result"
    }
   ],
   "source": [
    "grade={'pay':10,'julliet':99}\n",
    "grade"
   ]
  },
  {
   "cell_type": "code",
   "execution_count": 13,
   "id": "d3560438-bc01-4357-ab1c-30a16838bb05",
   "metadata": {},
   "outputs": [
    {
     "data": {
      "text/plain": [
       "10"
      ]
     },
     "execution_count": 13,
     "metadata": {},
     "output_type": "execute_result"
    }
   ],
   "source": [
    "grade['pay']"
   ]
  },
  {
   "cell_type": "markdown",
   "id": "7057e30a-052b-41f9-8a10-b2690f396923",
   "metadata": {},
   "source": [
    "## 딕셔너리 주의 사항"
   ]
  },
  {
   "cell_type": "code",
   "execution_count": 14,
   "id": "c5b9b6ea-51b2-45b1-9e24-b0cec8ba2f5e",
   "metadata": {},
   "outputs": [
    {
     "ename": "TypeError",
     "evalue": "unhashable type: 'list'",
     "output_type": "error",
     "traceback": [
      "\u001b[1;31m---------------------------------------------------------------------------\u001b[0m",
      "\u001b[1;31mTypeError\u001b[0m                                 Traceback (most recent call last)",
      "Cell \u001b[1;32mIn[14], line 1\u001b[0m\n\u001b[1;32m----> 1\u001b[0m a\u001b[38;5;241m=\u001b[39m{[\u001b[38;5;241m1\u001b[39m,\u001b[38;5;241m2\u001b[39m]:\u001b[38;5;124m'\u001b[39m\u001b[38;5;124mhi\u001b[39m\u001b[38;5;124m'\u001b[39m}\n",
      "\u001b[1;31mTypeError\u001b[0m: unhashable type: 'list'"
     ]
    }
   ],
   "source": [
    "a={[1,2]:'hi'} #키에 변할 수 잇는 값을 넣으면 안돼"
   ]
  },
  {
   "cell_type": "markdown",
   "id": "36c4c23f-11ef-4612-a835-98242270c9ec",
   "metadata": {},
   "source": [
    "## 딕셔너리 관련 함수"
   ]
  },
  {
   "cell_type": "code",
   "execution_count": 16,
   "id": "7b83912a-71f4-42d6-8e33-eb1960c81565",
   "metadata": {},
   "outputs": [
    {
     "data": {
      "text/plain": [
       "dict_keys(['name', 'phone', 'birth'])"
      ]
     },
     "execution_count": 16,
     "metadata": {},
     "output_type": "execute_result"
    }
   ],
   "source": [
    "#키 리스트 만들기\n",
    "a = {'name': 'pey', 'phone': '010-9999-1234', 'birth': '1118'}\n",
    "a.keys()"
   ]
  },
  {
   "cell_type": "code",
   "execution_count": 17,
   "id": "cad2590f-1a4a-4946-a6db-6a92a9186362",
   "metadata": {},
   "outputs": [
    {
     "name": "stdout",
     "output_type": "stream",
     "text": [
      "name\n",
      "phone\n",
      "birth\n"
     ]
    }
   ],
   "source": [
    "for k in a.keys():\n",
    "    print(k) #a라는 변수라는 키를 모두 뽑아줘 "
   ]
  },
  {
   "cell_type": "code",
   "execution_count": 18,
   "id": "f2859e95-aead-4a3b-987a-4247bb2607bc",
   "metadata": {},
   "outputs": [
    {
     "data": {
      "text/plain": [
       "['name', 'phone', 'birth']"
      ]
     },
     "execution_count": 18,
     "metadata": {},
     "output_type": "execute_result"
    }
   ],
   "source": [
    "list(a.keys())"
   ]
  },
  {
   "cell_type": "code",
   "execution_count": 19,
   "id": "cfb0656a-27b7-4260-a69b-5bd9f75d55c5",
   "metadata": {},
   "outputs": [
    {
     "data": {
      "text/plain": [
       "dict_values(['pey', '010-9999-1234', '1118'])"
      ]
     },
     "execution_count": 19,
     "metadata": {},
     "output_type": "execute_result"
    }
   ],
   "source": [
    "#values 리스트만들기\n",
    "a.values() "
   ]
  },
  {
   "cell_type": "code",
   "execution_count": 20,
   "id": "4001e27a-cc68-4967-a2c0-70d29d691e50",
   "metadata": {},
   "outputs": [
    {
     "data": {
      "text/plain": [
       "dict_items([('name', 'pey'), ('phone', '010-9999-1234'), ('birth', '1118')])"
      ]
     },
     "execution_count": 20,
     "metadata": {},
     "output_type": "execute_result"
    }
   ],
   "source": [
    "#k,v쌍 얻기\n",
    "a.items()"
   ]
  },
  {
   "cell_type": "code",
   "execution_count": 22,
   "id": "a5f56e9d-62d7-44bb-9825-097afa7b9875",
   "metadata": {},
   "outputs": [
    {
     "data": {
      "text/plain": [
       "{}"
      ]
     },
     "execution_count": 22,
     "metadata": {},
     "output_type": "execute_result"
    }
   ],
   "source": [
    "#k,v 쌍 모두 지우기-clear\n",
    "a.clear()\n",
    "a"
   ]
  },
  {
   "cell_type": "code",
   "execution_count": 23,
   "id": "894e479d-d431-4d06-aa5b-d7e3df7ba417",
   "metadata": {},
   "outputs": [
    {
     "data": {
      "text/plain": [
       "{'name': 'pey', 'phone': '010-9999-1234', 'birth': '1118'}"
      ]
     },
     "execution_count": 23,
     "metadata": {},
     "output_type": "execute_result"
    }
   ],
   "source": [
    "#키로 밸류 얻기 -get\n",
    "a = {'name': 'pey', 'phone': '010-9999-1234', 'birth': '1118'}\n",
    "a"
   ]
  },
  {
   "cell_type": "code",
   "execution_count": 24,
   "id": "1ec82bb6-a0dd-4dad-b7b6-597cc713e8e9",
   "metadata": {},
   "outputs": [
    {
     "data": {
      "text/plain": [
       "'pey'"
      ]
     },
     "execution_count": 24,
     "metadata": {},
     "output_type": "execute_result"
    }
   ],
   "source": [
    "a.get('name')"
   ]
  },
  {
   "cell_type": "code",
   "execution_count": 26,
   "id": "b98fdb1f-2c67-4f85-b18d-813752da1b15",
   "metadata": {},
   "outputs": [
    {
     "data": {
      "text/plain": [
       "{'name': 'pey', 'phone': '010-9999-1234', 'birth': '1118'}"
      ]
     },
     "execution_count": 26,
     "metadata": {},
     "output_type": "execute_result"
    }
   ],
   "source": [
    "a.get('nokey') #겟은 오류 안나고 인덱스는 오류 난다. 파인드와 인덱스처럼,,\n",
    "a"
   ]
  },
  {
   "cell_type": "code",
   "execution_count": 28,
   "id": "83116be0-78b3-4c37-92bd-e5f1ec6cdff1",
   "metadata": {},
   "outputs": [
    {
     "data": {
      "text/plain": [
       "{'name': 'pey', 'phone': '010-9999-1234', 'birth': '1118'}"
      ]
     },
     "execution_count": 28,
     "metadata": {},
     "output_type": "execute_result"
    }
   ],
   "source": [
    "a.get('nokey','꽝') #없으면 꽝으로나옴\n",
    "a"
   ]
  },
  {
   "cell_type": "code",
   "execution_count": 29,
   "id": "4184cc9c-fe70-4dc7-9bb7-e5da4b63c154",
   "metadata": {},
   "outputs": [
    {
     "data": {
      "text/plain": [
       "True"
      ]
     },
     "execution_count": 29,
     "metadata": {},
     "output_type": "execute_result"
    }
   ],
   "source": [
    "## 해당 키가 딕셔너리 안에 있는지 조사\n",
    "'name' in a"
   ]
  },
  {
   "cell_type": "code",
   "execution_count": 30,
   "id": "bd82bc39-2aa9-4ff7-a63c-9713f9e7dffe",
   "metadata": {},
   "outputs": [
    {
     "data": {
      "text/plain": [
       "False"
      ]
     },
     "execution_count": 30,
     "metadata": {},
     "output_type": "execute_result"
    }
   ],
   "source": [
    "'email' in a"
   ]
  },
  {
   "cell_type": "markdown",
   "id": "50e375fe-77b8-4b3d-a1b8-ed5ddccb5f14",
   "metadata": {},
   "source": [
    "## 집합 자료형"
   ]
  },
  {
   "cell_type": "code",
   "execution_count": 31,
   "id": "a2b217aa-27a4-4ba6-9b68-1d60b5bffd54",
   "metadata": {},
   "outputs": [
    {
     "data": {
      "text/plain": [
       "({1, 2, 3}, set)"
      ]
     },
     "execution_count": 31,
     "metadata": {},
     "output_type": "execute_result"
    }
   ],
   "source": [
    "#중복허용 안돼, 순서가 없다\n",
    "s1=set([1,2,3]) \n",
    "s1,type(s1)"
   ]
  },
  {
   "cell_type": "code",
   "execution_count": 34,
   "id": "ddca65b0-95a5-4a27-8971-20f3e8be205c",
   "metadata": {},
   "outputs": [
    {
     "data": {
      "text/plain": [
       "{'e', 'h', 'l', 'o'}"
      ]
     },
     "execution_count": 34,
     "metadata": {},
     "output_type": "execute_result"
    }
   ],
   "source": [
    "s2=set('hello')\n",
    "s2"
   ]
  },
  {
   "cell_type": "code",
   "execution_count": 35,
   "id": "32f8ede9-4527-4963-8961-f1a6a28cf8aa",
   "metadata": {},
   "outputs": [
    {
     "data": {
      "text/plain": [
       "[1, 2, 3]"
      ]
     },
     "execution_count": 35,
     "metadata": {},
     "output_type": "execute_result"
    }
   ],
   "source": [
    "l1=list(s1)\n",
    "l1"
   ]
  },
  {
   "cell_type": "code",
   "execution_count": 36,
   "id": "574c494a-c49b-481e-b89c-0baa7202f9ae",
   "metadata": {},
   "outputs": [
    {
     "data": {
      "text/plain": [
       "1"
      ]
     },
     "execution_count": 36,
     "metadata": {},
     "output_type": "execute_result"
    }
   ],
   "source": [
    "l1[0]"
   ]
  },
  {
   "cell_type": "code",
   "execution_count": 37,
   "id": "5654aa67-3584-4ca3-8e0a-3f20b04f90bb",
   "metadata": {},
   "outputs": [
    {
     "ename": "TypeError",
     "evalue": "'set' object is not subscriptable",
     "output_type": "error",
     "traceback": [
      "\u001b[1;31m---------------------------------------------------------------------------\u001b[0m",
      "\u001b[1;31mTypeError\u001b[0m                                 Traceback (most recent call last)",
      "Cell \u001b[1;32mIn[37], line 1\u001b[0m\n\u001b[1;32m----> 1\u001b[0m s1[\u001b[38;5;241m0\u001b[39m]\n",
      "\u001b[1;31mTypeError\u001b[0m: 'set' object is not subscriptable"
     ]
    }
   ],
   "source": [
    "s1[0]"
   ]
  },
  {
   "cell_type": "markdown",
   "id": "e4432261-982d-482c-9314-7aab794d2206",
   "metadata": {},
   "source": [
    "## 교칩합, 합집합, 차집합 구하기"
   ]
  },
  {
   "cell_type": "code",
   "execution_count": 39,
   "id": "9605712e-b81f-427c-ba76-c041c9abcb09",
   "metadata": {},
   "outputs": [],
   "source": [
    ">>> s1 = set([1, 2, 3, 4, 5, 6])\n",
    ">>> s2 = set([4, 5, 6, 7, 8, 9])"
   ]
  },
  {
   "cell_type": "code",
   "execution_count": 40,
   "id": "cd65e3af-f0be-4a6b-8fe7-8b280078eabf",
   "metadata": {},
   "outputs": [
    {
     "data": {
      "text/plain": [
       "{4, 5, 6}"
      ]
     },
     "execution_count": 40,
     "metadata": {},
     "output_type": "execute_result"
    }
   ],
   "source": [
    "#교집합\n",
    "s1.intersection(s2)"
   ]
  },
  {
   "cell_type": "code",
   "execution_count": 41,
   "id": "71a4d2cf-c5df-4cc1-a543-51f21208fba0",
   "metadata": {},
   "outputs": [
    {
     "data": {
      "text/plain": [
       "{1, 2, 3, 4, 5, 6, 7, 8, 9}"
      ]
     },
     "execution_count": 41,
     "metadata": {},
     "output_type": "execute_result"
    }
   ],
   "source": [
    "#합집합\n",
    "s1.union(s2)"
   ]
  },
  {
   "cell_type": "code",
   "execution_count": 42,
   "id": "5099751f-6da2-4f76-b56a-125a1593eb4c",
   "metadata": {},
   "outputs": [
    {
     "data": {
      "text/plain": [
       "{1, 2, 3, 4, 5, 6, 7, 8, 9}"
      ]
     },
     "execution_count": 42,
     "metadata": {},
     "output_type": "execute_result"
    }
   ],
   "source": [
    "s1|s2 #또는 이므로 합집합 "
   ]
  },
  {
   "cell_type": "code",
   "execution_count": 43,
   "id": "afcb5f8b-7857-4ff6-8eeb-2ba83c698716",
   "metadata": {},
   "outputs": [
    {
     "data": {
      "text/plain": [
       "{1, 2, 3}"
      ]
     },
     "execution_count": 43,
     "metadata": {},
     "output_type": "execute_result"
    }
   ],
   "source": [
    "#차집합\n",
    "s1-s2"
   ]
  },
  {
   "cell_type": "code",
   "execution_count": 44,
   "id": "0c801b1e-9565-44b9-ae98-579d69deff34",
   "metadata": {},
   "outputs": [
    {
     "data": {
      "text/plain": [
       "{1, 2, 3}"
      ]
     },
     "execution_count": 44,
     "metadata": {},
     "output_type": "execute_result"
    }
   ],
   "source": [
    "s1.difference(s2) #차집합메서드"
   ]
  },
  {
   "cell_type": "markdown",
   "id": "7ea0fe8d-f180-4bea-b1fd-a859fd72be68",
   "metadata": {},
   "source": [
    "## 집합 자료형 관련함수"
   ]
  },
  {
   "cell_type": "code",
   "execution_count": 46,
   "id": "09f647b5-4c71-4b95-acc3-68e66a5ad57a",
   "metadata": {},
   "outputs": [
    {
     "data": {
      "text/plain": [
       "{1, 2, 3, 4}"
      ]
     },
     "execution_count": 46,
     "metadata": {},
     "output_type": "execute_result"
    }
   ],
   "source": [
    "#값1개 추가 add\n",
    "s1=set([1,2,3]) #셋은 순서없음 주머니라 생각하자\n",
    "s1.add(4)\n",
    "s1 "
   ]
  },
  {
   "cell_type": "code",
   "execution_count": 47,
   "id": "f9e20227-9e6e-456a-9c15-42945ff9c57e",
   "metadata": {},
   "outputs": [
    {
     "data": {
      "text/plain": [
       "{1, 2, 3, 4, 5, 6}"
      ]
     },
     "execution_count": 47,
     "metadata": {},
     "output_type": "execute_result"
    }
   ],
   "source": [
    "#값 여러개 추가 update\n",
    "s1.update([4,5,6]) #set은 중복이 안되므로 4는 한번만 나온다\n",
    "s1"
   ]
  },
  {
   "cell_type": "code",
   "execution_count": 48,
   "id": "d6f17f72-abb9-453a-9895-277c97a2b64c",
   "metadata": {},
   "outputs": [
    {
     "data": {
      "text/plain": [
       "{1, 3, 4, 5, 6}"
      ]
     },
     "execution_count": 48,
     "metadata": {},
     "output_type": "execute_result"
    }
   ],
   "source": [
    "#특정값 제거\n",
    "s1.remove(2)\n",
    "s1"
   ]
  },
  {
   "cell_type": "markdown",
   "id": "b80ac48a-407c-41e6-88b0-9b0836a59121",
   "metadata": {},
   "source": [
    "# 불자료형(boolean)"
   ]
  },
  {
   "cell_type": "code",
   "execution_count": null,
   "id": "c96afb6c-80e9-4296-a3d9-6f96a4166db7",
   "metadata": {},
   "outputs": [],
   "source": [
    "#트루나 false는 에약어이고 첫글자 대문자로 써야 인식함"
   ]
  },
  {
   "cell_type": "code",
   "execution_count": 49,
   "id": "994f2392-eb6e-44ab-8c17-7728c583bddd",
   "metadata": {},
   "outputs": [
    {
     "data": {
      "text/plain": [
       "(bool, bool)"
      ]
     },
     "execution_count": 49,
     "metadata": {},
     "output_type": "execute_result"
    }
   ],
   "source": [
    "a=True\n",
    "b=False\n",
    "\n",
    "type(a),type(b)"
   ]
  },
  {
   "cell_type": "code",
   "execution_count": 50,
   "id": "c75782ed-d588-427a-995d-c57f53b2c028",
   "metadata": {},
   "outputs": [
    {
     "data": {
      "text/plain": [
       "True"
      ]
     },
     "execution_count": 50,
     "metadata": {},
     "output_type": "execute_result"
    }
   ],
   "source": [
    "1 == 1"
   ]
  },
  {
   "cell_type": "code",
   "execution_count": 51,
   "id": "5109ad21-9938-4782-9b66-004f26e61337",
   "metadata": {},
   "outputs": [
    {
     "data": {
      "text/plain": [
       "True"
      ]
     },
     "execution_count": 51,
     "metadata": {},
     "output_type": "execute_result"
    }
   ],
   "source": [
    "2>1 "
   ]
  },
  {
   "cell_type": "code",
   "execution_count": 53,
   "id": "a14d9c62-1d7f-4298-a836-a7e478a8d017",
   "metadata": {},
   "outputs": [
    {
     "data": {
      "text/plain": [
       "False"
      ]
     },
     "execution_count": 53,
     "metadata": {},
     "output_type": "execute_result"
    }
   ],
   "source": [
    "2<1"
   ]
  },
  {
   "cell_type": "markdown",
   "id": "a02422dd-d297-47a5-a8ff-1dd234258160",
   "metadata": {},
   "source": [
    "## 자료형의 참과 거짓"
   ]
  },
  {
   "cell_type": "code",
   "execution_count": 54,
   "id": "1a10e651-7e81-41e6-bcbf-214ccbd032a3",
   "metadata": {},
   "outputs": [
    {
     "name": "stdout",
     "output_type": "stream",
     "text": [
      "4\n",
      "3\n",
      "2\n",
      "1\n"
     ]
    }
   ],
   "source": [
    "a=[1,2,3,4]\n",
    "while a:\n",
    "    print(a.pop())"
   ]
  },
  {
   "cell_type": "code",
   "execution_count": 55,
   "id": "f65201a6-d4cf-461a-9d41-26b61bbb29c3",
   "metadata": {},
   "outputs": [
    {
     "name": "stdout",
     "output_type": "stream",
     "text": [
      "거짓\n"
     ]
    }
   ],
   "source": [
    "if[]:\n",
    "    print('참')\n",
    "else:\n",
    "    print('거짓')"
   ]
  },
  {
   "cell_type": "code",
   "execution_count": 56,
   "id": "eb8515fc-ef0f-418e-ac77-8a14db980527",
   "metadata": {},
   "outputs": [
    {
     "name": "stdout",
     "output_type": "stream",
     "text": [
      "참\n"
     ]
    }
   ],
   "source": [
    "if[1,2,3]:\n",
    "    print('참')\n",
    "else:\n",
    "    print('거짓')"
   ]
  },
  {
   "cell_type": "markdown",
   "id": "5a707c6e-8a45-4d4c-b605-e89a9cf169bd",
   "metadata": {},
   "source": [
    "## 불 연산"
   ]
  },
  {
   "cell_type": "code",
   "execution_count": 58,
   "id": "4883ff53-7039-4342-9547-29b3e3c1191b",
   "metadata": {},
   "outputs": [
    {
     "data": {
      "text/plain": [
       "\u001b[1;31mInit signature:\u001b[0m \u001b[0mbool\u001b[0m\u001b[1;33m(\u001b[0m\u001b[0mself\u001b[0m\u001b[1;33m,\u001b[0m \u001b[1;33m/\u001b[0m\u001b[1;33m,\u001b[0m \u001b[1;33m*\u001b[0m\u001b[0margs\u001b[0m\u001b[1;33m,\u001b[0m \u001b[1;33m**\u001b[0m\u001b[0mkwargs\u001b[0m\u001b[1;33m)\u001b[0m\u001b[1;33m\u001b[0m\u001b[1;33m\u001b[0m\u001b[0m\n",
       "\u001b[1;31mDocstring:\u001b[0m     \n",
       "bool(x) -> bool\n",
       "\n",
       "Returns True when the argument x is true, False otherwise.\n",
       "The builtins True and False are the only two instances of the class bool.\n",
       "The class bool is a subclass of the class int, and cannot be subclassed.\n",
       "\u001b[1;31mType:\u001b[0m           type\n",
       "\u001b[1;31mSubclasses:\u001b[0m     "
      ]
     },
     "metadata": {},
     "output_type": "display_data"
    }
   ],
   "source": [
    "bool?"
   ]
  },
  {
   "cell_type": "code",
   "execution_count": 59,
   "id": "56008981-58fb-4990-8a22-eff7c6e41e60",
   "metadata": {},
   "outputs": [
    {
     "data": {
      "text/plain": [
       "True"
      ]
     },
     "execution_count": 59,
     "metadata": {},
     "output_type": "execute_result"
    }
   ],
   "source": [
    "bool('python')"
   ]
  },
  {
   "cell_type": "code",
   "execution_count": 61,
   "id": "e8375424-1be4-4e5e-8297-d03545bab670",
   "metadata": {},
   "outputs": [
    {
     "data": {
      "text/plain": [
       "True"
      ]
     },
     "execution_count": 61,
     "metadata": {},
     "output_type": "execute_result"
    }
   ],
   "source": [
    "bool(' ')"
   ]
  },
  {
   "cell_type": "code",
   "execution_count": 62,
   "id": "aade8e59-0b18-4960-bee6-0bbc3b87399b",
   "metadata": {},
   "outputs": [
    {
     "data": {
      "text/plain": [
       "False"
      ]
     },
     "execution_count": 62,
     "metadata": {},
     "output_type": "execute_result"
    }
   ],
   "source": [
    "bool(0)"
   ]
  },
  {
   "cell_type": "code",
   "execution_count": 63,
   "id": "ce0052cd-7c1b-4141-8df8-997385b26676",
   "metadata": {},
   "outputs": [
    {
     "data": {
      "text/plain": [
       "True"
      ]
     },
     "execution_count": 63,
     "metadata": {},
     "output_type": "execute_result"
    }
   ],
   "source": [
    "bool(3) #트류펄스는 계산할 수 있음 . 지금은 값이 있으면 다 트루임"
   ]
  },
  {
   "cell_type": "code",
   "execution_count": 65,
   "id": "456d806f-6bbf-4186-8bd8-fedcda370c9a",
   "metadata": {},
   "outputs": [
    {
     "data": {
      "text/plain": [
       "2"
      ]
     },
     "execution_count": 65,
     "metadata": {},
     "output_type": "execute_result"
    }
   ],
   "source": [
    "True+True"
   ]
  },
  {
   "cell_type": "code",
   "execution_count": 66,
   "id": "076498d6-7195-4ce2-aa1d-93dd962ce3ff",
   "metadata": {},
   "outputs": [
    {
     "data": {
      "text/plain": [
       "1"
      ]
     },
     "execution_count": 66,
     "metadata": {},
     "output_type": "execute_result"
    }
   ],
   "source": [
    "True+False"
   ]
  },
  {
   "cell_type": "code",
   "execution_count": null,
   "id": "fcac5df0-4ad6-4f41-b0df-92e9fd0c20e0",
   "metadata": {},
   "outputs": [],
   "source": []
  },
  {
   "cell_type": "code",
   "execution_count": null,
   "id": "9c61f2fb-b7d7-4f7a-9d16-01723624586b",
   "metadata": {},
   "outputs": [],
   "source": []
  },
  {
   "cell_type": "code",
   "execution_count": null,
   "id": "6fe11e5f-560a-4ca7-9ce9-085a6a9d88a2",
   "metadata": {},
   "outputs": [],
   "source": []
  },
  {
   "cell_type": "code",
   "execution_count": null,
   "id": "948ac12e-fa2d-417e-be1e-d0a358653511",
   "metadata": {},
   "outputs": [],
   "source": []
  },
  {
   "cell_type": "code",
   "execution_count": null,
   "id": "e03e188e-e9a8-426e-b1f7-1e2f6b936168",
   "metadata": {},
   "outputs": [],
   "source": []
  },
  {
   "cell_type": "code",
   "execution_count": null,
   "id": "d4156471-3b0d-4d24-9c21-715506f57fd6",
   "metadata": {},
   "outputs": [],
   "source": []
  },
  {
   "cell_type": "code",
   "execution_count": null,
   "id": "0b0450f1-8262-4756-8ab2-1383989dd610",
   "metadata": {},
   "outputs": [],
   "source": []
  },
  {
   "cell_type": "code",
   "execution_count": null,
   "id": "5eecb942-fe34-4acf-9f6e-2ca61172edcf",
   "metadata": {},
   "outputs": [],
   "source": []
  },
  {
   "cell_type": "code",
   "execution_count": null,
   "id": "b6e25949-415b-418f-bdc6-bf9ddfb17161",
   "metadata": {},
   "outputs": [],
   "source": []
  },
  {
   "cell_type": "code",
   "execution_count": null,
   "id": "cb32d4e6-fc57-497b-8bb3-684ec456dbc8",
   "metadata": {},
   "outputs": [],
   "source": []
  },
  {
   "cell_type": "code",
   "execution_count": null,
   "id": "0bc6a012-2e36-4804-b624-ccb7d9ece2d1",
   "metadata": {},
   "outputs": [],
   "source": []
  },
  {
   "cell_type": "code",
   "execution_count": null,
   "id": "2bbadff4-be13-42a0-a78d-682f1be6fcdf",
   "metadata": {},
   "outputs": [],
   "source": []
  },
  {
   "cell_type": "code",
   "execution_count": null,
   "id": "4201145a-5b17-45fb-9440-034727a00309",
   "metadata": {},
   "outputs": [],
   "source": []
  },
  {
   "cell_type": "code",
   "execution_count": null,
   "id": "670ba0ae-351d-4cd9-9e4a-57a35f627458",
   "metadata": {},
   "outputs": [],
   "source": []
  },
  {
   "cell_type": "code",
   "execution_count": null,
   "id": "3e86633f-aa1e-4d63-bdec-c6d3b72ad3ea",
   "metadata": {},
   "outputs": [],
   "source": []
  },
  {
   "cell_type": "code",
   "execution_count": null,
   "id": "5758bb87-6206-4b4b-be95-7fa389a7e9d7",
   "metadata": {},
   "outputs": [],
   "source": []
  },
  {
   "cell_type": "code",
   "execution_count": null,
   "id": "38d1943a-553c-400e-bdc6-26316ec2ed57",
   "metadata": {},
   "outputs": [],
   "source": []
  },
  {
   "cell_type": "code",
   "execution_count": null,
   "id": "6a446c16-bcd0-460c-8ab7-642724835366",
   "metadata": {},
   "outputs": [],
   "source": []
  },
  {
   "cell_type": "code",
   "execution_count": null,
   "id": "2691a67b-9c89-420e-88eb-d33cf971ed2c",
   "metadata": {},
   "outputs": [],
   "source": []
  },
  {
   "cell_type": "code",
   "execution_count": null,
   "id": "3e15559a-c9c2-4bb4-a9d7-0b6a74aa35ee",
   "metadata": {},
   "outputs": [],
   "source": []
  },
  {
   "cell_type": "code",
   "execution_count": null,
   "id": "8a61b420-59ca-4b6b-b203-a35715ba49fa",
   "metadata": {},
   "outputs": [],
   "source": []
  },
  {
   "cell_type": "code",
   "execution_count": null,
   "id": "4f5f11c9-73b3-4153-806f-7d396becce05",
   "metadata": {},
   "outputs": [],
   "source": []
  },
  {
   "cell_type": "code",
   "execution_count": null,
   "id": "7e810951-eecb-4127-8bf0-2b76c4dc961c",
   "metadata": {},
   "outputs": [],
   "source": []
  },
  {
   "cell_type": "code",
   "execution_count": null,
   "id": "c9637b33-d708-43cf-be9f-f164aaba1878",
   "metadata": {},
   "outputs": [],
   "source": []
  },
  {
   "cell_type": "code",
   "execution_count": null,
   "id": "c9447011-3f1d-4d3c-82ee-d8ab9fa9140d",
   "metadata": {},
   "outputs": [],
   "source": []
  },
  {
   "cell_type": "code",
   "execution_count": null,
   "id": "c1157901-5a11-40a7-9342-ade465968366",
   "metadata": {},
   "outputs": [],
   "source": []
  },
  {
   "cell_type": "code",
   "execution_count": null,
   "id": "bb0e20bc-bf2b-4f08-a40e-861920ca7827",
   "metadata": {},
   "outputs": [],
   "source": []
  },
  {
   "cell_type": "code",
   "execution_count": null,
   "id": "6c60adb7-3987-4cdc-a92b-dbad66ae8db2",
   "metadata": {},
   "outputs": [],
   "source": []
  },
  {
   "cell_type": "code",
   "execution_count": null,
   "id": "5d7a032b-c901-407f-a151-bac8775ba611",
   "metadata": {},
   "outputs": [],
   "source": []
  },
  {
   "cell_type": "code",
   "execution_count": null,
   "id": "1a24ba61-7567-4284-9517-a1bbd42e1a5c",
   "metadata": {},
   "outputs": [],
   "source": []
  },
  {
   "cell_type": "code",
   "execution_count": null,
   "id": "6f0da2c1-ce9c-4c4a-8cac-bfa3e8cd977e",
   "metadata": {},
   "outputs": [],
   "source": []
  },
  {
   "cell_type": "code",
   "execution_count": null,
   "id": "075ab8a3-8acb-403b-806a-525758496a5b",
   "metadata": {},
   "outputs": [],
   "source": []
  },
  {
   "cell_type": "code",
   "execution_count": null,
   "id": "220971e3-75b1-4d2d-8b77-0e5c98ce0e37",
   "metadata": {},
   "outputs": [],
   "source": []
  },
  {
   "cell_type": "code",
   "execution_count": null,
   "id": "88cf49b9-c029-4f35-8dcc-7ab943ca830c",
   "metadata": {},
   "outputs": [],
   "source": []
  },
  {
   "cell_type": "code",
   "execution_count": null,
   "id": "14e6daa9-f081-41fd-bc32-ed91d013af7d",
   "metadata": {},
   "outputs": [],
   "source": []
  },
  {
   "cell_type": "code",
   "execution_count": null,
   "id": "4e1a80a6-90ee-4558-84f2-73427e322e53",
   "metadata": {},
   "outputs": [],
   "source": []
  },
  {
   "cell_type": "code",
   "execution_count": null,
   "id": "dc700140-e540-4e16-8e36-1fd5fc60defc",
   "metadata": {},
   "outputs": [],
   "source": []
  },
  {
   "cell_type": "code",
   "execution_count": null,
   "id": "482e9e12-3e46-4746-896b-aef429de6c5b",
   "metadata": {},
   "outputs": [],
   "source": []
  },
  {
   "cell_type": "code",
   "execution_count": null,
   "id": "a1a7f726-0718-45b8-a9e0-9f6b50a59df9",
   "metadata": {},
   "outputs": [],
   "source": []
  },
  {
   "cell_type": "code",
   "execution_count": null,
   "id": "2c73a8f7-d9a7-4aa1-93a1-7208069ac6a4",
   "metadata": {},
   "outputs": [],
   "source": []
  },
  {
   "cell_type": "code",
   "execution_count": null,
   "id": "e2bc1c69-c0b0-40ff-aedd-d37e899b910d",
   "metadata": {},
   "outputs": [],
   "source": []
  },
  {
   "cell_type": "code",
   "execution_count": null,
   "id": "5467a274-003e-4060-bed5-7e78e0cbb6b8",
   "metadata": {},
   "outputs": [],
   "source": []
  },
  {
   "cell_type": "code",
   "execution_count": null,
   "id": "7df03610-f26c-4c0f-9bc3-4a2132404f33",
   "metadata": {},
   "outputs": [],
   "source": []
  },
  {
   "cell_type": "code",
   "execution_count": null,
   "id": "d7f2f8b7-c2e6-4b28-ad86-f598afb43ca6",
   "metadata": {},
   "outputs": [],
   "source": []
  },
  {
   "cell_type": "code",
   "execution_count": null,
   "id": "59aef270-1aff-4b05-baa4-b5e577410dc4",
   "metadata": {},
   "outputs": [],
   "source": []
  },
  {
   "cell_type": "code",
   "execution_count": null,
   "id": "50968ed8-dcc9-444b-85eb-8335909c1131",
   "metadata": {},
   "outputs": [],
   "source": []
  },
  {
   "cell_type": "code",
   "execution_count": null,
   "id": "f6a6c735-e667-4816-b60c-c5fd829676d7",
   "metadata": {},
   "outputs": [],
   "source": []
  },
  {
   "cell_type": "code",
   "execution_count": null,
   "id": "2a0b5056-51fa-4909-a764-6eff316c3229",
   "metadata": {},
   "outputs": [],
   "source": []
  },
  {
   "cell_type": "code",
   "execution_count": null,
   "id": "2b5f7d77-bf96-4dcf-a61f-2f7bd9a268c5",
   "metadata": {},
   "outputs": [],
   "source": []
  },
  {
   "cell_type": "code",
   "execution_count": null,
   "id": "4d322d3b-70a4-44a1-b70a-44ab208a3e41",
   "metadata": {},
   "outputs": [],
   "source": []
  },
  {
   "cell_type": "code",
   "execution_count": null,
   "id": "5ff235e6-7f6c-4f41-9430-db87948c2837",
   "metadata": {},
   "outputs": [],
   "source": []
  },
  {
   "cell_type": "code",
   "execution_count": null,
   "id": "5179c73a-3f96-47ba-9d79-949305ab9af1",
   "metadata": {},
   "outputs": [],
   "source": []
  },
  {
   "cell_type": "code",
   "execution_count": null,
   "id": "b31733d8-b0cc-4a7e-a4bd-323b22c3c10d",
   "metadata": {},
   "outputs": [],
   "source": []
  },
  {
   "cell_type": "code",
   "execution_count": null,
   "id": "434b091b-d521-4ea8-9363-34a37db59b56",
   "metadata": {},
   "outputs": [],
   "source": []
  },
  {
   "cell_type": "code",
   "execution_count": null,
   "id": "59fb9c52-2827-431c-90d5-d14d495fe25c",
   "metadata": {},
   "outputs": [],
   "source": []
  },
  {
   "cell_type": "code",
   "execution_count": null,
   "id": "9b6f6cef-7094-4e86-9a81-45894d069567",
   "metadata": {},
   "outputs": [],
   "source": []
  },
  {
   "cell_type": "code",
   "execution_count": null,
   "id": "1b9f8a12-c132-493b-83fc-a562fbf598be",
   "metadata": {},
   "outputs": [],
   "source": []
  }
 ],
 "metadata": {
  "kernelspec": {
   "display_name": "Python 3 (ipykernel)",
   "language": "python",
   "name": "python3"
  },
  "language_info": {
   "codemirror_mode": {
    "name": "ipython",
    "version": 3
   },
   "file_extension": ".py",
   "mimetype": "text/x-python",
   "name": "python",
   "nbconvert_exporter": "python",
   "pygments_lexer": "ipython3",
   "version": "3.11.7"
  }
 },
 "nbformat": 4,
 "nbformat_minor": 5
}

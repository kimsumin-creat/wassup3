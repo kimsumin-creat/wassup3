{
 "cells": [
  {
   "cell_type": "markdown",
   "id": "761e4add-d676-4d06-8ae3-c65eccf8c744",
   "metadata": {},
   "source": [
    "숫자 자료형"
   ]
  },
  {
   "cell_type": "code",
   "execution_count": 3,
   "id": "08fcbe1b-a267-4948-b7d2-ce2119c26d02",
   "metadata": {},
   "outputs": [
    {
     "data": {
      "text/plain": [
       "123"
      ]
     },
     "execution_count": 3,
     "metadata": {},
     "output_type": "execute_result"
    }
   ],
   "source": [
    "a=123\n",
    "a"
   ]
  },
  {
   "cell_type": "code",
   "execution_count": 4,
   "id": "649f5c06-3a23-4c8d-a50e-c7dad7e8c336",
   "metadata": {},
   "outputs": [
    {
     "data": {
      "text/plain": [
       "-3.45"
      ]
     },
     "execution_count": 4,
     "metadata": {},
     "output_type": "execute_result"
    }
   ],
   "source": [
    "a=-3.45\n",
    "a"
   ]
  },
  {
   "cell_type": "code",
   "execution_count": 7,
   "id": "4daa340e-0d39-4cce-92fd-2c0755eb274f",
   "metadata": {},
   "outputs": [
    {
     "data": {
      "text/plain": [
       "42400000000.0"
      ]
     },
     "execution_count": 7,
     "metadata": {},
     "output_type": "execute_result"
    }
   ],
   "source": [
    "a=4.24E10\n",
    "a"
   ]
  },
  {
   "cell_type": "code",
   "execution_count": 8,
   "id": "b7c1b4bc-ba48-451f-ab75-05c0e85f70f7",
   "metadata": {},
   "outputs": [
    {
     "data": {
      "text/plain": [
       "127"
      ]
     },
     "execution_count": 8,
     "metadata": {},
     "output_type": "execute_result"
    }
   ],
   "source": [
    "a=0o177\n",
    "a"
   ]
  },
  {
   "cell_type": "code",
   "execution_count": 9,
   "id": "ca0ffa38-77b6-44bb-876e-886172b94055",
   "metadata": {},
   "outputs": [
    {
     "data": {
      "text/plain": [
       "(2303, 2748)"
      ]
     },
     "execution_count": 9,
     "metadata": {},
     "output_type": "execute_result"
    }
   ],
   "source": [
    "a=0x8ff\n",
    "b=0xABC\n",
    "a,b"
   ]
  },
  {
   "cell_type": "markdown",
   "id": "b7f29da4-15e8-4737-b57f-d0538937aaba",
   "metadata": {},
   "source": [
    "사칙연산"
   ]
  },
  {
   "cell_type": "code",
   "execution_count": 10,
   "id": "c872d193-3472-4162-9a34-e38bcdcb840f",
   "metadata": {},
   "outputs": [
    {
     "data": {
      "text/plain": [
       "7"
      ]
     },
     "execution_count": 10,
     "metadata": {},
     "output_type": "execute_result"
    }
   ],
   "source": [
    "a=3\n",
    "b=4\n",
    "a+b"
   ]
  },
  {
   "cell_type": "code",
   "execution_count": 11,
   "id": "0471486c-b7ac-4f62-b6cc-e0ccf4617065",
   "metadata": {},
   "outputs": [
    {
     "data": {
      "text/plain": [
       "-1"
      ]
     },
     "execution_count": 11,
     "metadata": {},
     "output_type": "execute_result"
    }
   ],
   "source": [
    "a-b"
   ]
  },
  {
   "cell_type": "code",
   "execution_count": 12,
   "id": "16141cfa-53d0-4dff-8810-f3a4da6050cf",
   "metadata": {},
   "outputs": [
    {
     "data": {
      "text/plain": [
       "12"
      ]
     },
     "execution_count": 12,
     "metadata": {},
     "output_type": "execute_result"
    }
   ],
   "source": [
    "a*b"
   ]
  },
  {
   "cell_type": "code",
   "execution_count": 13,
   "id": "a07e64ee-687a-4fd1-aa86-595cb7d47cef",
   "metadata": {},
   "outputs": [
    {
     "data": {
      "text/plain": [
       "0.75"
      ]
     },
     "execution_count": 13,
     "metadata": {},
     "output_type": "execute_result"
    }
   ],
   "source": [
    "a/b"
   ]
  },
  {
   "cell_type": "code",
   "execution_count": 15,
   "id": "af4de66d-ee0d-4fdf-941f-18b93a035af8",
   "metadata": {},
   "outputs": [
    {
     "data": {
      "text/plain": [
       "81"
      ]
     },
     "execution_count": 15,
     "metadata": {},
     "output_type": "execute_result"
    }
   ],
   "source": [
    "a**b #제곱연산"
   ]
  },
  {
   "cell_type": "code",
   "execution_count": 16,
   "id": "8b3bbadd-3b83-411a-9ed8-15238ae37e56",
   "metadata": {},
   "outputs": [
    {
     "data": {
      "text/plain": [
       "1"
      ]
     },
     "execution_count": 16,
     "metadata": {},
     "output_type": "execute_result"
    }
   ],
   "source": [
    "7%3 #나눗셈 나머지 연"
   ]
  },
  {
   "cell_type": "code",
   "execution_count": 17,
   "id": "22697c2a-4152-42e0-8054-5dfde79f1b54",
   "metadata": {},
   "outputs": [
    {
     "data": {
      "text/plain": [
       "3"
      ]
     },
     "execution_count": 17,
     "metadata": {},
     "output_type": "execute_result"
    }
   ],
   "source": [
    "3%7"
   ]
  },
  {
   "cell_type": "markdown",
   "id": "b64e97cf-bb5e-44bf-83f1-913fc4bf5871",
   "metadata": {},
   "source": [
    "##나눗셈 몫 연산"
   ]
  },
  {
   "cell_type": "code",
   "execution_count": 18,
   "id": "b6ca7a21-20df-433a-83aa-ec8405aa988c",
   "metadata": {},
   "outputs": [
    {
     "data": {
      "text/plain": [
       "1"
      ]
     },
     "execution_count": 18,
     "metadata": {},
     "output_type": "execute_result"
    }
   ],
   "source": [
    "7//4"
   ]
  },
  {
   "cell_type": "code",
   "execution_count": 19,
   "id": "e56f71e7-5f19-43d3-9993-c7f90caea475",
   "metadata": {},
   "outputs": [
    {
     "data": {
      "text/plain": [
       "1.75"
      ]
     },
     "execution_count": 19,
     "metadata": {},
     "output_type": "execute_result"
    }
   ],
   "source": [
    "7/4"
   ]
  },
  {
   "cell_type": "markdown",
   "id": "c8441cda-54ca-4bda-be2e-42bd776fb792",
   "metadata": {},
   "source": [
    "## 문자열 자료형"
   ]
  },
  {
   "cell_type": "code",
   "execution_count": 20,
   "id": "20999328-e7d3-4646-8ec3-b39cea97f4e8",
   "metadata": {},
   "outputs": [
    {
     "data": {
      "text/plain": [
       "'hello world'"
      ]
     },
     "execution_count": 20,
     "metadata": {},
     "output_type": "execute_result"
    }
   ],
   "source": [
    "\"hello world\""
   ]
  },
  {
   "cell_type": "code",
   "execution_count": 26,
   "id": "ad47af37-4363-4f4a-96d6-71666431c636",
   "metadata": {},
   "outputs": [
    {
     "data": {
      "text/plain": [
       "'\\nhello world\\n'"
      ]
     },
     "execution_count": 26,
     "metadata": {},
     "output_type": "execute_result"
    }
   ],
   "source": [
    "\"\"\"hello world\"\"\""
   ]
  },
  {
   "cell_type": "markdown",
   "id": "39e757f3-ce56-43ea-8bff-dd316fc67b7b",
   "metadata": {},
   "source": [
    "# 문자열 안에 작은 따옴표나 큰 따옴표를 포함시키고싶을때"
   ]
  },
  {
   "cell_type": "code",
   "execution_count": 23,
   "id": "e4d8802c-026a-4c9c-ac5c-0f9e56f1608e",
   "metadata": {},
   "outputs": [
    {
     "data": {
      "text/plain": [
       "\"python's favorite food is perl\""
      ]
     },
     "execution_count": 23,
     "metadata": {},
     "output_type": "execute_result"
    }
   ],
   "source": [
    "\"python's favorite food is perl\""
   ]
  },
  {
   "cell_type": "code",
   "execution_count": 24,
   "id": "79d5a86e-09c3-4e75-a0be-6feab78aeb98",
   "metadata": {},
   "outputs": [
    {
     "data": {
      "text/plain": [
       "'\"python is very easy.\" he says.'"
      ]
     },
     "execution_count": 24,
     "metadata": {},
     "output_type": "execute_result"
    }
   ],
   "source": [
    "'\"python is very easy.\" he says.'"
   ]
  },
  {
   "cell_type": "code",
   "execution_count": 25,
   "id": "a8dd15d3-9adc-4f03-973f-9862b72c56fb",
   "metadata": {},
   "outputs": [
    {
     "data": {
      "text/plain": [
       "\"python's favorite food is perl\""
      ]
     },
     "execution_count": 25,
     "metadata": {},
     "output_type": "execute_result"
    }
   ],
   "source": [
    "'python\\'s favorite food is perl' #\\개행문자 구분-> 규칙이다."
   ]
  },
  {
   "cell_type": "code",
   "execution_count": 27,
   "id": "b878d284-0a4e-437f-8e3c-b2289b261f31",
   "metadata": {},
   "outputs": [
    {
     "data": {
      "text/plain": [
       "'life is too short You need python'"
      ]
     },
     "execution_count": 27,
     "metadata": {},
     "output_type": "execute_result"
    }
   ],
   "source": [
    "\"life is too short You need python\""
   ]
  },
  {
   "cell_type": "code",
   "execution_count": 28,
   "id": "839be72c-4377-4ea6-9bda-fcb2b940b16d",
   "metadata": {},
   "outputs": [
    {
     "data": {
      "text/plain": [
       "'life is too short \\nYou need python'"
      ]
     },
     "execution_count": 28,
     "metadata": {},
     "output_type": "execute_result"
    }
   ],
   "source": [
    "\"life is too short \\nYou need python\" # 개행문자 썼음에도 줄바꿈이 왜 안될까? 개행함수가 프린트안에 업어서이다. "
   ]
  },
  {
   "cell_type": "code",
   "execution_count": 29,
   "id": "10b32304-6e36-4064-b6ef-7f9f3cfdb6d9",
   "metadata": {},
   "outputs": [
    {
     "data": {
      "text/plain": [
       "'life is too short \\nYou need python'"
      ]
     },
     "execution_count": 29,
     "metadata": {},
     "output_type": "execute_result"
    }
   ],
   "source": [
    "multiline=\"life is too short \\nYou need python\"\n",
    "multiline"
   ]
  },
  {
   "cell_type": "code",
   "execution_count": 31,
   "id": "f9dff672-f80a-43e0-8d43-648378df07c1",
   "metadata": {},
   "outputs": [
    {
     "name": "stdout",
     "output_type": "stream",
     "text": [
      "life is too short \n",
      "You need python\n"
     ]
    }
   ],
   "source": [
    "print(multiline)"
   ]
  },
  {
   "cell_type": "code",
   "execution_count": 36,
   "id": "b84ca675-e2e3-4081-aa4f-c68b92d1d14a",
   "metadata": {},
   "outputs": [],
   "source": [
    "multiline='''\n",
    "life is too short\n",
    "you need python\n",
    "'''"
   ]
  },
  {
   "cell_type": "code",
   "execution_count": 34,
   "id": "c78ca34a-b38a-46d7-8812-6a69c9cb8b5f",
   "metadata": {},
   "outputs": [
    {
     "data": {
      "text/plain": [
       "'\\nlife is too short\\nyou need python\\n'"
      ]
     },
     "execution_count": 34,
     "metadata": {},
     "output_type": "execute_result"
    }
   ],
   "source": [
    "multiline"
   ]
  },
  {
   "cell_type": "code",
   "execution_count": 35,
   "id": "f431f3f7-1cf3-4191-ac91-45cca977d30b",
   "metadata": {},
   "outputs": [
    {
     "name": "stdout",
     "output_type": "stream",
     "text": [
      "\n",
      "life is too short\n",
      "you need python\n",
      "\n"
     ]
    }
   ],
   "source": [
    "print(multiline)"
   ]
  },
  {
   "cell_type": "markdown",
   "id": "8b17b09e-891a-4ae8-adbe-0f667a0721eb",
   "metadata": {},
   "source": [
    "## 문자열 연산하기"
   ]
  },
  {
   "cell_type": "code",
   "execution_count": 37,
   "id": "276c21eb-d1c0-4884-aa21-5fbad5b42367",
   "metadata": {},
   "outputs": [
    {
     "data": {
      "text/plain": [
       "'python is fun!'"
      ]
     },
     "execution_count": 37,
     "metadata": {},
     "output_type": "execute_result"
    }
   ],
   "source": [
    "head = \"python\"\n",
    "tail = \" is fun!\"\n",
    "head+tail"
   ]
  },
  {
   "cell_type": "code",
   "execution_count": 38,
   "id": "fa9ea9e7-1d01-419a-9355-70c1f43d6fff",
   "metadata": {},
   "outputs": [
    {
     "data": {
      "text/plain": [
       "'pythonpythonpythonpythonpython'"
      ]
     },
     "execution_count": 38,
     "metadata": {},
     "output_type": "execute_result"
    }
   ],
   "source": [
    "a= \"python\"\n",
    "a*5"
   ]
  },
  {
   "cell_type": "code",
   "execution_count": 39,
   "id": "90cc02b1-e5eb-4406-ae75-95d0f1bf2049",
   "metadata": {},
   "outputs": [
    {
     "name": "stdout",
     "output_type": "stream",
     "text": [
      "==================================================\n"
     ]
    }
   ],
   "source": [
    "print(\"=\"*50)"
   ]
  },
  {
   "cell_type": "markdown",
   "id": "d59ffa8c-c5b6-4a6b-8daa-f53506fdbc32",
   "metadata": {},
   "source": [
    "# 문자열길이"
   ]
  },
  {
   "cell_type": "code",
   "execution_count": 40,
   "id": "22366fb8-0726-41b8-8af8-a84b10ef1661",
   "metadata": {},
   "outputs": [
    {
     "data": {
      "text/plain": [
       "17"
      ]
     },
     "execution_count": 40,
     "metadata": {},
     "output_type": "execute_result"
    }
   ],
   "source": [
    "a= \"life is too short\"\n",
    "len(a)"
   ]
  },
  {
   "cell_type": "markdown",
   "id": "5b631c0c-957e-4a2e-903a-e3cbe4ec7071",
   "metadata": {},
   "source": [
    "# 문자열 인덱싱"
   ]
  },
  {
   "cell_type": "code",
   "execution_count": 41,
   "id": "41dcee21-1bdc-4b9e-80e7-7eaa2049239d",
   "metadata": {},
   "outputs": [
    {
     "data": {
      "text/plain": [
       "34"
      ]
     },
     "execution_count": 41,
     "metadata": {},
     "output_type": "execute_result"
    }
   ],
   "source": [
    "a=\"life is too short, You need python\"\n",
    "len(a)"
   ]
  },
  {
   "cell_type": "code",
   "execution_count": 42,
   "id": "5b44cc8c-0d84-4b60-858a-d1bbf86b38b9",
   "metadata": {},
   "outputs": [
    {
     "data": {
      "text/plain": [
       "'e'"
      ]
     },
     "execution_count": 42,
     "metadata": {},
     "output_type": "execute_result"
    }
   ],
   "source": [
    "a[3]"
   ]
  },
  {
   "cell_type": "code",
   "execution_count": 44,
   "id": "afce53b4-2336-4231-b941-c696f2d26099",
   "metadata": {},
   "outputs": [
    {
     "data": {
      "text/plain": [
       "'h'"
      ]
     },
     "execution_count": 44,
     "metadata": {},
     "output_type": "execute_result"
    }
   ],
   "source": [
    "a[13]"
   ]
  },
  {
   "cell_type": "code",
   "execution_count": null,
   "id": "d28d8e92-efd6-455b-98ff-7b18e0a524e3",
   "metadata": {},
   "outputs": [],
   "source": [
    "a[-1] #뒤부터는 -1이고 시작(왼쪽)은 0부터임. "
   ]
  },
  {
   "cell_type": "code",
   "execution_count": 46,
   "id": "7abf88b5-7d01-4f53-9d6f-cc5715848bf3",
   "metadata": {},
   "outputs": [
    {
     "data": {
      "text/plain": [
       "'l'"
      ]
     },
     "execution_count": 46,
     "metadata": {},
     "output_type": "execute_result"
    }
   ],
   "source": [
    "a[-0]"
   ]
  },
  {
   "cell_type": "markdown",
   "id": "f900fbb6-a0cd-4e87-a1ff-2e13f7ea4197",
   "metadata": {},
   "source": [
    "# 문자열 슬라이싱"
   ]
  },
  {
   "cell_type": "code",
   "execution_count": null,
   "id": "afd8acc5-60fb-44d9-9c7a-7f5564d48a85",
   "metadata": {},
   "outputs": [],
   "source": [
    "a=\"life is too short, You need python\""
   ]
  },
  {
   "cell_type": "code",
   "execution_count": 53,
   "id": "6c31adab-e3ab-4ceb-8204-8591cb952d0f",
   "metadata": {},
   "outputs": [
    {
     "data": {
      "text/plain": [
       "'life'"
      ]
     },
     "execution_count": 53,
     "metadata": {},
     "output_type": "execute_result"
    }
   ],
   "source": [
    "#변수명에 범위를 지정해준다. 범위지정할때 end 인덱스-1이다.\n",
    "a[0:4]"
   ]
  },
  {
   "cell_type": "code",
   "execution_count": 54,
   "id": "7e858f61-68c1-4af0-952c-6a20f0d0827c",
   "metadata": {},
   "outputs": [
    {
     "data": {
      "text/plain": [
       "'You need python'"
      ]
     },
     "execution_count": 54,
     "metadata": {},
     "output_type": "execute_result"
    }
   ],
   "source": [
    "a[19:34]"
   ]
  },
  {
   "cell_type": "code",
   "execution_count": 55,
   "id": "4e6822d3-30bc-422a-abc4-b773299473d1",
   "metadata": {},
   "outputs": [
    {
     "data": {
      "text/plain": [
       "'You need python'"
      ]
     },
     "execution_count": 55,
     "metadata": {},
     "output_type": "execute_result"
    }
   ],
   "source": [
    "a[19:]"
   ]
  },
  {
   "cell_type": "code",
   "execution_count": 57,
   "id": "b22148cc-cb49-4ce3-b5ed-9f26d333e5af",
   "metadata": {},
   "outputs": [
    {
     "data": {
      "text/plain": [
       "'You need python'"
      ]
     },
     "execution_count": 57,
     "metadata": {},
     "output_type": "execute_result"
    }
   ],
   "source": [
    "a[-15:]"
   ]
  },
  {
   "cell_type": "code",
   "execution_count": 58,
   "id": "b38c468e-c51e-4093-b236-6a02a63cba16",
   "metadata": {},
   "outputs": [
    {
     "data": {
      "text/plain": [
       "'You need'"
      ]
     },
     "execution_count": 58,
     "metadata": {},
     "output_type": "execute_result"
    }
   ],
   "source": [
    "a[19:-7]"
   ]
  },
  {
   "cell_type": "markdown",
   "id": "48a3ce32-d8ef-4d8a-970b-08c9c2e1fbb5",
   "metadata": {},
   "source": [
    "## 슬라이싱으로 문자열 나누기"
   ]
  },
  {
   "cell_type": "code",
   "execution_count": 60,
   "id": "d43bde3a-86ee-4d9a-85d9-9e69e814c659",
   "metadata": {},
   "outputs": [],
   "source": [
    "a=\"20240610Sunny\""
   ]
  },
  {
   "cell_type": "code",
   "execution_count": 65,
   "id": "6dd5080d-53cf-4fd8-870f-a3399222251e",
   "metadata": {},
   "outputs": [
    {
     "data": {
      "text/plain": [
       "('20240610', 'Sunny')"
      ]
     },
     "execution_count": 65,
     "metadata": {},
     "output_type": "execute_result"
    }
   ],
   "source": [
    "date= a[0:8]\n",
    "weather=a[-5:]\n",
    "date,weather"
   ]
  },
  {
   "cell_type": "markdown",
   "id": "c422e45e-9f95-49cf-afab-b0ab3fea4fc3",
   "metadata": {},
   "source": [
    "# 문자열 수정하기"
   ]
  },
  {
   "cell_type": "code",
   "execution_count": 67,
   "id": "97d4d380-c7a4-4736-8953-d5e67f004edf",
   "metadata": {},
   "outputs": [
    {
     "ename": "TypeError",
     "evalue": "'str' object does not support item assignment",
     "output_type": "error",
     "traceback": [
      "\u001b[1;31m---------------------------------------------------------------------------\u001b[0m",
      "\u001b[1;31mTypeError\u001b[0m                                 Traceback (most recent call last)",
      "Cell \u001b[1;32mIn[67], line 2\u001b[0m\n\u001b[0;32m      1\u001b[0m a\u001b[38;5;241m=\u001b[39m\u001b[38;5;124m\"\u001b[39m\u001b[38;5;124mpithon\u001b[39m\u001b[38;5;124m\"\u001b[39m\n\u001b[1;32m----> 2\u001b[0m a[\u001b[38;5;241m1\u001b[39m]\u001b[38;5;241m=\u001b[39m\u001b[38;5;124m'\u001b[39m\u001b[38;5;124my\u001b[39m\u001b[38;5;124m'\u001b[39m\n\u001b[0;32m      3\u001b[0m \u001b[38;5;28mprint\u001b[39m(a)\n",
      "\u001b[1;31mTypeError\u001b[0m: 'str' object does not support item assignment"
     ]
    }
   ],
   "source": [
    "a=\"pithon\"\n",
    "a[1]='y'\n",
    "print(a)"
   ]
  },
  {
   "cell_type": "code",
   "execution_count": 71,
   "id": "8c2199f3-1d44-47af-b3a3-92e7584a82ff",
   "metadata": {},
   "outputs": [
    {
     "data": {
      "text/plain": [
       "'python'"
      ]
     },
     "execution_count": 71,
     "metadata": {},
     "output_type": "execute_result"
    }
   ],
   "source": [
    "b=a[0]+'y'+a[2:]\n",
    "b"
   ]
  },
  {
   "cell_type": "markdown",
   "id": "84bf3177-6a1e-44d7-8ba5-9c23e9d3fc55",
   "metadata": {},
   "source": [
    "## 문자열 포매팅"
   ]
  },
  {
   "cell_type": "code",
   "execution_count": 74,
   "id": "fa23671d-eec0-4289-9708-c100acfc664d",
   "metadata": {},
   "outputs": [
    {
     "data": {
      "text/plain": [
       "'I eat 3 apples'"
      ]
     },
     "execution_count": 74,
     "metadata": {},
     "output_type": "execute_result"
    }
   ],
   "source": [
    "#숫자 바로 대입\n",
    "\"I eat %d apples\"%3"
   ]
  },
  {
   "cell_type": "code",
   "execution_count": 76,
   "id": "14af8781-fe4e-4140-913c-3609a4ee701c",
   "metadata": {},
   "outputs": [
    {
     "data": {
      "text/plain": [
       "'I eat five apples'"
      ]
     },
     "execution_count": 76,
     "metadata": {},
     "output_type": "execute_result"
    }
   ],
   "source": [
    "#문자열 바로 대입\n",
    "\"I eat %s apples\"%\"five\""
   ]
  },
  {
   "cell_type": "code",
   "execution_count": null,
   "id": "cd3fa62a-bdc8-4bc7-bc42-4aea19bdcef8",
   "metadata": {},
   "outputs": [],
   "source": [
    "#숫자-> 문자열로 가능 하지만 문자열은 숫자로 변경 "
   ]
  },
  {
   "cell_type": "code",
   "execution_count": 78,
   "id": "8db61286-c330-4ea0-b3b2-454a25cfcd8b",
   "metadata": {},
   "outputs": [
    {
     "ename": "TypeError",
     "evalue": "%d format: a real number is required, not str",
     "output_type": "error",
     "traceback": [
      "\u001b[1;31m---------------------------------------------------------------------------\u001b[0m",
      "\u001b[1;31mTypeError\u001b[0m                                 Traceback (most recent call last)",
      "Cell \u001b[1;32mIn[78], line 1\u001b[0m\n\u001b[1;32m----> 1\u001b[0m \u001b[38;5;124m\"\u001b[39m\u001b[38;5;124mI eat \u001b[39m\u001b[38;5;132;01m%d\u001b[39;00m\u001b[38;5;124m apples\u001b[39m\u001b[38;5;124m\"\u001b[39m\u001b[38;5;241m%\u001b[39m\u001b[38;5;124m\"\u001b[39m\u001b[38;5;124m삼\u001b[39m\u001b[38;5;124m\"\u001b[39m\n",
      "\u001b[1;31mTypeError\u001b[0m: %d format: a real number is required, not str"
     ]
    }
   ],
   "source": [
    "\"I eat %d apples\"%\"삼\""
   ]
  },
  {
   "cell_type": "code",
   "execution_count": 80,
   "id": "2a07e917-0ea6-4968-93c0-14b73dbfca48",
   "metadata": {},
   "outputs": [
    {
     "data": {
      "text/plain": [
       "'I eat 3 apples'"
      ]
     },
     "execution_count": 80,
     "metadata": {},
     "output_type": "execute_result"
    }
   ],
   "source": [
    "#숫자 값을 나타내는 변수로 대입\n",
    "num=3\n",
    "\"I eat %d apples\"%num"
   ]
  },
  {
   "cell_type": "code",
   "execution_count": 81,
   "id": "2a1813c5-2859-434f-9347-23bc5a39ff84",
   "metadata": {},
   "outputs": [
    {
     "data": {
      "text/plain": [
       "'I eat 10 apples. so i was sick for three days.'"
      ]
     },
     "execution_count": 81,
     "metadata": {},
     "output_type": "execute_result"
    }
   ],
   "source": [
    "#2개 이상 값 넣기\n",
    "num=10\n",
    "day='three'\n",
    "\"I eat %d apples. so i was sick for %s days.\"%(num,day)"
   ]
  },
  {
   "cell_type": "code",
   "execution_count": 82,
   "id": "cf7e676f-ae10-43f1-86d8-a26f99b2687b",
   "metadata": {},
   "outputs": [
    {
     "ename": "TypeError",
     "evalue": "%d format: a real number is required, not str",
     "output_type": "error",
     "traceback": [
      "\u001b[1;31m---------------------------------------------------------------------------\u001b[0m",
      "\u001b[1;31mTypeError\u001b[0m                                 Traceback (most recent call last)",
      "Cell \u001b[1;32mIn[82], line 1\u001b[0m\n\u001b[1;32m----> 1\u001b[0m \u001b[38;5;124m\"\u001b[39m\u001b[38;5;124mI eat \u001b[39m\u001b[38;5;132;01m%d\u001b[39;00m\u001b[38;5;124m apples. so i was sick for \u001b[39m\u001b[38;5;132;01m%s\u001b[39;00m\u001b[38;5;124m days.\u001b[39m\u001b[38;5;124m\"\u001b[39m\u001b[38;5;241m%\u001b[39m(day,num)\n",
      "\u001b[1;31mTypeError\u001b[0m: %d format: a real number is required, not str"
     ]
    }
   ],
   "source": [
    "\"I eat %d apples. so i was sick for %s days.\"%(day,num) # 순서 바뀜"
   ]
  },
  {
   "cell_type": "code",
   "execution_count": 83,
   "id": "4a46f354-044e-44ef-bcc9-146377aef556",
   "metadata": {},
   "outputs": [
    {
     "data": {
      "text/plain": [
       "'i have 3 apples'"
      ]
     },
     "execution_count": 83,
     "metadata": {},
     "output_type": "execute_result"
    }
   ],
   "source": [
    "\"i have %s apples\"%3"
   ]
  },
  {
   "cell_type": "code",
   "execution_count": 84,
   "id": "35c15645-c09b-4daa-992a-46bbb14b4d1c",
   "metadata": {},
   "outputs": [
    {
     "data": {
      "text/plain": [
       "'rate is 3.234'"
      ]
     },
     "execution_count": 84,
     "metadata": {},
     "output_type": "execute_result"
    }
   ],
   "source": [
    "\"rate is %s\"%3.234"
   ]
  },
  {
   "cell_type": "code",
   "execution_count": 86,
   "id": "2f42ccaa-7086-4b57-89b6-706171006a6b",
   "metadata": {},
   "outputs": [
    {
     "data": {
      "text/plain": [
       "'오늘 습도는 70% 입니다'"
      ]
     },
     "execution_count": 86,
     "metadata": {},
     "output_type": "execute_result"
    }
   ],
   "source": [
    "\"오늘 습도는 %d%% 입니다\"%70"
   ]
  },
  {
   "cell_type": "markdown",
   "id": "b01d4384-9d75-4794-8cda-a6e14db5b358",
   "metadata": {},
   "source": [
    "## 소수점 표현하기"
   ]
  },
  {
   "cell_type": "code",
   "execution_count": 87,
   "id": "3d465a23-c9b1-46f7-b8c7-ce8f7d771dc0",
   "metadata": {},
   "outputs": [
    {
     "data": {
      "text/plain": [
       "'3.14'"
      ]
     },
     "execution_count": 87,
     "metadata": {},
     "output_type": "execute_result"
    }
   ],
   "source": [
    "\"%0.2f\"%3.14159268"
   ]
  },
  {
   "cell_type": "code",
   "execution_count": 88,
   "id": "73f6bcaa-9b50-4b1f-8d59-5b444267f028",
   "metadata": {},
   "outputs": [
    {
     "data": {
      "text/plain": [
       "'3.1416'"
      ]
     },
     "execution_count": 88,
     "metadata": {},
     "output_type": "execute_result"
    }
   ],
   "source": [
    "\"%0.4f\"%3.14159268"
   ]
  },
  {
   "cell_type": "markdown",
   "id": "253bf1bc-73d4-4d15-966b-1daba45ef1b8",
   "metadata": {},
   "source": [
    "## format 함수를 사용한 포매팅"
   ]
  },
  {
   "cell_type": "code",
   "execution_count": 90,
   "id": "319bb508-8956-4916-b113-4dd53c47dd03",
   "metadata": {},
   "outputs": [
    {
     "data": {
      "text/plain": [
       "'I eat 3 apples'"
      ]
     },
     "execution_count": 90,
     "metadata": {},
     "output_type": "execute_result"
    }
   ],
   "source": [
    "\"I eat {} apples\".format(3) #.은 메서드"
   ]
  },
  {
   "cell_type": "code",
   "execution_count": 91,
   "id": "2dad9f18-aa10-493d-903e-3ce6099dbb1b",
   "metadata": {},
   "outputs": [
    {
     "data": {
      "text/plain": [
       "'I eat five apples'"
      ]
     },
     "execution_count": 91,
     "metadata": {},
     "output_type": "execute_result"
    }
   ],
   "source": [
    "\"I eat {} apples\".format('five') #메서드는 자료형 범우를 구분할 필요없음"
   ]
  },
  {
   "cell_type": "code",
   "execution_count": 93,
   "id": "b0e93394-9503-40f6-b099-af1dff030395",
   "metadata": {},
   "outputs": [
    {
     "data": {
      "text/plain": [
       "'I eat 10 apples. so i was sick for three days.'"
      ]
     },
     "execution_count": 93,
     "metadata": {},
     "output_type": "execute_result"
    }
   ],
   "source": [
    "#2개 이상 값 넣기\n",
    "num=10\n",
    "day='three'\n",
    "\"I eat {} apples. so i was sick for {} days.\".format(num,day)"
   ]
  },
  {
   "cell_type": "code",
   "execution_count": 94,
   "id": "4bc32dee-d34a-4569-bd67-b410a737f7e1",
   "metadata": {},
   "outputs": [
    {
     "data": {
      "text/plain": [
       "'I eat three apples. so i was sick for 10 days.'"
      ]
     },
     "execution_count": 94,
     "metadata": {},
     "output_type": "execute_result"
    }
   ],
   "source": [
    "\"I eat {} apples. so i was sick for {} days.\".format(day,num) #이건 메서드를 사용해서 자료형범위를 구분할 필요가 없어서 num과day가 순서가 바뀌어도 ㄱㅊ"
   ]
  },
  {
   "cell_type": "code",
   "execution_count": 95,
   "id": "232677db-98dd-462c-94d6-b51d962e4c61",
   "metadata": {},
   "outputs": [
    {
     "data": {
      "text/plain": [
       "'I eat 10 apples. so i was sick for three days.'"
      ]
     },
     "execution_count": 95,
     "metadata": {},
     "output_type": "execute_result"
    }
   ],
   "source": [
    "\"I eat {0} apples. so i was sick for {1} days.\".format(num,day)"
   ]
  },
  {
   "cell_type": "code",
   "execution_count": 98,
   "id": "aed1eac1-eee2-4c1b-b3cc-e3caeb378766",
   "metadata": {},
   "outputs": [
    {
     "data": {
      "text/plain": [
       "'I eat 10 apples. so i was sick for 3 days.'"
      ]
     },
     "execution_count": 98,
     "metadata": {},
     "output_type": "execute_result"
    }
   ],
   "source": [
    "\"I eat {num} apples. so i was sick for {day} days.\".format(num=10, day=3) # 인자, 즉 라벨을 달아둔것"
   ]
  },
  {
   "cell_type": "code",
   "execution_count": 99,
   "id": "96cfc707-b3fa-465b-87ba-4b5faba045b9",
   "metadata": {},
   "outputs": [
    {
     "data": {
      "text/plain": [
       "'I eat 10 apples. so i was sick for 3 days.'"
      ]
     },
     "execution_count": 99,
     "metadata": {},
     "output_type": "execute_result"
    }
   ],
   "source": [
    "\"I eat {num} apples. so i was sick for {day} days.\".format(day=3,num=10) #day와 num순서 바뀌어도 ㄱㅊ 인자가 지정되어있어서 인자가 알아서 찾아감"
   ]
  },
  {
   "cell_type": "markdown",
   "id": "85d78f25-bf0b-429e-88b3-694e12b21a6f",
   "metadata": {},
   "source": [
    "# 소수점 표현하기"
   ]
  },
  {
   "cell_type": "code",
   "execution_count": 100,
   "id": "ed40df31-5dde-4e7f-9a18-01388fb1a089",
   "metadata": {},
   "outputs": [
    {
     "data": {
      "text/plain": [
       "'3.4213'"
      ]
     },
     "execution_count": 100,
     "metadata": {},
     "output_type": "execute_result"
    }
   ],
   "source": [
    "y=3.4213426\n",
    "\"{0:0.4f}\".format(y)"
   ]
  },
  {
   "cell_type": "markdown",
   "id": "4fef8161-e5c7-4a09-bb46-3dc8ca200a14",
   "metadata": {},
   "source": [
    "## f문자열 포매팅(강추)"
   ]
  },
  {
   "cell_type": "code",
   "execution_count": 101,
   "id": "6bae7d9e-1a2a-4a53-bf1c-30e9bac4ede8",
   "metadata": {},
   "outputs": [
    {
     "data": {
      "text/plain": [
       "'나의 이름은 홍길동입니다. 나이는30입니다.'"
      ]
     },
     "execution_count": 101,
     "metadata": {},
     "output_type": "execute_result"
    }
   ],
   "source": [
    "name='홍길동'\n",
    "age=30\n",
    "f\"나의 이름은 {name}입니다. 나이는{age}입니다.\""
   ]
  },
  {
   "cell_type": "code",
   "execution_count": 103,
   "id": "d945c32a-3a28-47b7-bcf3-21e327208f4d",
   "metadata": {},
   "outputs": [
    {
     "data": {
      "text/plain": [
       "'나는 내년이면 31살 입니다'"
      ]
     },
     "execution_count": 103,
     "metadata": {},
     "output_type": "execute_result"
    }
   ],
   "source": [
    "f\"나는 내년이면 {age+1}살 입니다\""
   ]
  },
  {
   "cell_type": "code",
   "execution_count": 107,
   "id": "f76a964b-3747-49fc-879d-49fa6729eb64",
   "metadata": {},
   "outputs": [
    {
     "ename": "SyntaxError",
     "evalue": "unmatched '}' (2282651084.py, line 1)",
     "output_type": "error",
     "traceback": [
      "\u001b[1;36m  Cell \u001b[1;32mIn[107], line 1\u001b[1;36m\u001b[0m\n\u001b[1;33m    d'name':홍길동,'age':30}\u001b[0m\n\u001b[1;37m                        ^\u001b[0m\n\u001b[1;31mSyntaxError\u001b[0m\u001b[1;31m:\u001b[0m unmatched '}'\n"
     ]
    }
   ],
   "source": [
    "d'name':홍길동,'age':30}\n",
    "f\"나의 이름은 {d['name']} 내년이면 {d['age']}살 입니다\""
   ]
  },
  {
   "cell_type": "code",
   "execution_count": null,
   "id": "5067f021-d69a-4f84-b087-f3671c584b07",
   "metadata": {},
   "outputs": [],
   "source": []
  },
  {
   "cell_type": "code",
   "execution_count": null,
   "id": "62b25ca0-8437-4e73-af8f-80024611abaa",
   "metadata": {},
   "outputs": [],
   "source": []
  },
  {
   "cell_type": "code",
   "execution_count": null,
   "id": "daf189cc-02c5-4865-a9e2-11dc0c08ac6c",
   "metadata": {},
   "outputs": [],
   "source": []
  },
  {
   "cell_type": "code",
   "execution_count": null,
   "id": "d2ca6b15-235b-4e80-80a2-a21d59af5e80",
   "metadata": {},
   "outputs": [],
   "source": []
  },
  {
   "cell_type": "code",
   "execution_count": null,
   "id": "20ab8124-4c0c-401f-8bc3-7f13459901c2",
   "metadata": {},
   "outputs": [],
   "source": []
  },
  {
   "cell_type": "code",
   "execution_count": null,
   "id": "f7a1c33a-538a-4170-8cf2-e25f227f06f8",
   "metadata": {},
   "outputs": [],
   "source": []
  },
  {
   "cell_type": "code",
   "execution_count": null,
   "id": "2a4d9231-3196-49e4-b9fe-4928d029d661",
   "metadata": {},
   "outputs": [],
   "source": []
  },
  {
   "cell_type": "code",
   "execution_count": null,
   "id": "a0a7960d-95a6-4547-8105-089654647011",
   "metadata": {},
   "outputs": [],
   "source": []
  },
  {
   "cell_type": "code",
   "execution_count": null,
   "id": "d2fad115-21c5-44f0-9bc7-62e640efc618",
   "metadata": {},
   "outputs": [],
   "source": []
  },
  {
   "cell_type": "code",
   "execution_count": null,
   "id": "c46bd3b6-8f76-4274-bc5b-ef56f4979d6c",
   "metadata": {},
   "outputs": [],
   "source": []
  },
  {
   "cell_type": "code",
   "execution_count": null,
   "id": "27c457da-7180-49d6-805c-7ea0571df093",
   "metadata": {},
   "outputs": [],
   "source": []
  },
  {
   "cell_type": "code",
   "execution_count": null,
   "id": "45e5193f-c45c-4a61-9cc3-72d2220b5208",
   "metadata": {},
   "outputs": [],
   "source": []
  },
  {
   "cell_type": "code",
   "execution_count": null,
   "id": "2c580696-e091-45bb-9cbf-01fca545d603",
   "metadata": {},
   "outputs": [],
   "source": []
  },
  {
   "cell_type": "code",
   "execution_count": null,
   "id": "e2fb2d21-a45c-41b9-a891-4b3074fe785a",
   "metadata": {},
   "outputs": [],
   "source": []
  },
  {
   "cell_type": "code",
   "execution_count": null,
   "id": "e9e8ac6c-e237-4e59-86b6-fdbf2447f587",
   "metadata": {},
   "outputs": [],
   "source": []
  },
  {
   "cell_type": "code",
   "execution_count": null,
   "id": "7c3437f9-9ffb-4c65-af58-30c2d79e216d",
   "metadata": {},
   "outputs": [],
   "source": []
  },
  {
   "cell_type": "code",
   "execution_count": null,
   "id": "61cbc9f4-89d1-4c9a-b136-bf4e10578783",
   "metadata": {},
   "outputs": [],
   "source": []
  },
  {
   "cell_type": "code",
   "execution_count": null,
   "id": "4a81e564-ba83-444c-87a1-63397fef4700",
   "metadata": {},
   "outputs": [],
   "source": []
  },
  {
   "cell_type": "code",
   "execution_count": null,
   "id": "8db4b381-2efa-4d0a-a705-01d1919f0a1e",
   "metadata": {},
   "outputs": [],
   "source": []
  },
  {
   "cell_type": "code",
   "execution_count": null,
   "id": "7eb9a9d2-c098-4997-a7f2-666d5a69288e",
   "metadata": {},
   "outputs": [],
   "source": []
  },
  {
   "cell_type": "code",
   "execution_count": null,
   "id": "c9da87dc-e564-4a0b-b3e1-a0d42a619ec0",
   "metadata": {},
   "outputs": [],
   "source": []
  }
 ],
 "metadata": {
  "kernelspec": {
   "display_name": "Python 3 (ipykernel)",
   "language": "python",
   "name": "python3"
  },
  "language_info": {
   "codemirror_mode": {
    "name": "ipython",
    "version": 3
   },
   "file_extension": ".py",
   "mimetype": "text/x-python",
   "name": "python",
   "nbconvert_exporter": "python",
   "pygments_lexer": "ipython3",
   "version": "3.11.7"
  }
 },
 "nbformat": 4,
 "nbformat_minor": 5
}

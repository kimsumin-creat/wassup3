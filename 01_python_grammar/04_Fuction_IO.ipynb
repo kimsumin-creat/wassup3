{
 "cells": [
  {
   "cell_type": "markdown",
   "id": "036bd950-f311-4191-ae1a-e0087e19d602",
   "metadata": {},
   "source": [
    "# 함수와 입출력"
   ]
  },
  {
   "cell_type": "code",
   "execution_count": 3,
   "id": "e561a1e6-dd8a-45a7-a462-26abb8c763b1",
   "metadata": {},
   "outputs": [],
   "source": [
    "def add(a,b):\n",
    "    return a+b"
   ]
  },
  {
   "cell_type": "code",
   "execution_count": 5,
   "id": "ae3d8f4a-db44-4b79-a6f3-fe95d1f58d18",
   "metadata": {},
   "outputs": [
    {
     "data": {
      "text/plain": [
       "7"
      ]
     },
     "execution_count": 5,
     "metadata": {},
     "output_type": "execute_result"
    }
   ],
   "source": [
    "a=3 \n",
    "b=4\n",
    "add(3,4)"
   ]
  },
  {
   "cell_type": "code",
   "execution_count": 6,
   "id": "6bf9dd01-1191-4cd4-9bb6-f8c99794ca08",
   "metadata": {},
   "outputs": [
    {
     "data": {
      "text/plain": [
       "7"
      ]
     },
     "execution_count": 6,
     "metadata": {},
     "output_type": "execute_result"
    }
   ],
   "source": [
    "c=add(3,4)\n",
    "c"
   ]
  },
  {
   "cell_type": "markdown",
   "id": "bac66f3f-fa3a-405f-99a1-5797c5821016",
   "metadata": {},
   "source": [
    "## 매개변수와 인수"
   ]
  },
  {
   "cell_type": "code",
   "execution_count": null,
   "id": "2cb2f3ec-a7de-45c8-8074-d4ad7e7815f8",
   "metadata": {},
   "outputs": [],
   "source": [
    "#호출할때(프린트) 입력하는걸 인수, 함수에 넣는건 매개변수"
   ]
  },
  {
   "cell_type": "markdown",
   "id": "afe8eb34-065a-4150-89b6-b33d01e6f342",
   "metadata": {},
   "source": [
    "## 입력값과 리턴 값에 따른 함수의 형태"
   ]
  },
  {
   "cell_type": "code",
   "execution_count": 7,
   "id": "d0876db9-7090-4309-b4dc-533718672978",
   "metadata": {},
   "outputs": [],
   "source": [
    "#1)일반적인 함수\n",
    "def add(a, b): \n",
    "    result = a + b \n",
    "    return result"
   ]
  },
  {
   "cell_type": "code",
   "execution_count": 8,
   "id": "edd12f29-3283-4c11-bbf4-f66f2df7d586",
   "metadata": {},
   "outputs": [],
   "source": [
    "#2) 입력값이 없는 함수\n",
    "def say(): \n",
    "     return 'Hi' "
   ]
  },
  {
   "cell_type": "code",
   "execution_count": 9,
   "id": "050df4f6-2b92-4a0f-8f3f-97c2b75c5cd0",
   "metadata": {},
   "outputs": [
    {
     "data": {
      "text/plain": [
       "'Hi'"
      ]
     },
     "execution_count": 9,
     "metadata": {},
     "output_type": "execute_result"
    }
   ],
   "source": [
    "say()"
   ]
  },
  {
   "cell_type": "code",
   "execution_count": 11,
   "id": "0ca3afc6-7198-44a9-944e-3b0df1f6594e",
   "metadata": {},
   "outputs": [
    {
     "data": {
      "text/plain": [
       "\u001b[1;31mSignature:\u001b[0m \u001b[0mprint\u001b[0m\u001b[1;33m(\u001b[0m\u001b[1;33m*\u001b[0m\u001b[0margs\u001b[0m\u001b[1;33m,\u001b[0m \u001b[0msep\u001b[0m\u001b[1;33m=\u001b[0m\u001b[1;34m' '\u001b[0m\u001b[1;33m,\u001b[0m \u001b[0mend\u001b[0m\u001b[1;33m=\u001b[0m\u001b[1;34m'\\n'\u001b[0m\u001b[1;33m,\u001b[0m \u001b[0mfile\u001b[0m\u001b[1;33m=\u001b[0m\u001b[1;32mNone\u001b[0m\u001b[1;33m,\u001b[0m \u001b[0mflush\u001b[0m\u001b[1;33m=\u001b[0m\u001b[1;32mFalse\u001b[0m\u001b[1;33m)\u001b[0m\u001b[1;33m\u001b[0m\u001b[1;33m\u001b[0m\u001b[0m\n",
       "\u001b[1;31mDocstring:\u001b[0m\n",
       "Prints the values to a stream, or to sys.stdout by default.\n",
       "\n",
       "sep\n",
       "  string inserted between values, default a space.\n",
       "end\n",
       "  string appended after the last value, default a newline.\n",
       "file\n",
       "  a file-like object (stream); defaults to the current sys.stdout.\n",
       "flush\n",
       "  whether to forcibly flush the stream.\n",
       "\u001b[1;31mType:\u001b[0m      builtin_function_or_method"
      ]
     },
     "metadata": {},
     "output_type": "display_data"
    }
   ],
   "source": [
    "print?"
   ]
  },
  {
   "cell_type": "code",
   "execution_count": 12,
   "id": "ba0ad32f-3a43-4c9b-b18a-e5b4c94a0818",
   "metadata": {},
   "outputs": [],
   "source": [
    "# 3) 리턴값이 없는 함수\n",
    "def add(a, b): \n",
    "     print(\"%d, %d의 합은 %d입니다.\" % (a, b, a+b))"
   ]
  },
  {
   "cell_type": "code",
   "execution_count": 13,
   "id": "6fd296de-ae5d-4c9f-928d-ad7588080d68",
   "metadata": {},
   "outputs": [
    {
     "name": "stdout",
     "output_type": "stream",
     "text": [
      "3, 4의 합은 7입니다.\n"
     ]
    }
   ],
   "source": [
    "add(3,4) \n",
    "#리턴값이 없는 함수(로컬영역)를 실행했을때 \n",
    "#글로벌영역(아무것도 설정 x)이여도 함수만들면 함수만의 공간이다(독립적으로 폐쇄적인..)\n",
    "#리턴은 로컬에서 만든 변수값을 글로벌영역으로 반환하겠다.즉, 함수영역뿐아니라 어디서든 다 쓸 수 있게 글로벌.."
   ]
  },
  {
   "cell_type": "code",
   "execution_count": 14,
   "id": "3dc1ccc2-a20f-4d90-978b-437c97b82b2f",
   "metadata": {},
   "outputs": [
    {
     "name": "stdout",
     "output_type": "stream",
     "text": [
      "3, 4의 합은 7입니다.\n"
     ]
    }
   ],
   "source": [
    "c=add(3,4) #로컬"
   ]
  },
  {
   "cell_type": "code",
   "execution_count": 15,
   "id": "4599605a-036e-4f45-84f1-1792dc6ca8f4",
   "metadata": {},
   "outputs": [],
   "source": [
    "c #상단줄은 로컬에서 실행햇기때문에 현재행의 c는 글로벌이라 안된다."
   ]
  },
  {
   "cell_type": "code",
   "execution_count": 19,
   "id": "cc2c588d-1f78-40d8-901f-56cec58f701f",
   "metadata": {},
   "outputs": [],
   "source": [
    "# 매개변수를 지정하여 호출\n",
    "def sub(a, b):\n",
    "     return a - b"
   ]
  },
  {
   "cell_type": "code",
   "execution_count": 20,
   "id": "bcc71e22-4467-410c-b173-eb7765b45974",
   "metadata": {},
   "outputs": [
    {
     "data": {
      "text/plain": [
       "4"
      ]
     },
     "execution_count": 20,
     "metadata": {},
     "output_type": "execute_result"
    }
   ],
   "source": [
    "a= sub(7,3)\n",
    "a"
   ]
  },
  {
   "cell_type": "code",
   "execution_count": 22,
   "id": "a2f53ef4-0835-4fd2-8023-03ed93ac9317",
   "metadata": {},
   "outputs": [
    {
     "data": {
      "text/plain": [
       "4"
      ]
     },
     "execution_count": 22,
     "metadata": {},
     "output_type": "execute_result"
    }
   ],
   "source": [
    "sub(a=7, b=3) #같은??"
   ]
  },
  {
   "cell_type": "markdown",
   "id": "db300e30-4beb-4d83-b042-d774105d1ce7",
   "metadata": {},
   "source": [
    "## 입력값이 몇개인지 모를때 "
   ]
  },
  {
   "cell_type": "code",
   "execution_count": 30,
   "id": "ab0c1036-a955-489b-89a7-f2ed944b0923",
   "metadata": {},
   "outputs": [],
   "source": [
    " def add_many(*args): \n",
    "     result = 0 \n",
    "     for i in args: \n",
    "         result = result + i   # *args에 입력받은 모든 값을 더한다.\n",
    "     return result \n",
    "#데이터가 몇개든 받을 수 있다. -> *"
   ]
  },
  {
   "cell_type": "code",
   "execution_count": 25,
   "id": "c6f9afd8-8901-4365-9d56-15cbe31ae27a",
   "metadata": {},
   "outputs": [
    {
     "data": {
      "text/plain": [
       "15"
      ]
     },
     "execution_count": 25,
     "metadata": {},
     "output_type": "execute_result"
    }
   ],
   "source": [
    "add_many(1,2,3,4,5) "
   ]
  },
  {
   "cell_type": "code",
   "execution_count": 26,
   "id": "7d9e8dc6-efbe-47f2-9bce-88705013aa66",
   "metadata": {},
   "outputs": [
    {
     "data": {
      "text/plain": [
       "31"
      ]
     },
     "execution_count": 26,
     "metadata": {},
     "output_type": "execute_result"
    }
   ],
   "source": [
    "add_many(1,2,3,4,5,8,8)"
   ]
  },
  {
   "cell_type": "markdown",
   "id": "8e109438-af74-4d22-892f-d2705b2034b4",
   "metadata": {},
   "source": [
    "## 가변인자 *"
   ]
  },
  {
   "cell_type": "code",
   "execution_count": 31,
   "id": "534cab54-c884-468a-b4d7-279a66b5152e",
   "metadata": {},
   "outputs": [],
   "source": [
    "def add_mul(choice, *args): \n",
    "     if choice == \"add\":   # 매개변수 choice에 \"add\"를 입력받았을 때\n",
    "         result = 0 \n",
    "         for i in args: \n",
    "             result = result + i \n",
    "     elif choice == \"mul\":   # 매개변수 choice에 \"mul\"을 입력받았을 때\n",
    "         result = 1 \n",
    "         for i in args: \n",
    "             result = result * i \n",
    "     return result "
   ]
  },
  {
   "cell_type": "code",
   "execution_count": 28,
   "id": "13b1b4bd-27d2-4eba-aabb-52ce035b23c4",
   "metadata": {},
   "outputs": [
    {
     "data": {
      "text/plain": [
       "10"
      ]
     },
     "execution_count": 28,
     "metadata": {},
     "output_type": "execute_result"
    }
   ],
   "source": [
    "add_mul('add',1,2,3,4)"
   ]
  },
  {
   "cell_type": "markdown",
   "id": "66a5418e-7df8-4a29-bff5-0c860ab83e61",
   "metadata": {},
   "source": [
    "## 키워드 매개변수, **Kwargs"
   ]
  },
  {
   "cell_type": "code",
   "execution_count": 38,
   "id": "bcfb3acf-e2c9-425c-aada-7e76df3df7ab",
   "metadata": {},
   "outputs": [],
   "source": [
    "#z키와밸류인 딕셔너리를 만들어준다\n",
    "\n",
    "def print_kwargs(**kwargs):\n",
    "    print(kwargs)"
   ]
  },
  {
   "cell_type": "code",
   "execution_count": 37,
   "id": "b1bf37f4-b472-4b30-bd39-728d67daf79c",
   "metadata": {},
   "outputs": [
    {
     "name": "stdout",
     "output_type": "stream",
     "text": [
      "{'a': 1}\n"
     ]
    }
   ],
   "source": [
    "print_kwargs(a=1)"
   ]
  },
  {
   "cell_type": "code",
   "execution_count": 40,
   "id": "3bbfc618-1388-4d5f-a5ac-178a4e3cf4d6",
   "metadata": {},
   "outputs": [
    {
     "name": "stdout",
     "output_type": "stream",
     "text": [
      "{'name': 'foo', 'age': 3}\n"
     ]
    }
   ],
   "source": [
    "print_kwargs(name='foo', age=3)"
   ]
  },
  {
   "cell_type": "markdown",
   "id": "74fa13f1-6667-4d71-9d43-d80feeeb2e6a",
   "metadata": {},
   "source": [
    "## 함수의 리턴값은 언제나 하나."
   ]
  },
  {
   "cell_type": "code",
   "execution_count": 43,
   "id": "4fd288f1-a0ab-4617-9c78-1182e93c4cfd",
   "metadata": {},
   "outputs": [],
   "source": [
    "def add_and_mul(a,b): \n",
    "    return a+b, a*b"
   ]
  },
  {
   "cell_type": "code",
   "execution_count": 44,
   "id": "79efabf7-c178-4a71-8403-c2126c33004d",
   "metadata": {},
   "outputs": [
    {
     "data": {
      "text/plain": [
       "(7, 12)"
      ]
     },
     "execution_count": 44,
     "metadata": {},
     "output_type": "execute_result"
    }
   ],
   "source": [
    "a=add_and_mul(3,4)\n",
    "a"
   ]
  },
  {
   "cell_type": "code",
   "execution_count": 46,
   "id": "08a92ff5-d31a-4415-91c6-006cf43da11f",
   "metadata": {},
   "outputs": [
    {
     "data": {
      "text/plain": [
       "(2, tuple)"
      ]
     },
     "execution_count": 46,
     "metadata": {},
     "output_type": "execute_result"
    }
   ],
   "source": [
    "len(a), type(a)"
   ]
  },
  {
   "cell_type": "code",
   "execution_count": null,
   "id": "06f7cc5a-f82f-4a5b-ac59-36be377b72c8",
   "metadata": {},
   "outputs": [],
   "source": [
    "#데이터가 이동될때(로컬에서 글로벌 or 글로벌에서 로컬) 묶어준다 즉 튜플로 묶어준다.\n",
    "#다섯개중 난 두개만 값을 받고싶어 그럴때 _ 하면 필요한 변수만 받아올 수 있"
   ]
  },
  {
   "cell_type": "code",
   "execution_count": 47,
   "id": "bde74811-ac2c-45e6-8705-9789ede1c128",
   "metadata": {},
   "outputs": [
    {
     "data": {
      "text/plain": [
       "7"
      ]
     },
     "execution_count": 47,
     "metadata": {},
     "output_type": "execute_result"
    }
   ],
   "source": [
    "a, b = add_and_mul(3,4)\n",
    "a"
   ]
  },
  {
   "cell_type": "code",
   "execution_count": 48,
   "id": "1ab18733-6e09-4c4f-93b7-8a0154733987",
   "metadata": {},
   "outputs": [
    {
     "data": {
      "text/plain": [
       "12"
      ]
     },
     "execution_count": 48,
     "metadata": {},
     "output_type": "execute_result"
    }
   ],
   "source": [
    "b"
   ]
  },
  {
   "cell_type": "code",
   "execution_count": 49,
   "id": "f2215ce7-ae8f-4af0-bba7-e835ae820fbe",
   "metadata": {},
   "outputs": [],
   "source": [
    "def add_and_mul(a,b): \n",
    "     return a+b \n",
    "     return a*b "
   ]
  },
  {
   "cell_type": "code",
   "execution_count": 51,
   "id": "deacb12a-4524-4109-90b2-772ff1a89582",
   "metadata": {},
   "outputs": [
    {
     "data": {
      "text/plain": [
       "8"
      ]
     },
     "execution_count": 51,
     "metadata": {},
     "output_type": "execute_result"
    }
   ],
   "source": [
    "add_and_mul(3,5)"
   ]
  },
  {
   "cell_type": "code",
   "execution_count": null,
   "id": "63ffd8e3-292b-454b-8b12-9ebb3774b64b",
   "metadata": {},
   "outputs": [],
   "source": [
    "# return의 또 다른 쓰임새\n",
    "#break같은 느낌 = 함수 빠져나온다.\n"
   ]
  },
  {
   "cell_type": "code",
   "execution_count": 53,
   "id": "1037a56b-3b48-4096-8389-9e459cbb7d8d",
   "metadata": {},
   "outputs": [],
   "source": [
    "def say_nick(nick): \n",
    "     if nick == \"바보\": \n",
    "         return \n",
    "     print(\"나의 별명은 %s 입니다.\" % nick)"
   ]
  },
  {
   "cell_type": "code",
   "execution_count": 54,
   "id": "b70b4ed0-1243-45e1-a794-3e7d3a48366f",
   "metadata": {},
   "outputs": [
    {
     "name": "stdout",
     "output_type": "stream",
     "text": [
      "나의 별명은 야호 입니다.\n"
     ]
    }
   ],
   "source": [
    "say_nick('야호')"
   ]
  },
  {
   "cell_type": "code",
   "execution_count": 55,
   "id": "f7cda603-fc31-4474-a5f1-06ed45357118",
   "metadata": {},
   "outputs": [],
   "source": [
    "say_nick('바보')"
   ]
  },
  {
   "cell_type": "markdown",
   "id": "db23b4ac-d74c-4367-b68b-7aa59f2a9fe7",
   "metadata": {},
   "source": [
    "## 매개변수에 초깃값 미리 설정하기"
   ]
  },
  {
   "cell_type": "code",
   "execution_count": 57,
   "id": "dd6352b5-f8b8-4a27-97de-da2c14208823",
   "metadata": {},
   "outputs": [],
   "source": [
    "# default1.py\n",
    "def say_myself(name, age, man=True): #남자는 기본값으로 트루해놓음.\n",
    "    print(\"나의 이름은 %s 입니다.\" % name) \n",
    "    print(\"나이는 %d살입니다.\" % age) \n",
    "    if man: \n",
    "        print(\"남자입니다.\")\n",
    "    else: \n",
    "        print(\"여자입니다.\")"
   ]
  },
  {
   "cell_type": "code",
   "execution_count": 58,
   "id": "ec2ae076-a922-4266-9d34-143190c1be1d",
   "metadata": {},
   "outputs": [
    {
     "name": "stdout",
     "output_type": "stream",
     "text": [
      "나의 이름은 수민 입니다.\n",
      "나이는 24살입니다.\n",
      "남자입니다.\n"
     ]
    }
   ],
   "source": [
    "say_myself('수민',24)"
   ]
  },
  {
   "cell_type": "code",
   "execution_count": 59,
   "id": "ea6047b6-e613-4bef-9d23-54864efb3c6e",
   "metadata": {},
   "outputs": [
    {
     "name": "stdout",
     "output_type": "stream",
     "text": [
      "나의 이름은 수민 입니다.\n",
      "나이는 24살입니다.\n",
      "여자입니다.\n"
     ]
    }
   ],
   "source": [
    "say_myself('수민',24, man=False)"
   ]
  },
  {
   "cell_type": "code",
   "execution_count": 60,
   "id": "c63b0c37-d9c9-48d1-87a6-ff57f652e34a",
   "metadata": {},
   "outputs": [
    {
     "ename": "SyntaxError",
     "evalue": "non-default argument follows default argument (455063618.py, line 4)",
     "output_type": "error",
     "traceback": [
      "\u001b[1;36m  Cell \u001b[1;32mIn[60], line 4\u001b[1;36m\u001b[0m\n\u001b[1;33m    def say_myself(name, man=True, age):\u001b[0m\n\u001b[1;37m                                   ^\u001b[0m\n\u001b[1;31mSyntaxError\u001b[0m\u001b[1;31m:\u001b[0m non-default argument follows default argument\n"
     ]
    }
   ],
   "source": [
    "## 리턴 주의사항\n",
    "#초기값 설정할때 가장 맨뒤에 해야함.\n",
    "# default2.py\n",
    "def say_myself(name, man=True, age): \n",
    "    print(\"나의 이름은 %s 입니다.\" % name) \n",
    "    print(\"나이는 %d살입니다.\" % age) \n",
    "    if man: \n",
    "        print(\"남자입니다.\") \n",
    "    else: \n",
    "        print(\"여자입니다.\")\n"
   ]
  },
  {
   "cell_type": "markdown",
   "id": "d9d9e023-7a76-4e59-bcc6-e8bd1d7b78da",
   "metadata": {},
   "source": [
    "## 변수 효력범위"
   ]
  },
  {
   "cell_type": "code",
   "execution_count": 63,
   "id": "23e34836-9bce-489a-b611-02763edf8c12",
   "metadata": {},
   "outputs": [],
   "source": [
    "a=1\n",
    "def vartest(a):\n",
    "    a=a+1\n",
    "    print(a)"
   ]
  },
  {
   "cell_type": "code",
   "execution_count": 64,
   "id": "31b20bca-4930-4b36-8d5e-207ee1c8771c",
   "metadata": {},
   "outputs": [
    {
     "name": "stdout",
     "output_type": "stream",
     "text": [
      "2\n"
     ]
    }
   ],
   "source": [
    "vartest(a) #지역변수라 더해서2가 나오지만"
   ]
  },
  {
   "cell_type": "code",
   "execution_count": 65,
   "id": "57d6ea31-6b12-4e92-9fb7-ab70eefab41d",
   "metadata": {},
   "outputs": [
    {
     "name": "stdout",
     "output_type": "stream",
     "text": [
      "1\n"
     ]
    }
   ],
   "source": [
    "print(a) #전역변수라 전체값1이 나옴"
   ]
  },
  {
   "cell_type": "markdown",
   "id": "c439b3f2-dc72-414d-95a8-9b0f2d8bb2d9",
   "metadata": {},
   "source": [
    "## 함수안에서 함수 밖의 변수를 변경하는 방법"
   ]
  },
  {
   "cell_type": "code",
   "execution_count": 66,
   "id": "3212b86b-bb19-4eda-8cb5-f9d9a8e0bef4",
   "metadata": {},
   "outputs": [
    {
     "name": "stdout",
     "output_type": "stream",
     "text": [
      "2\n"
     ]
    }
   ],
   "source": [
    "#return\n",
    "a = 1 \n",
    "def vartest(a): \n",
    "    a = a +1 \n",
    "    return a\n",
    "\n",
    "a = vartest(a) \n",
    "print(a)"
   ]
  },
  {
   "cell_type": "code",
   "execution_count": 67,
   "id": "9522adc5-e959-42bb-92ca-2bc0c4a46183",
   "metadata": {},
   "outputs": [
    {
     "name": "stdout",
     "output_type": "stream",
     "text": [
      "2\n"
     ]
    }
   ],
   "source": [
    "#global 명령\n",
    "a = 1 \n",
    "def vartest(): \n",
    "    global a \n",
    "    a = a+1\n",
    "\n",
    "vartest() \n",
    "print(a)"
   ]
  },
  {
   "cell_type": "markdown",
   "id": "a18aac54-1132-4a54-a18f-32b180656209",
   "metadata": {},
   "source": [
    "## lambda 예약어"
   ]
  },
  {
   "cell_type": "code",
   "execution_count": 69,
   "id": "1b10d4ce-ac4f-4a1d-bc70-b991b5dac56d",
   "metadata": {},
   "outputs": [],
   "source": [
    "#일회용 함수 \n",
    "#속도가 빨라짐\n",
    "#전처리하기위해 함수가 필요해. 가공함수 전처리하면 이제 함수 안필요해 그러면 간결하게 람다예약어를 쓴다."
   ]
  },
  {
   "cell_type": "code",
   "execution_count": 70,
   "id": "92ad0e2a-6e76-40cf-b8e5-a403856c5415",
   "metadata": {},
   "outputs": [],
   "source": [
    "def add (a,b):\n",
    "    return a+b"
   ]
  },
  {
   "cell_type": "code",
   "execution_count": 72,
   "id": "0df6aed1-972e-44f2-80cc-49654ae08c83",
   "metadata": {},
   "outputs": [
    {
     "name": "stdout",
     "output_type": "stream",
     "text": [
      "7\n"
     ]
    }
   ],
   "source": [
    "add= lambda a,b: a+b\n",
    "result=add(3,4)\n",
    "print(result)"
   ]
  },
  {
   "cell_type": "markdown",
   "id": "3140f48d-6981-4a63-9ca5-8d7cbf0f2109",
   "metadata": {},
   "source": [
    "## 사용자 입출력"
   ]
  },
  {
   "cell_type": "code",
   "execution_count": null,
   "id": "25e49f99-3c16-4263-bbe7-ddb6144c36b5",
   "metadata": {},
   "outputs": [],
   "source": [
    "#항상 기획할때 입출력정하고 데이터자료형 정하기 "
   ]
  },
  {
   "cell_type": "code",
   "execution_count": 73,
   "id": "de17e381-f79b-43e6-b713-e21d654e9a39",
   "metadata": {},
   "outputs": [
    {
     "name": "stdin",
     "output_type": "stream",
     "text": [
      " a\n"
     ]
    },
    {
     "data": {
      "text/plain": [
       "'a'"
      ]
     },
     "execution_count": 73,
     "metadata": {},
     "output_type": "execute_result"
    }
   ],
   "source": [
    "# input 사용하기\n",
    "a=input()\n",
    "a"
   ]
  },
  {
   "cell_type": "code",
   "execution_count": 75,
   "id": "0f9ccc5b-b803-4a51-b91e-067b3ab866a2",
   "metadata": {},
   "outputs": [
    {
     "name": "stdin",
     "output_type": "stream",
     "text": [
      "입력:  aa\n"
     ]
    },
    {
     "data": {
      "text/plain": [
       "'aa'"
      ]
     },
     "execution_count": 75,
     "metadata": {},
     "output_type": "execute_result"
    }
   ],
   "source": [
    "# 프롬프트 사용자 입력받기\n",
    "a=input(\"입력: \")\n",
    "a"
   ]
  },
  {
   "cell_type": "code",
   "execution_count": 77,
   "id": "5633d3ce-c99a-429c-b785-8357a9c16636",
   "metadata": {},
   "outputs": [
    {
     "name": "stdout",
     "output_type": "stream",
     "text": [
      "life is too short\n"
     ]
    }
   ],
   "source": [
    "#쉼표가 띄어쓰기 역할도 한다\n",
    "print(\"life\", \"is\", \"too short\")"
   ]
  },
  {
   "cell_type": "markdown",
   "id": "36562136-c302-4949-94f4-bc63feea1b4e",
   "metadata": {},
   "source": [
    "## 파일 읽고 쓰기\n",
    "r\t읽기 모드: 파일을 읽기만 할 때 사용한다.   \r\n",
    "w\t쓰기 모드: 파일에 내용을 쓸 때 사용한다     .   \r\n",
    "a\t추가 모드: 파일의 마지막에 새로운 내용을 추가할 때 사용한다."
   ]
  },
  {
   "cell_type": "code",
   "execution_count": 78,
   "id": "2ea36b83-b911-41d4-b182-bfcc36fe4813",
   "metadata": {},
   "outputs": [],
   "source": [
    "f = open('새파일.txt','w')\n",
    "f.close()"
   ]
  },
  {
   "cell_type": "code",
   "execution_count": 81,
   "id": "50e76a40-20d2-4204-b0da-c5076d2f9cab",
   "metadata": {},
   "outputs": [],
   "source": [
    "f= open('C:\\\\workspace\\\\wassup3\\\\01_python_grammar\\\\output\\\\새파일.txt','w')\n",
    "f.close()"
   ]
  },
  {
   "cell_type": "code",
   "execution_count": 82,
   "id": "a9a76f9b-bc2b-435d-a29b-dd5fe6335d19",
   "metadata": {},
   "outputs": [],
   "source": [
    "f= open('output\\\\새파일2.txt','w') #상대경로\n",
    "f.close()"
   ]
  },
  {
   "cell_type": "code",
   "execution_count": 83,
   "id": "593ee1e0-0daa-4d6f-818c-8d26fb5d19cb",
   "metadata": {},
   "outputs": [
    {
     "data": {
      "text/plain": [
       "'C:\\\\workspace\\\\wassup3\\\\01_python_grammar'"
      ]
     },
     "execution_count": 83,
     "metadata": {},
     "output_type": "execute_result"
    }
   ],
   "source": [
    "pwd #현재경로알기"
   ]
  },
  {
   "cell_type": "code",
   "execution_count": 88,
   "id": "f01631dd-4445-4d86-842c-c254ed749a8f",
   "metadata": {},
   "outputs": [],
   "source": [
    "for i in range (1,11):\n",
    "    data=f'{i}번째 줄입니다.\\n' #상대경로로 쓴거에 글을 쓸래\n",
    "    f.write \n",
    "f.close()"
   ]
  },
  {
   "cell_type": "code",
   "execution_count": 94,
   "id": "28ab5ab1-ad5a-43aa-96a3-f61b71a842a8",
   "metadata": {},
   "outputs": [],
   "source": [
    "f= open('output\\\\새파일2.txt','w')\n",
    "for i in range(1, 11):\n",
    "    data = \"%d번째 줄입니다.\\n\" % i\n",
    "    f.write(data)\n",
    "f.close()"
   ]
  },
  {
   "cell_type": "markdown",
   "id": "5ba370ac-0c8d-4400-b608-2383202ad2b8",
   "metadata": {},
   "source": [
    "## 파일을 읽는 여러가지방법"
   ]
  },
  {
   "cell_type": "code",
   "execution_count": 89,
   "id": "87a213c2-2731-47be-95e3-7b25a68107dd",
   "metadata": {},
   "outputs": [
    {
     "name": "stdout",
     "output_type": "stream",
     "text": [
      "\n"
     ]
    }
   ],
   "source": [
    "# readline 함수\n",
    "f = open(\"output/새파일.txt\", 'r')\n",
    "line = f.readline()\n",
    "print(line)\n",
    "f.close()"
   ]
  },
  {
   "cell_type": "code",
   "execution_count": 96,
   "id": "09ba0e59-65b4-482e-a82d-169ce9b5e3fd",
   "metadata": {},
   "outputs": [
    {
     "name": "stdout",
     "output_type": "stream",
     "text": [
      "1번째 줄입니다.\n",
      "\n",
      "2번째 줄입니다.\n",
      "\n",
      "3번째 줄입니다.\n",
      "\n",
      "4번째 줄입니다.\n",
      "\n",
      "5번째 줄입니다.\n",
      "\n",
      "6번째 줄입니다.\n",
      "\n",
      "7번째 줄입니다.\n",
      "\n",
      "8번째 줄입니다.\n",
      "\n",
      "9번째 줄입니다.\n",
      "\n",
      "10번째 줄입니다.\n",
      "\n"
     ]
    }
   ],
   "source": [
    "f = open(\"output/새파일2.txt\", 'r')\n",
    "while True:\n",
    "    line = f.readline()\n",
    "    if not line: break\n",
    "    print(line)\n",
    "f.close() "
   ]
  },
  {
   "cell_type": "code",
   "execution_count": null,
   "id": "5127cb08-6f37-4cf3-b0bf-2be082e1fd2d",
   "metadata": {},
   "outputs": [],
   "source": []
  },
  {
   "cell_type": "code",
   "execution_count": 95,
   "id": "51896154-938f-4a59-9e8f-933e28e596df",
   "metadata": {},
   "outputs": [
    {
     "name": "stdout",
     "output_type": "stream",
     "text": [
      "['1번째 줄입니다.\\n', '2번째 줄입니다.\\n', '3번째 줄입니다.\\n', '4번째 줄입니다.\\n', '5번째 줄입니다.\\n', '6번째 줄입니다.\\n', '7번째 줄입니다.\\n', '8번째 줄입니다.\\n', '9번째 줄입니다.\\n', '10번째 줄입니다.\\n']\n"
     ]
    }
   ],
   "source": [
    "#리스트로 전체 불러옴 readline\n",
    "f = open(\"output/새파일2.txt\", 'r')\n",
    "lines=f.readlines()\n",
    "print(lines)\n",
    "f.close() "
   ]
  },
  {
   "cell_type": "code",
   "execution_count": 103,
   "id": "556e9a23-65bf-4f61-a3a8-a59236c8cd07",
   "metadata": {},
   "outputs": [
    {
     "ename": "UnsupportedOperation",
     "evalue": "not writable",
     "output_type": "error",
     "traceback": [
      "\u001b[1;31m---------------------------------------------------------------------------\u001b[0m",
      "\u001b[1;31mUnsupportedOperation\u001b[0m                      Traceback (most recent call last)",
      "Cell \u001b[1;32mIn[103], line 4\u001b[0m\n\u001b[0;32m      2\u001b[0m \u001b[38;5;28;01mfor\u001b[39;00m i \u001b[38;5;129;01min\u001b[39;00m \u001b[38;5;28mrange\u001b[39m(\u001b[38;5;241m1\u001b[39m, \u001b[38;5;241m11\u001b[39m):\n\u001b[0;32m      3\u001b[0m     data \u001b[38;5;241m=\u001b[39m \u001b[38;5;124m\"\u001b[39m\u001b[38;5;132;01m%d\u001b[39;00m\u001b[38;5;124m번째 줄입니다.\u001b[39m\u001b[38;5;130;01m\\n\u001b[39;00m\u001b[38;5;124m\"\u001b[39m \u001b[38;5;241m%\u001b[39m i\n\u001b[1;32m----> 4\u001b[0m     f\u001b[38;5;241m.\u001b[39mwrite(data)\n\u001b[0;32m      5\u001b[0m f\u001b[38;5;241m.\u001b[39mclose()\n",
      "\u001b[1;31mUnsupportedOperation\u001b[0m: not writable"
     ]
    }
   ],
   "source": [
    "f = open(\"output/새파일2.txt\", 'r')\n",
    "for i in range(1, 11):\n",
    "    data = \"%d번째 줄입니다.\\n\" % i\n",
    "    f.write(data)\n",
    "f.close()"
   ]
  },
  {
   "cell_type": "code",
   "execution_count": 99,
   "id": "9f2f32e0-a62d-430b-a940-03a60d2426a4",
   "metadata": {},
   "outputs": [
    {
     "name": "stdout",
     "output_type": "stream",
     "text": [
      "1번째 줄입니다.\n",
      "2번째 줄입니다.\n",
      "3번째 줄입니다.\n",
      "4번째 줄입니다.\n",
      "5번째 줄입니다.\n",
      "6번째 줄입니다.\n",
      "7번째 줄입니다.\n",
      "8번째 줄입니다.\n",
      "9번째 줄입니다.\n",
      "10번째 줄입니다.\n"
     ]
    }
   ],
   "source": [
    "f = open(\"output/새파일2.txt\", 'r')\n",
    "lines = f.readlines()\n",
    "for line in lines:\n",
    "    print(line.strip())\n",
    "f.close()"
   ]
  },
  {
   "cell_type": "code",
   "execution_count": 102,
   "id": "c0a84967-d417-4174-ba37-325bdb236972",
   "metadata": {},
   "outputs": [
    {
     "name": "stdout",
     "output_type": "stream",
     "text": [
      "10 <class 'str'>\n",
      "1번째 줄입니다.\n",
      "\n"
     ]
    }
   ],
   "source": [
    "#f.read()는 파일의 내용 전체를 문자열로 리턴\n",
    "f = open(\"output/새파일2.txt\", 'r')\n",
    "lines = f.read()\n",
    "print(len(data),type(data))\n",
    "print(data)\n",
    "f.close()"
   ]
  },
  {
   "cell_type": "code",
   "execution_count": 101,
   "id": "9e8dbd63-1374-4a76-bbe8-eee9658a06f6",
   "metadata": {},
   "outputs": [
    {
     "name": "stdout",
     "output_type": "stream",
     "text": [
      "<_io.TextIOWrapper name='output/새파일2.txt' mode='r' encoding='cp949'> <class '_io.TextIOWrapper'>\n",
      "1번째 줄입니다.\n",
      "\n",
      "2번째 줄입니다.\n",
      "\n",
      "3번째 줄입니다.\n",
      "\n",
      "4번째 줄입니다.\n",
      "\n",
      "5번째 줄입니다.\n",
      "\n",
      "6번째 줄입니다.\n",
      "\n",
      "7번째 줄입니다.\n",
      "\n",
      "8번째 줄입니다.\n",
      "\n",
      "9번째 줄입니다.\n",
      "\n",
      "10번째 줄입니다.\n",
      "\n"
     ]
    }
   ],
   "source": [
    "# 파일 객체를 for 문과 함께 사용 \n",
    "f = open(\"output/새파일2.txt\", 'r')\n",
    "print(f,type(f))\n",
    "\n",
    "for line in f:\n",
    "    print(line)\n",
    "f.close()"
   ]
  },
  {
   "cell_type": "markdown",
   "id": "26351a70-2276-4b56-bb64-49a249893172",
   "metadata": {},
   "source": [
    "## 파일에 새로운 내용 추가ㅡ`"
   ]
  },
  {
   "cell_type": "code",
   "execution_count": 104,
   "id": "f64fee3d-4f80-4130-9747-cb0ec5f2fa02",
   "metadata": {},
   "outputs": [],
   "source": [
    "f = open(\"output/새파일2.txt\", 'a')\n",
    "for i in range(11, 20):\n",
    "    data = \"%d번째 줄입니다.\\n\" % i\n",
    "    f.write(data)\n",
    "f.close()"
   ]
  },
  {
   "cell_type": "markdown",
   "id": "29c08aeb-0672-40ea-a210-7ba672b8a595",
   "metadata": {},
   "source": [
    "## with 문을 함께 사용하기- 대부분 자주쓰는 것"
   ]
  },
  {
   "cell_type": "code",
   "execution_count": null,
   "id": "031825a5-08a6-4476-908b-629f8528d7d7",
   "metadata": {},
   "outputs": [],
   "source": [
    "#with 문을 사용하면 with 블록(with 문에 속해 있는 문장)을 벗어나는 순간, 열린 파일 객체 f가 자동으로 닫힌다."
   ]
  },
  {
   "cell_type": "code",
   "execution_count": 109,
   "id": "e1decc22-8ce2-4d25-887c-3d03a1eae322",
   "metadata": {},
   "outputs": [],
   "source": [
    "f = open(\"output/새파일2.txt\", 'a')\n",
    "f = open(\"foo.txt\", 'w')\n",
    "f.write(\"Life is too short, you need python\")\n",
    "f.close()"
   ]
  },
  {
   "cell_type": "code",
   "execution_count": 111,
   "id": "0e37eccb-8160-4c37-8800-8f1c5e2e3560",
   "metadata": {},
   "outputs": [],
   "source": [
    "with open('output/foo.text','w') as f:\n",
    "    f.write(\"Life is too short, you need python\")"
   ]
  },
  {
   "cell_type": "markdown",
   "id": "a7753683-3b36-4d84-8d6c-bbce0ec99a69",
   "metadata": {},
   "source": [
    "## 인코딩 \n",
    "예전에는 암호화 방식이 다 달랐다.   \n",
    "메모장을 열면 확장자를 알 수 있다 .   \n",
    "나중에 하다가 깨지면 확장자를 UTF-8을 넣으면 보통 된다.   \n",
    "   F= open="
   ]
  },
  {
   "cell_type": "code",
   "execution_count": null,
   "id": "b6a50e13-4414-47f2-bfd8-c8db1f3283b2",
   "metadata": {},
   "outputs": [],
   "source": []
  },
  {
   "cell_type": "code",
   "execution_count": null,
   "id": "c275ffb4-dab7-4c37-9a6c-ad9708b25194",
   "metadata": {},
   "outputs": [],
   "source": []
  },
  {
   "cell_type": "code",
   "execution_count": null,
   "id": "ded2df15-e57c-4d35-96f1-b166b2d90333",
   "metadata": {},
   "outputs": [],
   "source": []
  },
  {
   "cell_type": "code",
   "execution_count": null,
   "id": "78a422f5-a5ce-4715-85a7-fe691b6c7076",
   "metadata": {},
   "outputs": [],
   "source": []
  },
  {
   "cell_type": "code",
   "execution_count": null,
   "id": "6835e4bc-85f6-4720-a5d9-544c1c1c60d5",
   "metadata": {},
   "outputs": [],
   "source": []
  },
  {
   "cell_type": "code",
   "execution_count": null,
   "id": "b7e89bd0-661b-48f5-bb6a-f5ebd71c15cd",
   "metadata": {},
   "outputs": [],
   "source": []
  },
  {
   "cell_type": "code",
   "execution_count": null,
   "id": "10e8a13c-0549-4109-92c0-d2a8c58896bd",
   "metadata": {},
   "outputs": [],
   "source": []
  },
  {
   "cell_type": "code",
   "execution_count": null,
   "id": "980dbc6f-743c-456b-a08c-7aecc0483d91",
   "metadata": {},
   "outputs": [],
   "source": []
  },
  {
   "cell_type": "code",
   "execution_count": null,
   "id": "dfa1ca11-5513-418a-94aa-0826835bee2e",
   "metadata": {},
   "outputs": [],
   "source": []
  },
  {
   "cell_type": "code",
   "execution_count": null,
   "id": "173eaa6f-4f5f-461c-8522-43a59dabfee8",
   "metadata": {},
   "outputs": [],
   "source": []
  },
  {
   "cell_type": "code",
   "execution_count": null,
   "id": "3fe21430-34d5-4f68-bac9-a513b928aabe",
   "metadata": {},
   "outputs": [],
   "source": []
  }
 ],
 "metadata": {
  "kernelspec": {
   "display_name": "Python 3 (ipykernel)",
   "language": "python",
   "name": "python3"
  },
  "language_info": {
   "codemirror_mode": {
    "name": "ipython",
    "version": 3
   },
   "file_extension": ".py",
   "mimetype": "text/x-python",
   "name": "python",
   "nbconvert_exporter": "python",
   "pygments_lexer": "ipython3",
   "version": "3.11.7"
  }
 },
 "nbformat": 4,
 "nbformat_minor": 5
}

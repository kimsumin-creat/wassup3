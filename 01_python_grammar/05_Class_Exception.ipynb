{
 "cells": [
  {
   "cell_type": "markdown",
   "id": "b98a95a7-f843-4958-88ec-98be0d86306d",
   "metadata": {},
   "source": [
    "# 클래스(Class)"
   ]
  },
  {
   "cell_type": "code",
   "execution_count": null,
   "id": "5b87bb53-4955-49e8-98e7-f5fb0416d147",
   "metadata": {},
   "outputs": [],
   "source": [
    "# 여태 대상이 1명인 프로그램만 짜온거다. "
   ]
  },
  {
   "cell_type": "code",
   "execution_count": 1,
   "id": "236126c2-e101-420a-b310-d45a2fd8fc12",
   "metadata": {},
   "outputs": [
    {
     "name": "stdout",
     "output_type": "stream",
     "text": [
      "3\n",
      "7\n"
     ]
    }
   ],
   "source": [
    "# 더하기\n",
    "# calculator.py\n",
    "result = 0\n",
    "\n",
    "def add(num):\n",
    "    global result # 로컬지역변수만 사용하는게 아니라 글로벌 result를 사용한다. \n",
    "    result += num  # 결괏값(result)에 입력값(num) 더하기\n",
    "    return result  # 결괏값 리턴\n",
    "\n",
    "print(add(3))\n",
    "print(add(4))\n"
   ]
  },
  {
   "cell_type": "code",
   "execution_count": 2,
   "id": "fce8a242-4f55-4215-92e3-73e5e4f7fe3a",
   "metadata": {},
   "outputs": [
    {
     "name": "stdout",
     "output_type": "stream",
     "text": [
      "3\n",
      "7\n",
      "3\n",
      "10\n"
     ]
    }
   ],
   "source": [
    "# calculator2.py\n",
    "result1 = 0\n",
    "result2 = 0\n",
    "\n",
    "def add1(num):  # 계산기1\n",
    "    global result1\n",
    "    result1 += num\n",
    "    return result1\n",
    "\n",
    "def add2(num):  # 계산기2\n",
    "    global result2\n",
    "    result2 += num\n",
    "    return result2\n",
    "\n",
    "print(add1(3))\n",
    "print(add1(4))\n",
    "print(add2(3))\n",
    "print(add2(7))\n"
   ]
  },
  {
   "cell_type": "code",
   "execution_count": 3,
   "id": "6a380cdd-1d30-4634-b737-c47c35480076",
   "metadata": {},
   "outputs": [
    {
     "name": "stdout",
     "output_type": "stream",
     "text": [
      "3\n",
      "7\n",
      "3\n",
      "10\n"
     ]
    }
   ],
   "source": [
    "# calculator3.py\n",
    "class Calculator: #클래스: 추상화 \n",
    "    def __init__(self):\n",
    "        self.result = 0\n",
    "\n",
    "    def add(self, num):\n",
    "        self.result += num\n",
    "        return self.result\n",
    "\n",
    "cal1 = Calculator() #인스턴스를 만들어냄 cal1은 인스턴스임. #김수\n",
    "cal2 = Calculator()\n",
    "\n",
    "print(cal1.add(3)) #인스턴스를 가지고있는 메서드를 동작\n",
    "print(cal1.add(4))\n",
    "print(cal2.add(3))\n",
    "print(cal2.add(7))\n"
   ]
  },
  {
   "cell_type": "markdown",
   "id": "b82f8334-2050-418c-80bc-cc40ef7be25e",
   "metadata": {},
   "source": [
    "## 클래스와 객체"
   ]
  },
  {
   "cell_type": "code",
   "execution_count": null,
   "id": "684a072e-3b8d-41bc-be45-b647356d5acd",
   "metadata": {},
   "outputs": [],
   "source": [
    "#과자틀= 클래스, 과자틀로 찍어낸 과자= 객체"
   ]
  },
  {
   "cell_type": "code",
   "execution_count": 4,
   "id": "9b71379f-69d1-47d2-b426-c7ca29509c4e",
   "metadata": {},
   "outputs": [],
   "source": [
    "class Cookie: #클래스는 반드시 맨앞은 대문자!!!!!!\n",
    "    pass"
   ]
  },
  {
   "cell_type": "code",
   "execution_count": 6,
   "id": "116cdbcd-f807-46e9-a7ce-9ef860fc1e89",
   "metadata": {},
   "outputs": [
    {
     "data": {
      "text/plain": [
       "__main__.Cookie"
      ]
     },
     "execution_count": 6,
     "metadata": {},
     "output_type": "execute_result"
    }
   ],
   "source": [
    "type(Cookie())"
   ]
  },
  {
   "cell_type": "code",
   "execution_count": 7,
   "id": "689690d4-f41b-4016-9632-cc83f5d318f4",
   "metadata": {},
   "outputs": [
    {
     "name": "stdout",
     "output_type": "stream",
     "text": [
      "<__main__.Cookie object at 0x000001D0BFFDA5D0> <class '__main__.Cookie'>\n"
     ]
    }
   ],
   "source": [
    "a = Cookie()\n",
    "print(a,type(a)) #<__main__.Cookie object at 0x000001D0BFFDA5D0>-> 객체(인스턴스)임. "
   ]
  },
  {
   "cell_type": "code",
   "execution_count": null,
   "id": "860a6a81-5190-4687-94b5-f92532f9e519",
   "metadata": {},
   "outputs": [],
   "source": [
    "#객체와 인스턴스 차이? \n",
    "#인스턴스: 특정 객체가 어떤 클래스의 객체인지 관계위주 (a는 쿠키라는 클래스의 인스턴스에요 처럼 관계랑 말할때 / \n",
    "#소속이 있는 객체구나)"
   ]
  },
  {
   "cell_type": "markdown",
   "id": "2919c0a2-2277-4328-819f-2e9211364c6d",
   "metadata": {},
   "source": [
    "## 사칙 연산 클래스 만들기"
   ]
  },
  {
   "cell_type": "code",
   "execution_count": 17,
   "id": "78639556-50d3-42a6-b47f-3904fcc9ccbb",
   "metadata": {},
   "outputs": [],
   "source": [
    "class Fourcal:\n",
    "    pass\n"
   ]
  },
  {
   "cell_type": "code",
   "execution_count": 18,
   "id": "89ebacf6-2f49-40d9-8ac5-746afee07cbd",
   "metadata": {},
   "outputs": [
    {
     "data": {
      "text/plain": [
       "__main__.Fourcal"
      ]
     },
     "execution_count": 18,
     "metadata": {},
     "output_type": "execute_result"
    }
   ],
   "source": [
    "a = Fourcal()\n",
    "type(a)"
   ]
  },
  {
   "cell_type": "code",
   "execution_count": 23,
   "id": "5393d3e3-58b3-4fb3-8028-1ca10bd1f209",
   "metadata": {},
   "outputs": [],
   "source": [
    "#객체에 연살할 숫자 지정\n",
    "class Fourcal:\n",
    "    def setdata(self,first,second): #메서드(function) #매개변수 #클래스는 빵틀이라 그대로 쓸수없음\n",
    "        self.first=first #메서드 수행문\n",
    "        self.second=second #메서드 수행"
   ]
  },
  {
   "cell_type": "code",
   "execution_count": 24,
   "id": "25d8c019-3bcc-432c-a2a9-454955351b06",
   "metadata": {},
   "outputs": [],
   "source": [
    "a=Fourcal()#보통 쓴는 방법 포카를 a인스턴스에 넣어줌.\n",
    "a.setdata(4,2) #a빵을 지정해줘서 앞에 안넣고 !"
   ]
  },
  {
   "cell_type": "code",
   "execution_count": null,
   "id": "6718177f-3d30-4404-8829-7b226a92872d",
   "metadata": {},
   "outputs": [],
   "source": [
    "#셀프라는 것은 해당인스턴스에 대한 좌표. 클래스안에서 대상이 수십개,수백개일지 모른다. \n",
    "#값을 입력하지않는다고해도 인스턴스가 지정되어있어서 땡겨온다"
   ]
  },
  {
   "cell_type": "code",
   "execution_count": 25,
   "id": "2ec1adc9-98a4-450a-ab14-481c705543a8",
   "metadata": {},
   "outputs": [],
   "source": [
    "# 메서드를 호춯하는 또 다른 방법\n",
    "a= Fourcal()\n",
    "Fourcal.setdata(a,4,2) #빵을 지정을 안해줘서 a를 넣어준다."
   ]
  },
  {
   "cell_type": "markdown",
   "id": "24cd7647-2212-4140-a911-c6f1d9994485",
   "metadata": {},
   "source": [
    "## setdata 메서드 수행문"
   ]
  },
  {
   "cell_type": "code",
   "execution_count": 26,
   "id": "d9abd435-61e3-48b6-8771-de1cf75e94e0",
   "metadata": {},
   "outputs": [
    {
     "data": {
      "text/plain": [
       "4"
      ]
     },
     "execution_count": 26,
     "metadata": {},
     "output_type": "execute_result"
    }
   ],
   "source": [
    "a.first"
   ]
  },
  {
   "cell_type": "code",
   "execution_count": 27,
   "id": "133b7dd1-da75-4084-8c65-332bdcc26380",
   "metadata": {},
   "outputs": [
    {
     "data": {
      "text/plain": [
       "2"
      ]
     },
     "execution_count": 27,
     "metadata": {},
     "output_type": "execute_result"
    }
   ],
   "source": [
    "a.second #객체변수 또는 속성"
   ]
  },
  {
   "cell_type": "code",
   "execution_count": 28,
   "id": "f3eb8b22-9f92-4602-966e-8b8ac82b3e96",
   "metadata": {},
   "outputs": [
    {
     "data": {
      "text/plain": [
       "<bound method Fourcal.setdata of <__main__.Fourcal object at 0x000001D0BFC0F790>>"
      ]
     },
     "execution_count": 28,
     "metadata": {},
     "output_type": "execute_result"
    }
   ],
   "source": [
    "a.setdata # "
   ]
  },
  {
   "cell_type": "code",
   "execution_count": 29,
   "id": "29f5d16e-76bb-4771-912b-820a5deda9c7",
   "metadata": {},
   "outputs": [],
   "source": [
    "a= Fourcal()\n",
    "b=Fourcal()"
   ]
  },
  {
   "cell_type": "code",
   "execution_count": 30,
   "id": "bfed2310-92b8-49e0-a4c4-e2d7d770bedb",
   "metadata": {},
   "outputs": [
    {
     "data": {
      "text/plain": [
       "4"
      ]
     },
     "execution_count": 30,
     "metadata": {},
     "output_type": "execute_result"
    }
   ],
   "source": [
    "a.setdata(4,2)\n",
    "a.first"
   ]
  },
  {
   "cell_type": "code",
   "execution_count": 32,
   "id": "b0455a7f-98e2-4db7-a12e-f10293153c77",
   "metadata": {},
   "outputs": [
    {
     "data": {
      "text/plain": [
       "3"
      ]
     },
     "execution_count": 32,
     "metadata": {},
     "output_type": "execute_result"
    }
   ],
   "source": [
    "b.setdata(3,7)\n",
    "b.first"
   ]
  },
  {
   "cell_type": "markdown",
   "id": "f12a6732-64a8-4e3d-b4e1-9c9534aeab96",
   "metadata": {},
   "source": [
    "## 더하기 기능만들기"
   ]
  },
  {
   "cell_type": "code",
   "execution_count": 61,
   "id": "1188c41c-c767-4154-a903-0c3702ee8255",
   "metadata": {},
   "outputs": [],
   "source": [
    "class Fourcal:\n",
    "    def setdata(self,first,second): #메서드(function) #매개변수 #클래스는 빵틀이라 그대로 쓸수없음\n",
    "        self.first=first #메서드 수행문 #인사팀이라고 쉽게 생\n",
    "        self.second=second\n",
    "    def add(self): #first,second는 위에서 글로벌에서 전역ㅇ로 가져오늑럴 정의했기때문에 여기선 필요업승ㅁ\n",
    "        result=self.first+self.second\n",
    "        return result\n",
    "    def minus(self):\n",
    "        result=self.first-self.second\n",
    "        return result\n",
    "    def multi(self):\n",
    "        result=self.first*self.second\n",
    "        return result\n",
    "    def div(self):\n",
    "        result=self.first/self.second\n",
    "        return result\n"
   ]
  },
  {
   "cell_type": "code",
   "execution_count": 62,
   "id": "6a77bb2f-b814-4015-8d92-273b2cdddad2",
   "metadata": {},
   "outputs": [],
   "source": [
    "a=Fourcal()\n",
    "a.setdata(4,2)"
   ]
  },
  {
   "cell_type": "code",
   "execution_count": 56,
   "id": "9b05a9c0-07c0-4011-9db5-507b0b909a8f",
   "metadata": {},
   "outputs": [
    {
     "data": {
      "text/plain": [
       "6"
      ]
     },
     "execution_count": 56,
     "metadata": {},
     "output_type": "execute_result"
    }
   ],
   "source": [
    "a.add()"
   ]
  },
  {
   "cell_type": "code",
   "execution_count": 57,
   "id": "fb5aa2a1-6480-49c7-9331-399a2ee1c04a",
   "metadata": {},
   "outputs": [
    {
     "data": {
      "text/plain": [
       "8"
      ]
     },
     "execution_count": 57,
     "metadata": {},
     "output_type": "execute_result"
    }
   ],
   "source": [
    "a.multi()"
   ]
  },
  {
   "cell_type": "code",
   "execution_count": 58,
   "id": "238f4dc0-264a-49fd-8798-bd547ce678a5",
   "metadata": {},
   "outputs": [
    {
     "data": {
      "text/plain": [
       "2.0"
      ]
     },
     "execution_count": 58,
     "metadata": {},
     "output_type": "execute_result"
    }
   ],
   "source": [
    "a.div()"
   ]
  },
  {
   "cell_type": "code",
   "execution_count": 63,
   "id": "bc002541-79a8-4d43-8f66-30e52f69f5c3",
   "metadata": {},
   "outputs": [
    {
     "data": {
      "text/plain": [
       "2"
      ]
     },
     "execution_count": 63,
     "metadata": {},
     "output_type": "execute_result"
    }
   ],
   "source": [
    "a.minus()"
   ]
  },
  {
   "cell_type": "markdown",
   "id": "a146d270-0280-421b-b8c7-8be91cd99ed6",
   "metadata": {},
   "source": [
    "## 생성자"
   ]
  },
  {
   "cell_type": "code",
   "execution_count": 67,
   "id": "618b487d-d979-4fe5-b2e9-77521a7eed9a",
   "metadata": {},
   "outputs": [],
   "source": [
    "class Fourcal1:\n",
    "    def __init__(self, first, second): #매직메서드: 안에서 사용되고 있는데 예약처럼 정해져있는 메서드(#처믐부터 초기화)\n",
    "        self.first = first\n",
    "        self.second = second\n",
    "        \n",
    "    #def setdata(self,first,second): #메서드(function) #매개변수 #클래스는 빵틀이라 그대로 쓸수없음\n",
    "    #    self.first=first #메서드 수행문 #인사팀이라고 쉽게 생\n",
    "    #    self.second=second #메서드가 실행될때만 했는데\n",
    "    #드래그+crtl+/-> 한번에 주석\n",
    "    \n",
    "    def add(self): #first,second는 위에서 글로벌에서 전역ㅇ로 가져오늑럴 정의했기때문에 여기선 필요업승ㅁ\n",
    "        result=self.first+self.second\n",
    "        return result\n",
    "    def minus(self):\n",
    "        result=self.first-self.second\n",
    "        return result\n",
    "    def multi(self):\n",
    "        result=self.first*self.second\n",
    "        return result\n",
    "    def div(self):\n",
    "        result=self.first/self.second\n",
    "        return result\n"
   ]
  },
  {
   "cell_type": "code",
   "execution_count": 69,
   "id": "db8a37d0-e317-404b-86f0-602b6cc07071",
   "metadata": {},
   "outputs": [
    {
     "data": {
      "text/plain": [
       "6"
      ]
     },
     "execution_count": 69,
     "metadata": {},
     "output_type": "execute_result"
    }
   ],
   "source": [
    "a=Fourcal1(4,2)\n",
    "a.add()"
   ]
  },
  {
   "cell_type": "code",
   "execution_count": 70,
   "id": "318f350b-f92d-400e-bfd1-2a558cd5d838",
   "metadata": {},
   "outputs": [],
   "source": [
    "a=Fourcal(4,2)"
   ]
  },
  {
   "cell_type": "code",
   "execution_count": 71,
   "id": "b9fbcfa1-e171-40d6-9a8e-bdffa2b36989",
   "metadata": {},
   "outputs": [
    {
     "data": {
      "text/plain": [
       "6"
      ]
     },
     "execution_count": 71,
     "metadata": {},
     "output_type": "execute_result"
    }
   ],
   "source": [
    "a.add()"
   ]
  },
  {
   "cell_type": "markdown",
   "id": "47d2cec3-568d-4d82-b080-4ce425a0bc8a",
   "metadata": {},
   "source": [
    "## 클래스의 상속"
   ]
  },
  {
   "cell_type": "code",
   "execution_count": 79,
   "id": "d81c091f-55bc-40ef-b5de-c7b63944d2b8",
   "metadata": {},
   "outputs": [],
   "source": [
    "class MoreFourCal(Fourcal):\n",
    "    def pow(self):\n",
    "        result=self.first**self.second\n",
    "        return result"
   ]
  },
  {
   "cell_type": "code",
   "execution_count": 82,
   "id": "059a6e94-45a5-43ed-a677-4a79606c5a1e",
   "metadata": {},
   "outputs": [
    {
     "data": {
      "text/plain": [
       "(6, 8, 2, 2.0, 16)"
      ]
     },
     "execution_count": 82,
     "metadata": {},
     "output_type": "execute_result"
    }
   ],
   "source": [
    "a=MoreFourCal(4,2)\n",
    "a.add(),a.multi(),a.minus(),a.div(),a.pow()"
   ]
  },
  {
   "cell_type": "markdown",
   "id": "926f6443-1bcd-41c5-8cb4-f5f1753550de",
   "metadata": {},
   "source": [
    "## 메서드 오버라이딩"
   ]
  },
  {
   "cell_type": "code",
   "execution_count": null,
   "id": "23eef84b-b79d-4709-9b17-4d945c74e43b",
   "metadata": {},
   "outputs": [],
   "source": [
    "#상속받은 메서드를 덮어씌우기"
   ]
  },
  {
   "cell_type": "code",
   "execution_count": 83,
   "id": "5c770c7b-1167-48a5-96a1-32e116e8e24e",
   "metadata": {},
   "outputs": [
    {
     "ename": "ZeroDivisionError",
     "evalue": "division by zero",
     "output_type": "error",
     "traceback": [
      "\u001b[1;31m---------------------------------------------------------------------------\u001b[0m",
      "\u001b[1;31mZeroDivisionError\u001b[0m                         Traceback (most recent call last)",
      "Cell \u001b[1;32mIn[83], line 2\u001b[0m\n\u001b[0;32m      1\u001b[0m a\u001b[38;5;241m=\u001b[39m Fourcal(\u001b[38;5;241m4\u001b[39m,\u001b[38;5;241m0\u001b[39m)\n\u001b[1;32m----> 2\u001b[0m a\u001b[38;5;241m.\u001b[39mdiv()\n",
      "Cell \u001b[1;32mIn[65], line 21\u001b[0m, in \u001b[0;36mFourcal.div\u001b[1;34m(self)\u001b[0m\n\u001b[0;32m     20\u001b[0m \u001b[38;5;28;01mdef\u001b[39;00m \u001b[38;5;21mdiv\u001b[39m(\u001b[38;5;28mself\u001b[39m):\n\u001b[1;32m---> 21\u001b[0m     result\u001b[38;5;241m=\u001b[39m\u001b[38;5;28mself\u001b[39m\u001b[38;5;241m.\u001b[39mfirst\u001b[38;5;241m/\u001b[39m\u001b[38;5;28mself\u001b[39m\u001b[38;5;241m.\u001b[39msecond\n\u001b[0;32m     22\u001b[0m     \u001b[38;5;28;01mreturn\u001b[39;00m result\n",
      "\u001b[1;31mZeroDivisionError\u001b[0m: division by zero"
     ]
    }
   ],
   "source": [
    "a= Fourcal(4,0)\n",
    "a.div()"
   ]
  },
  {
   "cell_type": "code",
   "execution_count": 84,
   "id": "83c513ed-17f1-4bd4-a51c-770514198b75",
   "metadata": {},
   "outputs": [],
   "source": [
    "class SafeFourCal(Fourcal):\n",
    "    def div(self):\n",
    "         if self.second == 0:  # 나누는 값이 0인 경우 0을 리턴하도록 수정\n",
    "             return 0\n",
    "         else:\n",
    "             return self.first / self.second\n"
   ]
  },
  {
   "cell_type": "code",
   "execution_count": 85,
   "id": "3ae21a1e-e706-4fc8-aee4-5845a28edf94",
   "metadata": {},
   "outputs": [
    {
     "data": {
      "text/plain": [
       "0"
      ]
     },
     "execution_count": 85,
     "metadata": {},
     "output_type": "execute_result"
    }
   ],
   "source": [
    "a=SafeFourCal(4,0)\n",
    "a.div()"
   ]
  },
  {
   "cell_type": "code",
   "execution_count": null,
   "id": "7bfe28df-3181-4864-927f-179e60fd29cf",
   "metadata": {},
   "outputs": [],
   "source": [
    "#개발자한테 테스트 해야할지 물어봐야함."
   ]
  },
  {
   "cell_type": "markdown",
   "id": "8c8b55de-a449-45c2-abf6-6b5cba7c2d2e",
   "metadata": {},
   "source": [
    "## 클래스 변수"
   ]
  },
  {
   "cell_type": "code",
   "execution_count": 87,
   "id": "ae293ec2-b4ca-4912-8c3b-7f62dc1c20de",
   "metadata": {},
   "outputs": [],
   "source": [
    "class Family:\n",
    "    lastname=\"김\""
   ]
  },
  {
   "cell_type": "code",
   "execution_count": 88,
   "id": "d63f859b-3d6a-4625-bd12-72102f9c6a4a",
   "metadata": {},
   "outputs": [
    {
     "data": {
      "text/plain": [
       "'김'"
      ]
     },
     "execution_count": 88,
     "metadata": {},
     "output_type": "execute_result"
    }
   ],
   "source": [
    "Family.lastname"
   ]
  },
  {
   "cell_type": "code",
   "execution_count": 90,
   "id": "46bce1b5-a92d-441c-96f5-f44449a4a954",
   "metadata": {},
   "outputs": [
    {
     "data": {
      "text/plain": [
       "('김', '김')"
      ]
     },
     "execution_count": 90,
     "metadata": {},
     "output_type": "execute_result"
    }
   ],
   "source": [
    "a=Family()\n",
    "b=Family()\n",
    "a.lastname,b.lastname"
   ]
  },
  {
   "cell_type": "code",
   "execution_count": 91,
   "id": "76cda6d6-9346-431f-b22c-d630ee923748",
   "metadata": {},
   "outputs": [
    {
     "data": {
      "text/plain": [
       "'박'"
      ]
     },
     "execution_count": 91,
     "metadata": {},
     "output_type": "execute_result"
    }
   ],
   "source": [
    "Family.lastname='박'\n",
    "a.lastname"
   ]
  },
  {
   "cell_type": "code",
   "execution_count": 92,
   "id": "7baac130-b050-41dd-b76d-5e52d52459e6",
   "metadata": {},
   "outputs": [
    {
     "data": {
      "text/plain": [
       "'박'"
      ]
     },
     "execution_count": 92,
     "metadata": {},
     "output_type": "execute_result"
    }
   ],
   "source": [
    "b.lastname"
   ]
  },
  {
   "cell_type": "code",
   "execution_count": 93,
   "id": "dba9c7d1-c3d9-4c5c-99f6-06c1f8da17f1",
   "metadata": {},
   "outputs": [
    {
     "data": {
      "text/plain": [
       "'최'"
      ]
     },
     "execution_count": 93,
     "metadata": {},
     "output_type": "execute_result"
    }
   ],
   "source": [
    "a.lastname='최'\n",
    "a.lastname\n"
   ]
  },
  {
   "cell_type": "code",
   "execution_count": 94,
   "id": "0eeb758b-58f0-4d59-83e7-0edaceb6574a",
   "metadata": {},
   "outputs": [
    {
     "data": {
      "text/plain": [
       "'박'"
      ]
     },
     "execution_count": 94,
     "metadata": {},
     "output_type": "execute_result"
    }
   ],
   "source": [
    "b.lastname\n",
    "#인스턴스는 클래스에 속해있고 인스턴스가 바뀌어도 클래스안에 있는 것은 안바뀜.\n",
    "#클래스 인스턴스가 바뀌면 다 바뀜"
   ]
  },
  {
   "cell_type": "markdown",
   "id": "de31972d-4461-49f1-8360-be370e2080ae",
   "metadata": {},
   "source": [
    "# 예외처리"
   ]
  },
  {
   "cell_type": "markdown",
   "id": "b41384c3-0a56-4470-a5e0-dc24f26440f5",
   "metadata": {},
   "source": [
    "## 오류는 언제 발생하는가?"
   ]
  },
  {
   "cell_type": "code",
   "execution_count": 95,
   "id": "b6219357-767f-4b19-a404-e4a882525f55",
   "metadata": {},
   "outputs": [
    {
     "ename": "FileNotFoundError",
     "evalue": "[Errno 2] No such file or directory: '없는 파일'",
     "output_type": "error",
     "traceback": [
      "\u001b[1;31m---------------------------------------------------------------------------\u001b[0m",
      "\u001b[1;31mFileNotFoundError\u001b[0m                         Traceback (most recent call last)",
      "Cell \u001b[1;32mIn[95], line 2\u001b[0m\n\u001b[0;32m      1\u001b[0m \u001b[38;5;66;03m#존재하지않는 파일을 사용하려고 시도했을때\u001b[39;00m\n\u001b[1;32m----> 2\u001b[0m f\u001b[38;5;241m=\u001b[39m\u001b[38;5;28mopen\u001b[39m(\u001b[38;5;124m'\u001b[39m\u001b[38;5;124m없는 파일\u001b[39m\u001b[38;5;124m'\u001b[39m,\u001b[38;5;124m'\u001b[39m\u001b[38;5;124mr\u001b[39m\u001b[38;5;124m'\u001b[39m)\n",
      "File \u001b[1;32m~\\anaconda3\\Lib\\site-packages\\IPython\\core\\interactiveshell.py:310\u001b[0m, in \u001b[0;36m_modified_open\u001b[1;34m(file, *args, **kwargs)\u001b[0m\n\u001b[0;32m    303\u001b[0m \u001b[38;5;28;01mif\u001b[39;00m file \u001b[38;5;129;01min\u001b[39;00m {\u001b[38;5;241m0\u001b[39m, \u001b[38;5;241m1\u001b[39m, \u001b[38;5;241m2\u001b[39m}:\n\u001b[0;32m    304\u001b[0m     \u001b[38;5;28;01mraise\u001b[39;00m \u001b[38;5;167;01mValueError\u001b[39;00m(\n\u001b[0;32m    305\u001b[0m         \u001b[38;5;124mf\u001b[39m\u001b[38;5;124m\"\u001b[39m\u001b[38;5;124mIPython won\u001b[39m\u001b[38;5;124m'\u001b[39m\u001b[38;5;124mt let you open fd=\u001b[39m\u001b[38;5;132;01m{\u001b[39;00mfile\u001b[38;5;132;01m}\u001b[39;00m\u001b[38;5;124m by default \u001b[39m\u001b[38;5;124m\"\u001b[39m\n\u001b[0;32m    306\u001b[0m         \u001b[38;5;124m\"\u001b[39m\u001b[38;5;124mas it is likely to crash IPython. If you know what you are doing, \u001b[39m\u001b[38;5;124m\"\u001b[39m\n\u001b[0;32m    307\u001b[0m         \u001b[38;5;124m\"\u001b[39m\u001b[38;5;124myou can use builtins\u001b[39m\u001b[38;5;124m'\u001b[39m\u001b[38;5;124m open.\u001b[39m\u001b[38;5;124m\"\u001b[39m\n\u001b[0;32m    308\u001b[0m     )\n\u001b[1;32m--> 310\u001b[0m \u001b[38;5;28;01mreturn\u001b[39;00m io_open(file, \u001b[38;5;241m*\u001b[39margs, \u001b[38;5;241m*\u001b[39m\u001b[38;5;241m*\u001b[39mkwargs)\n",
      "\u001b[1;31mFileNotFoundError\u001b[0m: [Errno 2] No such file or directory: '없는 파일'"
     ]
    }
   ],
   "source": [
    "#존재하지않는 파일을 사용하려고 시도했을때\n",
    "f=open('없는 파일','r')\n"
   ]
  },
  {
   "cell_type": "code",
   "execution_count": 96,
   "id": "aaba86ab-cfc8-4d7c-8eca-590bc39fe9a1",
   "metadata": {},
   "outputs": [
    {
     "ename": "IndexError",
     "evalue": "list index out of range",
     "output_type": "error",
     "traceback": [
      "\u001b[1;31m---------------------------------------------------------------------------\u001b[0m",
      "\u001b[1;31mIndexError\u001b[0m                                Traceback (most recent call last)",
      "Cell \u001b[1;32mIn[96], line 3\u001b[0m\n\u001b[0;32m      1\u001b[0m \u001b[38;5;66;03m#인덱스 요소가 없을때\u001b[39;00m\n\u001b[0;32m      2\u001b[0m a\u001b[38;5;241m=\u001b[39m[\u001b[38;5;241m1\u001b[39m,\u001b[38;5;241m2\u001b[39m,\u001b[38;5;241m3\u001b[39m]\n\u001b[1;32m----> 3\u001b[0m a[\u001b[38;5;241m3\u001b[39m]\n",
      "\u001b[1;31mIndexError\u001b[0m: list index out of range"
     ]
    }
   ],
   "source": [
    "#인덱스 요소가 없을때\n",
    "a=[1,2,3]\n",
    "a[3]"
   ]
  },
  {
   "cell_type": "markdown",
   "id": "e79995a5-9e74-42f8-9468-392062baa79b",
   "metadata": {},
   "source": [
    "## 오류 예외처리 기법"
   ]
  },
  {
   "cell_type": "code",
   "execution_count": 98,
   "id": "c3e4a967-d091-435d-8be6-883f16d556f4",
   "metadata": {},
   "outputs": [
    {
     "name": "stdout",
     "output_type": "stream",
     "text": [
      "0\n"
     ]
    }
   ],
   "source": [
    "#1) Try-except문만 쓰는 방법\n",
    "try:\n",
    "    4/0\n",
    "    f=open('없는 파일','r')\n",
    "except:\n",
    "    print(0)\n",
    "\n"
   ]
  },
  {
   "cell_type": "code",
   "execution_count": 100,
   "id": "f56d7790-ef46-4e9a-8ff0-a6de50ecc14a",
   "metadata": {},
   "outputs": [
    {
     "name": "stdout",
     "output_type": "stream",
     "text": [
      "0\n"
     ]
    }
   ],
   "source": [
    "#2) 발생 오류만 포함한 except문\n",
    "try:\n",
    "    4/0\n",
    "    f=open('없는 파일','r')\n",
    "except ZeroDivisionError:\n",
    "    print(0)"
   ]
  },
  {
   "cell_type": "code",
   "execution_count": 101,
   "id": "74e8f09e-bed9-4dfa-906c-414f3fb7f387",
   "metadata": {},
   "outputs": [
    {
     "name": "stdout",
     "output_type": "stream",
     "text": [
      "division by zero\n"
     ]
    }
   ],
   "source": [
    "#3) 발생변수와 오류 변수까지 포함한 except문\n",
    "try:\n",
    "    4/0\n",
    "    f=open('없는 파일','r')\n",
    "except ZeroDivisionError as e:\n",
    "    print(e) #에러메세지만 띄우고 실행중인거임."
   ]
  },
  {
   "cell_type": "markdown",
   "id": "18c8c63d-5511-4c4b-aef7-3a78babe324e",
   "metadata": {},
   "source": [
    "## try-finally문"
   ]
  },
  {
   "cell_type": "code",
   "execution_count": 102,
   "id": "e81d3a27-5b7c-4be0-9eb0-6b2f2ee0870a",
   "metadata": {},
   "outputs": [],
   "source": [
    "# try_finally.py\n",
    "try:\n",
    "    f = open('foo.txt', 'w')\n",
    "    # 무언가를 수행한다.\n",
    "    #무언가 수행했는데 에러가 발생. 안전장치로 있는게 try-finally\n",
    "\n",
    "finally:\n",
    "    f.close()  # 중간에 오류가 발생하더라도 무조건 실행된다."
   ]
  },
  {
   "cell_type": "markdown",
   "id": "d1e09422-c282-4978-ae50-621328f63bf8",
   "metadata": {},
   "source": [
    "## 여러개의 오류 처리하기"
   ]
  },
  {
   "cell_type": "code",
   "execution_count": 104,
   "id": "57af132f-a78f-4c9c-9c96-660f52b3ebdd",
   "metadata": {},
   "outputs": [
    {
     "name": "stdout",
     "output_type": "stream",
     "text": [
      "인덱싱 할 수 없습니다.\n"
     ]
    }
   ],
   "source": [
    "# many_error.py\n",
    "try:\n",
    "    a = [1,2]\n",
    "    print(a[3])\n",
    "    4/0\n",
    "except ZeroDivisionError:\n",
    "    print(\"0으로 나눌 수 없습니다.\")\n",
    "except IndexError:\n",
    "    print(\"인덱싱 할 수 없습니다.\")"
   ]
  },
  {
   "cell_type": "code",
   "execution_count": 105,
   "id": "15d26704-42da-47ad-a5b6-c34db0a68a31",
   "metadata": {},
   "outputs": [
    {
     "name": "stdout",
     "output_type": "stream",
     "text": [
      "list index out of range\n"
     ]
    }
   ],
   "source": [
    "try:\n",
    "    a = [1,2]\n",
    "    print(a[3])\n",
    "    4/0\n",
    "except ZeroDivisionError as e:\n",
    "    print(e)\n",
    "except IndexError as e:\n",
    "    print(e)\n",
    "\n"
   ]
  },
  {
   "cell_type": "markdown",
   "id": "4442ffce-1ddf-4b4e-bf44-1f289f0aadd2",
   "metadata": {},
   "source": [
    "## Try-else문"
   ]
  },
  {
   "cell_type": "code",
   "execution_count": null,
   "id": "68162d1d-46d0-4738-8729-131d9dcc441c",
   "metadata": {},
   "outputs": [],
   "source": [
    "#코드가 오류 안났을때 수행하는 게 else"
   ]
  },
  {
   "cell_type": "code",
   "execution_count": 108,
   "id": "7ce76a85-b4a1-40a5-a276-9a657a4f08d7",
   "metadata": {},
   "outputs": [
    {
     "name": "stdin",
     "output_type": "stream",
     "text": [
      "나이를 입력하세요:  15\n"
     ]
    },
    {
     "name": "stdout",
     "output_type": "stream",
     "text": [
      "미성년자는 출입금지입니다.\n"
     ]
    }
   ],
   "source": [
    "# try_else.py\n",
    "try:\n",
    "    age=int(input('나이를 입력하세요: '))\n",
    "except:\n",
    "    print('입력이 정확하지 않습니다.')\n",
    "else:\n",
    "    if age <= 18:\n",
    "        print('미성년자는 출입금지입니다.')\n",
    "    else:\n",
    "        print('환영합니다.')\n"
   ]
  },
  {
   "cell_type": "markdown",
   "id": "6874a808-5e91-4916-a88e-3e80bdde5b7f",
   "metadata": {},
   "source": [
    "## 오류 회피하기"
   ]
  },
  {
   "cell_type": "code",
   "execution_count": 110,
   "id": "8e396354-3af0-4198-b9f0-1090474541a8",
   "metadata": {},
   "outputs": [],
   "source": [
    "# error_pass.py\n",
    "try:\n",
    "    f = open(\"나없는파일\", 'r')\n",
    "except FileNotFoundError:\n",
    "    pass"
   ]
  },
  {
   "cell_type": "markdown",
   "id": "6042f331-bca7-42dc-b7fd-e326eeb57323",
   "metadata": {},
   "source": [
    "## 오류 일부러 발생시키기"
   ]
  },
  {
   "cell_type": "code",
   "execution_count": 111,
   "id": "5cb032b1-0717-42c3-9c5f-0bc0f99d3031",
   "metadata": {},
   "outputs": [],
   "source": [
    "# error_raise.py\n",
    "#꼭 작성해야하는 부분이 안되어있을\n",
    "class Bird:\n",
    "    def fly(self):\n",
    "        raise NotImplementedError"
   ]
  },
  {
   "cell_type": "code",
   "execution_count": 112,
   "id": "74fce357-195a-42e2-86df-4e1f6c335c9e",
   "metadata": {},
   "outputs": [
    {
     "ename": "NotImplementedError",
     "evalue": "",
     "output_type": "error",
     "traceback": [
      "\u001b[1;31m---------------------------------------------------------------------------\u001b[0m",
      "\u001b[1;31mNotImplementedError\u001b[0m                       Traceback (most recent call last)",
      "Cell \u001b[1;32mIn[112], line 4\u001b[0m\n\u001b[0;32m      2\u001b[0m     \u001b[38;5;28;01mpass\u001b[39;00m\n\u001b[0;32m      3\u001b[0m eagle \u001b[38;5;241m=\u001b[39m Eagle()\n\u001b[1;32m----> 4\u001b[0m eagle\u001b[38;5;241m.\u001b[39mfly()\n",
      "Cell \u001b[1;32mIn[111], line 4\u001b[0m, in \u001b[0;36mBird.fly\u001b[1;34m(self)\u001b[0m\n\u001b[0;32m      3\u001b[0m \u001b[38;5;28;01mdef\u001b[39;00m \u001b[38;5;21mfly\u001b[39m(\u001b[38;5;28mself\u001b[39m):\n\u001b[1;32m----> 4\u001b[0m     \u001b[38;5;28;01mraise\u001b[39;00m \u001b[38;5;167;01mNotImplementedError\u001b[39;00m\n",
      "\u001b[1;31mNotImplementedError\u001b[0m: "
     ]
    }
   ],
   "source": [
    "class Eagle(Bird):\n",
    "    pass\n",
    "eagle = Eagle()\n",
    "eagle.fly()"
   ]
  },
  {
   "cell_type": "markdown",
   "id": "5fee91a6-6f82-43c5-a618-487ad38439c8",
   "metadata": {},
   "source": [
    "## 예외 만들기"
   ]
  },
  {
   "cell_type": "code",
   "execution_count": 113,
   "id": "b75eab94-3c2d-4199-8d30-16bacd45cb75",
   "metadata": {},
   "outputs": [],
   "source": [
    "class Myerror(Exception):\n",
    "    pass"
   ]
  },
  {
   "cell_type": "code",
   "execution_count": 118,
   "id": "9f3ce541-468f-468d-9071-f24f1e27d773",
   "metadata": {},
   "outputs": [],
   "source": [
    "def say_nick(nick):\n",
    "    if nick == '바보':\n",
    "        raise Myerror()\n",
    "    print(nick)"
   ]
  },
  {
   "cell_type": "code",
   "execution_count": 119,
   "id": "80745bfd-ef8d-4c8d-a1ca-95ab75f2be30",
   "metadata": {},
   "outputs": [
    {
     "name": "stdout",
     "output_type": "stream",
     "text": [
      "천사\n"
     ]
    }
   ],
   "source": [
    "say_nick(\"천사\")"
   ]
  },
  {
   "cell_type": "code",
   "execution_count": 120,
   "id": "d1d5c13f-b35c-47c8-9d96-086f569f8b43",
   "metadata": {},
   "outputs": [
    {
     "ename": "Myerror",
     "evalue": "",
     "output_type": "error",
     "traceback": [
      "\u001b[1;31m---------------------------------------------------------------------------\u001b[0m",
      "\u001b[1;31mMyerror\u001b[0m                                   Traceback (most recent call last)",
      "Cell \u001b[1;32mIn[120], line 1\u001b[0m\n\u001b[1;32m----> 1\u001b[0m say_nick(\u001b[38;5;124m\"\u001b[39m\u001b[38;5;124m바보\u001b[39m\u001b[38;5;124m\"\u001b[39m)\n",
      "Cell \u001b[1;32mIn[118], line 3\u001b[0m, in \u001b[0;36msay_nick\u001b[1;34m(nick)\u001b[0m\n\u001b[0;32m      1\u001b[0m \u001b[38;5;28;01mdef\u001b[39;00m \u001b[38;5;21msay_nick\u001b[39m(nick):\n\u001b[0;32m      2\u001b[0m     \u001b[38;5;28;01mif\u001b[39;00m nick \u001b[38;5;241m==\u001b[39m \u001b[38;5;124m'\u001b[39m\u001b[38;5;124m바보\u001b[39m\u001b[38;5;124m'\u001b[39m:\n\u001b[1;32m----> 3\u001b[0m         \u001b[38;5;28;01mraise\u001b[39;00m Myerror()\n\u001b[0;32m      4\u001b[0m     \u001b[38;5;28mprint\u001b[39m(nick)\n",
      "\u001b[1;31mMyerror\u001b[0m: "
     ]
    }
   ],
   "source": [
    "say_nick(\"바보\")"
   ]
  },
  {
   "cell_type": "code",
   "execution_count": 122,
   "id": "af0a2456-b34b-419d-a2e8-7ab5f73aecf7",
   "metadata": {},
   "outputs": [
    {
     "name": "stdout",
     "output_type": "stream",
     "text": [
      "천사\n",
      "허용되지 않는 별명입니다.\n"
     ]
    }
   ],
   "source": [
    "try:\n",
    "    say_nick(\"천사\")\n",
    "    say_nick(\"바보\")\n",
    "except Myerror:\n",
    "    print(\"허용되지 않는 별명입니다.\")\n",
    "    "
   ]
  },
  {
   "cell_type": "code",
   "execution_count": 123,
   "id": "a5601bfc-a381-4d1d-87a6-50cb62757a07",
   "metadata": {},
   "outputs": [
    {
     "name": "stdout",
     "output_type": "stream",
     "text": [
      "천사\n",
      "허용되지 않는 별명입니다.\n"
     ]
    }
   ],
   "source": [
    "try:\n",
    "    say_nick(\"천사\")\n",
    "    say_nick(\"바보\")\n",
    "except Myerror as e:\n",
    "    print(\"허용되지 않는 별명입니다.\")\n",
    "    "
   ]
  },
  {
   "cell_type": "markdown",
   "id": "fd6e6c75-df82-4f90-974a-663fb91631aa",
   "metadata": {},
   "source": [
    "# 전화번호부 프로그램의 예외처리를 해보자\n",
    "-> 사용법을 알려주지말고 해보기 정상동작을 달성하게끔 예외를 처리해보세요\n",
    "누군가는 숫자쓸수도 누군가는 띄어쓰기해서 오류 "
   ]
  },
  {
   "cell_type": "code",
   "execution_count": null,
   "id": "ac06316f-3d52-4de3-baf9-baeefdadc147",
   "metadata": {},
   "outputs": [],
   "source": []
  },
  {
   "cell_type": "code",
   "execution_count": null,
   "id": "77788e9e-b4ef-4038-bd92-17b6d910b292",
   "metadata": {},
   "outputs": [],
   "source": []
  },
  {
   "cell_type": "code",
   "execution_count": null,
   "id": "ece44a64-3cec-4683-a0c3-768742978a6b",
   "metadata": {},
   "outputs": [],
   "source": []
  },
  {
   "cell_type": "code",
   "execution_count": null,
   "id": "dc363b80-bc75-4e5f-b9b9-0f990ba0aaa1",
   "metadata": {},
   "outputs": [],
   "source": []
  },
  {
   "cell_type": "code",
   "execution_count": null,
   "id": "8561eca5-2d5b-4af0-843d-4c131538a95f",
   "metadata": {},
   "outputs": [],
   "source": []
  },
  {
   "cell_type": "code",
   "execution_count": null,
   "id": "c2bce308-e492-4bcf-ad6a-5f92a38ebc31",
   "metadata": {},
   "outputs": [],
   "source": []
  },
  {
   "cell_type": "code",
   "execution_count": null,
   "id": "498f3210-e6ce-452b-a658-1db6a2f5c42c",
   "metadata": {},
   "outputs": [],
   "source": []
  },
  {
   "cell_type": "code",
   "execution_count": null,
   "id": "cd50291d-e15e-4549-a17a-4cd61469e4d4",
   "metadata": {},
   "outputs": [],
   "source": []
  },
  {
   "cell_type": "code",
   "execution_count": null,
   "id": "b6167781-9abd-4026-9b64-b39dc9f37066",
   "metadata": {},
   "outputs": [],
   "source": []
  },
  {
   "cell_type": "code",
   "execution_count": null,
   "id": "80486d42-a8d0-40a7-b632-644a750963ef",
   "metadata": {},
   "outputs": [],
   "source": []
  },
  {
   "cell_type": "code",
   "execution_count": null,
   "id": "6b3715f1-db6f-47e6-b796-aade0d9456bf",
   "metadata": {},
   "outputs": [],
   "source": []
  },
  {
   "cell_type": "code",
   "execution_count": null,
   "id": "07fe013d-2625-4fa6-b8df-db33090a0faf",
   "metadata": {},
   "outputs": [],
   "source": []
  },
  {
   "cell_type": "code",
   "execution_count": null,
   "id": "6191ac18-0df2-4f85-bf3f-7ecf9f5efecd",
   "metadata": {},
   "outputs": [],
   "source": []
  },
  {
   "cell_type": "code",
   "execution_count": null,
   "id": "5481aeb3-881e-4839-8bf9-7b53bc45c0e1",
   "metadata": {},
   "outputs": [],
   "source": []
  },
  {
   "cell_type": "code",
   "execution_count": null,
   "id": "ea35467b-04ad-477f-8f12-ad71f93ac98e",
   "metadata": {},
   "outputs": [],
   "source": []
  },
  {
   "cell_type": "code",
   "execution_count": null,
   "id": "0734042f-bf1d-4bf9-8a4f-d9c35332c7d8",
   "metadata": {},
   "outputs": [],
   "source": []
  },
  {
   "cell_type": "code",
   "execution_count": null,
   "id": "b3787104-7e05-465d-9343-d833dedeaad8",
   "metadata": {},
   "outputs": [],
   "source": []
  },
  {
   "cell_type": "code",
   "execution_count": null,
   "id": "3fa46d58-aa38-4e79-a304-d0a1c25cce20",
   "metadata": {},
   "outputs": [],
   "source": []
  },
  {
   "cell_type": "code",
   "execution_count": null,
   "id": "ab8248b8-df3c-4bf6-996d-f4aa657c2590",
   "metadata": {},
   "outputs": [],
   "source": []
  },
  {
   "cell_type": "code",
   "execution_count": null,
   "id": "6399ff0e-b2a5-4dc3-b69b-e5a9f2fcd885",
   "metadata": {},
   "outputs": [],
   "source": []
  },
  {
   "cell_type": "code",
   "execution_count": null,
   "id": "0dfb714b-3983-49b9-b751-ac98748e68d6",
   "metadata": {},
   "outputs": [],
   "source": []
  },
  {
   "cell_type": "code",
   "execution_count": null,
   "id": "901b62cf-b1fb-46ea-a5e4-a2f5162b5ed5",
   "metadata": {},
   "outputs": [],
   "source": []
  },
  {
   "cell_type": "code",
   "execution_count": null,
   "id": "c6ccec42-1857-4291-b18a-746379d9d0a0",
   "metadata": {},
   "outputs": [],
   "source": []
  },
  {
   "cell_type": "code",
   "execution_count": null,
   "id": "6fe4af0c-9f54-4f03-bd7c-b7c266ecf164",
   "metadata": {},
   "outputs": [],
   "source": []
  },
  {
   "cell_type": "code",
   "execution_count": null,
   "id": "1fe5aa69-250b-4d21-b0fb-662c7f131d72",
   "metadata": {},
   "outputs": [],
   "source": []
  },
  {
   "cell_type": "code",
   "execution_count": null,
   "id": "f9d23d27-ea8c-43e7-b00f-69debdd34e9f",
   "metadata": {},
   "outputs": [],
   "source": []
  },
  {
   "cell_type": "code",
   "execution_count": null,
   "id": "f4f64ea3-1ddb-4ba6-bb9d-3e3472901cea",
   "metadata": {},
   "outputs": [],
   "source": []
  },
  {
   "cell_type": "code",
   "execution_count": null,
   "id": "1e0ec537-e56e-4d5f-9ddd-fc5bccd96c7e",
   "metadata": {},
   "outputs": [],
   "source": []
  },
  {
   "cell_type": "code",
   "execution_count": null,
   "id": "0e2ec79f-2ba1-4849-beff-8ebbb00bb1bc",
   "metadata": {},
   "outputs": [],
   "source": []
  },
  {
   "cell_type": "code",
   "execution_count": null,
   "id": "361a21df-7449-488b-8aec-8aef5beddbff",
   "metadata": {},
   "outputs": [],
   "source": []
  },
  {
   "cell_type": "code",
   "execution_count": null,
   "id": "2839e32d-5b02-4890-9d5c-7bb6410760de",
   "metadata": {},
   "outputs": [],
   "source": []
  },
  {
   "cell_type": "code",
   "execution_count": null,
   "id": "cd5c5576-f3ae-43b5-84c9-dc9e9024a684",
   "metadata": {},
   "outputs": [],
   "source": []
  },
  {
   "cell_type": "code",
   "execution_count": null,
   "id": "f624ef53-3d5b-4f0d-bc84-8b82124a8eb7",
   "metadata": {},
   "outputs": [],
   "source": []
  },
  {
   "cell_type": "code",
   "execution_count": null,
   "id": "f783fa93-fb0e-442a-965b-492c0545c1e7",
   "metadata": {},
   "outputs": [],
   "source": []
  },
  {
   "cell_type": "code",
   "execution_count": null,
   "id": "0c430671-30e4-483e-bbca-8b42178047dc",
   "metadata": {},
   "outputs": [],
   "source": []
  },
  {
   "cell_type": "code",
   "execution_count": null,
   "id": "648185c6-9496-47cc-a618-e999567703b7",
   "metadata": {},
   "outputs": [],
   "source": []
  },
  {
   "cell_type": "code",
   "execution_count": null,
   "id": "c4288651-39c1-4969-900c-1392f639d4a3",
   "metadata": {},
   "outputs": [],
   "source": []
  },
  {
   "cell_type": "code",
   "execution_count": null,
   "id": "54c7c4bb-5b2b-4433-9f77-5df8868e3199",
   "metadata": {},
   "outputs": [],
   "source": []
  },
  {
   "cell_type": "code",
   "execution_count": null,
   "id": "69e10b64-04ee-42ab-95d8-dc2391ba24bd",
   "metadata": {},
   "outputs": [],
   "source": []
  },
  {
   "cell_type": "code",
   "execution_count": null,
   "id": "185f9cff-c7c3-4ef7-979f-7b40194a6b76",
   "metadata": {},
   "outputs": [],
   "source": []
  },
  {
   "cell_type": "code",
   "execution_count": null,
   "id": "7dc3d907-40f6-43cf-b1fe-63b061621f19",
   "metadata": {},
   "outputs": [],
   "source": []
  },
  {
   "cell_type": "code",
   "execution_count": null,
   "id": "ce15ab16-5853-4e2f-8269-369a5bc1013f",
   "metadata": {},
   "outputs": [],
   "source": []
  },
  {
   "cell_type": "code",
   "execution_count": null,
   "id": "9f00a900-4e1c-4045-8856-11fe9b4a2b88",
   "metadata": {},
   "outputs": [],
   "source": []
  },
  {
   "cell_type": "code",
   "execution_count": null,
   "id": "4a455d9a-957a-462a-81a8-8b7af15c0456",
   "metadata": {},
   "outputs": [],
   "source": []
  },
  {
   "cell_type": "code",
   "execution_count": null,
   "id": "dd27de78-db19-4e49-b8f1-03fb7d7cb69c",
   "metadata": {},
   "outputs": [],
   "source": []
  },
  {
   "cell_type": "code",
   "execution_count": null,
   "id": "1416260d-9c28-4014-9e49-aeb795829c6c",
   "metadata": {},
   "outputs": [],
   "source": []
  },
  {
   "cell_type": "code",
   "execution_count": null,
   "id": "defa61ec-f077-4aeb-9a6d-66d1d43215cf",
   "metadata": {},
   "outputs": [],
   "source": []
  },
  {
   "cell_type": "code",
   "execution_count": null,
   "id": "368bada1-1063-45bb-af55-49014f900a71",
   "metadata": {},
   "outputs": [],
   "source": []
  },
  {
   "cell_type": "code",
   "execution_count": null,
   "id": "284e8485-39e9-4977-8644-ad7658419d58",
   "metadata": {},
   "outputs": [],
   "source": []
  },
  {
   "cell_type": "code",
   "execution_count": null,
   "id": "b6351f3d-e9d6-4b87-b86c-20ee65734220",
   "metadata": {},
   "outputs": [],
   "source": []
  },
  {
   "cell_type": "code",
   "execution_count": null,
   "id": "0b74cf7c-bb08-4833-9c88-2aa601a24148",
   "metadata": {},
   "outputs": [],
   "source": []
  },
  {
   "cell_type": "code",
   "execution_count": null,
   "id": "ea53f7e6-e4dc-49e2-ac10-0d153411610d",
   "metadata": {},
   "outputs": [],
   "source": []
  },
  {
   "cell_type": "code",
   "execution_count": null,
   "id": "d8eefac4-479c-4547-ab6f-b83b59bcb204",
   "metadata": {},
   "outputs": [],
   "source": []
  },
  {
   "cell_type": "code",
   "execution_count": null,
   "id": "f0608aa8-9934-4bbb-a321-aebf48f8adc0",
   "metadata": {},
   "outputs": [],
   "source": []
  },
  {
   "cell_type": "code",
   "execution_count": null,
   "id": "99978b67-7c3f-4cf1-89a5-50f8bd12a75b",
   "metadata": {},
   "outputs": [],
   "source": []
  },
  {
   "cell_type": "code",
   "execution_count": null,
   "id": "1b885c86-514b-455a-9f4a-b6606abbd99e",
   "metadata": {},
   "outputs": [],
   "source": []
  },
  {
   "cell_type": "code",
   "execution_count": null,
   "id": "9e5ca139-9ec3-4bde-9895-e3aa232220cd",
   "metadata": {},
   "outputs": [],
   "source": []
  }
 ],
 "metadata": {
  "kernelspec": {
   "display_name": "Python 3 (ipykernel)",
   "language": "python",
   "name": "python3"
  },
  "language_info": {
   "codemirror_mode": {
    "name": "ipython",
    "version": 3
   },
   "file_extension": ".py",
   "mimetype": "text/x-python",
   "name": "python",
   "nbconvert_exporter": "python",
   "pygments_lexer": "ipython3",
   "version": "3.11.7"
  }
 },
 "nbformat": 4,
 "nbformat_minor": 5
}

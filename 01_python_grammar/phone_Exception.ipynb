{
 "cells": [
  {
   "cell_type": "code",
   "execution_count": null,
   "id": "d1d30db5-e889-45b7-9276-d3907095a60c",
   "metadata": {},
   "outputs": [],
   "source": [
    "# 전화번호부 프로그램의 예외처리를 해보자\n",
    "-> 사용법을 알려주지말고 해보기 정상동작을 달성하게끔 예외를 처리해보세요\n",
    "누군가는 숫자쓸수도 누군가는 띄어쓰기해서 오류"
   ]
  },
  {
   "cell_type": "code",
   "execution_count": 12,
   "id": "3bf3e9ec-2e55-4820-8e25-914c55a63e83",
   "metadata": {},
   "outputs": [
    {
     "name": "stdout",
     "output_type": "stream",
     "text": [
      "-----전화번호부 프로그램-----\n",
      "1.추가   2.보기   3.검색   4.수정   5.삭제   9.종료\n"
     ]
    },
    {
     "name": "stdin",
     "output_type": "stream",
     "text": [
      "메뉴를 선택해주세요.(숫자only):     \n"
     ]
    },
    {
     "name": "stdout",
     "output_type": "stream",
     "text": [
      "잘못된 입력입니다. 숫자로만 입력하세요\n",
      "-----전화번호부 프로그램-----\n",
      "1.추가   2.보기   3.검색   4.수정   5.삭제   9.종료\n"
     ]
    },
    {
     "name": "stdin",
     "output_type": "stream",
     "text": [
      "메뉴를 선택해주세요.(숫자only):  df\n"
     ]
    },
    {
     "name": "stdout",
     "output_type": "stream",
     "text": [
      "잘못된 입력입니다. 숫자로만 입력하세요\n",
      "-----전화번호부 프로그램-----\n",
      "1.추가   2.보기   3.검색   4.수정   5.삭제   9.종료\n"
     ]
    },
    {
     "name": "stdin",
     "output_type": "stream",
     "text": [
      "메뉴를 선택해주세요.(숫자only):  55\\\n"
     ]
    },
    {
     "name": "stdout",
     "output_type": "stream",
     "text": [
      "잘못된 입력입니다. 숫자로만 입력하세요\n",
      "-----전화번호부 프로그램-----\n",
      "1.추가   2.보기   3.검색   4.수정   5.삭제   9.종료\n"
     ]
    },
    {
     "name": "stdin",
     "output_type": "stream",
     "text": [
      "메뉴를 선택해주세요.(숫자only):  nh\n"
     ]
    },
    {
     "name": "stdout",
     "output_type": "stream",
     "text": [
      "잘못된 입력입니다. 숫자로만 입력하세요\n",
      "-----전화번호부 프로그램-----\n",
      "1.추가   2.보기   3.검색   4.수정   5.삭제   9.종료\n"
     ]
    },
    {
     "name": "stdin",
     "output_type": "stream",
     "text": [
      "메뉴를 선택해주세요.(숫자only):  777\n"
     ]
    },
    {
     "name": "stdout",
     "output_type": "stream",
     "text": [
      "-----전화번호부 프로그램-----\n",
      "1.추가   2.보기   3.검색   4.수정   5.삭제   9.종료\n"
     ]
    },
    {
     "name": "stdin",
     "output_type": "stream",
     "text": [
      "메뉴를 선택해주세요.(숫자only):  77777\n"
     ]
    },
    {
     "name": "stdout",
     "output_type": "stream",
     "text": [
      "-----전화번호부 프로그램-----\n",
      "1.추가   2.보기   3.검색   4.수정   5.삭제   9.종료\n"
     ]
    },
    {
     "name": "stdin",
     "output_type": "stream",
     "text": [
      "메뉴를 선택해주세요.(숫자only):  777777\n"
     ]
    },
    {
     "name": "stdout",
     "output_type": "stream",
     "text": [
      "-----전화번호부 프로그램-----\n",
      "1.추가   2.보기   3.검색   4.수정   5.삭제   9.종료\n"
     ]
    },
    {
     "name": "stdin",
     "output_type": "stream",
     "text": [
      "메뉴를 선택해주세요.(숫자only):  77777\n"
     ]
    },
    {
     "name": "stdout",
     "output_type": "stream",
     "text": [
      "-----전화번호부 프로그램-----\n",
      "1.추가   2.보기   3.검색   4.수정   5.삭제   9.종료\n"
     ]
    },
    {
     "name": "stdin",
     "output_type": "stream",
     "text": [
      "메뉴를 선택해주세요.(숫자only):  77\n"
     ]
    },
    {
     "name": "stdout",
     "output_type": "stream",
     "text": [
      "-----전화번호부 프로그램-----\n",
      "1.추가   2.보기   3.검색   4.수정   5.삭제   9.종료\n"
     ]
    },
    {
     "name": "stdin",
     "output_type": "stream",
     "text": [
      "메뉴를 선택해주세요.(숫자only):  7\n"
     ]
    },
    {
     "name": "stdout",
     "output_type": "stream",
     "text": [
      "-----전화번호부 프로그램-----\n",
      "1.추가   2.보기   3.검색   4.수정   5.삭제   9.종료\n"
     ]
    },
    {
     "name": "stdin",
     "output_type": "stream",
     "text": [
      "메뉴를 선택해주세요.(숫자only):  9\n"
     ]
    },
    {
     "name": "stdout",
     "output_type": "stream",
     "text": [
      "연락처를 종료합니다.\n"
     ]
    }
   ],
   "source": [
    "contact = {}\n",
    "while True:\n",
    "        try:\n",
    "            print('-----전화번호부 프로그램-----')\n",
    "            print('1.추가   2.보기   3.검색   4.수정   5.삭제   9.종료')\n",
    "            menu = int(input('메뉴를 선택해주세요.(숫자only): ' ))\n",
    "\n",
    "            if menu == 1:\n",
    "                print('연락처를 추가합니다.')\n",
    "                new_name = input('이름: ')\n",
    "                new_tel = input('전화번호: ')\n",
    "                print(new_name, new_tel)\n",
    "                # contact[new_name] = new_tel\n",
    "                contact.setdefault(new_name, new_tel)\n",
    "\n",
    "            elif menu == 2: #완성\n",
    "                print('연락처를 조회합니다.')\n",
    "                # print(contact)\n",
    "                for name, tel in contact.items():\n",
    "                    print(name, '=', tel )\n",
    "        \n",
    "            elif menu == 3:\n",
    "                print('연락처를 검색합니다.')\n",
    "                search_name = input('검색 이름: ')\n",
    "                # print(contact[search_name])\n",
    "                print(contact.get(search_name, '없는 이름입니다.'))\n",
    "        \n",
    "        \n",
    "            elif menu == 4: # 완성\n",
    "                print('연락처를 수정합니다.')\n",
    "                mod_name = input('수정 이름 : ')\n",
    "            \n",
    "                if mod_name in contact:\n",
    "                    mod_tel = input('새 전화번호 : ')\n",
    "                    contact[mod_name] = mod_tel\n",
    "                else :\n",
    "                        print('등록되지 않은 이름입니다.')\n",
    "        \n",
    "            elif menu == 5: # 완성\n",
    "                print('연락처를 삭제합니다.')\n",
    "                del_name = input('삭제 이름: ')\n",
    "            \n",
    "                if del_name in contact:\n",
    "                    del contact[del_name]\n",
    "                else :\n",
    "                    print('등록되지 않은 이름입니다.')\n",
    "        \n",
    "        \n",
    "            elif menu == 9: # 완성\n",
    "                print('연락처를 종료합니다.')\n",
    "                break\n",
    "            \n",
    "            #else :\n",
    "                #print('잘못된 입력입니다.')\n",
    "        except ValueError:\n",
    "            print(\"잘못된 입력입니다. 숫자로만 입력하세요\")\n",
    "            pass\n"
   ]
  },
  {
   "cell_type": "code",
   "execution_count": null,
   "id": "be136a0d-457e-47f6-9ff3-c3d30f16389d",
   "metadata": {},
   "outputs": [],
   "source": []
  }
 ],
 "metadata": {
  "kernelspec": {
   "display_name": "Python 3 (ipykernel)",
   "language": "python",
   "name": "python3"
  },
  "language_info": {
   "codemirror_mode": {
    "name": "ipython",
    "version": 3
   },
   "file_extension": ".py",
   "mimetype": "text/x-python",
   "name": "python",
   "nbconvert_exporter": "python",
   "pygments_lexer": "ipython3",
   "version": "3.11.7"
  }
 },
 "nbformat": 4,
 "nbformat_minor": 5
}

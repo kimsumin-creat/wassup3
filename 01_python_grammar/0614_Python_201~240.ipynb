{
 "cells": [
  {
   "cell_type": "markdown",
   "id": "b3be6bd4-e06f-44f2-9b74-f83ed35b442d",
   "metadata": {},
   "source": [
    "# 초보자를 위한 파이썬 201~240"
   ]
  },
  {
   "cell_type": "code",
   "execution_count": 3,
   "id": "4ee7ffb3-1fe7-4f8c-9186-85b424fd3636",
   "metadata": {},
   "outputs": [],
   "source": [
    "#201\n",
    "def print_coin():\n",
    "    print(\"비트코인\")"
   ]
  },
  {
   "cell_type": "code",
   "execution_count": 4,
   "id": "2f528800-778f-4d2d-be30-10466ffc0c19",
   "metadata": {},
   "outputs": [
    {
     "name": "stdout",
     "output_type": "stream",
     "text": [
      "비트코인\n"
     ]
    }
   ],
   "source": [
    "#202\n",
    "print_coin()"
   ]
  },
  {
   "cell_type": "code",
   "execution_count": 7,
   "id": "3859ec36-01ae-4233-ae1e-38fc0f1fe367",
   "metadata": {},
   "outputs": [
    {
     "name": "stdout",
     "output_type": "stream",
     "text": [
      "비트코인\n",
      "비트코인\n",
      "비트코인\n",
      "비트코인\n",
      "비트코인\n",
      "비트코인\n",
      "비트코인\n",
      "비트코인\n",
      "비트코인\n",
      "비트코인\n",
      "비트코인\n",
      "비트코인\n",
      "비트코인\n",
      "비트코인\n",
      "비트코인\n",
      "비트코인\n",
      "비트코인\n",
      "비트코인\n",
      "비트코인\n",
      "비트코인\n",
      "비트코인\n",
      "비트코인\n",
      "비트코인\n",
      "비트코인\n",
      "비트코인\n",
      "비트코인\n",
      "비트코인\n",
      "비트코인\n",
      "비트코인\n",
      "비트코인\n",
      "비트코인\n",
      "비트코인\n",
      "비트코인\n",
      "비트코인\n",
      "비트코인\n",
      "비트코인\n",
      "비트코인\n",
      "비트코인\n",
      "비트코인\n",
      "비트코인\n",
      "비트코인\n",
      "비트코인\n",
      "비트코인\n",
      "비트코인\n",
      "비트코인\n",
      "비트코인\n",
      "비트코인\n",
      "비트코인\n",
      "비트코인\n",
      "비트코인\n",
      "비트코인\n",
      "비트코인\n",
      "비트코인\n",
      "비트코인\n",
      "비트코인\n",
      "비트코인\n",
      "비트코인\n",
      "비트코인\n",
      "비트코인\n",
      "비트코인\n",
      "비트코인\n",
      "비트코인\n",
      "비트코인\n",
      "비트코인\n",
      "비트코인\n",
      "비트코인\n",
      "비트코인\n",
      "비트코인\n",
      "비트코인\n",
      "비트코인\n",
      "비트코인\n",
      "비트코인\n",
      "비트코인\n",
      "비트코인\n",
      "비트코인\n",
      "비트코인\n",
      "비트코인\n",
      "비트코인\n",
      "비트코인\n",
      "비트코인\n",
      "비트코인\n",
      "비트코인\n",
      "비트코인\n",
      "비트코인\n",
      "비트코인\n",
      "비트코인\n",
      "비트코인\n",
      "비트코인\n",
      "비트코인\n",
      "비트코인\n",
      "비트코인\n",
      "비트코인\n",
      "비트코인\n",
      "비트코인\n",
      "비트코인\n",
      "비트코인\n",
      "비트코인\n",
      "비트코인\n",
      "비트코인\n",
      "비트코인\n"
     ]
    }
   ],
   "source": [
    "#203\n",
    "for i in range(100):\n",
    "    print_coin()"
   ]
  },
  {
   "cell_type": "code",
   "execution_count": 9,
   "id": "df68ac15-959f-4c82-9f76-b2e6d168ff76",
   "metadata": {},
   "outputs": [
    {
     "name": "stdout",
     "output_type": "stream",
     "text": [
      "비트코인비트코인비트코인비트코인비트코인비트코인비트코인비트코인비트코인비트코인비트코인비트코인비트코인비트코인비트코인비트코인비트코인비트코인비트코인비트코인비트코인비트코인비트코인비트코인비트코인비트코인비트코인비트코인비트코인비트코인비트코인비트코인비트코인비트코인비트코인비트코인비트코인비트코인비트코인비트코인비트코인비트코인비트코인비트코인비트코인비트코인비트코인비트코인비트코인비트코인비트코인비트코인비트코인비트코인비트코인비트코인비트코인비트코인비트코인비트코인비트코인비트코인비트코인비트코인비트코인비트코인비트코인비트코인비트코인비트코인비트코인비트코인비트코인비트코인비트코인비트코인비트코인비트코인비트코인비트코인비트코인비트코인비트코인비트코인비트코인비트코인비트코인비트코인비트코인비트코인비트코인비트코인비트코인비트코인비트코인비트코인비트코인비트코인비트코인비트코인\n"
     ]
    }
   ],
   "source": [
    "#204\n",
    "def print_coins():\n",
    "    print(\"비트코인\"*100)\n",
    "print_coins()"
   ]
  },
  {
   "cell_type": "code",
   "execution_count": 10,
   "id": "da8751d1-c0da-4d9e-895a-55b959862a20",
   "metadata": {},
   "outputs": [
    {
     "name": "stdout",
     "output_type": "stream",
     "text": [
      "비트코인\n",
      "비트코인\n",
      "비트코인\n",
      "비트코인\n",
      "비트코인\n",
      "비트코인\n",
      "비트코인\n",
      "비트코인\n",
      "비트코인\n",
      "비트코인\n",
      "비트코인\n",
      "비트코인\n",
      "비트코인\n",
      "비트코인\n",
      "비트코인\n",
      "비트코인\n",
      "비트코인\n",
      "비트코인\n",
      "비트코인\n",
      "비트코인\n",
      "비트코인\n",
      "비트코인\n",
      "비트코인\n",
      "비트코인\n",
      "비트코인\n",
      "비트코인\n",
      "비트코인\n",
      "비트코인\n",
      "비트코인\n",
      "비트코인\n",
      "비트코인\n",
      "비트코인\n",
      "비트코인\n",
      "비트코인\n",
      "비트코인\n",
      "비트코인\n",
      "비트코인\n",
      "비트코인\n",
      "비트코인\n",
      "비트코인\n",
      "비트코인\n",
      "비트코인\n",
      "비트코인\n",
      "비트코인\n",
      "비트코인\n",
      "비트코인\n",
      "비트코인\n",
      "비트코인\n",
      "비트코인\n",
      "비트코인\n",
      "비트코인\n",
      "비트코인\n",
      "비트코인\n",
      "비트코인\n",
      "비트코인\n",
      "비트코인\n",
      "비트코인\n",
      "비트코인\n",
      "비트코인\n",
      "비트코인\n",
      "비트코인\n",
      "비트코인\n",
      "비트코인\n",
      "비트코인\n",
      "비트코인\n",
      "비트코인\n",
      "비트코인\n",
      "비트코인\n",
      "비트코인\n",
      "비트코인\n",
      "비트코인\n",
      "비트코인\n",
      "비트코인\n",
      "비트코인\n",
      "비트코인\n",
      "비트코인\n",
      "비트코인\n",
      "비트코인\n",
      "비트코인\n",
      "비트코인\n",
      "비트코인\n",
      "비트코인\n",
      "비트코인\n",
      "비트코인\n",
      "비트코인\n",
      "비트코인\n",
      "비트코인\n",
      "비트코인\n",
      "비트코인\n",
      "비트코인\n",
      "비트코인\n",
      "비트코인\n",
      "비트코인\n",
      "비트코인\n",
      "비트코인\n",
      "비트코인\n",
      "비트코인\n",
      "비트코인\n",
      "비트코인\n",
      "비트코인\n"
     ]
    }
   ],
   "source": [
    "def print_coins():\n",
    "    for i in range(100):\n",
    "        print(\"비트코인\")\n",
    "print_coins()"
   ]
  },
  {
   "cell_type": "code",
   "execution_count": null,
   "id": "9bc53fb7-3082-47b5-8176-d3067f0ba752",
   "metadata": {},
   "outputs": [],
   "source": [
    "#205\n",
    "# 함수를 만들고 호출해야하는데 호출하고 함수를 만들었다."
   ]
  },
  {
   "cell_type": "code",
   "execution_count": null,
   "id": "8c1c5be2-e35b-4129-9673-0fc694c2b19f",
   "metadata": {},
   "outputs": [],
   "source": [
    "#206\n",
    "# A\n",
    "# B\n",
    "# C\n",
    "# A\n",
    "# B"
   ]
  },
  {
   "cell_type": "code",
   "execution_count": null,
   "id": "5165ccd3-3cfe-4cd5-b647-c0eec9dacfb0",
   "metadata": {},
   "outputs": [],
   "source": [
    "#207\n",
    "# A\n",
    "# C\n",
    "# B"
   ]
  },
  {
   "cell_type": "code",
   "execution_count": null,
   "id": "6c1b9bc1-6306-48ca-b67d-19e38b8ac596",
   "metadata": {},
   "outputs": [],
   "source": [
    "#208\n",
    "# A\n",
    "# C\n",
    "# B\n",
    "# E\n",
    "# D\n"
   ]
  },
  {
   "cell_type": "code",
   "execution_count": null,
   "id": "17f8ff5f-de71-40cd-b12b-b14dd9bc32e0",
   "metadata": {},
   "outputs": [],
   "source": [
    "#209\n",
    "# B\n",
    "# A"
   ]
  },
  {
   "cell_type": "code",
   "execution_count": null,
   "id": "125cbc2e-1bb2-4a75-b177-caa9f273dbc9",
   "metadata": {},
   "outputs": [],
   "source": [
    "#210\n",
    "# B\n",
    "# C\n",
    "# B\n",
    "# C\n",
    "# B\n",
    "# C\n",
    "# A"
   ]
  },
  {
   "cell_type": "code",
   "execution_count": null,
   "id": "884df9b5-818a-459e-a145-420026aab543",
   "metadata": {},
   "outputs": [],
   "source": [
    "#211\n",
    "# 안녕\n",
    "# Hi"
   ]
  },
  {
   "cell_type": "code",
   "execution_count": null,
   "id": "13d166e2-c49a-427a-96df-6b844c1bab4a",
   "metadata": {},
   "outputs": [],
   "source": [
    "#212\n",
    "7\n",
    "15"
   ]
  },
  {
   "cell_type": "code",
   "execution_count": null,
   "id": "239d69fd-e934-4df6-b773-e6f91380a812",
   "metadata": {},
   "outputs": [],
   "source": [
    "#213\n",
    "함수 호출할대 변수를 넣어야 실행되지만 변수가 안들어가서 실행이 안된"
   ]
  },
  {
   "cell_type": "code",
   "execution_count": null,
   "id": "ceae0231-4467-444a-a54d-2cb3481ab0e3",
   "metadata": {},
   "outputs": [],
   "source": [
    "#214\n",
    "숫자와 문자열은 더할 수 없다"
   ]
  },
  {
   "cell_type": "code",
   "execution_count": 19,
   "id": "46361551-785c-462e-9bc3-9e57d517bd6f",
   "metadata": {},
   "outputs": [
    {
     "name": "stdin",
     "output_type": "stream",
     "text": [
      "입력하세요 hi\n"
     ]
    },
    {
     "name": "stdout",
     "output_type": "stream",
     "text": [
      "hi:D\n"
     ]
    }
   ],
   "source": [
    "#215\n",
    "def print_with_smile():\n",
    "    user=input(\"입력하세요\")\n",
    "    print(user+\":D\")\n",
    "print_with_smile()"
   ]
  },
  {
   "cell_type": "code",
   "execution_count": 20,
   "id": "b1599593-418a-4860-ac61-1b49ea1c8300",
   "metadata": {},
   "outputs": [],
   "source": [
    "def print_with_smile (string) :\n",
    "    print (string + \":D\")"
   ]
  },
  {
   "cell_type": "code",
   "execution_count": 26,
   "id": "aaa4313a-7c23-421e-9273-f607f2685bcf",
   "metadata": {},
   "outputs": [
    {
     "name": "stdout",
     "output_type": "stream",
     "text": [
      "안녕하세요:D\n"
     ]
    }
   ],
   "source": [
    "#216\n",
    "print_with_smile(\"안녕하세요\")"
   ]
  },
  {
   "cell_type": "code",
   "execution_count": 28,
   "id": "8c2b0c3d-041e-41d6-b172-3bcfa992b9be",
   "metadata": {},
   "outputs": [],
   "source": [
    "#217\n",
    "def print_upper_price(price):\n",
    "    print(price*1.3)"
   ]
  },
  {
   "cell_type": "code",
   "execution_count": 29,
   "id": "9c95c4b2-075a-45d8-9ada-5cce4bf6ec88",
   "metadata": {},
   "outputs": [],
   "source": [
    "#218\n",
    "def print_sum(a,b):\n",
    "    print(a+b)"
   ]
  },
  {
   "cell_type": "code",
   "execution_count": 32,
   "id": "f792906c-6ba6-4525-b066-d28e575a1465",
   "metadata": {},
   "outputs": [
    {
     "name": "stdout",
     "output_type": "stream",
     "text": [
      "3 + 4 = 7\n",
      "3 - 4 = -1\n",
      "3 * 4 = 12\n",
      "3 / 4 = 0.75\n"
     ]
    }
   ],
   "source": [
    "#219\n",
    "def print_arithmetic_operation(a,b):\n",
    "    print(a,\"+\",b,\"=\",a+b)\n",
    "    print(a,\"-\",b,\"=\",a-b)\n",
    "    print(a,\"*\",b,\"=\",a*b)\n",
    "    print(a,\"/\",b,\"=\",a/b)\n",
    "print_arithmetic_operation(3, 4)"
   ]
  },
  {
   "cell_type": "code",
   "execution_count": 33,
   "id": "82a0b4c9-70e2-4fa8-8666-b95c65cf726e",
   "metadata": {},
   "outputs": [
    {
     "name": "stdout",
     "output_type": "stream",
     "text": [
      "30\n"
     ]
    }
   ],
   "source": [
    "#220\n",
    "def print_max(a,b,c):\n",
    "    if a>b and a>c:\n",
    "        print(a)\n",
    "    elif b>a and b>c:\n",
    "        print(b)\n",
    "    elif c>b and c>a:\n",
    "        print(c)\n",
    "print_max(10,20,30)"
   ]
  },
  {
   "cell_type": "code",
   "execution_count": 38,
   "id": "8fe95773-3098-4ce0-a768-befc83a58314",
   "metadata": {},
   "outputs": [
    {
     "name": "stdout",
     "output_type": "stream",
     "text": [
      "nohtyp\n"
     ]
    }
   ],
   "source": [
    "#221\n",
    "def print_reverse(str):\n",
    "    print(str[::-1])\n",
    "print_reverse(\"python\")"
   ]
  },
  {
   "cell_type": "code",
   "execution_count": 41,
   "id": "0c9b120a-2152-44df-a1c1-fdf107e68c8b",
   "metadata": {},
   "outputs": [
    {
     "name": "stdout",
     "output_type": "stream",
     "text": [
      "2.0\n"
     ]
    }
   ],
   "source": [
    "#222\n",
    "def print_score(list):\n",
    "    print(sum(list)/len(list))\n",
    "print_score ([1, 2, 3]) "
   ]
  },
  {
   "cell_type": "code",
   "execution_count": 45,
   "id": "f100dce5-5208-49cd-a232-99c93ad1197c",
   "metadata": {},
   "outputs": [
    {
     "name": "stdout",
     "output_type": "stream",
     "text": [
      "2\n",
      "10\n",
      "12\n"
     ]
    }
   ],
   "source": [
    "#223\n",
    "def print_even(list):\n",
    "    for i in list:\n",
    "        if i%2==0:\n",
    "            print(i)\n",
    "\n",
    "print_even ([1, 3, 2, 10, 12, 11, 15])"
   ]
  },
  {
   "cell_type": "code",
   "execution_count": 52,
   "id": "d72185f6-8b37-4160-8de5-6608de554987",
   "metadata": {},
   "outputs": [
    {
     "name": "stdout",
     "output_type": "stream",
     "text": [
      "이름\n",
      "나이\n",
      "성별\n"
     ]
    }
   ],
   "source": [
    "#224\n",
    "def print_keys(my_dict):\n",
    "    for i in my_dict.keys():\n",
    "        print(i)\n",
    "print_keys ({\"이름\":\"김말똥\", \"나이\":30, \"성별\":0})\n"
   ]
  },
  {
   "cell_type": "code",
   "execution_count": 57,
   "id": "e9b4f72c-2911-45f1-a39c-42a4de1c17ec",
   "metadata": {},
   "outputs": [
    {
     "name": "stdout",
     "output_type": "stream",
     "text": [
      "[100, 130, 100, 100]\n"
     ]
    }
   ],
   "source": [
    "#225\n",
    "my_dict = {\"10/26\" : [100, 130, 100, 100],\n",
    "           \"10/27\" : [10, 12, 10, 11]}\n",
    "\n",
    "def print_value_by_key(my_dict,day):\n",
    "    print(my_dict[day])\n",
    "print_value_by_key  (my_dict, \"10/26\")\n"
   ]
  },
  {
   "cell_type": "code",
   "execution_count": 61,
   "id": "bb97c7cc-ec36-4dc2-93e5-16a700d048ac",
   "metadata": {},
   "outputs": [
    {
     "name": "stdout",
     "output_type": "stream",
     "text": [
      "아이엠어보\n",
      "이유알어걸\n"
     ]
    }
   ],
   "source": [
    "#226\n",
    "def  print_5xn(string):\n",
    "    print(string[:5])\n",
    "    print(string[5:])\n",
    "print_5xn(\"아이엠어보이유알어걸\")"
   ]
  },
  {
   "cell_type": "code",
   "execution_count": 67,
   "id": "0dcd877c-6077-4379-9cfe-594c918e7675",
   "metadata": {},
   "outputs": [
    {
     "ename": "NameError",
     "evalue": "name 'printmxn' is not defined",
     "output_type": "error",
     "traceback": [
      "\u001b[1;31m---------------------------------------------------------------------------\u001b[0m",
      "\u001b[1;31mNameError\u001b[0m                                 Traceback (most recent call last)",
      "Cell \u001b[1;32mIn[67], line 5\u001b[0m\n\u001b[0;32m      3\u001b[0m     \u001b[38;5;28;01mfor\u001b[39;00m i \u001b[38;5;129;01min\u001b[39;00m string[\u001b[38;5;241m0\u001b[39m,\u001b[38;5;241m3\u001b[39m,\u001b[38;5;241m6\u001b[39m,\u001b[38;5;241m9\u001b[39m]:\n\u001b[0;32m      4\u001b[0m         \u001b[38;5;28mprint\u001b[39m(i,i\u001b[38;5;241m+\u001b[39m\u001b[38;5;241m1\u001b[39m,i\u001b[38;5;241m+\u001b[39m\u001b[38;5;241m2\u001b[39m)\n\u001b[1;32m----> 5\u001b[0m printmxn(\u001b[38;5;124m\"\u001b[39m\u001b[38;5;124m아이엠어보이유알어걸\u001b[39m\u001b[38;5;124m\"\u001b[39m, \u001b[38;5;241m3\u001b[39m)\n",
      "\u001b[1;31mNameError\u001b[0m: name 'printmxn' is not defined"
     ]
    }
   ],
   "source": [
    "#227\n",
    "def print_mxn(line, num):\n",
    "    chunk_num = int(len(line) / num)\n",
    "    for x in range(chunk_num + 1) :\n",
    "        print(line[x * num: x * num + num])\n"
   ]
  },
  {
   "cell_type": "code",
   "execution_count": 65,
   "id": "bbe0aecd-184e-4253-8ec9-d1e7afc7ff34",
   "metadata": {},
   "outputs": [
    {
     "name": "stdout",
     "output_type": "stream",
     "text": [
      "아 이 엠\n",
      "어 보 이\n",
      "유 알 어\n",
      "걸\n"
     ]
    }
   ],
   "source": [
    "list=['아','이','엠','어','보','이','유','알','어','걸']\n",
    "print(list[0],list[1],list[2])\n",
    "print(list[3],list[4],list[5])\n",
    "print(list[6],list[7],list[8])\n",
    "print(list[9])\n",
    "#for i in list:\n",
    "    "
   ]
  },
  {
   "cell_type": "code",
   "execution_count": 72,
   "id": "670c2195-e4d6-4b44-b9f2-8b0b9bcf335f",
   "metadata": {},
   "outputs": [
    {
     "name": "stdout",
     "output_type": "stream",
     "text": [
      "1000000\n"
     ]
    }
   ],
   "source": [
    "#228\n",
    "def calc_monthly_salary(annual_salary):\n",
    "    money=int(annual_salary/12)\n",
    "    print(money)\n",
    "calc_monthly_salary(12000000)\n"
   ]
  },
  {
   "cell_type": "code",
   "execution_count": 73,
   "id": "10eca7a7-3d08-4fc6-b423-63f3fd7ee986",
   "metadata": {},
   "outputs": [
    {
     "name": "stdout",
     "output_type": "stream",
     "text": [
      "왼쪽: 100\n",
      "오른쪽: 200\n"
     ]
    }
   ],
   "source": [
    "#229\n",
    "def my_print (a, b) :\n",
    "    print(\"왼쪽:\", a)\n",
    "    print(\"오른쪽:\", b)\n",
    "\n",
    "my_print(a=100, b=200)\n",
    "#왼쪽:100\n",
    "#오른쪽:200"
   ]
  },
  {
   "cell_type": "code",
   "execution_count": 74,
   "id": "a7b27a20-adf7-4526-b354-40641845a0ee",
   "metadata": {},
   "outputs": [
    {
     "name": "stdout",
     "output_type": "stream",
     "text": [
      "왼쪽: 200\n",
      "오른쪽: 100\n"
     ]
    }
   ],
   "source": [
    "#230\n",
    "def my_print (a, b) :\n",
    "    print(\"왼쪽:\", a)\n",
    "    print(\"오른쪽:\", b)\n",
    "\n",
    "my_print(b=100, a=200)\n",
    "#왼쪽:200\n",
    "#오른쪽:100"
   ]
  },
  {
   "cell_type": "code",
   "execution_count": 77,
   "id": "2b532f50-daa1-4f0f-a1a2-863057873ef6",
   "metadata": {},
   "outputs": [
    {
     "ename": "NameError",
     "evalue": "name 'result' is not defined",
     "output_type": "error",
     "traceback": [
      "\u001b[1;31m---------------------------------------------------------------------------\u001b[0m",
      "\u001b[1;31mNameError\u001b[0m                                 Traceback (most recent call last)",
      "Cell \u001b[1;32mIn[77], line 6\u001b[0m\n\u001b[0;32m      3\u001b[0m     result \u001b[38;5;241m=\u001b[39m n \u001b[38;5;241m+\u001b[39m \u001b[38;5;241m1\u001b[39m\n\u001b[0;32m      5\u001b[0m n_plus_1(\u001b[38;5;241m3\u001b[39m)\n\u001b[1;32m----> 6\u001b[0m \u001b[38;5;28mprint\u001b[39m (result)\n",
      "\u001b[1;31mNameError\u001b[0m: name 'result' is not defined"
     ]
    }
   ],
   "source": [
    "#231\n",
    "def n_plus_1 (n) :\n",
    "    result = n + 1\n",
    "\n",
    "n_plus_1(3)\n",
    "print (result)\n",
    "#4로 나올줄 알았지만 틀림 오류남.-> 함수 내부에서 사용한 변수 result는 함수 에서 잡근이 불가능하다."
   ]
  },
  {
   "cell_type": "code",
   "execution_count": 80,
   "id": "d0d22aa3-d8b6-46a3-bc6e-d66eb91c97f7",
   "metadata": {},
   "outputs": [
    {
     "data": {
      "text/plain": [
       "'www.naver.com'"
      ]
     },
     "execution_count": 80,
     "metadata": {},
     "output_type": "execute_result"
    }
   ],
   "source": [
    "#232\n",
    "def make_url(str):\n",
    "    url=\"www.\"+str+\".com\"\n",
    "    return url\n",
    "make_url(\"naver\")"
   ]
  },
  {
   "cell_type": "code",
   "execution_count": 85,
   "id": "e2a5d5d7-be38-48ef-822c-b982921241d2",
   "metadata": {},
   "outputs": [
    {
     "data": {
      "text/plain": [
       "['a', 'b', 'c', 'd']"
      ]
     },
     "execution_count": 85,
     "metadata": {},
     "output_type": "execute_result"
    }
   ],
   "source": [
    "#233\n",
    "def make_list(str):\n",
    "    world_list=[]\n",
    "    for i in str:\n",
    "        world_list.append(i)\n",
    "    return world_list\n",
    "make_list(\"abcd\")\n",
    "    "
   ]
  },
  {
   "cell_type": "code",
   "execution_count": 92,
   "id": "ce98c0ab-6836-476a-b885-9c91367870b1",
   "metadata": {},
   "outputs": [
    {
     "data": {
      "text/plain": [
       "[4, 6, 8]"
      ]
     },
     "execution_count": 92,
     "metadata": {},
     "output_type": "execute_result"
    }
   ],
   "source": [
    "#234\n",
    "def pickup_even(num):\n",
    "    world_list=[]\n",
    "    for i in num:\n",
    "        if i%2==0:\n",
    "            world_list.append(i)\n",
    "    return world_list\n",
    "pickup_even([3, 4, 5, 6, 7, 8])"
   ]
  },
  {
   "cell_type": "code",
   "execution_count": 94,
   "id": "94cd06f1-6dbe-4f8b-a71e-caa65f4def1e",
   "metadata": {},
   "outputs": [
    {
     "data": {
      "text/plain": [
       "1234567"
      ]
     },
     "execution_count": 94,
     "metadata": {},
     "output_type": "execute_result"
    }
   ],
   "source": [
    "#235\n",
    "def convert_int(comma_str):\n",
    "    num_str=int(comma_str.replace(\",\",\"\"))\n",
    "    return num_str\n",
    "convert_int(\"1,234,567\")\n"
   ]
  },
  {
   "cell_type": "code",
   "execution_count": 95,
   "id": "513da958-86de-4dd7-8100-e275f92bc27d",
   "metadata": {},
   "outputs": [
    {
     "name": "stdout",
     "output_type": "stream",
     "text": [
      "22\n"
     ]
    }
   ],
   "source": [
    "#236\n",
    "def 함수(num) :\n",
    "    return num + 4\n",
    "\n",
    "a = 함수(10)\n",
    "b = 함수(a)\n",
    "c = 함수(b)\n",
    "print(c)\n",
    "\n",
    "#22"
   ]
  },
  {
   "cell_type": "code",
   "execution_count": 96,
   "id": "6ea254e0-0eb2-459e-a86a-28631198dd52",
   "metadata": {},
   "outputs": [
    {
     "name": "stdout",
     "output_type": "stream",
     "text": [
      "22\n"
     ]
    }
   ],
   "source": [
    "#237\n",
    "def 함수(num) :\n",
    "    return num + 4\n",
    "\n",
    "c = 함수(함수(함수(10)))\n",
    "print(c)\n",
    "#22"
   ]
  },
  {
   "cell_type": "code",
   "execution_count": 97,
   "id": "139f3567-7452-4902-befc-6e570c2903de",
   "metadata": {},
   "outputs": [
    {
     "name": "stdout",
     "output_type": "stream",
     "text": [
      "140\n"
     ]
    }
   ],
   "source": [
    "#238\n",
    "def 함수1(num) :\n",
    "    return num + 4\n",
    "\n",
    "def 함수2(num) :\n",
    "    return num * 10\n",
    "\n",
    "a = 함수1(10) \n",
    "c = 함수2(a) \n",
    "print(c)\n",
    "#140"
   ]
  },
  {
   "cell_type": "code",
   "execution_count": 98,
   "id": "8d8694c7-11da-43a7-8cec-fc036d0e915a",
   "metadata": {},
   "outputs": [
    {
     "name": "stdout",
     "output_type": "stream",
     "text": [
      "16\n"
     ]
    }
   ],
   "source": [
    "#239\n",
    "def 함수1(num) :\n",
    "    return num + 4\n",
    "\n",
    "def 함수2(num) :\n",
    "    num = num + 2\n",
    "    return 함수1(num)\n",
    "\n",
    "c = 함수2(10)\n",
    "print(c)\n",
    "#16"
   ]
  },
  {
   "cell_type": "code",
   "execution_count": 99,
   "id": "f696e832-8b55-43ff-b748-9b8c2e20b39c",
   "metadata": {},
   "outputs": [
    {
     "name": "stdout",
     "output_type": "stream",
     "text": [
      "28\n"
     ]
    }
   ],
   "source": [
    "#240\n",
    "def 함수0(num) :\n",
    "    return num * 2\n",
    "\n",
    "def 함수1(num) :\n",
    "    return 함수0(num + 2)\n",
    "\n",
    "def 함수2(num) :\n",
    "    num = num + 10\n",
    "    return 함수1(num)\n",
    "\n",
    "\n",
    "c = 함수2(2)\n",
    "print(c)\n",
    "#함수2(2)->함수1(12)->함수0(14)->28"
   ]
  },
  {
   "cell_type": "code",
   "execution_count": null,
   "id": "ea92f54e-0090-43df-b1b5-b858c656cdf5",
   "metadata": {},
   "outputs": [],
   "source": []
  },
  {
   "cell_type": "code",
   "execution_count": null,
   "id": "c3e2709f-b246-4a51-9bc1-c28c791cfe85",
   "metadata": {},
   "outputs": [],
   "source": []
  },
  {
   "cell_type": "code",
   "execution_count": null,
   "id": "c9c5ead8-c680-4ecf-9178-054ae9c141cb",
   "metadata": {},
   "outputs": [],
   "source": []
  },
  {
   "cell_type": "code",
   "execution_count": null,
   "id": "bd664b02-94f3-4825-987b-0295a7fdfc39",
   "metadata": {},
   "outputs": [],
   "source": []
  },
  {
   "cell_type": "code",
   "execution_count": null,
   "id": "a2fe27f7-adf6-487e-8fe2-afed761e0c95",
   "metadata": {},
   "outputs": [],
   "source": []
  },
  {
   "cell_type": "code",
   "execution_count": null,
   "id": "93a439f5-39f2-451e-9a26-2350f26dc043",
   "metadata": {},
   "outputs": [],
   "source": []
  },
  {
   "cell_type": "code",
   "execution_count": null,
   "id": "3d712551-6d2d-46f7-b217-b10177151566",
   "metadata": {},
   "outputs": [],
   "source": []
  },
  {
   "cell_type": "code",
   "execution_count": null,
   "id": "1d044b22-f8c8-496c-ac5c-502c0775df70",
   "metadata": {},
   "outputs": [],
   "source": []
  },
  {
   "cell_type": "code",
   "execution_count": null,
   "id": "85499f44-7ee1-40f6-9757-07df1df79867",
   "metadata": {},
   "outputs": [],
   "source": []
  },
  {
   "cell_type": "code",
   "execution_count": null,
   "id": "b223d280-3f85-49c4-abb2-f708c290d1bb",
   "metadata": {},
   "outputs": [],
   "source": []
  },
  {
   "cell_type": "code",
   "execution_count": null,
   "id": "73d1b9bb-658a-4975-91e2-68159e75de5a",
   "metadata": {},
   "outputs": [],
   "source": []
  },
  {
   "cell_type": "code",
   "execution_count": null,
   "id": "a5581221-b649-4fd6-9021-461c94665373",
   "metadata": {},
   "outputs": [],
   "source": []
  },
  {
   "cell_type": "code",
   "execution_count": null,
   "id": "6762c862-e0cc-4531-bbbb-1495aa4ffc9a",
   "metadata": {},
   "outputs": [],
   "source": []
  },
  {
   "cell_type": "code",
   "execution_count": null,
   "id": "15b3a819-9978-497a-9e10-08e69f3c12c0",
   "metadata": {},
   "outputs": [],
   "source": []
  },
  {
   "cell_type": "code",
   "execution_count": null,
   "id": "3c86e232-9df1-4ca1-8ba8-d23a90f713ed",
   "metadata": {},
   "outputs": [],
   "source": []
  },
  {
   "cell_type": "code",
   "execution_count": null,
   "id": "6f6f2f8e-f9f5-4db2-8c99-6f675d3624c2",
   "metadata": {},
   "outputs": [],
   "source": []
  },
  {
   "cell_type": "code",
   "execution_count": null,
   "id": "b81e6d30-a4ef-4a37-9160-8b4f7e516fbd",
   "metadata": {},
   "outputs": [],
   "source": []
  },
  {
   "cell_type": "code",
   "execution_count": null,
   "id": "04008ccc-a33e-4808-a4df-966bda5c8496",
   "metadata": {},
   "outputs": [],
   "source": []
  },
  {
   "cell_type": "code",
   "execution_count": null,
   "id": "fa8b7b63-daed-40d8-976c-3390a0fb05e8",
   "metadata": {},
   "outputs": [],
   "source": []
  },
  {
   "cell_type": "code",
   "execution_count": null,
   "id": "0d261f81-8379-411f-ab44-d66563ecf0ae",
   "metadata": {},
   "outputs": [],
   "source": []
  },
  {
   "cell_type": "code",
   "execution_count": null,
   "id": "f0d784d4-d939-452f-b2e1-e896f9f14a37",
   "metadata": {},
   "outputs": [],
   "source": []
  },
  {
   "cell_type": "code",
   "execution_count": null,
   "id": "af07ea0f-96a2-4667-a955-f7e7d972f712",
   "metadata": {},
   "outputs": [],
   "source": []
  },
  {
   "cell_type": "code",
   "execution_count": null,
   "id": "d4e7042e-7376-4fc3-982a-835d2d1ba9dc",
   "metadata": {},
   "outputs": [],
   "source": []
  },
  {
   "cell_type": "code",
   "execution_count": null,
   "id": "7cb8c529-33b2-4245-bdb9-ab51e8a87fdd",
   "metadata": {},
   "outputs": [],
   "source": []
  },
  {
   "cell_type": "code",
   "execution_count": null,
   "id": "0369cf83-96cb-40ea-be21-4db287a4cd20",
   "metadata": {},
   "outputs": [],
   "source": []
  },
  {
   "cell_type": "code",
   "execution_count": null,
   "id": "f6e07cb2-2250-4b26-afb8-b057efbdee5d",
   "metadata": {},
   "outputs": [],
   "source": []
  },
  {
   "cell_type": "code",
   "execution_count": null,
   "id": "c29e89de-fbdb-40a1-93fb-8d4b650fdc06",
   "metadata": {},
   "outputs": [],
   "source": []
  },
  {
   "cell_type": "code",
   "execution_count": null,
   "id": "e55af631-2771-4aea-b684-58be2ca5cb37",
   "metadata": {},
   "outputs": [],
   "source": []
  },
  {
   "cell_type": "code",
   "execution_count": null,
   "id": "602b487a-2f38-48ed-936d-51a585f53d43",
   "metadata": {},
   "outputs": [],
   "source": []
  },
  {
   "cell_type": "code",
   "execution_count": null,
   "id": "bcd1e9fd-0a55-4215-b12d-e05273123967",
   "metadata": {},
   "outputs": [],
   "source": []
  },
  {
   "cell_type": "code",
   "execution_count": null,
   "id": "08718819-c132-4946-95f1-09d3cbddf688",
   "metadata": {},
   "outputs": [],
   "source": []
  },
  {
   "cell_type": "code",
   "execution_count": null,
   "id": "cd3ddb8f-b639-43d8-9497-ee146de657d0",
   "metadata": {},
   "outputs": [],
   "source": []
  },
  {
   "cell_type": "code",
   "execution_count": null,
   "id": "39a81afc-f4d6-455f-8331-8dd37d4d7380",
   "metadata": {},
   "outputs": [],
   "source": []
  },
  {
   "cell_type": "code",
   "execution_count": null,
   "id": "0ac7dbef-ca23-4d5f-9c31-3814b4358de0",
   "metadata": {},
   "outputs": [],
   "source": []
  },
  {
   "cell_type": "code",
   "execution_count": null,
   "id": "107e75e7-55cf-4f93-af6a-df4f2d50c165",
   "metadata": {},
   "outputs": [],
   "source": []
  },
  {
   "cell_type": "code",
   "execution_count": null,
   "id": "3e60720a-060e-47cc-a314-c710c0e7138c",
   "metadata": {},
   "outputs": [],
   "source": []
  },
  {
   "cell_type": "code",
   "execution_count": null,
   "id": "d5958c71-655e-4ef3-9d0c-d4b4268c0ba7",
   "metadata": {},
   "outputs": [],
   "source": []
  },
  {
   "cell_type": "code",
   "execution_count": null,
   "id": "86a718b3-91ae-463d-863e-922bbb836e2b",
   "metadata": {},
   "outputs": [],
   "source": []
  },
  {
   "cell_type": "code",
   "execution_count": null,
   "id": "9820a09c-6892-4ddd-88dc-0fd3b15d861c",
   "metadata": {},
   "outputs": [],
   "source": []
  },
  {
   "cell_type": "code",
   "execution_count": null,
   "id": "9e1d675b-6c47-4396-ac38-de4d48e9bccc",
   "metadata": {},
   "outputs": [],
   "source": []
  },
  {
   "cell_type": "code",
   "execution_count": null,
   "id": "a0f88364-4de8-4022-b573-887ee60cd8d0",
   "metadata": {},
   "outputs": [],
   "source": []
  },
  {
   "cell_type": "code",
   "execution_count": null,
   "id": "a5ab60cd-471d-4e02-8ad1-a3cb8582e008",
   "metadata": {},
   "outputs": [],
   "source": []
  },
  {
   "cell_type": "code",
   "execution_count": null,
   "id": "d23fd1f0-f87d-4968-88c7-d299c78f61c9",
   "metadata": {},
   "outputs": [],
   "source": []
  },
  {
   "cell_type": "code",
   "execution_count": null,
   "id": "b5c00392-4d3f-45cd-a7d2-2ee1c5d91e9d",
   "metadata": {},
   "outputs": [],
   "source": []
  },
  {
   "cell_type": "code",
   "execution_count": null,
   "id": "b42c610a-03bf-4e2e-97d5-64204a5093e3",
   "metadata": {},
   "outputs": [],
   "source": []
  },
  {
   "cell_type": "code",
   "execution_count": null,
   "id": "a9463068-1ce4-48b3-908f-cf2172f107c9",
   "metadata": {},
   "outputs": [],
   "source": []
  },
  {
   "cell_type": "code",
   "execution_count": null,
   "id": "cfb97bba-38fe-498e-9f79-db926e59ccdd",
   "metadata": {},
   "outputs": [],
   "source": []
  },
  {
   "cell_type": "code",
   "execution_count": null,
   "id": "0bc8b4cb-3aa8-40b5-9bb0-88aa59e79548",
   "metadata": {},
   "outputs": [],
   "source": []
  },
  {
   "cell_type": "code",
   "execution_count": null,
   "id": "564d7659-ec2c-49cd-a109-bfa544270325",
   "metadata": {},
   "outputs": [],
   "source": []
  },
  {
   "cell_type": "code",
   "execution_count": null,
   "id": "9ad5974a-00d6-4616-bb15-c66591d80edb",
   "metadata": {},
   "outputs": [],
   "source": []
  },
  {
   "cell_type": "code",
   "execution_count": null,
   "id": "529bde45-62a4-4186-9eab-03c7229af6df",
   "metadata": {},
   "outputs": [],
   "source": []
  },
  {
   "cell_type": "code",
   "execution_count": null,
   "id": "8af250f9-9a86-453c-887e-9b25b9223082",
   "metadata": {},
   "outputs": [],
   "source": []
  },
  {
   "cell_type": "code",
   "execution_count": null,
   "id": "81ccf648-fa2c-4e79-86d8-c68b40355617",
   "metadata": {},
   "outputs": [],
   "source": []
  },
  {
   "cell_type": "code",
   "execution_count": null,
   "id": "dfca5720-3b49-4db6-ae31-71058f8055b1",
   "metadata": {},
   "outputs": [],
   "source": []
  },
  {
   "cell_type": "code",
   "execution_count": null,
   "id": "68d4e407-4b94-4ec1-bca7-ff248b230345",
   "metadata": {},
   "outputs": [],
   "source": []
  },
  {
   "cell_type": "code",
   "execution_count": null,
   "id": "f6ae6273-def5-42b6-b16c-3591bd8d08a3",
   "metadata": {},
   "outputs": [],
   "source": []
  },
  {
   "cell_type": "code",
   "execution_count": null,
   "id": "eaebd591-acdb-42ed-9ee4-7f2778214f41",
   "metadata": {},
   "outputs": [],
   "source": []
  }
 ],
 "metadata": {
  "kernelspec": {
   "display_name": "Python 3 (ipykernel)",
   "language": "python",
   "name": "python3"
  },
  "language_info": {
   "codemirror_mode": {
    "name": "ipython",
    "version": 3
   },
   "file_extension": ".py",
   "mimetype": "text/x-python",
   "name": "python",
   "nbconvert_exporter": "python",
   "pygments_lexer": "ipython3",
   "version": "3.11.7"
  }
 },
 "nbformat": 4,
 "nbformat_minor": 5
}

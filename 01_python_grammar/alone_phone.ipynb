{
 "cells": [
  {
   "cell_type": "code",
   "execution_count": 1,
   "id": "dd0ce70b-c06f-4294-818e-17fcaa28d0cd",
   "metadata": {},
   "outputs": [
    {
     "ename": "SyntaxError",
     "evalue": "leading zeros in decimal integer literals are not permitted; use an 0o prefix for octal integers (679899791.py, line 3)",
     "output_type": "error",
     "traceback": [
      "\u001b[1;36m  Cell \u001b[1;32mIn[1], line 3\u001b[1;36m\u001b[0m\n\u001b[1;33m    * 홍길동 010-123-4567\u001b[0m\n\u001b[1;37m                ^\u001b[0m\n\u001b[1;31mSyntaxError\u001b[0m\u001b[1;31m:\u001b[0m leading zeros in decimal integer literals are not permitted; use an 0o prefix for octal integers\n"
     ]
    }
   ],
   "source": [
    "# 전화번호 프로그램 만들기\n",
    "\n",
    "* 홍길동 010-123-4567\n",
    "* 기능1 : 연락처 추가\n",
    "* 기능2 : 연락처 전체 보기\n",
    "* 기능3 : 검색, 이름을 입력받아서 전화번호 조회\n",
    "* 기능4 : 수정, 이름을 입력받아서 전화번호 입력수정\n",
    "* 기능5 : 삭제, 이름 입력받아서 삭제\n",
    "* 기능6 : 프로그램 종료"
   ]
  },
  {
   "cell_type": "code",
   "execution_count": null,
   "id": "445a2f03-ca07-4a0d-999c-0577da68a04b",
   "metadata": {},
   "outputs": [
    {
     "name": "stdout",
     "output_type": "stream",
     "text": [
      "============= 전화번호 프로그램 =============\n",
      "1.연락처 추가 2.연락처 전체보기 3.연락처 검색 4.연락처 수정 5. 연락처 삭제 6. 프로그램 종료\n"
     ]
    },
    {
     "name": "stdin",
     "output_type": "stream",
     "text": [
      "메뉴를 선택하세요(숫자로 입력):  2\n"
     ]
    },
    {
     "name": "stdout",
     "output_type": "stream",
     "text": [
      "연락처 전체조회\n",
      "{'홍길동': '010-123-4567', 'sum': '222', 'mod_name': '222', 'ㅇㅇ': '111', 'su': '222'}\n",
      "============= 전화번호 프로그램 =============\n",
      "1.연락처 추가 2.연락처 전체보기 3.연락처 검색 4.연락처 수정 5. 연락처 삭제 6. 프로그램 종료\n"
     ]
    },
    {
     "name": "stdin",
     "output_type": "stream",
     "text": [
      "메뉴를 선택하세요(숫자로 입력):  3\n"
     ]
    },
    {
     "name": "stdout",
     "output_type": "stream",
     "text": [
      "연락처 검색\n"
     ]
    },
    {
     "name": "stdin",
     "output_type": "stream",
     "text": [
      "검색할 이름입력:  sum\n"
     ]
    },
    {
     "name": "stdout",
     "output_type": "stream",
     "text": [
      "222\n",
      "============= 전화번호 프로그램 =============\n",
      "1.연락처 추가 2.연락처 전체보기 3.연락처 검색 4.연락처 수정 5. 연락처 삭제 6. 프로그램 종료\n"
     ]
    }
   ],
   "source": [
    "## phone={'홍길동':'010-123-4567'}\n",
    "while True:\n",
    "    print(\"============= 전화번호 프로그램 =============\")\n",
    "    print(\"1.연락처 추가 2.연락처 전체보기 3.연락처 검색 4.연락처 수정 5. 연락처 삭제 6. 프로그램 종료\") \n",
    "    menu=int(input(\"메뉴를 선택하세요(숫자로 입력): \"))\n",
    "    \n",
    "    if menu==1:#완료\n",
    "        print(\"연락처 추가\")\n",
    "        add_name=input(\"추가할 이름 입력: \")\n",
    "        add_num=input(\"연락처 입력: \")\n",
    "        print(add_name,add_num) \n",
    "        phone[add_name]=add_num\n",
    "        \n",
    "    elif menu==2: #완료\n",
    "        print(\"연락처 전체조회\")\n",
    "        print(phone) \n",
    "        \n",
    "    elif menu==3:\n",
    "        print(\"연락처 검색\")\n",
    "        search_name=input(\"검색할 이름입력: \")\n",
    "        if search_name in phone:\n",
    "            print(phone[search_name])\n",
    "            \n",
    "\n",
    "    \n",
    "    elif menu==4: #완료\n",
    "        print(\"연락처 수정\")\n",
    "        mod_name=input(\"이름 입력: \")\n",
    "        mod_num=input(\"수정할 연락처 입력: \")\n",
    "        #if 'mod_name' in phone:\n",
    "        phone[mod_name]=mod_num\n",
    "        \n",
    "        \n",
    "    elif menu==5:\n",
    "        print(\"연락처 삭제\")\n",
    "        del_name=input(\"삭제할 이름입력: \")\n",
    "        del phone[del_name]\n",
    "        \n",
    "    elif menu==6: #완료\n",
    "        print(\"프로그램 종료\")\n",
    "        break\n",
    "        \n",
    "    else: #완료\n",
    "        print(\"잘못된 입력\")\n"
   ]
  },
  {
   "cell_type": "code",
   "execution_count": null,
   "id": "ebc1e19d-8da2-47f2-bd77-d9a3141eb115",
   "metadata": {},
   "outputs": [],
   "source": []
  },
  {
   "cell_type": "code",
   "execution_count": null,
   "id": "98a65f24-1008-424e-8188-ec10edec502e",
   "metadata": {},
   "outputs": [],
   "source": []
  }
 ],
 "metadata": {
  "kernelspec": {
   "display_name": "Python 3 (ipykernel)",
   "language": "python",
   "name": "python3"
  },
  "language_info": {
   "codemirror_mode": {
    "name": "ipython",
    "version": 3
   },
   "file_extension": ".py",
   "mimetype": "text/x-python",
   "name": "python",
   "nbconvert_exporter": "python",
   "pygments_lexer": "ipython3",
   "version": "3.11.7"
  }
 },
 "nbformat": 4,
 "nbformat_minor": 5
}

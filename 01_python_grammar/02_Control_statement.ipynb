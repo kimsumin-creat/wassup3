{
 "cells": [
  {
   "cell_type": "markdown",
   "id": "f9dd4447-d54c-4cb7-93dc-4549a08936d9",
   "metadata": {},
   "source": [
    "# if문"
   ]
  },
  {
   "cell_type": "code",
   "execution_count": 3,
   "id": "ed9b4478-6905-4ecc-8fbe-8c3bbd8404aa",
   "metadata": {},
   "outputs": [
    {
     "name": "stdout",
     "output_type": "stream",
     "text": [
      "택시를 타고 가라\n"
     ]
    }
   ],
   "source": [
    "money = True\n",
    "if money:\n",
    "     print(\"택시를 타고 가라\")\n",
    "else:\n",
    "     print(\"걸어 가라\")"
   ]
  },
  {
   "cell_type": "markdown",
   "id": "43115fbd-c3c5-4348-a893-7839c6bcbdcc",
   "metadata": {},
   "source": [
    "## 조건문이란 무엇인가?\n",
    "참과 거짓을 판단하는 문장"
   ]
  },
  {
   "cell_type": "code",
   "execution_count": 4,
   "id": "6476cf19-549f-4ddc-812b-819c1e377385",
   "metadata": {},
   "outputs": [
    {
     "data": {
      "text/plain": [
       "True"
      ]
     },
     "execution_count": 4,
     "metadata": {},
     "output_type": "execute_result"
    }
   ],
   "source": [
    "#비교연산자\n",
    "x=3\n",
    "y=2\n",
    "x>y"
   ]
  },
  {
   "cell_type": "code",
   "execution_count": 5,
   "id": "d2eb85f2-03f3-4a63-9109-bcf1ce15de62",
   "metadata": {},
   "outputs": [
    {
     "data": {
      "text/plain": [
       "False"
      ]
     },
     "execution_count": 5,
     "metadata": {},
     "output_type": "execute_result"
    }
   ],
   "source": [
    "x<y"
   ]
  },
  {
   "cell_type": "code",
   "execution_count": 6,
   "id": "6799e5a3-f961-4dc0-979b-6f8404649a2a",
   "metadata": {},
   "outputs": [
    {
     "data": {
      "text/plain": [
       "True"
      ]
     },
     "execution_count": 6,
     "metadata": {},
     "output_type": "execute_result"
    }
   ],
   "source": [
    "x!=y"
   ]
  },
  {
   "cell_type": "code",
   "execution_count": 8,
   "id": "18c777b5-fffd-4ba9-94b3-bc9e0436f440",
   "metadata": {},
   "outputs": [
    {
     "name": "stdout",
     "output_type": "stream",
     "text": [
      "택시 타기\n"
     ]
    }
   ],
   "source": [
    "money=3000\n",
    "if money>=3000:\n",
    "    print(\"택시 타기\")\n",
    "else:\n",
    "    print(\"걸어 가랏\")\n",
    "    "
   ]
  },
  {
   "cell_type": "code",
   "execution_count": null,
   "id": "366daa66-2632-42ba-84f9-7977fe0dcc46",
   "metadata": {},
   "outputs": [],
   "source": [
    "#and,or,not"
   ]
  },
  {
   "cell_type": "code",
   "execution_count": 11,
   "id": "e4e221e3-34d0-41e5-ba84-875fb5224a21",
   "metadata": {},
   "outputs": [
    {
     "name": "stdout",
     "output_type": "stream",
     "text": [
      "택시 타기\n"
     ]
    }
   ],
   "source": [
    "#돈이 3000원 이상 있거나 카드가 있다면 택시를 타고 가고, 그렇지 않으면 걸어가라.\n",
    "money=2000\n",
    "card=True\n",
    "if money>=3000 or card:\n",
    "    print(\"택시 타기\")\n",
    "else:\n",
    "    print(\"걸어 가랏\")"
   ]
  },
  {
   "cell_type": "markdown",
   "id": "99907950-dbcc-478f-8fad-7a72a9390eb8",
   "metadata": {},
   "source": [
    "## in, not in"
   ]
  },
  {
   "cell_type": "code",
   "execution_count": 13,
   "id": "4d5a01d8-f05b-4b21-a323-3e4044fb8f37",
   "metadata": {},
   "outputs": [
    {
     "data": {
      "text/plain": [
       "True"
      ]
     },
     "execution_count": 13,
     "metadata": {},
     "output_type": "execute_result"
    }
   ],
   "source": [
    "1 in [1,2,3]"
   ]
  },
  {
   "cell_type": "code",
   "execution_count": 14,
   "id": "2c6d3a4f-b78c-425c-a81a-9ddc8d0f1970",
   "metadata": {},
   "outputs": [
    {
     "data": {
      "text/plain": [
       "False"
      ]
     },
     "execution_count": 14,
     "metadata": {},
     "output_type": "execute_result"
    }
   ],
   "source": [
    "1 not in [1,2,3]"
   ]
  },
  {
   "cell_type": "code",
   "execution_count": 17,
   "id": "f6356b90-d0c9-4b55-b4bf-154f7b87c394",
   "metadata": {},
   "outputs": [
    {
     "name": "stdout",
     "output_type": "stream",
     "text": [
      "택시 타기\n"
     ]
    }
   ],
   "source": [
    "pocket=['card', 'money', 'phone']\n",
    "if 'money' in pocket:\n",
    "    print(\"택시 타기\")\n",
    "else:\n",
    "    print(\"걸어 가랏\")"
   ]
  },
  {
   "cell_type": "code",
   "execution_count": 19,
   "id": "1bddbd4b-2cfd-402a-a79d-255a87cbab38",
   "metadata": {},
   "outputs": [],
   "source": [
    "pocket=['card', 'money', 'phone']\n",
    "if 'money' in pocket:\n",
    "    pass\n",
    "else:\n",
    "    print(\"걸어 가랏\")"
   ]
  },
  {
   "cell_type": "markdown",
   "id": "9a99cd34-fb35-4dbb-a31d-48d68512adab",
   "metadata": {},
   "source": [
    "## 다양한 조건을 판단하는 elif"
   ]
  },
  {
   "cell_type": "code",
   "execution_count": 24,
   "id": "9afb67b8-f40e-48b1-91db-31a8c40c5b1b",
   "metadata": {},
   "outputs": [
    {
     "name": "stdout",
     "output_type": "stream",
     "text": [
      "택시 타기\n"
     ]
    }
   ],
   "source": [
    "pocket=['card', 'money', 'phone']\n",
    "if 'money' in pocket:\n",
    "    print(\"택시 타기\")\n",
    "else:\n",
    "    if 'card' in pocket:\n",
    "        print(\"택시 타기\")\n",
    "    else:\n",
    "        print(\"걸어 가랏\")"
   ]
  },
  {
   "cell_type": "code",
   "execution_count": null,
   "id": "524abbf3-7380-427a-8be4-39326344543d",
   "metadata": {},
   "outputs": [],
   "source": [
    "pocket=['card', 'money', 'phone']\n",
    "if 'money' in pocket:\n",
    "    print(\"택시 타기\")\n",
    "elif 'card' in pocket:\n",
    "    print(\"택시 타기\")\n",
    "else:\n",
    "    print(\"걸어 가랏\")"
   ]
  },
  {
   "cell_type": "markdown",
   "id": "7d96c38f-44e3-4695-9a9c-9cd95d4105f3",
   "metadata": {},
   "source": [
    "## 조건부 표현식"
   ]
  },
  {
   "cell_type": "code",
   "execution_count": 26,
   "id": "abd4f7fd-f835-479a-9707-8ff30df32ad2",
   "metadata": {},
   "outputs": [
    {
     "name": "stdout",
     "output_type": "stream",
     "text": [
      "success\n"
     ]
    }
   ],
   "source": [
    "score=88\n",
    "if score >= 60:\n",
    "    message = \"success\"\n",
    "else:\n",
    "    message = \"failure\"\n",
    "print(message)"
   ]
  },
  {
   "cell_type": "code",
   "execution_count": 30,
   "id": "4a2f257c-421d-4d1e-a20c-e33a4cad2c8b",
   "metadata": {},
   "outputs": [
    {
     "name": "stdout",
     "output_type": "stream",
     "text": [
      "success\n"
     ]
    }
   ],
   "source": [
    "message = \"success\" if score >= 60 else \"failure\" #조건부표현식으로 사용하면 이처럼 간단히 표현가능\n",
    "print(message)"
   ]
  },
  {
   "cell_type": "markdown",
   "id": "8cec21b6-c280-4005-bd25-19db4403fd69",
   "metadata": {},
   "source": [
    "# while 조건 반복문"
   ]
  },
  {
   "cell_type": "code",
   "execution_count": null,
   "id": "18d61dbb-5d80-4ad4-9c62-8e15e18f1274",
   "metadata": {},
   "outputs": [],
   "source": [
    "#열번 찍어 안넘어가는 나무 없다 속담을 외일문으로!"
   ]
  },
  {
   "cell_type": "code",
   "execution_count": 31,
   "id": "32da37f4-1e73-4862-90d8-39a4647885d1",
   "metadata": {},
   "outputs": [
    {
     "name": "stdout",
     "output_type": "stream",
     "text": [
      "나무를 1번 찍었습니다.\n",
      "나무를 2번 찍었습니다.\n",
      "나무를 3번 찍었습니다.\n",
      "나무를 4번 찍었습니다.\n",
      "나무를 5번 찍었습니다.\n",
      "나무를 6번 찍었습니다.\n",
      "나무를 7번 찍었습니다.\n",
      "나무를 8번 찍었습니다.\n",
      "나무를 9번 찍었습니다.\n",
      "나무를 10번 찍었습니다.\n",
      "나무 넘어갑니다.\n"
     ]
    }
   ],
   "source": [
    "treeHit = 0\n",
    "while treeHit < 10:\n",
    "     treeHit = treeHit +1\n",
    "     print(\"나무를 %d번 찍었습니다.\" % treeHit)\n",
    "     if treeHit == 10:\n",
    "         print(\"나무 넘어갑니다.\")"
   ]
  },
  {
   "cell_type": "markdown",
   "id": "ba090c2f-2f9e-4c8c-8d6b-08fb506beb92",
   "metadata": {},
   "source": [
    "## while문 만들기"
   ]
  },
  {
   "cell_type": "code",
   "execution_count": 38,
   "id": "a40884fb-fbc1-4fbc-96b8-89f29f4d075b",
   "metadata": {},
   "outputs": [],
   "source": [
    "prompt=\"\"\" \n",
    "    1. Add\n",
    "    2. Del\n",
    "    3. List\n",
    "    4. Quit\n",
    "\n",
    "Enter number : \"\"\""
   ]
  },
  {
   "cell_type": "code",
   "execution_count": 39,
   "id": "fd8e3529-a90e-42c0-8e31-30dda72e032c",
   "metadata": {},
   "outputs": [
    {
     "name": "stdout",
     "output_type": "stream",
     "text": [
      " \n",
      "    1. Add\n",
      "    2. Del\n",
      "    3. List\n",
      "    4. Quit\n",
      "\n",
      "Enter number : \n"
     ]
    }
   ],
   "source": [
    "print(prompt)"
   ]
  },
  {
   "cell_type": "code",
   "execution_count": 40,
   "id": "0624393e-62c8-4259-8502-4350605f505b",
   "metadata": {},
   "outputs": [
    {
     "name": "stdout",
     "output_type": "stream",
     "text": [
      " \n",
      "    1. Add\n",
      "    2. Del\n",
      "    3. List\n",
      "    4. Quit\n",
      "\n",
      "Enter number : \n"
     ]
    },
    {
     "name": "stdin",
     "output_type": "stream",
     "text": [
      " 3\n"
     ]
    },
    {
     "name": "stdout",
     "output_type": "stream",
     "text": [
      " \n",
      "    1. Add\n",
      "    2. Del\n",
      "    3. List\n",
      "    4. Quit\n",
      "\n",
      "Enter number : \n"
     ]
    },
    {
     "name": "stdin",
     "output_type": "stream",
     "text": [
      " 4\n"
     ]
    }
   ],
   "source": [
    "number=0\n",
    "while number !=4:\n",
    "    print(prompt)\n",
    "    number = int(input())"
   ]
  },
  {
   "cell_type": "markdown",
   "id": "84d5c705-6500-4e34-b8f2-5cec2d683462",
   "metadata": {},
   "source": [
    "## while문 강제로 빠져나가기"
   ]
  },
  {
   "cell_type": "code",
   "execution_count": 42,
   "id": "c3d82969-ed24-45e8-b1d4-173cc385942e",
   "metadata": {},
   "outputs": [
    {
     "name": "stdout",
     "output_type": "stream",
     "text": [
      "돈을 받았으니 커피를 준다.\n"
     ]
    },
    {
     "ename": "NameError",
     "evalue": "name 'coffee' is not defined",
     "output_type": "error",
     "traceback": [
      "\u001b[1;31m---------------------------------------------------------------------------\u001b[0m",
      "\u001b[1;31mNameError\u001b[0m                                 Traceback (most recent call last)",
      "Cell \u001b[1;32mIn[42], line 6\u001b[0m\n\u001b[0;32m      4\u001b[0m \u001b[38;5;28;01mwhile\u001b[39;00m money :\n\u001b[0;32m      5\u001b[0m     \u001b[38;5;28mprint\u001b[39m(\u001b[38;5;124m\"\u001b[39m\u001b[38;5;124m돈을 받았으니 커피를 준다.\u001b[39m\u001b[38;5;124m\"\u001b[39m)\n\u001b[1;32m----> 6\u001b[0m     coffee\u001b[38;5;241m=\u001b[39mcoffee\u001b[38;5;241m-\u001b[39m\u001b[38;5;241m1\u001b[39m\n\u001b[0;32m      7\u001b[0m     \u001b[38;5;28mprint\u001b[39m(\u001b[38;5;124mf\u001b[39m\u001b[38;5;124m\"\u001b[39m\u001b[38;5;124m남은 커피의 양\u001b[39m\u001b[38;5;132;01m{\u001b[39;00mcoffee\u001b[38;5;132;01m}\u001b[39;00m\u001b[38;5;124m이다\u001b[39m\u001b[38;5;124m\"\u001b[39m)\n\u001b[0;32m      8\u001b[0m     \u001b[38;5;28;01mif\u001b[39;00m coffee\u001b[38;5;241m==\u001b[39m\u001b[38;5;241m0\u001b[39m:\n",
      "\u001b[1;31mNameError\u001b[0m: name 'coffee' is not defined"
     ]
    }
   ],
   "source": [
    "money=300\n",
    "money=300\n",
    "\n",
    "while money:\n",
    "    print(\"돈을 받았으니 커피를 준다.\")\n",
    "    coffee=coffee-1\n",
    "    print(f\"남은 커피의 양{coffee}이다\")\n",
    "    if coffee==0:\n",
    "        print(\"판매중지\")\n",
    "        break\n",
    "    "
   ]
  },
  {
   "cell_type": "markdown",
   "id": "4180c2e4-c171-4a21-9b10-e8e5f9c20c97",
   "metadata": {},
   "source": [
    "### 퀴즈\n",
    "1. 머니를 사용자가 입력받는다\n",
    "2. 커피 가격 300원\n",
    "3. 커피가격이 일치 하지않으면 잔돈 거슬러주기\n",
    "4. 커피 재고가 떨어지면 종료"
   ]
  },
  {
   "cell_type": "code",
   "execution_count": 48,
   "id": "9118a537-f294-4517-b0d3-145ce0abe32d",
   "metadata": {},
   "outputs": [
    {
     "ename": "SyntaxError",
     "evalue": "expected ':' (370825117.py, line 5)",
     "output_type": "error",
     "traceback": [
      "\u001b[1;36m  Cell \u001b[1;32mIn[48], line 5\u001b[1;36m\u001b[0m\n\u001b[1;33m    if(money!=300)\u001b[0m\n\u001b[1;37m                  ^\u001b[0m\n\u001b[1;31mSyntaxError\u001b[0m\u001b[1;31m:\u001b[0m expected ':'\n"
     ]
    }
   ],
   "source": [
    "money= int(input())\n",
    "coffee=10\n",
    "\n",
    "while True:\n",
    "    if(money!=300)\n",
    "        print(\"잔돈 거슬러주기\")\n",
    "    elif(money>=300)\n",
    "        print(\"커피주기\")\n",
    "        coffee=coffe-1\n",
    "        \n",
    "    elif(coffee==0)\n",
    "        break"
   ]
  },
  {
   "cell_type": "code",
   "execution_count": 51,
   "id": "c7af8299-4410-4c64-85b9-b3edf6c2b01f",
   "metadata": {},
   "outputs": [
    {
     "ename": "SyntaxError",
     "evalue": "invalid syntax. Maybe you meant '==' or ':=' instead of '='? (2141664638.py, line 6)",
     "output_type": "error",
     "traceback": [
      "\u001b[1;36m  Cell \u001b[1;32mIn[51], line 6\u001b[1;36m\u001b[0m\n\u001b[1;33m    if money=300:\u001b[0m\n\u001b[1;37m       ^\u001b[0m\n\u001b[1;31mSyntaxError\u001b[0m\u001b[1;31m:\u001b[0m invalid syntax. Maybe you meant '==' or ':=' instead of '='?\n"
     ]
    }
   ],
   "source": [
    "coffee=10\n",
    "\n",
    "while True:\n",
    "    money=int(input(\"돈을 넣기: \"))\n",
    "\n",
    "    if money==300:\n",
    "        print(\"300원 받기 커피를 준다.\")\n",
    "    elif money>300:\n",
    "        print(\"거스름돈 주고 커피제공하기\")\n",
    "    else: \n",
    "        print(\"돈이 부족하다\")\n",
    "    if coffee==0:\n",
    "        print(\"커피 소진, 판매중지\")\n",
    "        break"
   ]
  },
  {
   "cell_type": "code",
   "execution_count": null,
   "id": "453787d5-ce92-44aa-956f-e42f5d72bfba",
   "metadata": {},
   "outputs": [
    {
     "name": "stdin",
     "output_type": "stream",
     "text": [
      "돈을 넣기:  500\n"
     ]
    },
    {
     "name": "stdout",
     "output_type": "stream",
     "text": [
      "거스름돈 주고 커피제공하기\n",
      "남은 커피 수량은 9이다\n"
     ]
    },
    {
     "name": "stdin",
     "output_type": "stream",
     "text": [
      "돈을 넣기:  400\n"
     ]
    },
    {
     "name": "stdout",
     "output_type": "stream",
     "text": [
      "거스름돈 주고 커피제공하기\n",
      "남은 커피 수량은 8이다\n"
     ]
    },
    {
     "name": "stdin",
     "output_type": "stream",
     "text": [
      "돈을 넣기:  300\n"
     ]
    },
    {
     "name": "stdout",
     "output_type": "stream",
     "text": [
      "300원 받기 커피를 준다.\n",
      "0남은 커피 수량은 7이다\n"
     ]
    },
    {
     "name": "stdin",
     "output_type": "stream",
     "text": [
      "돈을 넣기:  500\n"
     ]
    },
    {
     "name": "stdout",
     "output_type": "stream",
     "text": [
      "거스름돈 주고 커피제공하기\n",
      "남은 커피 수량은 6이다\n"
     ]
    },
    {
     "name": "stdin",
     "output_type": "stream",
     "text": [
      "돈을 넣기:  800\n"
     ]
    },
    {
     "name": "stdout",
     "output_type": "stream",
     "text": [
      "거스름돈 주고 커피제공하기\n",
      "남은 커피 수량은 5이다\n"
     ]
    },
    {
     "name": "stdin",
     "output_type": "stream",
     "text": [
      "돈을 넣기:  100\n"
     ]
    },
    {
     "name": "stdout",
     "output_type": "stream",
     "text": [
      "돈이 부족하다\n",
      "남은 커피 수량은 5이다\n"
     ]
    }
   ],
   "source": [
    "coffee=10\n",
    "\n",
    "while True:\n",
    "    money=int(input(\"돈을 넣기: \"))\n",
    "\n",
    "    if money==300:\n",
    "        print(\"300원 받기 커피를 준다.\")\n",
    "        coffee=coffee-1\n",
    "        print(f\"{money-300}남은 커피 수량은 {coffee}이다\")\n",
    "    elif money>300:\n",
    "        print(\"거스름돈 주고 커피제공하기\")\n",
    "        coffee=coffee-1\n",
    "        print(f\"남은 커피 수량은 {coffee}이다\")\n",
    "    else: \n",
    "        print(\"돈이 부족하다\")\n",
    "        print(f\"남은 커피 수량은 {coffee}이다\")\n",
    "    if coffee==0:\n",
    "        print(\"커피 소진, 판매중지\")\n",
    "        break"
   ]
  },
  {
   "cell_type": "markdown",
   "id": "7a90d04b-19f0-48a5-b3d9-507806b1c905",
   "metadata": {},
   "source": [
    "# for loop문"
   ]
  },
  {
   "cell_type": "code",
   "execution_count": null,
   "id": "7ac8138e-cdc3-4ac6-9d8f-edaadecf3fe5",
   "metadata": {},
   "outputs": [],
   "source": [
    "#멤버들을 한번에 하나씩 돌려줄수 있는 객체를 이터러블하다라고 말한다. for문은 이터러블 하다."
   ]
  },
  {
   "cell_type": "code",
   "execution_count": 2,
   "id": "96b46a6b-1b70-4362-a44e-0b1addec7870",
   "metadata": {},
   "outputs": [
    {
     "name": "stdout",
     "output_type": "stream",
     "text": [
      "one\n",
      "two\n",
      "three\n"
     ]
    }
   ],
   "source": [
    "test_list = ['one', 'two', 'three'] \n",
    "for i in test_list: \n",
    "     print(i)"
   ]
  },
  {
   "cell_type": "code",
   "execution_count": 3,
   "id": "196cf4bc-0388-4bfe-817e-8d70498eb3bc",
   "metadata": {},
   "outputs": [
    {
     "name": "stdout",
     "output_type": "stream",
     "text": [
      "3\n",
      "7\n",
      "11\n"
     ]
    }
   ],
   "source": [
    "a = [(1,2), (3,4), (5,6)]\n",
    "for (first, last) in a:\n",
    "     print(first + last)"
   ]
  },
  {
   "cell_type": "code",
   "execution_count": 8,
   "id": "0a0c197d-3061-420b-a601-340229cb2e9f",
   "metadata": {},
   "outputs": [
    {
     "name": "stdout",
     "output_type": "stream",
     "text": [
      "합격\n",
      "불합격\n",
      "합격\n",
      "불합격\n",
      "합격\n"
     ]
    }
   ],
   "source": [
    "marks = [90, 25, 67, 45, 80]\n",
    "\n",
    "for a in marks:\n",
    "    if a>=60:\n",
    "        print(\"합격\")\n",
    "    else:\n",
    "        print(\"불합격\") "
   ]
  },
  {
   "cell_type": "markdown",
   "id": "f1bdd6d7-bf8e-49f6-b468-76256df52643",
   "metadata": {},
   "source": [
    "## for문과 continue"
   ]
  },
  {
   "cell_type": "code",
   "execution_count": 13,
   "id": "3f4b91c5-c5cb-425d-b173-7f86236d4007",
   "metadata": {},
   "outputs": [
    {
     "name": "stdout",
     "output_type": "stream",
     "text": [
      "1 학생 합격 ㅊㅋ\n",
      "2 학생 합격 ㅊㅋ\n",
      "3 학생 합격 ㅊㅋ\n"
     ]
    }
   ],
   "source": [
    "marks = [90, 25, 67, 45, 80] #컨티뉴는 처음으로 다시 돌아온다.\n",
    "num=0\n",
    "for a in marks:\n",
    "    if a>=60:\n",
    "        num=num+1\n",
    "        print(\"%d 학생 합격 ㅊㅋ\"%num)\n",
    "        \n",
    "    else:\n",
    "        continue"
   ]
  },
  {
   "cell_type": "markdown",
   "id": "61d09fd2-d718-4461-8d45-d8d627bcd82a",
   "metadata": {},
   "source": [
    "## for문과 함께 자주 사용하는 range"
   ]
  },
  {
   "cell_type": "code",
   "execution_count": 14,
   "id": "1061005c-0136-407c-bb30-b3b36f745fa5",
   "metadata": {},
   "outputs": [
    {
     "data": {
      "text/plain": [
       "range(0, 10)"
      ]
     },
     "execution_count": 14,
     "metadata": {},
     "output_type": "execute_result"
    }
   ],
   "source": [
    "range(10) #10개가 들어이'ㅅ는 박스인데 뜯지않았어 하지만 무조건10개"
   ]
  },
  {
   "cell_type": "code",
   "execution_count": 15,
   "id": "871b6b96-012d-4ae9-a02f-bd07548d1777",
   "metadata": {},
   "outputs": [
    {
     "data": {
      "text/plain": [
       "type"
      ]
     },
     "execution_count": 15,
     "metadata": {},
     "output_type": "execute_result"
    }
   ],
   "source": [
    "type(range)"
   ]
  },
  {
   "cell_type": "code",
   "execution_count": 16,
   "id": "b3029f27-5dd4-4baf-9876-1074a7813942",
   "metadata": {},
   "outputs": [
    {
     "name": "stdout",
     "output_type": "stream",
     "text": [
      "0\n",
      "1\n",
      "2\n",
      "3\n",
      "4\n",
      "5\n",
      "6\n",
      "7\n",
      "8\n",
      "9\n"
     ]
    }
   ],
   "source": [
    "for i in range(10):  #10번 돌려라\n",
    "    print(i)"
   ]
  },
  {
   "cell_type": "code",
   "execution_count": 19,
   "id": "9603c437-7db2-4f63-9b17-19835c3d5d2e",
   "metadata": {},
   "outputs": [
    {
     "name": "stdout",
     "output_type": "stream",
     "text": [
      "1\n",
      "2\n",
      "3\n",
      "4\n",
      "5\n",
      "6\n",
      "7\n",
      "8\n",
      "9\n",
      "10\n"
     ]
    }
   ],
   "source": [
    "for i in range(1,11):  #10번 돌려라\n",
    "    print(i)"
   ]
  },
  {
   "cell_type": "code",
   "execution_count": 29,
   "id": "b5f1a550-bc10-4d26-8b15-155290abcc06",
   "metadata": {},
   "outputs": [
    {
     "name": "stdout",
     "output_type": "stream",
     "text": [
      "1\n",
      "3\n",
      "6\n",
      "10\n",
      "15\n",
      "21\n",
      "28\n",
      "36\n",
      "45\n",
      "55\n"
     ]
    }
   ],
   "source": [
    "#1부터 10까지 더하는 프로그램\n",
    "sum = 0\n",
    "for i in range(1, 11):\n",
    "    sum += i\n",
    "    print(sum)"
   ]
  },
  {
   "cell_type": "code",
   "execution_count": null,
   "id": "473aea1e-5ec9-4395-81f4-0d55d82885ba",
   "metadata": {},
   "outputs": [],
   "source": [
    "marks = [90, 25, 67, 45, 80]\n",
    "for number in range(len(marks)):\n",
    "    if marks[number] < 60: \n",
    "        continue\n",
    "    print(\"%d번 학생 축하합니다. 합격입니다.\" % (number+1))\n"
   ]
  },
  {
   "cell_type": "markdown",
   "id": "35b92bc6-fe2b-41f2-a2c2-0ee4c4c044fb",
   "metadata": {},
   "source": [
    "## 구구단"
   ]
  },
  {
   "cell_type": "code",
   "execution_count": 64,
   "id": "b7770b23-3f8d-4f06-909d-465449b83e44",
   "metadata": {},
   "outputs": [
    {
     "name": "stdout",
     "output_type": "stream",
     "text": [
      "2 4 6 8 10 12 14 16 18 \n",
      "\n",
      "3 6 9 12 15 18 21 24 27 \n",
      "\n",
      "4 8 12 16 20 24 28 32 36 \n",
      "\n",
      "5 10 15 20 25 30 35 40 45 \n",
      "\n",
      "6 12 18 24 30 36 42 48 54 \n",
      "\n",
      "7 14 21 28 35 42 49 56 63 \n",
      "\n",
      "8 16 24 32 40 48 56 64 72 \n",
      "\n",
      "9 18 27 36 45 54 63 72 81 \n",
      "\n"
     ]
    }
   ],
   "source": [
    "for i in range(2,10):\n",
    "    for j in range(1,10):\n",
    "        print(i*j, end=\" \")\n",
    "    print(\"\\n\")\n",
    "i+=1"
   ]
  },
  {
   "cell_type": "markdown",
   "id": "6371c11c-ee3a-46a5-ad30-782e5d150d75",
   "metadata": {},
   "source": [
    "## 리스트 컴프리헨션"
   ]
  },
  {
   "cell_type": "code",
   "execution_count": null,
   "id": "343720dd-6aa5-4d2a-b9fa-43644e1a4861",
   "metadata": {},
   "outputs": [],
   "source": [
    "#데이터를 가공하기위해 데이터를 가져오고 append로 다시 붙여준다. -> 즉 데이터 전처리 하기위해 \n",
    "#간단하게 작성한다\n",
    "#퍼포먼스 때문에 리스트 컴프리헨션을 쓴다. "
   ]
  },
  {
   "cell_type": "code",
   "execution_count": 67,
   "id": "0f155340-c88e-43bc-b85b-eda91e448b0e",
   "metadata": {},
   "outputs": [
    {
     "name": "stdout",
     "output_type": "stream",
     "text": [
      "List Comprehension Time: 0.16229557991027832\n",
      "For loop Time: 0.3273451328277588\n"
     ]
    }
   ],
   "source": [
    "import time\n",
    "\n",
    "#list comprehension\n",
    "start = time.time() \n",
    "numbers = [i for i in range(1000000)] \n",
    "end = time.time() \n",
    "print('List Comprehension Time:', end-start)\n",
    "\n",
    "#for loop\n",
    "start = time.time() \n",
    "numbers = []\n",
    "for i in range(1000000):\n",
    "    numbers.append(i)\n",
    "end = time.time() \n",
    "print('For loop Time:', end-start)"
   ]
  },
  {
   "cell_type": "code",
   "execution_count": null,
   "id": "f545771d-9e42-4d26-acd6-f756242a46f1",
   "metadata": {},
   "outputs": [],
   "source": []
  },
  {
   "cell_type": "code",
   "execution_count": null,
   "id": "1a3a4123-dc56-4e36-91da-32f78cffc46b",
   "metadata": {},
   "outputs": [],
   "source": []
  },
  {
   "cell_type": "code",
   "execution_count": null,
   "id": "cbf1572f-0484-4fec-b9ec-bf64c38dc32b",
   "metadata": {},
   "outputs": [],
   "source": []
  },
  {
   "cell_type": "code",
   "execution_count": null,
   "id": "4bda1f51-d490-4294-80b0-c6d015f5365d",
   "metadata": {},
   "outputs": [],
   "source": []
  },
  {
   "cell_type": "code",
   "execution_count": null,
   "id": "769ae4a6-189d-4ccf-b499-742e4c25af7f",
   "metadata": {},
   "outputs": [],
   "source": []
  },
  {
   "cell_type": "code",
   "execution_count": null,
   "id": "0e54b2ff-6ba0-43c6-a715-3c14dae75e95",
   "metadata": {},
   "outputs": [],
   "source": []
  },
  {
   "cell_type": "code",
   "execution_count": null,
   "id": "041a1c79-1c5b-41bc-846c-1434620f98ff",
   "metadata": {},
   "outputs": [],
   "source": []
  },
  {
   "cell_type": "code",
   "execution_count": null,
   "id": "1e218885-7602-4f04-b831-bedd5dc2c2af",
   "metadata": {},
   "outputs": [],
   "source": []
  },
  {
   "cell_type": "code",
   "execution_count": null,
   "id": "2357ae30-8d3b-434b-a60b-982c4bb74e7e",
   "metadata": {},
   "outputs": [],
   "source": []
  },
  {
   "cell_type": "code",
   "execution_count": null,
   "id": "7f1923a2-82df-420b-8bdf-a026a844e232",
   "metadata": {},
   "outputs": [],
   "source": []
  },
  {
   "cell_type": "code",
   "execution_count": null,
   "id": "a1479fde-ed14-4fb4-a72a-7d109c4db1c8",
   "metadata": {},
   "outputs": [],
   "source": []
  },
  {
   "cell_type": "code",
   "execution_count": null,
   "id": "bbc94aa3-b964-4ad7-a06a-eee2e46b07bd",
   "metadata": {},
   "outputs": [],
   "source": []
  },
  {
   "cell_type": "code",
   "execution_count": null,
   "id": "38459712-d7a4-411f-96d9-f64d4e2c1b69",
   "metadata": {},
   "outputs": [],
   "source": []
  },
  {
   "cell_type": "code",
   "execution_count": null,
   "id": "f3850edd-9726-45a3-9f95-4951ef12b76c",
   "metadata": {
    "editable": true,
    "slideshow": {
     "slide_type": ""
    },
    "tags": []
   },
   "outputs": [],
   "source": []
  },
  {
   "cell_type": "code",
   "execution_count": null,
   "id": "57353bee-0472-4fb6-8f27-9d22d0bd2147",
   "metadata": {},
   "outputs": [],
   "source": []
  },
  {
   "cell_type": "code",
   "execution_count": null,
   "id": "565f6e31-9035-4cef-b01c-69fd53e4f326",
   "metadata": {
    "editable": true,
    "slideshow": {
     "slide_type": ""
    },
    "tags": []
   },
   "outputs": [],
   "source": []
  }
 ],
 "metadata": {
  "kernelspec": {
   "display_name": "Python 3 (ipykernel)",
   "language": "python",
   "name": "python3"
  },
  "language_info": {
   "codemirror_mode": {
    "name": "ipython",
    "version": 3
   },
   "file_extension": ".py",
   "mimetype": "text/x-python",
   "name": "python",
   "nbconvert_exporter": "python",
   "pygments_lexer": "ipython3",
   "version": "3.11.7"
  }
 },
 "nbformat": 4,
 "nbformat_minor": 5
}

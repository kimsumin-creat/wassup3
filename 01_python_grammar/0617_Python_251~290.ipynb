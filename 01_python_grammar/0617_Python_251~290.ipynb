{
 "cells": [
  {
   "cell_type": "markdown",
   "id": "d944312d-a2e5-4297-ab76-8eb3225699c5",
   "metadata": {},
   "source": [
    "# 초보자를 위한 파이썬 251~290"
   ]
  },
  {
   "cell_type": "code",
   "execution_count": null,
   "id": "6f4b5368-bdb0-476b-b299-6b5afe2287b1",
   "metadata": {},
   "outputs": [],
   "source": [
    "#251\n",
    "클래스는 데이터와 함수를 모아 정의\n",
    "객체는 클래스로 만들어진 결과물"
   ]
  },
  {
   "cell_type": "code",
   "execution_count": 1,
   "id": "69c0f960-6e55-442d-aef0-b6b670d4a178",
   "metadata": {},
   "outputs": [],
   "source": [
    "#252\n",
    "class Human:\n",
    "    pass"
   ]
  },
  {
   "cell_type": "code",
   "execution_count": 3,
   "id": "598224b4-4684-4b22-92f9-a9fc29876085",
   "metadata": {},
   "outputs": [],
   "source": [
    "#253\n",
    "class Human:\n",
    "    pass\n",
    "areum=Human()"
   ]
  },
  {
   "cell_type": "code",
   "execution_count": 9,
   "id": "fae6a908-5cf2-43e7-b8be-7eb861e1c075",
   "metadata": {},
   "outputs": [
    {
     "name": "stdout",
     "output_type": "stream",
     "text": [
      "응애응애\n"
     ]
    }
   ],
   "source": [
    "#254\n",
    "class Human:\n",
    "    def __init__(self):\n",
    "        print(\"응애응애\")\n",
    "areum=Human()"
   ]
  },
  {
   "cell_type": "code",
   "execution_count": 15,
   "id": "41625dc7-fe63-411c-bca1-03fa9363c219",
   "metadata": {},
   "outputs": [
    {
     "name": "stdout",
     "output_type": "stream",
     "text": [
      "아름 25 여자\n"
     ]
    }
   ],
   "source": [
    "#255\n",
    "class Human:\n",
    "    def __init__(self,name,age,sex):\n",
    "        self.name=name\n",
    "        self.age=age\n",
    "        self.sex=sex\n",
    "        \n",
    "areum = Human(\"아름\", 25, \"여자\")\n",
    "print(areum.name,areum.age,areum.sex)"
   ]
  },
  {
   "cell_type": "code",
   "execution_count": 17,
   "id": "3747a44d-3b5b-4b75-96d0-6b0c6b97b50a",
   "metadata": {},
   "outputs": [
    {
     "name": "stdout",
     "output_type": "stream",
     "text": [
      "아름 25 여자\n"
     ]
    }
   ],
   "source": [
    "#256\n",
    "class Human:\n",
    "    def __init__(self,name,age,sex):\n",
    "        self.name=name\n",
    "        self.age=age\n",
    "        self.sex=sex\n",
    "        \n",
    "areum = Human(\"아름\", 25, \"여자\")\n",
    "print(areum.name,areum.age,areum.sex)\n"
   ]
  },
  {
   "cell_type": "code",
   "execution_count": 19,
   "id": "e90b757a-0db3-403a-a14d-01c199117745",
   "metadata": {},
   "outputs": [
    {
     "ename": "TypeError",
     "evalue": "Human() takes no arguments",
     "output_type": "error",
     "traceback": [
      "\u001b[1;31m---------------------------------------------------------------------------\u001b[0m",
      "\u001b[1;31mTypeError\u001b[0m                                 Traceback (most recent call last)",
      "Cell \u001b[1;32mIn[19], line 7\u001b[0m\n\u001b[0;32m      5\u001b[0m         \u001b[38;5;28mself\u001b[39m\u001b[38;5;241m.\u001b[39mage\u001b[38;5;241m=\u001b[39mage\n\u001b[0;32m      6\u001b[0m         \u001b[38;5;28mself\u001b[39m\u001b[38;5;241m.\u001b[39msex\u001b[38;5;241m=\u001b[39msex\n\u001b[1;32m----> 7\u001b[0m areum\u001b[38;5;241m=\u001b[39mHuman(\u001b[38;5;124m\"\u001b[39m\u001b[38;5;124m조아름\u001b[39m\u001b[38;5;124m\"\u001b[39m,\u001b[38;5;241m25\u001b[39m,\u001b[38;5;124m\"\u001b[39m\u001b[38;5;124m여자\u001b[39m\u001b[38;5;124m\"\u001b[39m)\n\u001b[0;32m      8\u001b[0m \u001b[38;5;28mprint\u001b[39m(areum\u001b[38;5;241m.\u001b[39mwho())\n",
      "\u001b[1;31mTypeError\u001b[0m: Human() takes no arguments"
     ]
    }
   ],
   "source": [
    "#257\n"
   ]
  },
  {
   "cell_type": "code",
   "execution_count": null,
   "id": "9c95c7b0-bd1b-4598-8d67-912461e40d42",
   "metadata": {},
   "outputs": [],
   "source": []
  },
  {
   "cell_type": "code",
   "execution_count": null,
   "id": "b0af9280-99a3-482a-97bc-190ab943369b",
   "metadata": {},
   "outputs": [],
   "source": []
  },
  {
   "cell_type": "code",
   "execution_count": null,
   "id": "2e105aa6-b91d-4093-b5cd-e450761fdeab",
   "metadata": {},
   "outputs": [],
   "source": []
  },
  {
   "cell_type": "code",
   "execution_count": null,
   "id": "eab73df4-6051-467e-88d4-20026de888fe",
   "metadata": {},
   "outputs": [],
   "source": []
  },
  {
   "cell_type": "code",
   "execution_count": null,
   "id": "88764527-d150-441c-81be-35fec51804d5",
   "metadata": {},
   "outputs": [],
   "source": []
  },
  {
   "cell_type": "code",
   "execution_count": null,
   "id": "21a01e9a-e302-45d0-8d4c-c4adeaf02b39",
   "metadata": {},
   "outputs": [],
   "source": []
  },
  {
   "cell_type": "code",
   "execution_count": null,
   "id": "d7914108-59b8-4a56-9cd8-fb12050a4403",
   "metadata": {},
   "outputs": [],
   "source": []
  },
  {
   "cell_type": "code",
   "execution_count": null,
   "id": "2b2e5d9e-63e9-463f-8a43-3b7f321242eb",
   "metadata": {},
   "outputs": [],
   "source": []
  },
  {
   "cell_type": "code",
   "execution_count": null,
   "id": "a8b95de9-fb9b-46c6-a855-a1f9121fdfb8",
   "metadata": {},
   "outputs": [],
   "source": []
  },
  {
   "cell_type": "code",
   "execution_count": null,
   "id": "01cff1e2-e7c9-4aec-8966-8caeeb4c3a36",
   "metadata": {},
   "outputs": [],
   "source": []
  },
  {
   "cell_type": "code",
   "execution_count": null,
   "id": "026be913-ccf9-40b1-9d58-284db2db65c5",
   "metadata": {},
   "outputs": [],
   "source": []
  },
  {
   "cell_type": "code",
   "execution_count": null,
   "id": "c14856f0-2ed6-480d-9225-774d139275ae",
   "metadata": {},
   "outputs": [],
   "source": []
  },
  {
   "cell_type": "code",
   "execution_count": null,
   "id": "e2c34954-7d2a-4d37-89f6-93590f81732f",
   "metadata": {},
   "outputs": [],
   "source": []
  },
  {
   "cell_type": "code",
   "execution_count": null,
   "id": "7e2ac089-44b4-43e3-a931-f5d4e3a1c43f",
   "metadata": {},
   "outputs": [],
   "source": []
  },
  {
   "cell_type": "code",
   "execution_count": null,
   "id": "57914534-a268-41e5-9189-52e7b312302b",
   "metadata": {},
   "outputs": [],
   "source": []
  },
  {
   "cell_type": "code",
   "execution_count": null,
   "id": "66f29243-b321-4aad-824f-736d96070582",
   "metadata": {},
   "outputs": [],
   "source": []
  },
  {
   "cell_type": "code",
   "execution_count": null,
   "id": "b203f6e4-e413-4d95-8ae6-300e118fe3ac",
   "metadata": {},
   "outputs": [],
   "source": []
  },
  {
   "cell_type": "code",
   "execution_count": null,
   "id": "29eb97d5-551a-4fb0-83a2-8d2bab3c1608",
   "metadata": {},
   "outputs": [],
   "source": []
  },
  {
   "cell_type": "code",
   "execution_count": null,
   "id": "dccd9d9e-a4f5-462d-a311-930355cae9c1",
   "metadata": {},
   "outputs": [],
   "source": []
  },
  {
   "cell_type": "code",
   "execution_count": null,
   "id": "707a906b-378d-40cd-b79b-c3329ac00a92",
   "metadata": {},
   "outputs": [],
   "source": []
  },
  {
   "cell_type": "code",
   "execution_count": null,
   "id": "c0da7ddb-bbfc-4333-b8a7-af6b0aa6275f",
   "metadata": {},
   "outputs": [],
   "source": []
  },
  {
   "cell_type": "code",
   "execution_count": null,
   "id": "70b4a5ca-593d-4f92-9f5c-0844fde59860",
   "metadata": {},
   "outputs": [],
   "source": []
  },
  {
   "cell_type": "code",
   "execution_count": null,
   "id": "4fae00d0-2ee8-44f1-a8ff-85345fe2fee3",
   "metadata": {},
   "outputs": [],
   "source": []
  },
  {
   "cell_type": "code",
   "execution_count": null,
   "id": "0493bf07-78cb-43da-8769-a4bb5def0861",
   "metadata": {},
   "outputs": [],
   "source": []
  },
  {
   "cell_type": "code",
   "execution_count": null,
   "id": "d43fd739-d69f-4de5-88e8-9a9659e14ca9",
   "metadata": {},
   "outputs": [],
   "source": []
  },
  {
   "cell_type": "code",
   "execution_count": null,
   "id": "58c3f5a2-0048-4faf-9b85-845fda87de79",
   "metadata": {},
   "outputs": [],
   "source": []
  },
  {
   "cell_type": "code",
   "execution_count": null,
   "id": "2f60db4f-fcb6-4392-9121-d8ff3e4d3f5b",
   "metadata": {},
   "outputs": [],
   "source": []
  },
  {
   "cell_type": "code",
   "execution_count": null,
   "id": "4eb9caf7-0227-4f2a-8efb-7f3e72eac3b6",
   "metadata": {},
   "outputs": [],
   "source": []
  },
  {
   "cell_type": "code",
   "execution_count": null,
   "id": "7f3b99c0-49e4-463a-a6a1-201992c03587",
   "metadata": {},
   "outputs": [],
   "source": []
  },
  {
   "cell_type": "code",
   "execution_count": null,
   "id": "0e7e7afb-cd66-40f5-9e28-555afc89dbde",
   "metadata": {},
   "outputs": [],
   "source": []
  },
  {
   "cell_type": "code",
   "execution_count": null,
   "id": "df14e4fa-c3b2-4f43-891c-16bb9b643348",
   "metadata": {},
   "outputs": [],
   "source": []
  },
  {
   "cell_type": "code",
   "execution_count": null,
   "id": "c35273cd-405a-4ca6-90f2-e06bb3ef917b",
   "metadata": {},
   "outputs": [],
   "source": []
  },
  {
   "cell_type": "code",
   "execution_count": null,
   "id": "17950120-71d2-402c-aa0f-040b4a415e0f",
   "metadata": {},
   "outputs": [],
   "source": []
  },
  {
   "cell_type": "code",
   "execution_count": null,
   "id": "d7e1f560-ce14-4231-b3cc-d25f62dc8ba4",
   "metadata": {},
   "outputs": [],
   "source": []
  },
  {
   "cell_type": "code",
   "execution_count": null,
   "id": "3ccb1042-7f1c-45b0-b5ee-d787b90f13ba",
   "metadata": {},
   "outputs": [],
   "source": []
  },
  {
   "cell_type": "code",
   "execution_count": null,
   "id": "a952f8a6-7045-4978-8e91-6d5e2dc5e157",
   "metadata": {},
   "outputs": [],
   "source": []
  },
  {
   "cell_type": "code",
   "execution_count": null,
   "id": "27ce2dc4-d7df-49cb-81c3-384697ab2bf7",
   "metadata": {},
   "outputs": [],
   "source": []
  },
  {
   "cell_type": "code",
   "execution_count": null,
   "id": "433dfeef-d3f6-4aed-ad99-ea845fa836a9",
   "metadata": {},
   "outputs": [],
   "source": []
  },
  {
   "cell_type": "code",
   "execution_count": null,
   "id": "1f6e6f62-3e34-40a5-9093-0cbc41515142",
   "metadata": {},
   "outputs": [],
   "source": []
  },
  {
   "cell_type": "code",
   "execution_count": null,
   "id": "96fd2010-becc-4c9b-97b9-b074c5a65170",
   "metadata": {},
   "outputs": [],
   "source": []
  },
  {
   "cell_type": "code",
   "execution_count": null,
   "id": "ee1a1f0b-8f3a-4d0a-9ecf-827149ac3725",
   "metadata": {},
   "outputs": [],
   "source": []
  },
  {
   "cell_type": "code",
   "execution_count": null,
   "id": "6bd30b0e-5df5-4576-a16e-cd4933307e66",
   "metadata": {},
   "outputs": [],
   "source": []
  },
  {
   "cell_type": "code",
   "execution_count": null,
   "id": "8a1315f5-ce8e-4620-9d6d-f2b155876cf3",
   "metadata": {},
   "outputs": [],
   "source": []
  },
  {
   "cell_type": "code",
   "execution_count": null,
   "id": "b5f5afe2-97d3-44a5-bded-db5d42293f68",
   "metadata": {},
   "outputs": [],
   "source": []
  },
  {
   "cell_type": "code",
   "execution_count": null,
   "id": "191d1e55-3c83-45f6-a927-462f5a7bc23b",
   "metadata": {},
   "outputs": [],
   "source": []
  },
  {
   "cell_type": "code",
   "execution_count": null,
   "id": "4698a8d3-e073-4fcb-85c4-6beab173e48d",
   "metadata": {},
   "outputs": [],
   "source": []
  },
  {
   "cell_type": "code",
   "execution_count": null,
   "id": "d8e2be65-9b9d-4443-9de8-eb547fa95443",
   "metadata": {},
   "outputs": [],
   "source": []
  },
  {
   "cell_type": "code",
   "execution_count": null,
   "id": "770272a5-90e6-48a5-8313-50b665d9f7d5",
   "metadata": {},
   "outputs": [],
   "source": []
  },
  {
   "cell_type": "code",
   "execution_count": null,
   "id": "d67b74c4-b5ef-49b6-8553-616bf81e8ff1",
   "metadata": {},
   "outputs": [],
   "source": []
  },
  {
   "cell_type": "code",
   "execution_count": null,
   "id": "73d872d0-7fb9-4d80-8c0f-37df266736aa",
   "metadata": {},
   "outputs": [],
   "source": []
  },
  {
   "cell_type": "code",
   "execution_count": null,
   "id": "548a5154-c332-4a1a-937f-0a3b8e08057a",
   "metadata": {},
   "outputs": [],
   "source": []
  },
  {
   "cell_type": "code",
   "execution_count": null,
   "id": "ae51c76c-0f50-473e-b972-3bcc3fcc4d2c",
   "metadata": {},
   "outputs": [],
   "source": []
  },
  {
   "cell_type": "code",
   "execution_count": null,
   "id": "26b5c02a-dd5c-4c34-b266-b3a7923cbf28",
   "metadata": {},
   "outputs": [],
   "source": []
  },
  {
   "cell_type": "code",
   "execution_count": null,
   "id": "a6e92ceb-13fb-4b4e-ad39-0e8d38ea326e",
   "metadata": {},
   "outputs": [],
   "source": []
  },
  {
   "cell_type": "code",
   "execution_count": null,
   "id": "887df1b8-5a7b-4f79-9306-ebb569c0cbfb",
   "metadata": {},
   "outputs": [],
   "source": []
  },
  {
   "cell_type": "code",
   "execution_count": null,
   "id": "633ae35c-f14b-4c14-b7c6-8e3aa5e5d7be",
   "metadata": {},
   "outputs": [],
   "source": []
  },
  {
   "cell_type": "code",
   "execution_count": null,
   "id": "b1df1d03-30d9-49bc-a794-fc0cdc465854",
   "metadata": {},
   "outputs": [],
   "source": []
  },
  {
   "cell_type": "code",
   "execution_count": null,
   "id": "46638a8d-93a7-49e5-a02d-2ba1293bbdf5",
   "metadata": {},
   "outputs": [],
   "source": []
  },
  {
   "cell_type": "code",
   "execution_count": null,
   "id": "184f4744-cd93-41e1-b4df-9867583dea76",
   "metadata": {},
   "outputs": [],
   "source": []
  },
  {
   "cell_type": "code",
   "execution_count": null,
   "id": "4473c231-a33c-43d9-8293-484410d53986",
   "metadata": {},
   "outputs": [],
   "source": []
  },
  {
   "cell_type": "code",
   "execution_count": null,
   "id": "64fce8f9-8f49-4a85-8a69-228c7dd3e7c7",
   "metadata": {},
   "outputs": [],
   "source": []
  },
  {
   "cell_type": "code",
   "execution_count": null,
   "id": "628f1560-1807-465e-939e-d55d3e52cfe3",
   "metadata": {},
   "outputs": [],
   "source": []
  },
  {
   "cell_type": "code",
   "execution_count": null,
   "id": "c741cd5a-56e8-4f12-b81c-b590e579b8ac",
   "metadata": {},
   "outputs": [],
   "source": []
  },
  {
   "cell_type": "code",
   "execution_count": null,
   "id": "c7ca9263-20e1-46b7-a28a-8e1b5bf7ed74",
   "metadata": {},
   "outputs": [],
   "source": []
  },
  {
   "cell_type": "code",
   "execution_count": null,
   "id": "4183859d-1368-4ea4-a1ed-f8d313692d45",
   "metadata": {},
   "outputs": [],
   "source": []
  }
 ],
 "metadata": {
  "kernelspec": {
   "display_name": "Python 3 (ipykernel)",
   "language": "python",
   "name": "python3"
  },
  "language_info": {
   "codemirror_mode": {
    "name": "ipython",
    "version": 3
   },
   "file_extension": ".py",
   "mimetype": "text/x-python",
   "name": "python",
   "nbconvert_exporter": "python",
   "pygments_lexer": "ipython3",
   "version": "3.11.7"
  }
 },
 "nbformat": 4,
 "nbformat_minor": 5
}

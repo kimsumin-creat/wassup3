


a=123
a


a=-3.45
a


a=4.24E10
a


a=0o177
a


a=0x8ff
b=0xABC
a,b





a=3
b=4
a+b


a-b


a*b


a/b


a**b #제곱연산


7%3 #나눗셈 나머지 연


3%7





7//4


7/4





"hello world"


"""hello world"""





"python's favorite food is perl"


'"python is very easy." he says.'


'python\'s favorite food is perl' #\개행문자 구분-> 규칙이다.


"life is too short You need python"


"life is too short \nYou need python" # 개행문자 썼음에도 줄바꿈이 왜 안될까? 개행함수가 프린트안에 업어서이다. 


multiline="life is too short \nYou need python"
multiline


print(multiline)


multiline='''
life is too short
you need python
'''


multiline


print(multiline)





head = "python"
tail = " is fun!"
head+tail


a= "python"
a*5


print("="*50)





a= "life is too short"
len(a)





a="life is too short, You need python"
len(a)


a[3]


a[13]


a[-1] #뒤부터는 -1이고 시작(왼쪽)은 0부터임. 


a[-0]





a="life is too short, You need python"


#변수명에 범위를 지정해준다. 범위지정할때 end 인덱스-1이다.
a[0:4]


a[19:34]


a[5:7]


a[19:]


a[-15:]


a[19:-7]





a="20240610Sunny"


date= a[0:8]
weather=a[-5:]
date,weather


a[8:13]





a="pithon"
a[1]='y'
print(a)


b=a[0]+'y'+a[2:]
b





#숫자 바로 대입
"I eat %d apples"%3


#문자열 바로 대입
"I eat %s apples"%"five"


"I  eat %s oranges"%"two"


"I eat %d oranges"%2


#숫자-> 문자열로 가능 하지만 문자열은 숫자로 변경 


"I eat %d apples"%"삼"


#숫자 값을 나타내는 변수로 대입
num=3
"I eat %d apples"%num


#2개 이상 값 넣기
num=10
day='three'
"I eat %d apples. so i was sick for %s days."%(num,day)


"I eat %d apples. so i was sick for %s days."%(day,num) # 순서 바뀜


"i have %s apples"%3


"rate is %s"%3.234


"오늘 습도는 %d%% 입니다"%70





"%0.2f"%3.14159268


"%0.4f"%3.14159268





"I eat {} apples".format(3) #.은 메서드


"I eat {} apples".format('five') #메서드는 자료형 범우를 구분할 필요없음


#2개 이상 값 넣기
num=10
day='three'
"I eat {} apples. so i was sick for {} days.".format(num,day)


"I eat {} apples. so i was sick for {} days.".format(day,num) #이건 메서드를 사용해서 자료형범위를 구분할 필요가 없어서 num과day가 순서가 바뀌어도 ㄱㅊ


"I eat {0} apples. so i was sick for {1} days.".format(num,day)


"I eat {num} apples. so i was sick for {day} days.".format(num=10, day=3) # 인자, 즉 라벨을 달아둔것


"I eat {num} apples. so i was sick for {day} days.".format(day=3,num=10) #day와 num순서 바뀌어도 ㄱㅊ 인자가 지정되어있어서 인자가 알아서 찾아감





y=3.4213426
"{0:0.4f}".format(y)





name='홍길동'
age=30
f"나의 이름은 {name}입니다. 나이는{age}입니다."


f"나는 내년이면 {age+1}살 입니다"


d={'name':'홍길동','age':30}
f"나의 이름은 {d['name']} 입니다. 나이는 {d['age']}살 입니다"


d = {'name' : '홍길동', 'age': 30}
f'나의 이름은 {d["name"]}입니다. 나이는 {d["age"]}입니다.'





#문자개수 세기 count
a='hobby'
a.count('b')


#위치알려주기 find
a= "python is the best choice"
a.find('b')


a.find('k') #데이터 없으면 -1로 표현


#위치 메서드 index
a='life is too short'
a.index('t') #.index는 우리가 찾고자 하는 인덱스가 없으면 오류반환하고 .find는 -1반환
# 그럼 언제 오류를 써야 하는 케이스가 뭐가 있을까? 


a.index('k')


#문자열 삽입 join
a='abcd'
a


','.join(a)


a=['a','b','c','d']
a


':'.join(a)





a='hi'
a.upper()


a #문자열은 수정이 안됨. 출력만 하는 동작, 그래서 소문자 hi로 나옴


help(a.upper())


print?


help(print())


# 왼쪽공백 지우기 lstrip
a=" hi  "
a


a.lstrip()


a.rstrip()


a.strip()





a='life is too short'
a.replace?


a.replace('life','your leg')


a


a=a.replace('life','your leg')
a





a.split()


a.split? #sep=none은 우리가 지정해줄 수 있다


b='a:b:c:d'
b


b.split(':')





a=1
a, type(a) #type은 내장함수, 데이터자료형에 종속되어x


b='python'
b,type(b)


c=[1,2,3]
c, type(c)


id(a)


# 복사
a=[1,2,3]
b=a
id(a), id(b) #id는 메모리 주소


a is b


a==b


del b #b삭제
b


a=[1,2,3]
b=a
id(a), id(b) 


a[1]=4
a


b


a=[1,2,3]
b=a[:] #실제변수가 아님. 실제로는 값이 들어간거임. 그래서 아래에서 b아이디 출력하면 메모리가 다르게 나옴
id(a),id(b) #





from copy import copy #라이브러리(특정기능의 집합)


a=[1,2,3]
a


b=copy(a) # 깊은 복사, 
id(a),id(b)


a,b


b is a #변수그자체를 비교


b==a #비교연산 #값을 비교





a= 'python'
b= 'life'
a,b


a,b=('python','life')
a,b


(a,b)='python','life'
a,b


[a,b]=['python','life']
a


b


#값 서로 바꾸기
a,b=b,a
a,b





odd=[1,3,5,7,9]
odd


type(odd)


a=[]
b=[1,2,3]
c=['life','is','too','short']
d=[1,2,'life','is']
e=[1,2,['life','is']]
print(a,type(a))
print(b,type(b))
print(c,type(c))
print(d,type(d))
print(e,type(e))


a=list()
a,type(a)





a=[1,2,3]
a


a[0]


a[0]+a[2]


a=[1,2,3,['a','b','c']]
a


len(a)


a[3]


a[3][1]


#삼중 리스트 인덱싱
a=[1,2,['a','b',['life','is']]]
a


a[2][2][0]





a=[1,2,3,4,5]


a[2:4]


a[::2] #step 


a[1::2]








a=[1,2,3,['a','b','c'],4,5]
a[2:-1]


a[3][:2]





a=[1,2,3]
del a[1] #원본 반영하므로 주의


a


a=[1,2,3,4,5]


del a[2:]
a





#리스트 요소 추가 append
a=[1,2,3]
a


a.append(4)
a


# 리스트 정렬 sort
a=[1,4,3,2]
a.sort()
a


a.sort(reverse=True)
a


#리스트 뒤집기 reverse
a=['a','c','b']
a.reverse()
a


#인덱스 반환 index
a=[1,2,3]
a.index(3)


# 리스트 요소 삽입 insert 
a=[1,2,3]
a.insert(0,4) #0번째에 4를 넣어줘 
a


#remove
a=[1,2,3,1,2,3]
a.remove(3) #가장 처음 만나는 3을 삭제
a


# pop
b=[1,2,3]
b.pop() 


b


b.pop?


#count
a= [1,2,3,1]
a.count(1)


#extend
a=[1,2,3]
a.extend([4,5])
a


b=[6,7]
a.extend(b)
a


a.extend?





a=1
a=a+2
a


a+=3
a


a=[1,2,3]
a+=[4,5]
a


a+=[9] #리스트는 리스트끼리만 연산가능
a





#튜플은 원본 변경 불가(리스트는 원본 변경 가능)
t1=()
t2=(1, )
t3=(1,2,3)
t4=1,2,3
t5=('a','b',('ab','cd'))
print(t1,type(t1))
print(t2,type(t2))
print(t3,type(t3))
print(t4,type(t4))
print(t5,type(t5))


t1,t2


type((1)),type((1,)) #괄호+복수개 가 있어야 튜플/ 그래서 두번째는 타입이 튜플로 나옴.


t1=(1,2,'a','b')
t1


del tl[0] #튜플 삭제불가


t1[0]='c'





#인덱싱
t1=(1,2,'a','b')
t1[0]


t1=(1,2,'a','b')
t1[1:]


t1=(1,2,'a','b')
t2=(3,4)
t3=t1+t2
t3


t2=(3,4)
t3=t2*3
t3





len(t1)




























































































































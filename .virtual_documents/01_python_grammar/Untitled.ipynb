


a=123
a


a=-3.45
a


a=4.24E10
a


a=0o177
a


a=0x8ff
b=0xABC
a,b





a=3
b=4
a+b


a-b


a*b


a/b


a**b #제곱연산


7%3 #나눗셈 나머지 연


3%7





7//4


7/4





"hello world"


"""hello world"""





"python's favorite food is perl"


'"python is very easy." he says.'


'python\'s favorite food is perl' #\개행문자 구분-> 규칙이다.


"life is too short You need python"


"life is too short \nYou need python" # 개행문자 썼음에도 줄바꿈이 왜 안될까? 개행함수가 프린트안에 업어서이다. 


multiline="life is too short \nYou need python"
multiline


print(multiline)


multiline='''
life is too short
you need python
'''


multiline


print(multiline)





head = "python"
tail = " is fun!"
head+tail


a= "python"
a*5


print("="*50)





a= "life is too short"
len(a)





a="life is too short, You need python"
len(a)


a[3]


a[13]


a[-1] #뒤부터는 -1이고 시작(왼쪽)은 0부터임. 


a[-0]





a="life is too short, You need python"


#변수명에 범위를 지정해준다. 범위지정할때 end 인덱스-1이다.
a[0:4]


a[19:34]


a[19:]


a[-15:]


a[19:-7]





a="20240610Sunny"


date= a[0:8]
weather=a[-5:]
date,weather





a="pithon"
a[1]='y'
print(a)


b=a[0]+'y'+a[2:]
b





#숫자 바로 대입
"I eat %d apples"%3


#문자열 바로 대입
"I eat %s apples"%"five"


#숫자-> 문자열로 가능 하지만 문자열은 숫자로 변경 


"I eat %d apples"%"삼"


#숫자 값을 나타내는 변수로 대입
num=3
"I eat %d apples"%num


#2개 이상 값 넣기
num=10
day='three'
"I eat %d apples. so i was sick for %s days."%(num,day)


"I eat %d apples. so i was sick for %s days."%(day,num) # 순서 바뀜


"i have %s apples"%3


"rate is %s"%3.234


"오늘 습도는 %d%% 입니다"%70





"%0.2f"%3.14159268


"%0.4f"%3.14159268





"I eat {} apples".format(3) #.은 메서드


"I eat {} apples".format('five') #메서드는 자료형 범우를 구분할 필요없음


#2개 이상 값 넣기
num=10
day='three'
"I eat {} apples. so i was sick for {} days.".format(num,day)


"I eat {} apples. so i was sick for {} days.".format(day,num) #이건 메서드를 사용해서 자료형범위를 구분할 필요가 없어서 num과day가 순서가 바뀌어도 ㄱㅊ


"I eat {0} apples. so i was sick for {1} days.".format(num,day)


"I eat {num} apples. so i was sick for {day} days.".format(num=10, day=3) # 인자, 즉 라벨을 달아둔것


"I eat {num} apples. so i was sick for {day} days.".format(day=3,num=10) #day와 num순서 바뀌어도 ㄱㅊ 인자가 지정되어있어서 인자가 알아서 찾아감





y=3.4213426
"{0:0.4f}".format(y)





name='홍길동'
age=30
f"나의 이름은 {name}입니다. 나이는{age}입니다."


f"나는 내년이면 {age+1}살 입니다"


d={'name':홍길동,'age':30}
f"나의 이름은 {d['name']} 내년이면 {d['age']}살 입니다"
































































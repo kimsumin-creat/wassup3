{
 "cells": [
  {
   "cell_type": "markdown",
   "id": "48693252-a7f5-472c-93c1-17fc36e466c5",
   "metadata": {},
   "source": [
    "# selenium 사용하기"
   ]
  },
  {
   "cell_type": "code",
   "execution_count": 1,
   "id": "052c005f-fe66-4488-bd71-01e41d94baf7",
   "metadata": {
    "scrolled": true
   },
   "outputs": [
    {
     "name": "stdout",
     "output_type": "stream",
     "text": [
      "Collecting selenium\n",
      "  Downloading selenium-4.22.0-py3-none-any.whl.metadata (7.0 kB)\n",
      "Requirement already satisfied: urllib3<3,>=1.26 in c:\\users\\sumin\\anaconda3\\lib\\site-packages (from urllib3[socks]<3,>=1.26->selenium) (2.0.7)\n",
      "Collecting trio~=0.17 (from selenium)\n",
      "  Downloading trio-0.25.1-py3-none-any.whl.metadata (8.7 kB)\n",
      "Collecting trio-websocket~=0.9 (from selenium)\n",
      "  Downloading trio_websocket-0.11.1-py3-none-any.whl.metadata (4.7 kB)\n",
      "Requirement already satisfied: certifi>=2021.10.8 in c:\\users\\sumin\\anaconda3\\lib\\site-packages (from selenium) (2024.2.2)\n",
      "Requirement already satisfied: typing_extensions>=4.9.0 in c:\\users\\sumin\\anaconda3\\lib\\site-packages (from selenium) (4.9.0)\n",
      "Collecting websocket-client>=1.8.0 (from selenium)\n",
      "  Downloading websocket_client-1.8.0-py3-none-any.whl.metadata (8.0 kB)\n",
      "Collecting attrs>=23.2.0 (from trio~=0.17->selenium)\n",
      "  Downloading attrs-23.2.0-py3-none-any.whl.metadata (9.5 kB)\n",
      "Requirement already satisfied: sortedcontainers in c:\\users\\sumin\\anaconda3\\lib\\site-packages (from trio~=0.17->selenium) (2.4.0)\n",
      "Requirement already satisfied: idna in c:\\users\\sumin\\anaconda3\\lib\\site-packages (from trio~=0.17->selenium) (3.4)\n",
      "Collecting outcome (from trio~=0.17->selenium)\n",
      "  Downloading outcome-1.3.0.post0-py2.py3-none-any.whl.metadata (2.6 kB)\n",
      "Requirement already satisfied: sniffio>=1.3.0 in c:\\users\\sumin\\anaconda3\\lib\\site-packages (from trio~=0.17->selenium) (1.3.0)\n",
      "Requirement already satisfied: cffi>=1.14 in c:\\users\\sumin\\anaconda3\\lib\\site-packages (from trio~=0.17->selenium) (1.16.0)\n",
      "Collecting wsproto>=0.14 (from trio-websocket~=0.9->selenium)\n",
      "  Downloading wsproto-1.2.0-py3-none-any.whl.metadata (5.6 kB)\n",
      "Requirement already satisfied: pysocks!=1.5.7,<2.0,>=1.5.6 in c:\\users\\sumin\\anaconda3\\lib\\site-packages (from urllib3[socks]<3,>=1.26->selenium) (1.7.1)\n",
      "Requirement already satisfied: pycparser in c:\\users\\sumin\\anaconda3\\lib\\site-packages (from cffi>=1.14->trio~=0.17->selenium) (2.21)\n",
      "Collecting h11<1,>=0.9.0 (from wsproto>=0.14->trio-websocket~=0.9->selenium)\n",
      "  Downloading h11-0.14.0-py3-none-any.whl.metadata (8.2 kB)\n",
      "Downloading selenium-4.22.0-py3-none-any.whl (9.4 MB)\n",
      "   ---------------------------------------- 0.0/9.4 MB ? eta -:--:--\n",
      "   ---------------------------------------- 0.0/9.4 MB ? eta -:--:--\n",
      "   ---------------------------------------- 0.0/9.4 MB 660.6 kB/s eta 0:00:15\n",
      "   ---------------------------------------- 0.0/9.4 MB 660.6 kB/s eta 0:00:15\n",
      "   ---------------------------------------- 0.1/9.4 MB 328.2 kB/s eta 0:00:29\n",
      "   ---------------------------------------- 0.1/9.4 MB 403.5 kB/s eta 0:00:24\n",
      "   ---------------------------------------- 0.1/9.4 MB 467.6 kB/s eta 0:00:20\n",
      "    --------------------------------------- 0.1/9.4 MB 379.3 kB/s eta 0:00:25\n",
      "    --------------------------------------- 0.2/9.4 MB 535.8 kB/s eta 0:00:18\n",
      "    --------------------------------------- 0.2/9.4 MB 576.2 kB/s eta 0:00:16\n",
      "    --------------------------------------- 0.2/9.4 MB 576.2 kB/s eta 0:00:16\n",
      "   - -------------------------------------- 0.3/9.4 MB 634.7 kB/s eta 0:00:15\n",
      "   - -------------------------------------- 0.5/9.4 MB 848.5 kB/s eta 0:00:11\n",
      "   -- ------------------------------------- 0.5/9.4 MB 892.8 kB/s eta 0:00:10\n",
      "   -- ------------------------------------- 0.5/9.4 MB 835.6 kB/s eta 0:00:11\n",
      "   --- ------------------------------------ 0.7/9.4 MB 1.1 MB/s eta 0:00:09\n",
      "   ---- ----------------------------------- 1.0/9.4 MB 1.4 MB/s eta 0:00:06\n",
      "   ---- ----------------------------------- 1.0/9.4 MB 1.4 MB/s eta 0:00:06\n",
      "   ----- ---------------------------------- 1.2/9.4 MB 1.5 MB/s eta 0:00:06\n",
      "   ------ --------------------------------- 1.6/9.4 MB 1.9 MB/s eta 0:00:05\n",
      "   -------- ------------------------------- 2.1/9.4 MB 2.3 MB/s eta 0:00:04\n",
      "   -------- ------------------------------- 2.1/9.4 MB 2.2 MB/s eta 0:00:04\n",
      "   ----------- ---------------------------- 2.7/9.4 MB 2.7 MB/s eta 0:00:03\n",
      "   -------------- ------------------------- 3.3/9.4 MB 3.3 MB/s eta 0:00:02\n",
      "   ----------------- ---------------------- 4.2/9.4 MB 3.8 MB/s eta 0:00:02\n",
      "   ------------------- -------------------- 4.5/9.4 MB 3.9 MB/s eta 0:00:02\n",
      "   ---------------------- ----------------- 5.2/9.4 MB 4.4 MB/s eta 0:00:01\n",
      "   --------------------------- ------------ 6.6/9.4 MB 5.4 MB/s eta 0:00:01\n",
      "   ---------------------------------- ----- 8.0/9.4 MB 6.3 MB/s eta 0:00:01\n",
      "   -------------------------------------- - 9.0/9.4 MB 6.9 MB/s eta 0:00:01\n",
      "   ---------------------------------------  9.4/9.4 MB 6.9 MB/s eta 0:00:01\n",
      "   ---------------------------------------  9.4/9.4 MB 6.9 MB/s eta 0:00:01\n",
      "   ---------------------------------------- 9.4/9.4 MB 6.6 MB/s eta 0:00:00\n",
      "Downloading trio-0.25.1-py3-none-any.whl (467 kB)\n",
      "   ---------------------------------------- 0.0/467.7 kB ? eta -:--:--\n",
      "   --------------------------------------- 467.7/467.7 kB 14.8 MB/s eta 0:00:00\n",
      "Downloading trio_websocket-0.11.1-py3-none-any.whl (17 kB)\n",
      "Downloading websocket_client-1.8.0-py3-none-any.whl (58 kB)\n",
      "   ---------------------------------------- 0.0/58.8 kB ? eta -:--:--\n",
      "   ---------------------------------------- 58.8/58.8 kB 3.2 MB/s eta 0:00:00\n",
      "Downloading attrs-23.2.0-py3-none-any.whl (60 kB)\n",
      "   ---------------------------------------- 0.0/60.8 kB ? eta -:--:--\n",
      "   ---------------------------------------- 60.8/60.8 kB 1.1 MB/s eta 0:00:00\n",
      "Downloading wsproto-1.2.0-py3-none-any.whl (24 kB)\n",
      "Downloading outcome-1.3.0.post0-py2.py3-none-any.whl (10 kB)\n",
      "Downloading h11-0.14.0-py3-none-any.whl (58 kB)\n",
      "   ---------------------------------------- 0.0/58.3 kB ? eta -:--:--\n",
      "   ---------------------------------------- 58.3/58.3 kB 1.5 MB/s eta 0:00:00\n",
      "Installing collected packages: websocket-client, h11, attrs, wsproto, outcome, trio, trio-websocket, selenium\n",
      "  Attempting uninstall: websocket-client\n",
      "    Found existing installation: websocket-client 0.58.0\n",
      "    Uninstalling websocket-client-0.58.0:\n",
      "      Successfully uninstalled websocket-client-0.58.0\n",
      "  Attempting uninstall: attrs\n",
      "    Found existing installation: attrs 23.1.0\n",
      "    Uninstalling attrs-23.1.0:\n",
      "      Successfully uninstalled attrs-23.1.0\n",
      "Successfully installed attrs-23.2.0 h11-0.14.0 outcome-1.3.0.post0 selenium-4.22.0 trio-0.25.1 trio-websocket-0.11.1 websocket-client-1.8.0 wsproto-1.2.0\n"
     ]
    }
   ],
   "source": [
    "# 셀레니움 라이브러리 설치\n",
    "!pip install selenium"
   ]
  },
  {
   "cell_type": "code",
   "execution_count": 1,
   "id": "48277918-9b74-4e2b-b4ce-2a82dd799859",
   "metadata": {},
   "outputs": [
    {
     "data": {
      "text/plain": [
       "<selenium.webdriver.chrome.options.Options at 0x20f37cee810>"
      ]
     },
     "execution_count": 1,
     "metadata": {},
     "output_type": "execute_result"
    }
   ],
   "source": [
    "from selenium import webdriver\n",
    "from selenium.webdriver.common.by import By\n",
    "from selenium.webdriver.chrome.options import Options\n",
    "import time\n",
    "\n",
    "options=Options()\n",
    "options"
   ]
  },
  {
   "cell_type": "code",
   "execution_count": 2,
   "id": "65528723-6e07-4df3-9942-b696382f2733",
   "metadata": {},
   "outputs": [],
   "source": [
    "#특정함수안에서  드라이버 생성시 함수 종료될땨 브라우저 같이 종료되는 문제 대응 항상 넣어두기\n",
    "options.add_experimental_option(\"detach\",True)"
   ]
  },
  {
   "cell_type": "markdown",
   "id": "6e08096c-b843-4a3c-a308-cb52fb0b58f1",
   "metadata": {},
   "source": [
    "## 브라우저 실행"
   ]
  },
  {
   "cell_type": "code",
   "execution_count": 77,
   "id": "0eafd3df-91be-4027-91d9-aa08b31e11d1",
   "metadata": {},
   "outputs": [],
   "source": [
    "url = 'http://naver.com'\n",
    "driver = webdriver.Chrome(options=options) # 객체 생성\n",
    "\n",
    "driver.get(url) # 실행 \n",
    "\n",
    "time.sleep(2) #브라우저가 켜지고 렌더링 걸리는 시간이 있기때문에 타임슬립을 넣어준다."
   ]
  },
  {
   "cell_type": "markdown",
   "id": "3a21da79-a666-434c-999a-74381e3e09c6",
   "metadata": {},
   "source": [
    "## 상호작용"
   ]
  },
  {
   "cell_type": "code",
   "execution_count": 10,
   "id": "be8d6be1-2b8e-413d-800e-3db0aa90b40b",
   "metadata": {},
   "outputs": [],
   "source": [
    "driver.back()#뒤로가기"
   ]
  },
  {
   "cell_type": "code",
   "execution_count": 11,
   "id": "dcc2a28d-71cf-4771-95ff-146ebcfc00fb",
   "metadata": {},
   "outputs": [],
   "source": [
    "driver.forward()"
   ]
  },
  {
   "cell_type": "code",
   "execution_count": 12,
   "id": "bb2419ce-1728-450d-ab38-d7e2fd921c80",
   "metadata": {},
   "outputs": [],
   "source": [
    "driver.refresh() #새로고침"
   ]
  },
  {
   "cell_type": "markdown",
   "id": "f3013c23-e7ec-49e8-a49d-e23f88e87b17",
   "metadata": {},
   "source": [
    "# 페이지 정보가져오기"
   ]
  },
  {
   "cell_type": "code",
   "execution_count": 4,
   "id": "1c8d5406-8bbf-4e86-8641-e7d84a5120c6",
   "metadata": {},
   "outputs": [
    {
     "name": "stdout",
     "output_type": "stream",
     "text": [
      "NAVER https://www.naver.com/ DA7EF7042855A7972F984F40AE71A424\n"
     ]
    }
   ],
   "source": [
    "title = driver.title\n",
    "url = driver.current_url\n",
    "handle = driver.current_window_handle # 윈도우창 의미 80~~이거는 윈도우창아이디/동시에 여러개 핸들링 가능\n",
    "print(title, url, handle)"
   ]
  },
  {
   "cell_type": "markdown",
   "id": "fc7c5643-40cc-480e-8842-806fda932a70",
   "metadata": {},
   "source": [
    "## html 요소 찾기"
   ]
  },
  {
   "cell_type": "code",
   "execution_count": 15,
   "id": "b297b479-d693-40c6-bc3e-e77df438bfe7",
   "metadata": {},
   "outputs": [],
   "source": [
    "#네이버 검색창 핸들링\n",
    "```"
   ]
  },
  {
   "cell_type": "code",
   "execution_count": 14,
   "id": "60e3b7d8-317a-4942-a501-d2a9f9743099",
   "metadata": {},
   "outputs": [
    {
     "data": {
      "text/plain": [
       "\u001b[1;31mSignature:\u001b[0m \u001b[0mdriver\u001b[0m\u001b[1;33m.\u001b[0m\u001b[0mfind_element\u001b[0m\u001b[1;33m(\u001b[0m\u001b[0mby\u001b[0m\u001b[1;33m=\u001b[0m\u001b[1;34m'id'\u001b[0m\u001b[1;33m,\u001b[0m \u001b[0mvalue\u001b[0m\u001b[1;33m:\u001b[0m \u001b[0mOptional\u001b[0m\u001b[1;33m[\u001b[0m\u001b[0mstr\u001b[0m\u001b[1;33m]\u001b[0m \u001b[1;33m=\u001b[0m \u001b[1;32mNone\u001b[0m\u001b[1;33m)\u001b[0m \u001b[1;33m->\u001b[0m \u001b[0mselenium\u001b[0m\u001b[1;33m.\u001b[0m\u001b[0mwebdriver\u001b[0m\u001b[1;33m.\u001b[0m\u001b[0mremote\u001b[0m\u001b[1;33m.\u001b[0m\u001b[0mwebelement\u001b[0m\u001b[1;33m.\u001b[0m\u001b[0mWebElement\u001b[0m\u001b[1;33m\u001b[0m\u001b[1;33m\u001b[0m\u001b[0m\n",
       "\u001b[1;31mDocstring:\u001b[0m\n",
       "Find an element given a By strategy and locator.\n",
       "\n",
       ":Usage:\n",
       "    ::\n",
       "\n",
       "        element = driver.find_element(By.ID, 'foo')\n",
       "\n",
       ":rtype: WebElement\n",
       "\u001b[1;31mFile:\u001b[0m      c:\\users\\sumin\\anaconda3\\lib\\site-packages\\selenium\\webdriver\\remote\\webdriver.py\n",
       "\u001b[1;31mType:\u001b[0m      method"
      ]
     },
     "metadata": {},
     "output_type": "display_data"
    }
   ],
   "source": [
    "driver.find_element?"
   ]
  },
  {
   "cell_type": "code",
   "execution_count": 5,
   "id": "57843313-9779-49d0-894e-19f8691e8e08",
   "metadata": {},
   "outputs": [
    {
     "data": {
      "text/plain": [
       "<selenium.webdriver.remote.webelement.WebElement (session=\"c4ec4fab85be05e0eb75ef0da5e43874\", element=\"f.DA7EF7042855A7972F984F40AE71A424.d.FD36EA060CB5F1C277674CA5897A0305.e.62\")>"
      ]
     },
     "execution_count": 5,
     "metadata": {},
     "output_type": "execute_result"
    }
   ],
   "source": [
    "driver.find_element(By.ID,'query')"
   ]
  },
  {
   "cell_type": "code",
   "execution_count": 6,
   "id": "86654ada-ae50-4477-b369-fb918d575041",
   "metadata": {},
   "outputs": [],
   "source": [
    "# 키입력 \n",
    "driver.find_element(By.ID,'query').send_keys('뉴진스')"
   ]
  },
  {
   "cell_type": "code",
   "execution_count": 10,
   "id": "24aeb4d8-a4e4-4d7b-a2b0-070701c26918",
   "metadata": {},
   "outputs": [],
   "source": [
    "driver.find_element(By.XPATH,'//*[@id=\"query\"]').send_keys('걸그룹')"
   ]
  },
  {
   "cell_type": "code",
   "execution_count": 7,
   "id": "6f6c690e-b550-429b-aaf9-4ad6898cc3da",
   "metadata": {},
   "outputs": [],
   "source": [
    "driver.find_element(By.CLASS_NAME,'search_input').send_keys('블랙핑크')"
   ]
  },
  {
   "cell_type": "code",
   "execution_count": 8,
   "id": "45688d12-c670-49e3-9308-6240261f3ed4",
   "metadata": {},
   "outputs": [],
   "source": [
    "driver.find_element(By.NAME,'query').send_keys('르세라핌')"
   ]
  },
  {
   "cell_type": "code",
   "execution_count": 9,
   "id": "469b90e9-375c-48a5-811b-2b48b9feb51a",
   "metadata": {},
   "outputs": [],
   "source": [
    "driver.find_element(By.CSS_SELECTOR,'#query').send_keys('에스파')"
   ]
  },
  {
   "cell_type": "code",
   "execution_count": 22,
   "id": "569e3ebc-e405-4fab-9de2-3d6b0aa53a5d",
   "metadata": {},
   "outputs": [],
   "source": [
    "driver.find_element(By.CSS_SELECTOR,'.search_input').send_keys('세븐틴')"
   ]
  },
  {
   "cell_type": "code",
   "execution_count": 34,
   "id": "b0b49e9f-3e6b-430c-a585-1a3a4ae58bf7",
   "metadata": {},
   "outputs": [],
   "source": [
    "driver.find_element(By.CSS_SELECTOR, \"[title='검색어를 입력해 주세요.']\").send_keys('트와이스')"
   ]
  },
  {
   "cell_type": "code",
   "execution_count": null,
   "id": "1ad73260-64a1-49cd-922e-ee8111a8358d",
   "metadata": {},
   "outputs": [],
   "source": [
    "driver.find_element(By.XPATH,'//*').send_keys('세븐틴')"
   ]
  },
  {
   "cell_type": "code",
   "execution_count": 17,
   "id": "f1c3f50a-738b-4c34-a8a5-037991adff99",
   "metadata": {},
   "outputs": [],
   "source": [
    "driver.find_element(By.XPATH,\"//*[@id='query']\").send_keys('BTS')"
   ]
  },
  {
   "cell_type": "markdown",
   "id": "f753d85d-90a0-4f40-b7ac-b842a0be2b9a",
   "metadata": {},
   "source": [
    "## 클릭\n",
    "네이버 쇼핑메뉴 클릭"
   ]
  },
  {
   "cell_type": "code",
   "execution_count": 79,
   "id": "308443ee-8492-4c73-be53-dd52bb629afe",
   "metadata": {},
   "outputs": [],
   "source": [
    "driver.find_element(By.XPATH,'//*[@id=\"newsstand\"]/div[1]/div/ul/li[5]/a').click()"
   ]
  },
  {
   "cell_type": "code",
   "execution_count": 19,
   "id": "0f2268f2-5824-46ee-b759-ab7015335ac0",
   "metadata": {},
   "outputs": [
    {
     "data": {
      "text/plain": [
       "<selenium.webdriver.remote.webelement.WebElement (session=\"c4ec4fab85be05e0eb75ef0da5e43874\", element=\"f.DA7EF7042855A7972F984F40AE71A424.d.FD36EA060CB5F1C277674CA5897A0305.e.1962\")>"
      ]
     },
     "execution_count": 19,
     "metadata": {},
     "output_type": "execute_result"
    }
   ],
   "source": [
    "driver.find_element(By.LINK_TEXT,'쇼핑')"
   ]
  },
  {
   "cell_type": "code",
   "execution_count": 28,
   "id": "be6f388d-7e0a-416b-8e6a-7a92225f45dc",
   "metadata": {},
   "outputs": [],
   "source": [
    "driver.find_element(By.LINK_TEXT, '쇼핑').click()"
   ]
  },
  {
   "cell_type": "code",
   "execution_count": 29,
   "id": "bbbb2a79-ec40-42d9-943d-60c12cd54f04",
   "metadata": {},
   "outputs": [],
   "source": [
    "driver.find_element(By.XPATH,'//*[@id=\"shortcutArea\"]/ul/li[7]/a').click()"
   ]
  },
  {
   "cell_type": "code",
   "execution_count": 30,
   "id": "af6daa0f-db9e-4fcd-a228-c1d25b67cb3c",
   "metadata": {},
   "outputs": [],
   "source": [
    "# 일부 매칭\n",
    "driver.find_element(By.PARTIAL_LINK_TEXT, '쇼').click()#링크 찾아야하는데 이름이 다 기억 안날때 부분텍스트만 찾아준느"
   ]
  },
  {
   "cell_type": "code",
   "execution_count": 31,
   "id": "4ad77ff1-aaa6-4dd2-8f38-26023a2e15bc",
   "metadata": {},
   "outputs": [
    {
     "data": {
      "text/plain": [
       "<selenium.webdriver.remote.webelement.WebElement (session=\"a80cb069cc53cb61f9d6dadb1771ad63\", element=\"f.BB0EE37C79C2B89D7B26406BCFF6D149.d.06E6322FAD6CBA95CD123F857C0BC7AB.e.37\")>"
      ]
     },
     "execution_count": 31,
     "metadata": {},
     "output_type": "execute_result"
    }
   ],
   "source": [
    "#태그로찾기\n",
    "#태그는 요소가 너무 많으므로 정확하게 대상을 찾을 때는 권하지않음\n",
    "driver.find_element(By.TAG_NAME,'div')"
   ]
  },
  {
   "cell_type": "code",
   "execution_count": 37,
   "id": "03438c97-d4d2-4b41-b741-5a9d49c9a673",
   "metadata": {},
   "outputs": [
    {
     "data": {
      "text/plain": [
       "[<selenium.webdriver.remote.webelement.WebElement (session=\"a80cb069cc53cb61f9d6dadb1771ad63\", element=\"f.BB0EE37C79C2B89D7B26406BCFF6D149.d.06E6322FAD6CBA95CD123F857C0BC7AB.e.1459\")>,\n",
       " <selenium.webdriver.remote.webelement.WebElement (session=\"a80cb069cc53cb61f9d6dadb1771ad63\", element=\"f.BB0EE37C79C2B89D7B26406BCFF6D149.d.06E6322FAD6CBA95CD123F857C0BC7AB.e.1466\")>,\n",
       " <selenium.webdriver.remote.webelement.WebElement (session=\"a80cb069cc53cb61f9d6dadb1771ad63\", element=\"f.BB0EE37C79C2B89D7B26406BCFF6D149.d.06E6322FAD6CBA95CD123F857C0BC7AB.e.1473\")>,\n",
       " <selenium.webdriver.remote.webelement.WebElement (session=\"a80cb069cc53cb61f9d6dadb1771ad63\", element=\"f.BB0EE37C79C2B89D7B26406BCFF6D149.d.06E6322FAD6CBA95CD123F857C0BC7AB.e.1480\")>,\n",
       " <selenium.webdriver.remote.webelement.WebElement (session=\"a80cb069cc53cb61f9d6dadb1771ad63\", element=\"f.BB0EE37C79C2B89D7B26406BCFF6D149.d.06E6322FAD6CBA95CD123F857C0BC7AB.e.1487\")>,\n",
       " <selenium.webdriver.remote.webelement.WebElement (session=\"a80cb069cc53cb61f9d6dadb1771ad63\", element=\"f.BB0EE37C79C2B89D7B26406BCFF6D149.d.06E6322FAD6CBA95CD123F857C0BC7AB.e.1494\")>,\n",
       " <selenium.webdriver.remote.webelement.WebElement (session=\"a80cb069cc53cb61f9d6dadb1771ad63\", element=\"f.BB0EE37C79C2B89D7B26406BCFF6D149.d.06E6322FAD6CBA95CD123F857C0BC7AB.e.1501\")>,\n",
       " <selenium.webdriver.remote.webelement.WebElement (session=\"a80cb069cc53cb61f9d6dadb1771ad63\", element=\"f.BB0EE37C79C2B89D7B26406BCFF6D149.d.06E6322FAD6CBA95CD123F857C0BC7AB.e.1508\")>,\n",
       " <selenium.webdriver.remote.webelement.WebElement (session=\"a80cb069cc53cb61f9d6dadb1771ad63\", element=\"f.BB0EE37C79C2B89D7B26406BCFF6D149.d.06E6322FAD6CBA95CD123F857C0BC7AB.e.1515\")>,\n",
       " <selenium.webdriver.remote.webelement.WebElement (session=\"a80cb069cc53cb61f9d6dadb1771ad63\", element=\"f.BB0EE37C79C2B89D7B26406BCFF6D149.d.06E6322FAD6CBA95CD123F857C0BC7AB.e.1526\")>,\n",
       " <selenium.webdriver.remote.webelement.WebElement (session=\"a80cb069cc53cb61f9d6dadb1771ad63\", element=\"f.BB0EE37C79C2B89D7B26406BCFF6D149.d.06E6322FAD6CBA95CD123F857C0BC7AB.e.1533\")>,\n",
       " <selenium.webdriver.remote.webelement.WebElement (session=\"a80cb069cc53cb61f9d6dadb1771ad63\", element=\"f.BB0EE37C79C2B89D7B26406BCFF6D149.d.06E6322FAD6CBA95CD123F857C0BC7AB.e.1544\")>]"
      ]
     },
     "execution_count": 37,
     "metadata": {},
     "output_type": "execute_result"
    }
   ],
   "source": [
    "# 여러개의 요소를찾을 때\n",
    "links = driver.find_elements(By.CSS_SELECTOR, '.link_service')\n",
    "links"
   ]
  },
  {
   "cell_type": "code",
   "execution_count": 38,
   "id": "ae79a3ce-e995-4222-a566-cf7a44bee84b",
   "metadata": {},
   "outputs": [
    {
     "data": {
      "text/plain": [
       "'https://mail.naver.com/'"
      ]
     },
     "execution_count": 38,
     "metadata": {},
     "output_type": "execute_result"
    }
   ],
   "source": [
    "driver.find_elements(By.CSS_SELECTOR,'.link_service')[0].get_attribute('href')"
   ]
  },
  {
   "cell_type": "code",
   "execution_count": 45,
   "id": "503f62c4-9d45-4bbc-8bb8-85994f2d15f0",
   "metadata": {},
   "outputs": [
    {
     "name": "stdout",
     "output_type": "stream",
     "text": [
      "https://mail.naver.com/\n",
      "https://cafe.naver.com/\n",
      "https://blog.naver.com/\n",
      "https://shopping.naver.com/home\n",
      "https://news.naver.com/\n",
      "https://finance.naver.com/\n",
      "https://land.naver.com/\n",
      "https://map.naver.com/\n",
      "https://comic.naver.com/\n",
      "https://chzzk.naver.com/\n",
      "https://www.naver.com/#\n",
      "https://siape.veta.naver.com/rd?rk=GU2PXj29302U_IKEGMhvpQ&eltts=f0dJe3NA1e3xa84dlM7TwA%3D%3D&elu=5BA297C9C3C09BC2A363AD20A2AF2280AA600BB0F1224856B1E3B0CD8C7D5F6341BB3F4A77A5F39CD5816E901BFB74C92B046500D36C473274A2DF28B9D9C604F0D8675FDAF22A996AAEFDEE92BA1FCD697E5F7ECC82BD74C279AA95D9F31FA9106C54B228F25590EF823CA4768D621930DE9513FAD9CD3EC5D5F708FBFC00BDA1F5B03C00EADE3421C9D4FE1E658652E8C5A37BBB18D79B4D542EF9B859195A8B5F3CB5F7D17DF7D63104BA36F5191223192AE294E03593BF7CA3B054BF55FF7DF70D50D25D1F0D4D87A7831487FDC2AFB8FEA841F79F16EA53276AF68816C7A149514203E223A19FA55EAAC4E98561256439BD31A8DEFDBC8CEF82F716E628B23F8C3BFA407A51086748714615D78698A603B1B20D8157A049045EADF303C7C90C945E9B6678B41330B37AAA80FDCE0589F05E39A2DECC900ED27DE4327494D8CC07C1B67CE038EFBDA44E52E5B715A3EC5A3F07FD7CCDECDFCA955A7B6FCB11DFA46E51BA4203609299CFB488F993296C5387E386A488064288B95F527FA540946C8672D26BA42D643227D77736CF&tr=ndp\n"
     ]
    }
   ],
   "source": [
    "links=driver.find_elements(By.CSS_SELECTOR,'.link_service')\n",
    "for link in links:\n",
    "    print(link.get_attribute('href'))"
   ]
  },
  {
   "cell_type": "code",
   "execution_count": 34,
   "id": "aaca5c4b-dbc3-486f-b0b5-0353745d04c3",
   "metadata": {},
   "outputs": [
    {
     "name": "stdout",
     "output_type": "stream",
     "text": [
      "https://mail.naver.com/\n",
      "https://cafe.naver.com/\n",
      "https://blog.naver.com/\n",
      "https://shopping.naver.com/home\n",
      "https://news.naver.com/\n",
      "https://finance.naver.com/\n",
      "https://land.naver.com/\n",
      "https://map.naver.com/\n",
      "https://comic.naver.com/\n",
      "https://chzzk.naver.com/\n",
      "https://www.naver.com/#\n",
      "https://siape.veta.naver.com/rd?rk=GU2PXj29302U_IKEGMhvpQ&eltts=f0dJe3NA1e3xa84dlM7TwA%3D%3D&elu=5BA297C9C3C09BC2A363AD20A2AF2280AA600BB0F1224856B1E3B0CD8C7D5F6341BB3F4A77A5F39CD5816E901BFB74C92B046500D36C473274A2DF28B9D9C604F0D8675FDAF22A996AAEFDEE92BA1FCD697E5F7ECC82BD74C279AA95D9F31FA9106C54B228F25590EF823CA4768D621930DE9513FAD9CD3EC5D5F708FBFC00BDA1F5B03C00EADE3421C9D4FE1E658652E8C5A37BBB18D79B4D542EF9B859195A8B5F3CB5F7D17DF7D63104BA36F5191223192AE294E03593BF7CA3B054BF55FF7DF70D50D25D1F0D4D87A7831487FDC2AFB8FEA841F79F16EA53276AF68816C7A149514203E223A19FA55EAAC4E98561256439BD31A8DEFDBC8CEF82F716E628B23F8C3BFA407A51086748714615D78698A603B1B20D8157A049045EADF303C7C90C945E9B6678B41330B37AAA80FDCE0589F05E39A2DECC900ED27DE4327494D8CC07C1B67CE038EFBDA44E52E5B715A3EC5A3F07FD7CCDECDFCA955A7B6FCB11DFA46E51BA4203609299CFB488F993296C5387E386A488064288B95F527FA540946C8672D26BA42D643227D77736CF&tr=ndp\n"
     ]
    }
   ],
   "source": [
    "for link in links:\n",
    "    print(link.get_attribute('href'))"
   ]
  },
  {
   "cell_type": "markdown",
   "id": "82ad0c91-a3a5-4be9-a012-852a80c19706",
   "metadata": {},
   "source": [
    "## 자동로그인"
   ]
  },
  {
   "cell_type": "code",
   "execution_count": 46,
   "id": "1face5fe-abed-488b-9219-248f515063ee",
   "metadata": {},
   "outputs": [],
   "source": [
    "url='file:///C:/workspace/wassup3/02_Python_Collection_/sample/signin.html'\n",
    "driver = webdriver.Chrome(options=options) # 객체 생성\n",
    "\n",
    "driver.get(url) # 실행 \n",
    "\n",
    "time.sleep(2)"
   ]
  },
  {
   "cell_type": "code",
   "execution_count": 60,
   "id": "a04924d5-2aa2-4300-80fb-c1ffabe73146",
   "metadata": {},
   "outputs": [],
   "source": [
    "username=driver.find_element(By.NAME,\"username\")\n",
    "username.send_keys('korea')"
   ]
  },
  {
   "cell_type": "code",
   "execution_count": 63,
   "id": "241941d6-a45f-40db-ac8f-aaba63cab9af",
   "metadata": {},
   "outputs": [],
   "source": [
    "\n",
    "password=driver.find_element(By.NAME,\"password\")\n",
    "password.send_keys('1234')"
   ]
  },
  {
   "cell_type": "code",
   "execution_count": 52,
   "id": "231d0777-8faa-4e83-8770-c4e8c0ac12db",
   "metadata": {},
   "outputs": [],
   "source": [
    "driver.back()"
   ]
  },
  {
   "cell_type": "code",
   "execution_count": null,
   "id": "43a8ca24-698a-480d-880c-3c3800dd962e",
   "metadata": {},
   "outputs": [],
   "source": [
    "driver.find_element(By.XPATH,'//*[@id=\"loginForm\"]/input[3]')\n",
    "login.click()"
   ]
  },
  {
   "cell_type": "code",
   "execution_count": 54,
   "id": "2929e71b-1f2b-4fc2-a860-27a299f0b1b1",
   "metadata": {},
   "outputs": [],
   "source": [
    "login=driver.find_element(By.XPATH,'/html/body/form/input[3]')\n",
    "login.click()"
   ]
  },
  {
   "cell_type": "code",
   "execution_count": 55,
   "id": "73751ad6-1d26-4971-b4a9-8a178129d886",
   "metadata": {},
   "outputs": [],
   "source": [
    "login=driver.find_element(By.CSS_SELECTOR,'[VALUE=Login]')\n",
    "login.click()"
   ]
  },
  {
   "cell_type": "code",
   "execution_count": 58,
   "id": "7f1097a4-153f-4484-93bd-a1a71a51f334",
   "metadata": {},
   "outputs": [],
   "source": [
    "login=driver.find_element(By.CSS_SELECTOR,'[type=\"submit\"]')\n",
    "login.click()"
   ]
  },
  {
   "cell_type": "code",
   "execution_count": 61,
   "id": "a0decb44-f995-423f-bf7f-4705e90a1f61",
   "metadata": {},
   "outputs": [],
   "source": [
    "username.clear()"
   ]
  },
  {
   "cell_type": "code",
   "execution_count": 64,
   "id": "13beea11-9073-4e0e-bd99-7695515a1031",
   "metadata": {},
   "outputs": [],
   "source": [
    "password.clear()"
   ]
  },
  {
   "cell_type": "code",
   "execution_count": 68,
   "id": "ba9d7415-4fbd-4303-a8bb-5a8a487b33e8",
   "metadata": {},
   "outputs": [],
   "source": [
    "username=driver.find_element(By.NAME,\"username\")\n",
    "username.send_keys('korea')\n",
    "password=driver.find_element(By.NAME,\"password\")\n",
    "password.send_keys('1234')"
   ]
  },
  {
   "cell_type": "code",
   "execution_count": 69,
   "id": "d6cdbf7f-0ed1-4a87-b3b5-89e80151138d",
   "metadata": {},
   "outputs": [],
   "source": [
    "username.submit()"
   ]
  },
  {
   "cell_type": "code",
   "execution_count": 70,
   "id": "46581097-445a-4ef3-be18-79d1356f120f",
   "metadata": {},
   "outputs": [],
   "source": [
    "driver.back()"
   ]
  },
  {
   "cell_type": "code",
   "execution_count": 74,
   "id": "19bc76ec-acfa-4c5b-b3f4-2cda84e29590",
   "metadata": {},
   "outputs": [
    {
     "data": {
      "text/plain": [
       "'Are you sure you want to do this?'"
      ]
     },
     "execution_count": 74,
     "metadata": {},
     "output_type": "execute_result"
    }
   ],
   "source": [
    "driver.find_element(By.TAG_NAME,'P').text"
   ]
  },
  {
   "cell_type": "code",
   "execution_count": 73,
   "id": "a726549d-3003-4792-b92a-fd67b046b508",
   "metadata": {},
   "outputs": [
    {
     "data": {
      "text/plain": [
       "'Are you sure you want to do this?'"
      ]
     },
     "execution_count": 73,
     "metadata": {},
     "output_type": "execute_result"
    }
   ],
   "source": [
    "driver.find_element(By.XPATH,'/html/body/p[1]').text"
   ]
  },
  {
   "cell_type": "markdown",
   "id": "0a337d7d-f9bf-4b1e-bac7-39daa43ea2e3",
   "metadata": {},
   "source": [
    "## HTML 소스 추출"
   ]
  },
  {
   "cell_type": "code",
   "execution_count": 75,
   "id": "27e29199-7d70-4e25-8837-b615fff81192",
   "metadata": {},
   "outputs": [
    {
     "data": {
      "text/plain": [
       "'<html><head></head><body>\\n        <h1> Sign In </h1>\\n        <form action=\"moved.html\" id=\"loginForm\">\\n            ID : <input name=\"username\" type=\"text\"> <br>\\n            Password : <input name=\"password\" type=\"password\"> <br>\\n\\n            <input name=\"continue\" type=\"submit\" value=\"Login\">\\n            <input name=\"continue\" type=\"button\" value=\"Clear\">\\n        \\n        </form>\\n\\n        <p>Are you sure you want to do this?</p>\\n        <a href=\"continue.html\">Continue</a>\\n        <a href=\"cancel.html\">Cancel</a>\\n\\n        <h1>Welcome</h1>\\n        <p>Site content goes here.</p>\\n        <p class=\"content\">Site content goes here.</p>\\n    \\n</body></html>'"
      ]
     },
     "execution_count": 75,
     "metadata": {},
     "output_type": "execute_result"
    }
   ],
   "source": [
    "driver.page_source"
   ]
  },
  {
   "cell_type": "code",
   "execution_count": 80,
   "id": "ee21556b-1889-4c55-b3a9-41f9dd3a6ff6",
   "metadata": {},
   "outputs": [],
   "source": [
    "driver.close()"
   ]
  },
  {
   "cell_type": "code",
   "execution_count": null,
   "id": "df1aa932-0b2b-4487-aad3-06c670136790",
   "metadata": {},
   "outputs": [],
   "source": []
  },
  {
   "cell_type": "code",
   "execution_count": null,
   "id": "6959399b-baca-48b0-a40e-d70c221ca83a",
   "metadata": {},
   "outputs": [],
   "source": []
  },
  {
   "cell_type": "code",
   "execution_count": null,
   "id": "7552ac6f-7991-4e80-bc8d-f2084672e61b",
   "metadata": {},
   "outputs": [],
   "source": []
  },
  {
   "cell_type": "code",
   "execution_count": null,
   "id": "d1d0c65e-6709-487b-98ab-0ce59f58e378",
   "metadata": {},
   "outputs": [],
   "source": []
  },
  {
   "cell_type": "code",
   "execution_count": null,
   "id": "10516d8e-a885-4401-ab15-994d4bc8edd3",
   "metadata": {},
   "outputs": [],
   "source": []
  },
  {
   "cell_type": "code",
   "execution_count": null,
   "id": "23864b71-1b48-42b4-8728-40a8e6e67719",
   "metadata": {},
   "outputs": [],
   "source": []
  },
  {
   "cell_type": "code",
   "execution_count": null,
   "id": "c6e0228f-eada-4eab-889d-a2c5a2015d3e",
   "metadata": {},
   "outputs": [],
   "source": []
  },
  {
   "cell_type": "code",
   "execution_count": null,
   "id": "0d109aa4-d96b-413c-b151-d10d136b26d3",
   "metadata": {},
   "outputs": [],
   "source": []
  },
  {
   "cell_type": "code",
   "execution_count": null,
   "id": "06d8dc48-6258-4903-99c6-13e03b9d2f6c",
   "metadata": {},
   "outputs": [],
   "source": []
  },
  {
   "cell_type": "code",
   "execution_count": null,
   "id": "758f6c16-c4ad-45a6-897d-53ccebaf05a0",
   "metadata": {},
   "outputs": [],
   "source": []
  }
 ],
 "metadata": {
  "kernelspec": {
   "display_name": "Python 3 (ipykernel)",
   "language": "python",
   "name": "python3"
  },
  "language_info": {
   "codemirror_mode": {
    "name": "ipython",
    "version": 3
   },
   "file_extension": ".py",
   "mimetype": "text/x-python",
   "name": "python",
   "nbconvert_exporter": "python",
   "pygments_lexer": "ipython3",
   "version": "3.11.7"
  }
 },
 "nbformat": 4,
 "nbformat_minor": 5
}

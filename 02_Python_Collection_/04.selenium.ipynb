{
 "cells": [
  {
   "cell_type": "markdown",
   "id": "48693252-a7f5-472c-93c1-17fc36e466c5",
   "metadata": {},
   "source": [
    "# selenium 사용하기"
   ]
  },
  {
   "cell_type": "code",
   "execution_count": 1,
   "id": "052c005f-fe66-4488-bd71-01e41d94baf7",
   "metadata": {
    "scrolled": true
   },
   "outputs": [
    {
     "name": "stdout",
     "output_type": "stream",
     "text": [
      "Collecting selenium\n",
      "  Downloading selenium-4.22.0-py3-none-any.whl.metadata (7.0 kB)\n",
      "Requirement already satisfied: urllib3<3,>=1.26 in c:\\users\\sumin\\anaconda3\\lib\\site-packages (from urllib3[socks]<3,>=1.26->selenium) (2.0.7)\n",
      "Collecting trio~=0.17 (from selenium)\n",
      "  Downloading trio-0.25.1-py3-none-any.whl.metadata (8.7 kB)\n",
      "Collecting trio-websocket~=0.9 (from selenium)\n",
      "  Downloading trio_websocket-0.11.1-py3-none-any.whl.metadata (4.7 kB)\n",
      "Requirement already satisfied: certifi>=2021.10.8 in c:\\users\\sumin\\anaconda3\\lib\\site-packages (from selenium) (2024.2.2)\n",
      "Requirement already satisfied: typing_extensions>=4.9.0 in c:\\users\\sumin\\anaconda3\\lib\\site-packages (from selenium) (4.9.0)\n",
      "Collecting websocket-client>=1.8.0 (from selenium)\n",
      "  Downloading websocket_client-1.8.0-py3-none-any.whl.metadata (8.0 kB)\n",
      "Collecting attrs>=23.2.0 (from trio~=0.17->selenium)\n",
      "  Downloading attrs-23.2.0-py3-none-any.whl.metadata (9.5 kB)\n",
      "Requirement already satisfied: sortedcontainers in c:\\users\\sumin\\anaconda3\\lib\\site-packages (from trio~=0.17->selenium) (2.4.0)\n",
      "Requirement already satisfied: idna in c:\\users\\sumin\\anaconda3\\lib\\site-packages (from trio~=0.17->selenium) (3.4)\n",
      "Collecting outcome (from trio~=0.17->selenium)\n",
      "  Downloading outcome-1.3.0.post0-py2.py3-none-any.whl.metadata (2.6 kB)\n",
      "Requirement already satisfied: sniffio>=1.3.0 in c:\\users\\sumin\\anaconda3\\lib\\site-packages (from trio~=0.17->selenium) (1.3.0)\n",
      "Requirement already satisfied: cffi>=1.14 in c:\\users\\sumin\\anaconda3\\lib\\site-packages (from trio~=0.17->selenium) (1.16.0)\n",
      "Collecting wsproto>=0.14 (from trio-websocket~=0.9->selenium)\n",
      "  Downloading wsproto-1.2.0-py3-none-any.whl.metadata (5.6 kB)\n",
      "Requirement already satisfied: pysocks!=1.5.7,<2.0,>=1.5.6 in c:\\users\\sumin\\anaconda3\\lib\\site-packages (from urllib3[socks]<3,>=1.26->selenium) (1.7.1)\n",
      "Requirement already satisfied: pycparser in c:\\users\\sumin\\anaconda3\\lib\\site-packages (from cffi>=1.14->trio~=0.17->selenium) (2.21)\n",
      "Collecting h11<1,>=0.9.0 (from wsproto>=0.14->trio-websocket~=0.9->selenium)\n",
      "  Downloading h11-0.14.0-py3-none-any.whl.metadata (8.2 kB)\n",
      "Downloading selenium-4.22.0-py3-none-any.whl (9.4 MB)\n",
      "   ---------------------------------------- 0.0/9.4 MB ? eta -:--:--\n",
      "   ---------------------------------------- 0.0/9.4 MB ? eta -:--:--\n",
      "   ---------------------------------------- 0.0/9.4 MB 660.6 kB/s eta 0:00:15\n",
      "   ---------------------------------------- 0.0/9.4 MB 660.6 kB/s eta 0:00:15\n",
      "   ---------------------------------------- 0.1/9.4 MB 328.2 kB/s eta 0:00:29\n",
      "   ---------------------------------------- 0.1/9.4 MB 403.5 kB/s eta 0:00:24\n",
      "   ---------------------------------------- 0.1/9.4 MB 467.6 kB/s eta 0:00:20\n",
      "    --------------------------------------- 0.1/9.4 MB 379.3 kB/s eta 0:00:25\n",
      "    --------------------------------------- 0.2/9.4 MB 535.8 kB/s eta 0:00:18\n",
      "    --------------------------------------- 0.2/9.4 MB 576.2 kB/s eta 0:00:16\n",
      "    --------------------------------------- 0.2/9.4 MB 576.2 kB/s eta 0:00:16\n",
      "   - -------------------------------------- 0.3/9.4 MB 634.7 kB/s eta 0:00:15\n",
      "   - -------------------------------------- 0.5/9.4 MB 848.5 kB/s eta 0:00:11\n",
      "   -- ------------------------------------- 0.5/9.4 MB 892.8 kB/s eta 0:00:10\n",
      "   -- ------------------------------------- 0.5/9.4 MB 835.6 kB/s eta 0:00:11\n",
      "   --- ------------------------------------ 0.7/9.4 MB 1.1 MB/s eta 0:00:09\n",
      "   ---- ----------------------------------- 1.0/9.4 MB 1.4 MB/s eta 0:00:06\n",
      "   ---- ----------------------------------- 1.0/9.4 MB 1.4 MB/s eta 0:00:06\n",
      "   ----- ---------------------------------- 1.2/9.4 MB 1.5 MB/s eta 0:00:06\n",
      "   ------ --------------------------------- 1.6/9.4 MB 1.9 MB/s eta 0:00:05\n",
      "   -------- ------------------------------- 2.1/9.4 MB 2.3 MB/s eta 0:00:04\n",
      "   -------- ------------------------------- 2.1/9.4 MB 2.2 MB/s eta 0:00:04\n",
      "   ----------- ---------------------------- 2.7/9.4 MB 2.7 MB/s eta 0:00:03\n",
      "   -------------- ------------------------- 3.3/9.4 MB 3.3 MB/s eta 0:00:02\n",
      "   ----------------- ---------------------- 4.2/9.4 MB 3.8 MB/s eta 0:00:02\n",
      "   ------------------- -------------------- 4.5/9.4 MB 3.9 MB/s eta 0:00:02\n",
      "   ---------------------- ----------------- 5.2/9.4 MB 4.4 MB/s eta 0:00:01\n",
      "   --------------------------- ------------ 6.6/9.4 MB 5.4 MB/s eta 0:00:01\n",
      "   ---------------------------------- ----- 8.0/9.4 MB 6.3 MB/s eta 0:00:01\n",
      "   -------------------------------------- - 9.0/9.4 MB 6.9 MB/s eta 0:00:01\n",
      "   ---------------------------------------  9.4/9.4 MB 6.9 MB/s eta 0:00:01\n",
      "   ---------------------------------------  9.4/9.4 MB 6.9 MB/s eta 0:00:01\n",
      "   ---------------------------------------- 9.4/9.4 MB 6.6 MB/s eta 0:00:00\n",
      "Downloading trio-0.25.1-py3-none-any.whl (467 kB)\n",
      "   ---------------------------------------- 0.0/467.7 kB ? eta -:--:--\n",
      "   --------------------------------------- 467.7/467.7 kB 14.8 MB/s eta 0:00:00\n",
      "Downloading trio_websocket-0.11.1-py3-none-any.whl (17 kB)\n",
      "Downloading websocket_client-1.8.0-py3-none-any.whl (58 kB)\n",
      "   ---------------------------------------- 0.0/58.8 kB ? eta -:--:--\n",
      "   ---------------------------------------- 58.8/58.8 kB 3.2 MB/s eta 0:00:00\n",
      "Downloading attrs-23.2.0-py3-none-any.whl (60 kB)\n",
      "   ---------------------------------------- 0.0/60.8 kB ? eta -:--:--\n",
      "   ---------------------------------------- 60.8/60.8 kB 1.1 MB/s eta 0:00:00\n",
      "Downloading wsproto-1.2.0-py3-none-any.whl (24 kB)\n",
      "Downloading outcome-1.3.0.post0-py2.py3-none-any.whl (10 kB)\n",
      "Downloading h11-0.14.0-py3-none-any.whl (58 kB)\n",
      "   ---------------------------------------- 0.0/58.3 kB ? eta -:--:--\n",
      "   ---------------------------------------- 58.3/58.3 kB 1.5 MB/s eta 0:00:00\n",
      "Installing collected packages: websocket-client, h11, attrs, wsproto, outcome, trio, trio-websocket, selenium\n",
      "  Attempting uninstall: websocket-client\n",
      "    Found existing installation: websocket-client 0.58.0\n",
      "    Uninstalling websocket-client-0.58.0:\n",
      "      Successfully uninstalled websocket-client-0.58.0\n",
      "  Attempting uninstall: attrs\n",
      "    Found existing installation: attrs 23.1.0\n",
      "    Uninstalling attrs-23.1.0:\n",
      "      Successfully uninstalled attrs-23.1.0\n",
      "Successfully installed attrs-23.2.0 h11-0.14.0 outcome-1.3.0.post0 selenium-4.22.0 trio-0.25.1 trio-websocket-0.11.1 websocket-client-1.8.0 wsproto-1.2.0\n"
     ]
    }
   ],
   "source": [
    "# 셀레니움 라이브러리 설치\n",
    "!pip install selenium"
   ]
  },
  {
   "cell_type": "code",
   "execution_count": 1,
   "id": "48277918-9b74-4e2b-b4ce-2a82dd799859",
   "metadata": {},
   "outputs": [
    {
     "data": {
      "text/plain": [
       "<selenium.webdriver.chrome.options.Options at 0x29be1af9b50>"
      ]
     },
     "execution_count": 1,
     "metadata": {},
     "output_type": "execute_result"
    }
   ],
   "source": [
    "from selenium import webdriver\n",
    "from selenium.webdriver.common.by import By\n",
    "from selenium.webdriver.chrome.options import Options\n",
    "import time\n",
    "\n",
    "options=Options()\n",
    "options"
   ]
  },
  {
   "cell_type": "code",
   "execution_count": 2,
   "id": "65528723-6e07-4df3-9942-b696382f2733",
   "metadata": {},
   "outputs": [],
   "source": [
    "#특정함수안에서  드라이버 생성시 함수 종료될땨 브라우저 같이 종료되는 문제 대응 항상 넣어두기\n",
    "options.add_experimental_option(\"detach\",True)"
   ]
  },
  {
   "cell_type": "markdown",
   "id": "6e08096c-b843-4a3c-a308-cb52fb0b58f1",
   "metadata": {},
   "source": [
    "## 브라우저 실행"
   ]
  },
  {
   "cell_type": "code",
   "execution_count": 77,
   "id": "0eafd3df-91be-4027-91d9-aa08b31e11d1",
   "metadata": {},
   "outputs": [],
   "source": [
    "url = 'http://naver.com'\n",
    "driver = webdriver.Chrome(options=options) # 객체 생성\n",
    "\n",
    "driver.get(url) # 실행 \n",
    "\n",
    "time.sleep(2) #브라우저가 켜지고 렌더링 걸리는 시간이 있기때문에 타임슬립을 넣어준다."
   ]
  },
  {
   "cell_type": "markdown",
   "id": "3a21da79-a666-434c-999a-74381e3e09c6",
   "metadata": {},
   "source": [
    "## 상호작용"
   ]
  },
  {
   "cell_type": "code",
   "execution_count": 10,
   "id": "be8d6be1-2b8e-413d-800e-3db0aa90b40b",
   "metadata": {},
   "outputs": [],
   "source": [
    "driver.back()#뒤로가기"
   ]
  },
  {
   "cell_type": "code",
   "execution_count": 11,
   "id": "dcc2a28d-71cf-4771-95ff-146ebcfc00fb",
   "metadata": {},
   "outputs": [],
   "source": [
    "driver.forward()"
   ]
  },
  {
   "cell_type": "code",
   "execution_count": 12,
   "id": "bb2419ce-1728-450d-ab38-d7e2fd921c80",
   "metadata": {},
   "outputs": [],
   "source": [
    "driver.refresh() #새로고침"
   ]
  },
  {
   "cell_type": "markdown",
   "id": "f3013c23-e7ec-49e8-a49d-e23f88e87b17",
   "metadata": {},
   "source": [
    "# 페이지 정보가져오기"
   ]
  },
  {
   "cell_type": "code",
   "execution_count": 4,
   "id": "1c8d5406-8bbf-4e86-8641-e7d84a5120c6",
   "metadata": {},
   "outputs": [
    {
     "name": "stdout",
     "output_type": "stream",
     "text": [
      "NAVER https://www.naver.com/ DA7EF7042855A7972F984F40AE71A424\n"
     ]
    }
   ],
   "source": [
    "title = driver.title\n",
    "url = driver.current_url\n",
    "handle = driver.current_window_handle # 윈도우창 의미 80~~이거는 윈도우창아이디/동시에 여러개 핸들링 가능\n",
    "print(title, url, handle)"
   ]
  },
  {
   "cell_type": "markdown",
   "id": "fc7c5643-40cc-480e-8842-806fda932a70",
   "metadata": {},
   "source": [
    "## html 요소 찾기"
   ]
  },
  {
   "cell_type": "code",
   "execution_count": 15,
   "id": "b297b479-d693-40c6-bc3e-e77df438bfe7",
   "metadata": {},
   "outputs": [],
   "source": [
    "#네이버 검색창 핸들링\n",
    "```"
   ]
  },
  {
   "cell_type": "code",
   "execution_count": 14,
   "id": "60e3b7d8-317a-4942-a501-d2a9f9743099",
   "metadata": {},
   "outputs": [
    {
     "data": {
      "text/plain": [
       "\u001b[1;31mSignature:\u001b[0m \u001b[0mdriver\u001b[0m\u001b[1;33m.\u001b[0m\u001b[0mfind_element\u001b[0m\u001b[1;33m(\u001b[0m\u001b[0mby\u001b[0m\u001b[1;33m=\u001b[0m\u001b[1;34m'id'\u001b[0m\u001b[1;33m,\u001b[0m \u001b[0mvalue\u001b[0m\u001b[1;33m:\u001b[0m \u001b[0mOptional\u001b[0m\u001b[1;33m[\u001b[0m\u001b[0mstr\u001b[0m\u001b[1;33m]\u001b[0m \u001b[1;33m=\u001b[0m \u001b[1;32mNone\u001b[0m\u001b[1;33m)\u001b[0m \u001b[1;33m->\u001b[0m \u001b[0mselenium\u001b[0m\u001b[1;33m.\u001b[0m\u001b[0mwebdriver\u001b[0m\u001b[1;33m.\u001b[0m\u001b[0mremote\u001b[0m\u001b[1;33m.\u001b[0m\u001b[0mwebelement\u001b[0m\u001b[1;33m.\u001b[0m\u001b[0mWebElement\u001b[0m\u001b[1;33m\u001b[0m\u001b[1;33m\u001b[0m\u001b[0m\n",
       "\u001b[1;31mDocstring:\u001b[0m\n",
       "Find an element given a By strategy and locator.\n",
       "\n",
       ":Usage:\n",
       "    ::\n",
       "\n",
       "        element = driver.find_element(By.ID, 'foo')\n",
       "\n",
       ":rtype: WebElement\n",
       "\u001b[1;31mFile:\u001b[0m      c:\\users\\sumin\\anaconda3\\lib\\site-packages\\selenium\\webdriver\\remote\\webdriver.py\n",
       "\u001b[1;31mType:\u001b[0m      method"
      ]
     },
     "metadata": {},
     "output_type": "display_data"
    }
   ],
   "source": [
    "driver.find_element?"
   ]
  },
  {
   "cell_type": "code",
   "execution_count": 5,
   "id": "57843313-9779-49d0-894e-19f8691e8e08",
   "metadata": {},
   "outputs": [
    {
     "data": {
      "text/plain": [
       "<selenium.webdriver.remote.webelement.WebElement (session=\"c4ec4fab85be05e0eb75ef0da5e43874\", element=\"f.DA7EF7042855A7972F984F40AE71A424.d.FD36EA060CB5F1C277674CA5897A0305.e.62\")>"
      ]
     },
     "execution_count": 5,
     "metadata": {},
     "output_type": "execute_result"
    }
   ],
   "source": [
    "driver.find_element(By.ID,'query')"
   ]
  },
  {
   "cell_type": "code",
   "execution_count": 6,
   "id": "86654ada-ae50-4477-b369-fb918d575041",
   "metadata": {},
   "outputs": [],
   "source": [
    "# 키입력 \n",
    "driver.find_element(By.ID,'query').send_keys('뉴진스')"
   ]
  },
  {
   "cell_type": "code",
   "execution_count": 10,
   "id": "24aeb4d8-a4e4-4d7b-a2b0-070701c26918",
   "metadata": {},
   "outputs": [],
   "source": [
    "driver.find_element(By.XPATH,'//*[@id=\"query\"]').send_keys('걸그룹')"
   ]
  },
  {
   "cell_type": "code",
   "execution_count": 7,
   "id": "6f6c690e-b550-429b-aaf9-4ad6898cc3da",
   "metadata": {},
   "outputs": [],
   "source": [
    "driver.find_element(By.CLASS_NAME,'search_input').send_keys('블랙핑크')"
   ]
  },
  {
   "cell_type": "code",
   "execution_count": 8,
   "id": "45688d12-c670-49e3-9308-6240261f3ed4",
   "metadata": {},
   "outputs": [],
   "source": [
    "driver.find_element(By.NAME,'query').send_keys('르세라핌')"
   ]
  },
  {
   "cell_type": "code",
   "execution_count": 9,
   "id": "469b90e9-375c-48a5-811b-2b48b9feb51a",
   "metadata": {},
   "outputs": [],
   "source": [
    "driver.find_element(By.CSS_SELECTOR,'#query').send_keys('에스파')"
   ]
  },
  {
   "cell_type": "code",
   "execution_count": 22,
   "id": "569e3ebc-e405-4fab-9de2-3d6b0aa53a5d",
   "metadata": {},
   "outputs": [],
   "source": [
    "driver.find_element(By.CSS_SELECTOR,'.search_input').send_keys('세븐틴')"
   ]
  },
  {
   "cell_type": "code",
   "execution_count": 34,
   "id": "b0b49e9f-3e6b-430c-a585-1a3a4ae58bf7",
   "metadata": {},
   "outputs": [],
   "source": [
    "driver.find_element(By.CSS_SELECTOR, \"[title='검색어를 입력해 주세요.']\").send_keys('트와이스')"
   ]
  },
  {
   "cell_type": "code",
   "execution_count": null,
   "id": "1ad73260-64a1-49cd-922e-ee8111a8358d",
   "metadata": {},
   "outputs": [],
   "source": [
    "driver.find_element(By.XPATH,'//*').send_keys('세븐틴')"
   ]
  },
  {
   "cell_type": "code",
   "execution_count": 17,
   "id": "f1c3f50a-738b-4c34-a8a5-037991adff99",
   "metadata": {},
   "outputs": [],
   "source": [
    "driver.find_element(By.XPATH,\"//*[@id='query']\").send_keys('BTS')"
   ]
  },
  {
   "cell_type": "markdown",
   "id": "f753d85d-90a0-4f40-b7ac-b842a0be2b9a",
   "metadata": {},
   "source": [
    "## 클릭\n",
    "네이버 쇼핑메뉴 클릭"
   ]
  },
  {
   "cell_type": "code",
   "execution_count": 79,
   "id": "308443ee-8492-4c73-be53-dd52bb629afe",
   "metadata": {},
   "outputs": [],
   "source": [
    "driver.find_element(By.XPATH,'//*[@id=\"newsstand\"]/div[1]/div/ul/li[5]/a').click()"
   ]
  },
  {
   "cell_type": "code",
   "execution_count": 19,
   "id": "0f2268f2-5824-46ee-b759-ab7015335ac0",
   "metadata": {},
   "outputs": [
    {
     "data": {
      "text/plain": [
       "<selenium.webdriver.remote.webelement.WebElement (session=\"c4ec4fab85be05e0eb75ef0da5e43874\", element=\"f.DA7EF7042855A7972F984F40AE71A424.d.FD36EA060CB5F1C277674CA5897A0305.e.1962\")>"
      ]
     },
     "execution_count": 19,
     "metadata": {},
     "output_type": "execute_result"
    }
   ],
   "source": [
    "driver.find_element(By.LINK_TEXT,'쇼핑')"
   ]
  },
  {
   "cell_type": "code",
   "execution_count": 28,
   "id": "be6f388d-7e0a-416b-8e6a-7a92225f45dc",
   "metadata": {},
   "outputs": [],
   "source": [
    "driver.find_element(By.LINK_TEXT, '쇼핑').click()"
   ]
  },
  {
   "cell_type": "code",
   "execution_count": 29,
   "id": "bbbb2a79-ec40-42d9-943d-60c12cd54f04",
   "metadata": {},
   "outputs": [],
   "source": [
    "driver.find_element(By.XPATH,'//*[@id=\"shortcutArea\"]/ul/li[7]/a').click()"
   ]
  },
  {
   "cell_type": "code",
   "execution_count": 30,
   "id": "af6daa0f-db9e-4fcd-a228-c1d25b67cb3c",
   "metadata": {},
   "outputs": [],
   "source": [
    "# 일부 매칭\n",
    "driver.find_element(By.PARTIAL_LINK_TEXT, '쇼').click()#링크 찾아야하는데 이름이 다 기억 안날때 부분텍스트만 찾아준느"
   ]
  },
  {
   "cell_type": "code",
   "execution_count": 31,
   "id": "4ad77ff1-aaa6-4dd2-8f38-26023a2e15bc",
   "metadata": {},
   "outputs": [
    {
     "data": {
      "text/plain": [
       "<selenium.webdriver.remote.webelement.WebElement (session=\"a80cb069cc53cb61f9d6dadb1771ad63\", element=\"f.BB0EE37C79C2B89D7B26406BCFF6D149.d.06E6322FAD6CBA95CD123F857C0BC7AB.e.37\")>"
      ]
     },
     "execution_count": 31,
     "metadata": {},
     "output_type": "execute_result"
    }
   ],
   "source": [
    "#태그로찾기\n",
    "#태그는 요소가 너무 많으므로 정확하게 대상을 찾을 때는 권하지않음\n",
    "driver.find_element(By.TAG_NAME,'div')"
   ]
  },
  {
   "cell_type": "code",
   "execution_count": 37,
   "id": "03438c97-d4d2-4b41-b741-5a9d49c9a673",
   "metadata": {},
   "outputs": [
    {
     "data": {
      "text/plain": [
       "[<selenium.webdriver.remote.webelement.WebElement (session=\"a80cb069cc53cb61f9d6dadb1771ad63\", element=\"f.BB0EE37C79C2B89D7B26406BCFF6D149.d.06E6322FAD6CBA95CD123F857C0BC7AB.e.1459\")>,\n",
       " <selenium.webdriver.remote.webelement.WebElement (session=\"a80cb069cc53cb61f9d6dadb1771ad63\", element=\"f.BB0EE37C79C2B89D7B26406BCFF6D149.d.06E6322FAD6CBA95CD123F857C0BC7AB.e.1466\")>,\n",
       " <selenium.webdriver.remote.webelement.WebElement (session=\"a80cb069cc53cb61f9d6dadb1771ad63\", element=\"f.BB0EE37C79C2B89D7B26406BCFF6D149.d.06E6322FAD6CBA95CD123F857C0BC7AB.e.1473\")>,\n",
       " <selenium.webdriver.remote.webelement.WebElement (session=\"a80cb069cc53cb61f9d6dadb1771ad63\", element=\"f.BB0EE37C79C2B89D7B26406BCFF6D149.d.06E6322FAD6CBA95CD123F857C0BC7AB.e.1480\")>,\n",
       " <selenium.webdriver.remote.webelement.WebElement (session=\"a80cb069cc53cb61f9d6dadb1771ad63\", element=\"f.BB0EE37C79C2B89D7B26406BCFF6D149.d.06E6322FAD6CBA95CD123F857C0BC7AB.e.1487\")>,\n",
       " <selenium.webdriver.remote.webelement.WebElement (session=\"a80cb069cc53cb61f9d6dadb1771ad63\", element=\"f.BB0EE37C79C2B89D7B26406BCFF6D149.d.06E6322FAD6CBA95CD123F857C0BC7AB.e.1494\")>,\n",
       " <selenium.webdriver.remote.webelement.WebElement (session=\"a80cb069cc53cb61f9d6dadb1771ad63\", element=\"f.BB0EE37C79C2B89D7B26406BCFF6D149.d.06E6322FAD6CBA95CD123F857C0BC7AB.e.1501\")>,\n",
       " <selenium.webdriver.remote.webelement.WebElement (session=\"a80cb069cc53cb61f9d6dadb1771ad63\", element=\"f.BB0EE37C79C2B89D7B26406BCFF6D149.d.06E6322FAD6CBA95CD123F857C0BC7AB.e.1508\")>,\n",
       " <selenium.webdriver.remote.webelement.WebElement (session=\"a80cb069cc53cb61f9d6dadb1771ad63\", element=\"f.BB0EE37C79C2B89D7B26406BCFF6D149.d.06E6322FAD6CBA95CD123F857C0BC7AB.e.1515\")>,\n",
       " <selenium.webdriver.remote.webelement.WebElement (session=\"a80cb069cc53cb61f9d6dadb1771ad63\", element=\"f.BB0EE37C79C2B89D7B26406BCFF6D149.d.06E6322FAD6CBA95CD123F857C0BC7AB.e.1526\")>,\n",
       " <selenium.webdriver.remote.webelement.WebElement (session=\"a80cb069cc53cb61f9d6dadb1771ad63\", element=\"f.BB0EE37C79C2B89D7B26406BCFF6D149.d.06E6322FAD6CBA95CD123F857C0BC7AB.e.1533\")>,\n",
       " <selenium.webdriver.remote.webelement.WebElement (session=\"a80cb069cc53cb61f9d6dadb1771ad63\", element=\"f.BB0EE37C79C2B89D7B26406BCFF6D149.d.06E6322FAD6CBA95CD123F857C0BC7AB.e.1544\")>]"
      ]
     },
     "execution_count": 37,
     "metadata": {},
     "output_type": "execute_result"
    }
   ],
   "source": [
    "# 여러개의 요소를찾을 때\n",
    "links = driver.find_elements(By.CSS_SELECTOR, '.link_service')\n",
    "links"
   ]
  },
  {
   "cell_type": "code",
   "execution_count": 38,
   "id": "ae79a3ce-e995-4222-a566-cf7a44bee84b",
   "metadata": {},
   "outputs": [
    {
     "data": {
      "text/plain": [
       "'https://mail.naver.com/'"
      ]
     },
     "execution_count": 38,
     "metadata": {},
     "output_type": "execute_result"
    }
   ],
   "source": [
    "driver.find_elements(By.CSS_SELECTOR,'.link_service')[0].get_attribute('href')"
   ]
  },
  {
   "cell_type": "code",
   "execution_count": 45,
   "id": "503f62c4-9d45-4bbc-8bb8-85994f2d15f0",
   "metadata": {},
   "outputs": [
    {
     "name": "stdout",
     "output_type": "stream",
     "text": [
      "https://mail.naver.com/\n",
      "https://cafe.naver.com/\n",
      "https://blog.naver.com/\n",
      "https://shopping.naver.com/home\n",
      "https://news.naver.com/\n",
      "https://finance.naver.com/\n",
      "https://land.naver.com/\n",
      "https://map.naver.com/\n",
      "https://comic.naver.com/\n",
      "https://chzzk.naver.com/\n",
      "https://www.naver.com/#\n",
      "https://siape.veta.naver.com/rd?rk=GU2PXj29302U_IKEGMhvpQ&eltts=f0dJe3NA1e3xa84dlM7TwA%3D%3D&elu=5BA297C9C3C09BC2A363AD20A2AF2280AA600BB0F1224856B1E3B0CD8C7D5F6341BB3F4A77A5F39CD5816E901BFB74C92B046500D36C473274A2DF28B9D9C604F0D8675FDAF22A996AAEFDEE92BA1FCD697E5F7ECC82BD74C279AA95D9F31FA9106C54B228F25590EF823CA4768D621930DE9513FAD9CD3EC5D5F708FBFC00BDA1F5B03C00EADE3421C9D4FE1E658652E8C5A37BBB18D79B4D542EF9B859195A8B5F3CB5F7D17DF7D63104BA36F5191223192AE294E03593BF7CA3B054BF55FF7DF70D50D25D1F0D4D87A7831487FDC2AFB8FEA841F79F16EA53276AF68816C7A149514203E223A19FA55EAAC4E98561256439BD31A8DEFDBC8CEF82F716E628B23F8C3BFA407A51086748714615D78698A603B1B20D8157A049045EADF303C7C90C945E9B6678B41330B37AAA80FDCE0589F05E39A2DECC900ED27DE4327494D8CC07C1B67CE038EFBDA44E52E5B715A3EC5A3F07FD7CCDECDFCA955A7B6FCB11DFA46E51BA4203609299CFB488F993296C5387E386A488064288B95F527FA540946C8672D26BA42D643227D77736CF&tr=ndp\n"
     ]
    }
   ],
   "source": [
    "links=driver.find_elements(By.CSS_SELECTOR,'.link_service')\n",
    "for link in links:\n",
    "    print(link.get_attribute('href'))"
   ]
  },
  {
   "cell_type": "code",
   "execution_count": 34,
   "id": "aaca5c4b-dbc3-486f-b0b5-0353745d04c3",
   "metadata": {},
   "outputs": [
    {
     "name": "stdout",
     "output_type": "stream",
     "text": [
      "https://mail.naver.com/\n",
      "https://cafe.naver.com/\n",
      "https://blog.naver.com/\n",
      "https://shopping.naver.com/home\n",
      "https://news.naver.com/\n",
      "https://finance.naver.com/\n",
      "https://land.naver.com/\n",
      "https://map.naver.com/\n",
      "https://comic.naver.com/\n",
      "https://chzzk.naver.com/\n",
      "https://www.naver.com/#\n",
      "https://siape.veta.naver.com/rd?rk=GU2PXj29302U_IKEGMhvpQ&eltts=f0dJe3NA1e3xa84dlM7TwA%3D%3D&elu=5BA297C9C3C09BC2A363AD20A2AF2280AA600BB0F1224856B1E3B0CD8C7D5F6341BB3F4A77A5F39CD5816E901BFB74C92B046500D36C473274A2DF28B9D9C604F0D8675FDAF22A996AAEFDEE92BA1FCD697E5F7ECC82BD74C279AA95D9F31FA9106C54B228F25590EF823CA4768D621930DE9513FAD9CD3EC5D5F708FBFC00BDA1F5B03C00EADE3421C9D4FE1E658652E8C5A37BBB18D79B4D542EF9B859195A8B5F3CB5F7D17DF7D63104BA36F5191223192AE294E03593BF7CA3B054BF55FF7DF70D50D25D1F0D4D87A7831487FDC2AFB8FEA841F79F16EA53276AF68816C7A149514203E223A19FA55EAAC4E98561256439BD31A8DEFDBC8CEF82F716E628B23F8C3BFA407A51086748714615D78698A603B1B20D8157A049045EADF303C7C90C945E9B6678B41330B37AAA80FDCE0589F05E39A2DECC900ED27DE4327494D8CC07C1B67CE038EFBDA44E52E5B715A3EC5A3F07FD7CCDECDFCA955A7B6FCB11DFA46E51BA4203609299CFB488F993296C5387E386A488064288B95F527FA540946C8672D26BA42D643227D77736CF&tr=ndp\n"
     ]
    }
   ],
   "source": [
    "for link in links:\n",
    "    print(link.get_attribute('href'))"
   ]
  },
  {
   "cell_type": "markdown",
   "id": "82ad0c91-a3a5-4be9-a012-852a80c19706",
   "metadata": {},
   "source": [
    "## 자동로그인"
   ]
  },
  {
   "cell_type": "code",
   "execution_count": 46,
   "id": "1face5fe-abed-488b-9219-248f515063ee",
   "metadata": {},
   "outputs": [],
   "source": [
    "url='file:///C:/workspace/wassup3/02_Python_Collection_/sample/signin.html'\n",
    "driver = webdriver.Chrome(options=options) # 객체 생성\n",
    "\n",
    "driver.get(url) # 실행 \n",
    "\n",
    "time.sleep(2)"
   ]
  },
  {
   "cell_type": "code",
   "execution_count": 60,
   "id": "a04924d5-2aa2-4300-80fb-c1ffabe73146",
   "metadata": {},
   "outputs": [],
   "source": [
    "username=driver.find_element(By.NAME,\"username\")\n",
    "username.send_keys('korea')"
   ]
  },
  {
   "cell_type": "code",
   "execution_count": 63,
   "id": "241941d6-a45f-40db-ac8f-aaba63cab9af",
   "metadata": {},
   "outputs": [],
   "source": [
    "\n",
    "password=driver.find_element(By.NAME,\"password\")\n",
    "password.send_keys('1234')"
   ]
  },
  {
   "cell_type": "code",
   "execution_count": 52,
   "id": "231d0777-8faa-4e83-8770-c4e8c0ac12db",
   "metadata": {},
   "outputs": [],
   "source": [
    "driver.back()"
   ]
  },
  {
   "cell_type": "code",
   "execution_count": null,
   "id": "43a8ca24-698a-480d-880c-3c3800dd962e",
   "metadata": {},
   "outputs": [],
   "source": [
    "driver.find_element(By.XPATH,'//*[@id=\"loginForm\"]/input[3]')\n",
    "login.click()"
   ]
  },
  {
   "cell_type": "code",
   "execution_count": 54,
   "id": "2929e71b-1f2b-4fc2-a860-27a299f0b1b1",
   "metadata": {},
   "outputs": [],
   "source": [
    "login=driver.find_element(By.XPATH,'/html/body/form/input[3]')\n",
    "login.click()"
   ]
  },
  {
   "cell_type": "code",
   "execution_count": 55,
   "id": "73751ad6-1d26-4971-b4a9-8a178129d886",
   "metadata": {},
   "outputs": [],
   "source": [
    "login=driver.find_element(By.CSS_SELECTOR,'[VALUE=Login]')\n",
    "login.click()"
   ]
  },
  {
   "cell_type": "code",
   "execution_count": 58,
   "id": "7f1097a4-153f-4484-93bd-a1a71a51f334",
   "metadata": {},
   "outputs": [],
   "source": [
    "login=driver.find_element(By.CSS_SELECTOR,'[type=\"submit\"]')\n",
    "login.click()"
   ]
  },
  {
   "cell_type": "code",
   "execution_count": 61,
   "id": "a0decb44-f995-423f-bf7f-4705e90a1f61",
   "metadata": {},
   "outputs": [],
   "source": [
    "username.clear()"
   ]
  },
  {
   "cell_type": "code",
   "execution_count": 64,
   "id": "13beea11-9073-4e0e-bd99-7695515a1031",
   "metadata": {},
   "outputs": [],
   "source": [
    "password.clear()"
   ]
  },
  {
   "cell_type": "code",
   "execution_count": 68,
   "id": "ba9d7415-4fbd-4303-a8bb-5a8a487b33e8",
   "metadata": {},
   "outputs": [],
   "source": [
    "username=driver.find_element(By.NAME,\"username\")\n",
    "username.send_keys('korea')\n",
    "password=driver.find_element(By.NAME,\"password\")\n",
    "password.send_keys('1234')"
   ]
  },
  {
   "cell_type": "code",
   "execution_count": 69,
   "id": "d6cdbf7f-0ed1-4a87-b3b5-89e80151138d",
   "metadata": {},
   "outputs": [],
   "source": [
    "username.submit()"
   ]
  },
  {
   "cell_type": "code",
   "execution_count": 70,
   "id": "46581097-445a-4ef3-be18-79d1356f120f",
   "metadata": {},
   "outputs": [],
   "source": [
    "driver.back()"
   ]
  },
  {
   "cell_type": "code",
   "execution_count": 74,
   "id": "19bc76ec-acfa-4c5b-b3f4-2cda84e29590",
   "metadata": {},
   "outputs": [
    {
     "data": {
      "text/plain": [
       "'Are you sure you want to do this?'"
      ]
     },
     "execution_count": 74,
     "metadata": {},
     "output_type": "execute_result"
    }
   ],
   "source": [
    "driver.find_element(By.TAG_NAME,'P').text"
   ]
  },
  {
   "cell_type": "code",
   "execution_count": 73,
   "id": "a726549d-3003-4792-b92a-fd67b046b508",
   "metadata": {},
   "outputs": [
    {
     "data": {
      "text/plain": [
       "'Are you sure you want to do this?'"
      ]
     },
     "execution_count": 73,
     "metadata": {},
     "output_type": "execute_result"
    }
   ],
   "source": [
    "driver.find_element(By.XPATH,'/html/body/p[1]').text"
   ]
  },
  {
   "cell_type": "markdown",
   "id": "0a337d7d-f9bf-4b1e-bac7-39daa43ea2e3",
   "metadata": {},
   "source": [
    "## HTML 소스 추출"
   ]
  },
  {
   "cell_type": "code",
   "execution_count": 75,
   "id": "27e29199-7d70-4e25-8837-b615fff81192",
   "metadata": {},
   "outputs": [
    {
     "data": {
      "text/plain": [
       "'<html><head></head><body>\\n        <h1> Sign In </h1>\\n        <form action=\"moved.html\" id=\"loginForm\">\\n            ID : <input name=\"username\" type=\"text\"> <br>\\n            Password : <input name=\"password\" type=\"password\"> <br>\\n\\n            <input name=\"continue\" type=\"submit\" value=\"Login\">\\n            <input name=\"continue\" type=\"button\" value=\"Clear\">\\n        \\n        </form>\\n\\n        <p>Are you sure you want to do this?</p>\\n        <a href=\"continue.html\">Continue</a>\\n        <a href=\"cancel.html\">Cancel</a>\\n\\n        <h1>Welcome</h1>\\n        <p>Site content goes here.</p>\\n        <p class=\"content\">Site content goes here.</p>\\n    \\n</body></html>'"
      ]
     },
     "execution_count": 75,
     "metadata": {},
     "output_type": "execute_result"
    }
   ],
   "source": [
    "driver.page_source"
   ]
  },
  {
   "cell_type": "code",
   "execution_count": 80,
   "id": "ee21556b-1889-4c55-b3a9-41f9dd3a6ff6",
   "metadata": {},
   "outputs": [],
   "source": [
    "driver.close()"
   ]
  },
  {
   "cell_type": "markdown",
   "id": "eeca4e16-97d7-4a16-9dcb-470f8b253542",
   "metadata": {},
   "source": [
    "## options"
   ]
  },
  {
   "cell_type": "code",
   "execution_count": 1,
   "id": "6959399b-baca-48b0-a40e-d70c221ca83a",
   "metadata": {},
   "outputs": [],
   "source": [
    "from selenium import webdriver\n",
    "from selenium.webdriver.common.by import By\n",
    "from selenium.webdriver.chrome.options import Options\n",
    "import time\n",
    "\n",
    "options = Options()\n",
    "options.add_argument(\"--headless=new\") #코랩할때, \n",
    "# options.add_argument('--window-size= x, y') #실행되는 브라우저 크기를 지정할 수 있습니다.\n",
    "# options.add_argument('--start-maximized') #브라우저가 최대화된 상태로 실행됩니다.\n",
    "# options.add_argument('--start-fullscreen') #브라우저가 풀스크린 모드(F11)로 실행됩니다.\n",
    "# options.add_argument('--blink-settings=imagesEnabled=false') #브라우저에서 이미지 로딩을 하지 않습니다.\n",
    "# options.add_argument('--mute-audio') #브라우저에 음소거 옵션을 적용합니다.\n",
    "# options.add_argument('incognito') #시크릿 모드의 브라우저가 실행됩니다.\n",
    "options.add_experimental_option(\"detach\", True) #특정함수안에서  드라이버 생성"
   ]
  },
  {
   "cell_type": "code",
   "execution_count": 2,
   "id": "7552ac6f-7991-4e80-bc8d-f2084672e61b",
   "metadata": {},
   "outputs": [],
   "source": [
    "url = 'http://naver.com'\n",
    "driver = webdriver.Chrome(options=options)\n",
    "driver.get(url)\n",
    "time.sleep(2)"
   ]
  },
  {
   "cell_type": "code",
   "execution_count": 3,
   "id": "d1d0c65e-6709-487b-98ab-0ce59f58e378",
   "metadata": {},
   "outputs": [
    {
     "name": "stdout",
     "output_type": "stream",
     "text": [
      "NAVER\n"
     ]
    }
   ],
   "source": [
    "print(driver.title)"
   ]
  },
  {
   "cell_type": "code",
   "execution_count": 4,
   "id": "10516d8e-a885-4401-ab15-994d4bc8edd3",
   "metadata": {},
   "outputs": [],
   "source": [
    "driver.quit() # 탭 닫기 클로즈는 브라우저자체를 종료, 퀵은 탭종료"
   ]
  },
  {
   "cell_type": "markdown",
   "id": "09da0067-8c09-4386-b109-b9b735176ced",
   "metadata": {},
   "source": [
    "## 윈도우 컨트롤"
   ]
  },
  {
   "cell_type": "code",
   "execution_count": 5,
   "id": "23864b71-1b48-42b4-8728-40a8e6e67719",
   "metadata": {},
   "outputs": [],
   "source": [
    "from selenium import webdriver\n",
    "from selenium.webdriver.common.by import By\n",
    "from selenium.webdriver.chrome.options import Options\n",
    "import time\n",
    "\n",
    "options = Options()\n",
    "# options.add_argument(\"--start-maximized\")\n",
    "# options.add_argument(\"--headless=new\") \n",
    "options.add_experimental_option(\"detach\", True) #\n",
    "\n",
    "url = 'http://naver.com'\n",
    "driver = webdriver.Chrome(options=options)\n",
    "driver.get(url)\n",
    "time.sleep(2)"
   ]
  },
  {
   "cell_type": "markdown",
   "id": "5d00cf7a-4c71-4cdf-adb7-7ac36ebbac62",
   "metadata": {},
   "source": [
    "## 창의 너비/높이 구하기"
   ]
  },
  {
   "cell_type": "code",
   "execution_count": 11,
   "id": "0d109aa4-d96b-413c-b151-d10d136b26d3",
   "metadata": {},
   "outputs": [
    {
     "name": "stdout",
     "output_type": "stream",
     "text": [
      "1052px 798px\n"
     ]
    }
   ],
   "source": [
    "size = driver.get_window_size() #사이즈정보반환\n",
    "width = size.get(\"width\")\n",
    "height = size.get(\"height\")\n",
    "\n",
    "print(str(width)+\"px\"+\" \"+str(height)+\"px\")"
   ]
  },
  {
   "cell_type": "markdown",
   "id": "14252f49-4f8e-4b72-9e09-0a85ee38b8e4",
   "metadata": {},
   "source": [
    "## 창 크기 조절"
   ]
  },
  {
   "cell_type": "code",
   "execution_count": 16,
   "id": "758f6c16-c4ad-45a6-897d-53ccebaf05a0",
   "metadata": {},
   "outputs": [],
   "source": [
    "driver.set_window_size(800, 600)"
   ]
  },
  {
   "cell_type": "markdown",
   "id": "0e03df9b-d096-4799-ae06-d9c354af64c0",
   "metadata": {},
   "source": [
    "## 스크린 상에서의 창 좌표"
   ]
  },
  {
   "cell_type": "code",
   "execution_count": 19,
   "id": "fb7b49a9-29b1-4196-91e9-d00f2036a9c5",
   "metadata": {},
   "outputs": [
    {
     "name": "stdout",
     "output_type": "stream",
     "text": [
      "x : 672 y : 145\n"
     ]
    }
   ],
   "source": [
    "position = driver.get_window_position()\n",
    "x = position.get('x')\n",
    "y = position.get('y')\n",
    "\n",
    "print(\"x : \"+str(x)+\" \"+\"y : \"+str(y))"
   ]
  },
  {
   "cell_type": "code",
   "execution_count": 20,
   "id": "8363fbf6-0f21-4589-92c5-897e8f8a94b6",
   "metadata": {},
   "outputs": [
    {
     "data": {
      "text/plain": [
       "{'height': 602, 'width': 804, 'x': 200, 'y': 200}"
      ]
     },
     "execution_count": 20,
     "metadata": {},
     "output_type": "execute_result"
    }
   ],
   "source": [
    "driver.set_window_position(200,200)"
   ]
  },
  {
   "cell_type": "code",
   "execution_count": 21,
   "id": "4f9daf0d-8595-4040-973d-3c032a679093",
   "metadata": {},
   "outputs": [],
   "source": [
    "# 창 크기 최대화\n",
    "driver.maximize_window()\n"
   ]
  },
  {
   "cell_type": "code",
   "execution_count": 22,
   "id": "8ba882c5-5797-4297-a2d5-153e81c977fa",
   "metadata": {},
   "outputs": [],
   "source": [
    "# 창 크기 최소화\n",
    "driver.minimize_window()"
   ]
  },
  {
   "cell_type": "code",
   "execution_count": 23,
   "id": "6dabefa8-0a3b-4b5e-89b0-de330fc533b3",
   "metadata": {},
   "outputs": [
    {
     "ename": "WebDriverException",
     "evalue": "Message: unknown error: failed to change window state to 'normal', current state is 'maximized'\n  (Session info: chrome=122.0.6261.129)\nStacktrace:\n\tGetHandleVerifier [0x00007FF629BDAD02+56930]\n\t(No symbol) [0x00007FF629B4F602]\n\t(No symbol) [0x00007FF629A042E5]\n\t(No symbol) [0x00007FF6299E515A]\n\t(No symbol) [0x00007FF6299E3709]\n\t(No symbol) [0x00007FF6299E485F]\n\t(No symbol) [0x00007FF629A9CC89]\n\t(No symbol) [0x00007FF629A6BC9A]\n\t(No symbol) [0x00007FF629A881E2]\n\t(No symbol) [0x00007FF629A6BA43]\n\t(No symbol) [0x00007FF629A3D438]\n\t(No symbol) [0x00007FF629A3E4D1]\n\tGetHandleVerifier [0x00007FF629F56F8D+3711213]\n\tGetHandleVerifier [0x00007FF629FB04CD+4077101]\n\tGetHandleVerifier [0x00007FF629FA865F+4044735]\n\tGetHandleVerifier [0x00007FF629C79736+706710]\n\t(No symbol) [0x00007FF629B5B8DF]\n\t(No symbol) [0x00007FF629B56AC4]\n\t(No symbol) [0x00007FF629B56C1C]\n\t(No symbol) [0x00007FF629B468D4]\n\tBaseThreadInitThunk [0x00007FFCEB11257D+29]\n\tRtlUserThreadStart [0x00007FFCEC74AA48+40]\n",
     "output_type": "error",
     "traceback": [
      "\u001b[1;31m---------------------------------------------------------------------------\u001b[0m",
      "\u001b[1;31mWebDriverException\u001b[0m                        Traceback (most recent call last)",
      "Cell \u001b[1;32mIn[23], line 2\u001b[0m\n\u001b[0;32m      1\u001b[0m \u001b[38;5;66;03m# 전체 화면\u001b[39;00m\n\u001b[1;32m----> 2\u001b[0m driver\u001b[38;5;241m.\u001b[39mfullscreen_window()\n",
      "File \u001b[1;32m~\\anaconda3\\Lib\\site-packages\\selenium\\webdriver\\remote\\webdriver.py:510\u001b[0m, in \u001b[0;36mWebDriver.fullscreen_window\u001b[1;34m(self)\u001b[0m\n\u001b[0;32m    508\u001b[0m \u001b[38;5;28;01mdef\u001b[39;00m \u001b[38;5;21mfullscreen_window\u001b[39m(\u001b[38;5;28mself\u001b[39m) \u001b[38;5;241m-\u001b[39m\u001b[38;5;241m>\u001b[39m \u001b[38;5;28;01mNone\u001b[39;00m:\n\u001b[0;32m    509\u001b[0m \u001b[38;5;250m    \u001b[39m\u001b[38;5;124;03m\"\"\"Invokes the window manager-specific 'full screen' operation.\"\"\"\u001b[39;00m\n\u001b[1;32m--> 510\u001b[0m     \u001b[38;5;28mself\u001b[39m\u001b[38;5;241m.\u001b[39mexecute(Command\u001b[38;5;241m.\u001b[39mFULLSCREEN_WINDOW)\n",
      "File \u001b[1;32m~\\anaconda3\\Lib\\site-packages\\selenium\\webdriver\\remote\\webdriver.py:354\u001b[0m, in \u001b[0;36mWebDriver.execute\u001b[1;34m(self, driver_command, params)\u001b[0m\n\u001b[0;32m    352\u001b[0m response \u001b[38;5;241m=\u001b[39m \u001b[38;5;28mself\u001b[39m\u001b[38;5;241m.\u001b[39mcommand_executor\u001b[38;5;241m.\u001b[39mexecute(driver_command, params)\n\u001b[0;32m    353\u001b[0m \u001b[38;5;28;01mif\u001b[39;00m response:\n\u001b[1;32m--> 354\u001b[0m     \u001b[38;5;28mself\u001b[39m\u001b[38;5;241m.\u001b[39merror_handler\u001b[38;5;241m.\u001b[39mcheck_response(response)\n\u001b[0;32m    355\u001b[0m     response[\u001b[38;5;124m\"\u001b[39m\u001b[38;5;124mvalue\u001b[39m\u001b[38;5;124m\"\u001b[39m] \u001b[38;5;241m=\u001b[39m \u001b[38;5;28mself\u001b[39m\u001b[38;5;241m.\u001b[39m_unwrap_value(response\u001b[38;5;241m.\u001b[39mget(\u001b[38;5;124m\"\u001b[39m\u001b[38;5;124mvalue\u001b[39m\u001b[38;5;124m\"\u001b[39m, \u001b[38;5;28;01mNone\u001b[39;00m))\n\u001b[0;32m    356\u001b[0m     \u001b[38;5;28;01mreturn\u001b[39;00m response\n",
      "File \u001b[1;32m~\\anaconda3\\Lib\\site-packages\\selenium\\webdriver\\remote\\errorhandler.py:229\u001b[0m, in \u001b[0;36mErrorHandler.check_response\u001b[1;34m(self, response)\u001b[0m\n\u001b[0;32m    227\u001b[0m         alert_text \u001b[38;5;241m=\u001b[39m value[\u001b[38;5;124m\"\u001b[39m\u001b[38;5;124malert\u001b[39m\u001b[38;5;124m\"\u001b[39m]\u001b[38;5;241m.\u001b[39mget(\u001b[38;5;124m\"\u001b[39m\u001b[38;5;124mtext\u001b[39m\u001b[38;5;124m\"\u001b[39m)\n\u001b[0;32m    228\u001b[0m     \u001b[38;5;28;01mraise\u001b[39;00m exception_class(message, screen, stacktrace, alert_text)  \u001b[38;5;66;03m# type: ignore[call-arg]  # mypy is not smart enough here\u001b[39;00m\n\u001b[1;32m--> 229\u001b[0m \u001b[38;5;28;01mraise\u001b[39;00m exception_class(message, screen, stacktrace)\n",
      "\u001b[1;31mWebDriverException\u001b[0m: Message: unknown error: failed to change window state to 'normal', current state is 'maximized'\n  (Session info: chrome=122.0.6261.129)\nStacktrace:\n\tGetHandleVerifier [0x00007FF629BDAD02+56930]\n\t(No symbol) [0x00007FF629B4F602]\n\t(No symbol) [0x00007FF629A042E5]\n\t(No symbol) [0x00007FF6299E515A]\n\t(No symbol) [0x00007FF6299E3709]\n\t(No symbol) [0x00007FF6299E485F]\n\t(No symbol) [0x00007FF629A9CC89]\n\t(No symbol) [0x00007FF629A6BC9A]\n\t(No symbol) [0x00007FF629A881E2]\n\t(No symbol) [0x00007FF629A6BA43]\n\t(No symbol) [0x00007FF629A3D438]\n\t(No symbol) [0x00007FF629A3E4D1]\n\tGetHandleVerifier [0x00007FF629F56F8D+3711213]\n\tGetHandleVerifier [0x00007FF629FB04CD+4077101]\n\tGetHandleVerifier [0x00007FF629FA865F+4044735]\n\tGetHandleVerifier [0x00007FF629C79736+706710]\n\t(No symbol) [0x00007FF629B5B8DF]\n\t(No symbol) [0x00007FF629B56AC4]\n\t(No symbol) [0x00007FF629B56C1C]\n\t(No symbol) [0x00007FF629B468D4]\n\tBaseThreadInitThunk [0x00007FFCEB11257D+29]\n\tRtlUserThreadStart [0x00007FFCEC74AA48+40]\n"
     ]
    }
   ],
   "source": [
    "# 전체 화면\n",
    "driver.fullscreen_window()"
   ]
  },
  {
   "cell_type": "code",
   "execution_count": 24,
   "id": "0c76a099-9ade-4de2-9596-fff395ae7a79",
   "metadata": {},
   "outputs": [
    {
     "data": {
      "text/plain": [
       "True"
      ]
     },
     "execution_count": 24,
     "metadata": {},
     "output_type": "execute_result"
    }
   ],
   "source": [
    "# 스크린 샷\n",
    "driver.save_screenshot('./image.png')"
   ]
  },
  {
   "cell_type": "code",
   "execution_count": 25,
   "id": "51b44853-546f-4599-af25-51d24e84c8a7",
   "metadata": {},
   "outputs": [],
   "source": [
    "driver.close()"
   ]
  },
  {
   "cell_type": "markdown",
   "id": "d9a035a5-3c33-436a-82d4-e94daa4292e7",
   "metadata": {},
   "source": [
    "## 예제) 네이버 블로그"
   ]
  },
  {
   "cell_type": "code",
   "execution_count": 26,
   "id": "395762cf-0b0b-433c-992c-c3943dbc67fc",
   "metadata": {},
   "outputs": [],
   "source": [
    "from selenium import webdriver\n",
    "from selenium.webdriver.common.by import By\n",
    "from selenium.webdriver.chrome.options import Options\n",
    "import time, random, pandas as pd\n",
    "\n",
    "options = Options()\n",
    "options.add_argument('--window-size=974,1047')\n",
    "options.add_argument('--window-position=-7,0')\n",
    "options.add_experimental_option(\"detach\", True)"
   ]
  },
  {
   "cell_type": "code",
   "execution_count": 27,
   "id": "688fd856-ef41-4993-9353-67425870874b",
   "metadata": {},
   "outputs": [],
   "source": [
    "# 웹드라이버 로드\n",
    "driver = webdriver.Chrome( options = options)"
   ]
  },
  {
   "cell_type": "code",
   "execution_count": 28,
   "id": "6cea7942-fac2-4c84-8eae-56fd64311b36",
   "metadata": {},
   "outputs": [],
   "source": [
    "# 조건 설정\n",
    "#https://search.naver.com/search.naver?ssc=tab.blog.all&query=%EC%9D%B8%EA%B3%B5%EC%A7%80%EB%8A%A5&sm=tab_opt&nso=so%3Ar%2Cp%3Afrom20240101to20240625\n",
    "where = 'blog'\n",
    "query = '인공지능'\n",
    "dateform = '20240101to20240625'\n",
    "url = f'https://search.naver.com/search.naver?ssc=tab.{where}.all&query={query}&sm=tab_opt&nso=so%3Ar%2Cp%3Afrom{dateform}'\n",
    "# url = f'https://search.naver.com/search.naver?where={where}&query={query}&sm=tab_op&nso=so:r,p:from{dateform}'\n",
    "fname = f'{where}_{query}_{dateform}'"
   ]
  },
  {
   "cell_type": "code",
   "execution_count": 29,
   "id": "ed02c232-b49e-4615-bf85-2f036dbe3277",
   "metadata": {},
   "outputs": [],
   "source": [
    "# url 접속\n",
    "driver.get(url)\n",
    "time.sleep(random.randint(2,3))"
   ]
  },
  {
   "cell_type": "markdown",
   "id": "be0d811b-3d24-4cf7-81a1-0a035dc8da91",
   "metadata": {},
   "source": [
    "## excute_script()"
   ]
  },
  {
   "cell_type": "code",
   "execution_count": null,
   "id": "8d8b54c5-3050-4f36-b433-58445174dcea",
   "metadata": {},
   "outputs": [],
   "source": [
    "#자바스크립는 동작을 주기때문에 여기서는 자바스크립"
   ]
  },
  {
   "cell_type": "code",
   "execution_count": 31,
   "id": "ab9ad997-ccd1-4b80-b92d-a3556b453823",
   "metadata": {},
   "outputs": [],
   "source": [
    "#네이버 뷰는 최대 1050까지만 노출\n",
    "# 스크롤 10번\n",
    "for i in range(10):\n",
    "    driver.execute_script('window.scrollTo(0, document.body.scrollHeight);')\n",
    "    time.sleep(random.randint(2, 3))"
   ]
  },
  {
   "cell_type": "code",
   "execution_count": 37,
   "id": "f74fd48f-de05-4c50-b9dc-e1ffd125f758",
   "metadata": {},
   "outputs": [
    {
     "name": "stdout",
     "output_type": "stream",
     "text": [
      "완료\n"
     ]
    }
   ],
   "source": [
    "# get_view()\n",
    "views = driver.find_elements(By.CSS_SELECTOR, '.lst_view.bx')\n",
    "result = []\n",
    "\n",
    "for view in views:\n",
    "    con_dict = {}\n",
    "    con_dict['title'] = view.find_element(By.CSS_SELECTOR, '.title_link').text\n",
    "    con_dict['text'] = view.find_element(By.CSS_SELECTOR, '.dsc_link').text\n",
    "    con_dict['date'] = view.find_element(By.CSS_SELECTOR, '.sub').text #날\n",
    "    result.append(con_dict)\n",
    "    print(con_dict)\n",
    "    \n",
    "print('완료')"
   ]
  },
  {
   "cell_type": "code",
   "execution_count": 38,
   "id": "20e6c302-7ad9-4170-b245-ac9066578cff",
   "metadata": {
    "scrolled": true
   },
   "outputs": [
    {
     "name": "stdout",
     "output_type": "stream",
     "text": [
      "{'title': '엔비디아 주가 전망 시가총액 버블일까 실적 인공지능 가속기', 'text': '엔비디아 주가 전망 시가총액 버블일까 실적 인공지능 가속기 인공지능 AI열풍의 최전선에 있는 엔비디아는 1일간 시가총액 1위를 하고 다시 밀려났습니다. 최근들어서 거품이라는 이야기도 나오고 있죠. 과거 1999년 IT열풍이 한창일때, 나스닥 지수는 5000선까지 올랐었습니다. 그 거품의 중심에는 시스코가 있었죠. 닷컴 버블 붕괴 직전 시스코는 마이크로소프트(MSFT)...', 'date': '7시간 전'}\n",
      "{'title': '구글 알파벳 주가 전망, 1주만 사고 후회(feat. 배당금, 역투자, 인공지능)', 'text': '배당금, 역투자, 인공지능) 투자를 하면 항상 후회를 하게되죠. 그때 샀어야해, 팔았어야해, 더 떨어지면 살걸 등.. 매 순간마다 선택에 따라 수익률이 크게 차이날 수 있기... 인공지능 테마가 정말 무서울정도로 긴시간 지속되고 있습니다. 구글은 계속 긴장하고 있다 구글이 지금처럼 상승하기까지 어려움이 없었던 것은 아닙니다. 2022년부터 정리해고를 해왔고...', 'date': '2주 전'}\n",
      "{'title': '인공지능 삼성 노트북 갤럭시북4 엣지 가벼운 14인치 노트북 스펙 가격', 'text': '오늘은 인공지능 더해진 14인치 노트북 갤럭시북4 엣지 가격 스펙을 간단히 소개해 드리겠습니다. 갤럭시북4 엣지 14인치 갤럭시북4 엣지는 14인치와 16인치 두 종류로 출시됐으며... 에 초점을 둔 기기답게 윈도우 코파일럿(Copilot) 버튼이 키보드에 배정되어 있습니다. 텍스트와 대략적인 스케치만 있으면 알아서 예술 작품을 완성시켜주는 Cocreator...', 'date': '2일 전'}\n",
      "{'title': '[인공지능 개발자] 석사가 아닌 고졸도 취업이 가능한 루트', 'text': '인공지능 개발자 석사가 아닌 고졸도 취업이 가능한 루트 현재, IT 산업에서 가장 주목받고 있는 기술, AI(Artificial Intelligence)는 얼마 전까지만 하더라도, 유용한 기술인 건 맞지만... 하지만, 현재에는 관련 프로젝트를 수행하는 과정에서 활용할 수 있는 API, 라이브러리 등이 굉장히 많아졌고, 기술의 수준 또한 높기 때문에 과거에는 AI 프로젝트를 0%부터...', 'date': '3주 전'}\n",
      "{'title': '인공지능 VS 인간, 주식투자 대결 승자는? 로보어드바이저 투자 수익률 공개', 'text': \"인간과 인공지능(AI) 중 누가 더 투자를 잘할까요? AI는 빅데이터 분석, 머신러닝 알고리즘 등을 활용하여 인간보다 더 정확하고 수익성 높은 투자를 할 수 있다는 주장이... 'AI vs 인간' 주식 투자 대결 (2023년) ① 주최: 한국거래소 ② 참가자: 투자 플랫폼 10곳 vs 개인 투자자 100명 ③ 투자 기간: 6개월 ④ 투자 대상: KOSPI 200 지수 구성 종목 ⑤ 결과...\", 'date': '2024.05.10.'}\n",
      "{'title': '삼성전자 갤럭시북4 프로360 AI 인공지능 노트북 리뷰', 'text': 'AI 인공지능 관련된 기능들을 확실히 쾌적하게 사용이 가능했습니다. 보통 가성비를 생각하여 적당한 사양에서 타협을 보고 구입을 할건데 지금까지 갤럭시북 프로를 구형부터... 키보드의 숫자키는 생산성을 높였고, 상단의 지문인식 전원키는 보안성 강화해서 인가된 사용자외엔 철저하게 배제 해주니 이같은 AI 활용하기 편리한 노트북이...', 'date': '4주 전'}\n",
      "{'title': '애플 주가 인공지능 AI 아이폰 통화녹음 WWDC 내용 정리', 'text': '애플 주가 인공지능 AI 아이폰 통화녹음 WWDC 내용 정리 매년 6월이면 WWDC 가 열립니다. 매번 어떤 아이디어를 가지고 나타날까 궁금해지는데, 이번에는 애플도 AI 인공지능이라는 타이틀을 들고 나왔습니다. 드디어 애플도 시장에 참전하려는가 봅니다. 내용을 다 보진 못했지만 일부 확인후 요약본을 추가로 본 결과 애플이 어떤 생각으로 을 대하고...', 'date': '2주 전'}\n",
      "{'title': '인공지능AI와 ETF투자하는 법 feat. 핀트 후기', 'text': \"그 중 오늘은 AI 인공지능을 기반으로 투자에 투여하는 시간과 어려운 투자 의사결정을 대신해주고 개인 맞춤 포트폴리오 제공을 통해 자동으로 매수매수를 진행하는 [핀트] 에 대하여 알아보고자 한다. AI 투자 서비스 '핀트' 핀트는 모바일 1:1 맞춤형 간편투자 서비스로, 자체 개발한 투자 운용플랫폼 프레퍼스와 AI 간편투자 엔진 아이작이 개인의 투자...\", 'date': '2024.05.01.'}\n",
      "{'title': '앱제작 인공지능 기술이 비용을 확 낮춰드림', 'text': '하지만, 인공지능 기술로 앱제작을 하게 되면 이런 문제들을 전혀 신경 쓰지 않아도 됩니다. 인공지능 기술은 C, Java, Javascript 등 낡은 프로그램 언어와 똑같이 구현 대상에 아무런 제약이 없을 뿐만 아니라 표현 자유도(UI, UX)까지 매우 높으며 개발된 앱 제품은 오류 발생이 없습니다. Android, iOS 용 모바일 앱과 PC Windows, WebApp 프로그램까지 한 번에 제작할 수 있어...', 'date': '6일 전'}\n",
      "{'title': '데이터베이스 뜻 인공지능 코딩 데이터분석 취업 빅데이터학원', 'text': '인공지능분석 기술은 요즘에 4차산업혁명 새로운 직업군중에 고액 연봉 복지 대우를 받을 수 있는 직무 입니다. 빅데이터학원 에서 요즘 AI 국비지원 수업이 가능한데 어떤... 요즘에는 이런걸 이용해서 마케팅 영업 , 새로운 신기술 사업에 응용 할 수 있기 때문에 취업 AI 분야가 떠오르고 있다는 것 입니다. 뜻 같은 경우도 비슷하다고 보시면...', 'date': '4주 전'}\n",
      "{'title': '릴리스 AI , 유튜브 영상 자동 요약 인공지능', 'text': '아무리 인공지능 AI인들 그 긴 영상을 어떻게 깔끔하게 요약한단 말인가. 그런데 사용해보면, 이 기능들 진짜 미.쳤.다. 일단 아래 화면은 요약본이다. 영상은 22분짜리인데, 그냥 몇 초만에 요약해낸다. 요약본을 읽는데는 채 5분도 걸리지 않았다. 요약 상태도, 오, 훌륭하다. 서비스는 다양하다. 전체 스크립트를 볼 수 도 있게 되어있다. 요약본보다 더 자세한 내용을...', 'date': '3일 전'}\n",
      "{'title': '2024 월드IT쇼 LG전자 부스 방문 인공지능 AI 가전 새로운 미래를 만나다', 'text': '2024 월드IT쇼 LG전자 부스 방문 인공지능 AI 가전 새로운 미래를 만나다 안녕하세요. 사진&IT 크리에이터 자유분방입니다. 2024년 월드IT쇼 World IT Show 2024가 2024년 4월 17일(수)~19일(금)... LG전자 인공지능, AI가 보여주는 가전의 미래 LG전자부스는 빛의선율, 물의 순환, 바람의 시선, 흙 그리고 삶, 초월적 연결 5가지 테마로 되어 있었어요. 그리고 입구에는 LG 알파블...', 'date': '2024.04.19.'}\n",
      "{'title': '골프, 야구, 축구 등 스포츠에도 활용되는 인공지능(AI)', 'text': '인공지능(AI) 기술이 골프, 야구, 축구 등 다양한 스포츠 영역에 활용되고 있습니다. AI가 골프 경기 결과를 예측하고, 야구 경기에선 사람 대신 투구를 심판하고, 심지어 AI가 축구... [축구] 코너킥 전술 짜는 AI 구글 산하 인공지능(AI) 조직인 딥마인드는 지난 3월 영국 프로축구 구단 리버풀FC와 함께 AI 기반 축구 전술 코칭 프로그램을 개발했다고 발표했습니다....', 'date': '4주 전'}\n",
      "{'title': '애플 주가전망 미국주식 인공지능 시총1위 아이폰판매 기대', 'text': '애플 주가전망 미국주식 인공지능 시총1위 아이폰판매 기대 애플의 시가총액이 마이크로소프트를 다시 제치고 1위가 되었습니다. 생성형인공지능 애플인텔리전스 발표이후 시장의 반응이 상당히 뜨겁습니다. 애플시총1위 애플 주가전망 미국주식 시총 1위 유지 그렇지만 주가에 대한부담감도 상당합니다. 결국 앞으로 좋아질 애플의실적이 선 반영된 것이죠. 이주가를...', 'date': '2주 전'}\n",
      "{'title': '애플 주가 급등, AI 인공지능 애플 인텔리전스 게임 체인저 될까? 국내 관련주', 'text': 'AI 인공지능 관련주로 부각 애플 인텔리전스(Apple Intelligence)라는 인공지능 전략을 공개되면서 게임 체인저가 될 것으로 기대되고 있습니다. 회사는 WWDC(연례 세계 개발자 회의)에서 아이폰, 아이패드, 맥 컴퓨터에 AI를 적용하는 계획을 자세히 설명했는데요. 이제 각 디바이스에는 OpenAI의 ChatGPT를 시작으로 자체 및 타사 모델이 사용될...', 'date': '2주 전'}\n",
      "{'title': '무료 이미지 생성 AI 사이트 (인공지능이 자동으로 그림 그려주는 사이트)', 'text': '무료 이미지 생성 AI 사이트 (인공지능이 자동으로 그림 그려주는 사이트) 도비호 | 2024년 05월 28일 | 댓글 없음 카테고리: 인공지능, ChatGPT | 태그: 인공지능 블로그에 쓸 원하는 사진이 유료 밖에 없어 인공지능한테 그림을 그리라고해서 사용했다. 이 그림이나 사진을 그려주는 사이트를 모아 보았다. 목차 1 (AI)이 그림을 그려준다...', 'date': '4주 전'}\n",
      "{'title': '인공지능 감성 AI로봇 리쿠 리뷰, 가격 미운우리새끼 김승우 로봇', 'text': \"얼리어답터 리뷰/IT정보 인공지능 감성 AI로봇 리쿠 리뷰, 가격 미운우리새끼 김승우 로봇 by 엔돌슨 2024. 5. 22. 인공지능 감성 AI로봇 리쿠 리뷰, 가격 미운우리새끼 김승우 로봇 안녕하세요. 오늘은 국내 최초로 인공지능 감성 로봇으로 인정받은 '리쿠'에 대해 리뷰해보려고 합니다. 최근 방송된 미운우리새끼에서 김승수가 리쿠 로봇을 소개하는...\", 'date': '2024.05.22.'}\n",
      "{'title': '연금저축보험 이전 후 수익 인증, 인공지능 투자 성과 어떨까?', 'text': '최근엔 인공지능이 운영하는 상품을 추천하고 있습니다. 가입 후 연금을 받기까지 또는 연금을 받으면서도 상품을 운용해야 초장기 상품이기 때문에 상품 하나 가입하면 끝이 아니라 상황에 맞게 운용을 해야 합니다. 가입자가 직접 펀드를 바꾸고, ETF를 매수할 수 있다면 좋겠지만 쉽지 않죠. 적어도 제 주변에는 없었습니다. 은 연금저축계좌에 넣은...', 'date': '2024.04.08.'}\n",
      "{'title': 'AI 엑스포 인공지능 트렌드 기술 적용 사례 셀바스AI 기업 탐방기', 'text': 'GPT 서비스 시작으로 다양한 인공지능 서비스가 빠르게 성장하기 시작하였습니다. 물론, 일부 아쉬운점이 있었는데요. 스타트 기업 및 론칭 예정에 가까운 사업들이 많다는... 4) CO-Assistance 업무 생산성 SELVAS는 자체적 개발 음성 지능, 필기 지능 솔루션을 개발하였는데요. 복잡한 문서 및 이미지 파일을 텍스트로 전환하는 Selvy OCR, 대화 내용을 기록할 수 있는 Selvy...', 'date': '2024.05.14.'}\n",
      "{'title': '인공지능과 생명공학의 만남, 디지털 육종 기술', 'text': '따라서 디지털 육종이라는 것은 유전체 분석 및 인공지능 기술을 활용해 더 효율적으로 원하는 기능을 가진 고품질의 종자를 생산할 수 있는 융합 기술로 볼 수 있습니다. 2024년 10대... 빅데이터와 인공지능 기술의 적용이 아예 없는 0단계부터 육종가의 개입 없이 완전 자동화된 5단계까지 총 6단계로 나눌 수 있습니다. 디지털 육종의 단계별 기술을 자세히 살펴보면...', 'date': '2024.04.27.'}\n",
      "{'title': 'AI 인공지능 엔비디아 주가 국내 반도체 관련주 - SK하이닉스 KODEX 핵심장비 ETF', 'text': 'AI 인공지능 엔비디아 주가 국내 반도체 관련주 - SK하이닉스 KODEX 핵심장비 ETF 금리가 떨어지지 않고 있지만, 파월 의장의 비둘기파 발언으로 미국 주식시장은 활기를 되찾았습니다. 지금 주식시장의 가장 큰 화두는 바로 AI 입니다. 엔비디아는 그 중심에 서 있죠. 최근 좀 지지부진하긴 했지만, 2년전과 비교해보면 500% 이상 상승한 것을 볼 수 있습니다....', 'date': '2024.05.10.'}\n",
      "{'title': '소프트웨어 SW 코딩 엔트리 인공지능 with 햄스터로봇', 'text': '오늘 제가 읽은 책은 영진닷컴의 엔트리 인공지능 with 햄스터로봇 개정판인데요. 엔트리와 햄스터 로봇으로 쉽게 배우는 인공지능 교육 교재입니다. 엔트리는 우리나라에서 만든 소프트웨어 프로그램입니다. 누구나 무료로 사용할 수 있는 SW 교육 프로그램인데요. 대부분의 학교에서 이 SW를 사용해서 소프트웨어 학습을 진행하고 있습니다. 작품을 만드는 과정이...', 'date': '2주 전'}\n",
      "{'title': '인공지능이 변화시킬 미래, 주거환경엔 어떤 영향을 미칠까? 2024 AI EXPO', 'text': \"작년 초, 거대언어모델(LLM)의 상용화를 현실화시킨 Open AI사의 'Chat GPT'는 인공지능이 상용화되었다는 사실을 전 세계적으로 널리 알린 신호탄이었습니다. 그리고 1년 뒤 국내 최고의... 그리고 올해 5월 Open AI사는 'Chat-GPT-4o'를 통해 거대언어모델을 넘어 이미지와 영상도 AI로 콘텐츠화할 수 있고, 이제는 이 인간의 감정까지 읽을 수 있는 무서운 현실을...\", 'date': '2주 전'}\n",
      "{'title': 'AI 인공지능 개발자 비전공자 국비지원 취업 내일배움카드 교육 학원', 'text': '오늘은 AI개발자 취업 과정 그리고 인공지능 개발자 분야 국비지원 교육 과정에 대해서 알려드리려고 합니다~! AI취업 내일배움카드 알아보시는 분들에게 좋은 소식일듯 합니다 AI... 인공지능 개발자 교육 커리큘럼 안내 3. 비전공자 기준 IT진로 고민이라면 ? 4. 내일배움카드 사용할때 주의할점 5. IT현실 조언 / 팩트정리 1. AI 개발자 취업 전망이 좋은이유 학원...', 'date': '2024.05.25.'}\n",
      "{'title': '인공지능 관련주 투자 전망 국내외 6곳', 'text': \"AI 음성 비서 'NUGU', 지능형 CCTV 등 AI 기술 기반의 제품 및 서비스를 선보이고 있습니다. 최근에는 자회사 SK쉴더스를 통해 AI 기술 기반의 보안 솔루션 사업을 강화하고 있습니다. 전문가들은 SK 텔레콤이 AI 기술을 통신, 보안, 미디어 등 다양한 분야에 적용하며 성장할 것으로 전망하고 있습니다. 이처럼 국내 주요 IT, 통신, 보안 기업들이 ...\", 'date': '4주 전'}\n",
      "{'title': '복지 서비스에도 활용되는 인공지능(AI)', 'text': \"다양한 복지 서비스에 인공지능(AI)이 활용되고 있습니다. 인공지능이 안부 전화를 거는 'AI 노인 말벗 서비스'를 비롯해 발달장애인 돌봄에도 인공지능(AI) 기술이 적용되고, AI로 전력·통신사용량 감지해 1인가구의 고독사를 예방하기도 하는데요. 복지 서비스에 활용되는 (AI)의 활용 사례를 윤커뮤니케이션즈와 함께 살펴보세요! 이 안부 전화 거는...\", 'date': '2주 전'}\n",
      "{'title': '한미반도체 주가 전망 주식 인공지능AI 테마 관련주', 'text': '한미반도체 주가 전망 주식 인공지능AI 테마 관련주 국내주식이 미국 나스닥에 비해서는 재미없고 지루하다는 평이 많습니다. 하지만 일부 몇개 종목은 몇년간 엄청난 상승률을... 인공지능 AI테마의 중심 단순히 실적이 좋아진다는 이유만으로, 이정도로 주가가 오르기는 쉽지 않습니다. 하지만 한미반도체는 (AI)수혜주로 분류되고 있어요. 그 배경에는...', 'date': '2주 전'}\n",
      "{'title': '새로운 AI 시대의 시작 Windows 11 Copilot + PC 인공지능 노트북의 등장!', 'text': '요즘 인공지능 기반 서비스가 유행입니다. 저 역시도 윈도우 및 엣지 브라우저를 통해 코파일럿을 자주 사용하고 있습니다. 무료로 사용할 수 있으면서 그림 생성은... 여느 인공지능 기반 서비스보다 더 많은 기능과 향상된 성능을 제공하는 Copilot+ PC는 앞으로 우리의 PC 사용 경험을 크게 변화시킬 것입니다. 새로운 기능들과 함께 제공되는 뛰어난...', 'date': '2주 전'}\n",
      "{'title': '인공지능으로 국방규격 품질관리 시작한다! <국방표준종합정보시스템(KDSIS) 고도화 사업 완료>', 'text': '* PLM : Product Lifecycle Management ** BOM : Bill of Materials 이 밖에 로봇처리자동화(RPA*) 및 인공지능(AI) 기술을 적용하여 단순․반복적인 업무를 자동으로 처리하고 방대한 분량의 기술 자료도 신속하게 검증하여 국방규격의 품질을 크게 높일 수 있게 되었습니다. * RPA : Robotic Process Automation 이러한 기능 개선은 최근 첨단 무기체계의 개발 추세를 반영하는...', 'date': '1일 전'}\n",
      "{'title': '애플 iOS18 아이폰 기능, 어떤 인공지능 기능들이 추가될까?', 'text': 'Siri는 물론이고, 이메일, 메시지, 사파리, 사진 편집 등에서도 인공지능을 활용한 기능들이 추가될 것으로 예상되고 있습니다. 그리고 그 중심에는 Open AI의 ChatGPT가 있을 것이라는... 그리고 메일과 메시지에서는 인공지능을 활용한 스마트 답장 기능을 사용할 수 있을 것으로 예상되고 있습니다. 대형 언어 모델 기반으로 이메일과 메시지 내용 등을 분석해...', 'date': '3주 전'}\n",
      "{'title': '신일 무소음 선풍기 BLDC 모터에 인공지능 탑재 3D14W', 'text': 'BLDC 모터를 탑재해 12단계로 세부적인 풍량 조절은 물론 소음이 거의 없고, 인공지능 기능을 탑재해 스스로 풍량을 조절하고 3D 좌우 상하 입체 자동회전이 가능해 필자에게 딱... 게다가 인공지능 탑재로 주변 온도에 맞춰 자동으로 바람세기가 설정되도록 사용할 수 있다. 각도 조절도 가능한데, 30도/60도/120도 좌우 조절은 물론 상하 105도까지 조절이 가능해 상황에...', 'date': '2024.05.16.'}\n",
      "{'title': 'AI 상담 서비스 인공지능 챗봇 고객센터 클라우드게이트 프로모션 정보', 'text': '인공지능 기술이 발전하면서 이는 고객 상담 분야에도 큰 영향력을 가져왔습니다. 사람이 직접 상담을 하던 과거와 달리 학습된 AI 솔루션을 통해 고객 응대를 하는 기업들이 많아지고 있죠. 앞으로도 인공지능 분야로는 지속적인 발전이 예상되기에 솔루션 사용은 꼭 필요해지는 상황인데요. AI 상담 고객센터 대행에 괜찮은 클라우드게이트 AI 서비스 및...', 'date': '4주 전'}\n",
      "{'title': '인공지능(AI) 시대, 늘어나는 반도체 수요, 이번 기회를 놓치면 끝이다? 26조원 규모 반도체 산업지원 방안', 'text': '이는 전세계적으로 인공지능(AI) 투자가 확대되면서 반도체 수요가 급증했고, 메모리 반도체 가격이 상승한 덕분인데요. 하지만 그만큼 경쟁이 치열하다는 것을 의미하기도... 06.07~2025.06.06)) #웰컴저축은행 #웰컴디지털뱅크 #저축은행 #반도체 #파운드리 #HBM #미니팹 #팹리스 #반도체클러스터 #삼성전자 #SK하이닉스 #메모리 #메모리반도체 # #AI', 'date': '2주 전'}\n",
      "{'title': 'AI 종류 인공지능 직업 개발자 교육 국비지원 취업 내일배움카드 학원', 'text': '오늘은 AI종류 어떤것들이 있는지 인공지능 직업 에 대해서 알아보고 AI 교육 국비지원 수업과정 커리큘럼 강의 강좌 수업 내용까지 알아보려고 합니다 요즘에 인공지능개발자 취업, AI개발자 취업 많이 하시려고 하시는데요~ 파이썬 데이터분석, 딥러닝 기술이 필수여서 이런 부분에 맞게 교육과정을 받을 수 있는지 제대로 알아보고 본인 계획 목적에 맞게 기술...', 'date': '2024.05.25.'}\n",
      "{'title': '미국 AI 인공지능 관련주 수혜주 종류', 'text': '갑자기 AI 인공지능 관련주 수혜주에는 무슨 기업이 있는지 궁금하시데요. 재설씨를 위해 부랴부랴 인공지능 관련주에 대해 공부해서 분야별로 대표 주식들 알려드렸어요~ 오늘 포스팅은 6월 23일 기준으로 상담 내용이니 참고해주세요! 목차 1. 미국 증시 분위기 2. 미국 AI 관련주 수혜주 전망 3. 관련주 종류 4. ARM 주가 추세 5. AI 인에이블링 관련주...', 'date': '6시간 전'}\n",
      "{'title': 'AI프로필 제작 캐럿으로 나만의 인공지능 사진 및 그림 만들기', 'text': '요즘은 인공지능을 기반으로 앵커를 대체하기도 하고 CF 영상에 AI 캐릭터가 등장하기도 합니다. 정말 신기한 세상에 살고 있으나, 종종 어떻게 만드는지 궁금하기도 했는데요. 예전에는 뭔가 이질적이고 어색하다는 느낌이 들었다면, 요즘은 무엇이 진짜인지 헷갈릴 정도로 사진이나 캐릭터의 퀄리티가 높더라고요. 이번 글에서는 매일 1장 누구나 무료로...', 'date': '2024.03.25.'}\n",
      "{'title': '인공지능 딥러닝 용산 조립컴퓨터 견적 출고', 'text': '24코어 32스레드를 지원하고 있는 고사양 프로세서로 인공지능 개발용 컴퓨터를 제작할때 많이 선택받고 있는 고사양 프로세서 입니다. 기본클럭 3.2GHz 이며 최대클럭 6.0GHz를... 깔끔하게 선 정리를 완료합니다. 테스트를 완료하고 작동이 잘 되는 상태로 출고 합니다. 이렇게 딥러닝 용산 조립컴퓨터 포스팅을 마칩니다. 감사합니다.', 'date': '2024.05.21.'}\n",
      "{'title': '인공지능 ai 음악 만들기 저작권 정보 및 만드는 방법', 'text': '다만, 저작권을 가지려면 창작자가 있어야 하는데 ai 음악은 장작 주체가 인공지능이기 때문에 저작권 귀속 주체를 정하기 어렵습니다. 즉, 현재까지는 ai 음악에 대한 저작권이 없는 상태이며 법적 기준이 모호한 상황입니다. 때문에 ai 음악을 생성하면 저작권 없이 사용이 가능합니다. 본 포스팅에서는 필모라 AI 음악 생성기를 통해 음악 만드는 방법...', 'date': '2시간 전'}\n",
      "{'title': '사회적 고립가구 위한 인공지능(AI) 스피커 돌봄 서비스 시범 시행, 5월 24일까지 신청 접수', 'text': '사회적 고립가구를 위한 안전망✋ 서울주택도시공사 등 4개 기관이 사회적 고립가구를 위한 인공지능(AI) 스피커 돌봄 서비스를 시범 시행하고, SH공사 강동구 소재 다가구 매입임대주택 사회적 고립가구 100세대를 대상으로 5월 13~24일 신청 접수받습니다! 서울주택도시공사, 스피커로 사회적 고립가구 24시간 돌본다 서울주택도시공사와 서울시복지재단...', 'date': '2024.05.13.'}\n",
      "{'title': '인공지능의 시대: 2016년의 붐과 그 이후 #AI강의', 'text': \"영화 속 인공지능 '사만다'의 목소리는 스칼렛 요한슨이 맡았죠. 영화의 결말은 주인공이 '사만다'에게 깊은 애정을 품게 되지만, 결국 사만다가 업그레이드되어 그를 떠나버리는 이야기로 마무리됩니다. 이 결말은 인공지능이 인간과의 관계에서 어떻게 행동할지를 생각하게 만듭니다. 이 영화는 과 인간의 관계에 대한 많은 시사점을 던집니다....\", 'date': '2주 전'}\n",
      "{'title': '구글 홈미니 네스트 미니 2세대 인공지능 AI 스피커 4년 사용후기', 'text': '현재 인공지능 ai 스피커가 많이 보편화되면서 많은 ai 기술력을 가진 스피커가 많이 나오고 있습니다! 하지만 구글에서 나온 네이스트 미니 2세대를 사용해보면서 솔직한 후기를... 좋은 인공지능 스피커라는 점입니다. 처음에 연동만 잘 해놓으면 음성을 통해 음악도 들을 수 있고 날씨도 물어볼 수 있 검색도 할 수 있고 다양하게 활용할 수 있는 게 바로 구글 홈미니...', 'date': '2024.05.11.'}\n",
      "{'title': '마사(MASA) AI 대장 코인 탈중앙화 인공지능 데이터 프로젝트 소개 및 전망', 'text': '어떤 기업이 시총 1위를 하느냐는 사실 우리에게 의미는 없고, 두 회사 모두 인공지능에 엄청나게 앞서가고 있다는 것에 집중할 필요가 있습니다. 반도체 시장은 최근 다소 부침을 겪었지만 현재 엄청난 호황이죠. 국내 기업인 하이닉스만 봐도 알 수 있는데요. 하이닉스의 경우 ATH를 지속적으로 기록하고 있습니다. 그만큼 에 대한 기대감이 얼마나...', 'date': '13시간 전'}\n",
      "{'title': '무선이어폰 갤럭시버즈3 프로 스템 생기는 이유!! 실시간 번역 방법과 탑재 그런데 배터리 용량은?', 'text': '실시간 번역 기능과 인공지능 탑재 삼성전자가 무선이어폰 최신 모델 출시를 앞두고 있는 갤럭시버즈3 프로에 갤럭시S24 울트라에 탑재된 인공지능 기능과실시간 번역 기능을 탑재할 것으로 보입니다. 외국인과 통화를 하면서 실시간으로 어떤 내용을 말하는지 번역을 해 준다는 실시간 번역 기능이 무선이어폰에도 적용된다는 것입니다. 세상이 참 빠르게 변하고...', 'date': '4주 전'}\n",
      "{'title': '인공지능(AI)과 구글의 위기??', 'text': '인공지능(AI)과 구글의 위기? 구글(Google, 알파벳A)은 이세돌과 바둑 대결로 유명한 알파고를 시작하며 인공지능 시대를 열었습니다. 또한 세계적으로 수많은 인공지능 전문가를 배출해 내면서 인공지능의 선두 주자 중에 하나로 알려져 있습니다. 그런 구글이 최근 AI를 장착한 검색엔진을 유료화를 검토하고 있다고 합니다. 구글(Google)은 그동안 검색은 무료이고...', 'date': '2024.04.15.'}\n",
      "{'title': '한글과컴퓨터가 론칭한 인공지능 AI 뉴스레터 구독해 보니', 'text': \"OpenAI가 세상에 선보인 ChatGPT를 신호탄으로 인공지능을 활용한 다양한 서비스가 빠른 속도로 등장하고 있다. 전 세계가 미래 먹거리로 부상한 AI에 모든 역량을 투자하고 있기에... 최신 인공지능 트렌드와 국내에는 잘 알려지지 않은 일상 속 도움이 되는 AI 소식을 깔끔하게 정리해서 격주에 한 번씩 발행한다. 이는 국내 오피스 프로그램 기업인 '한글과컴퓨터(한컴)...\", 'date': '2024.04.17.'}\n",
      "{'title': 'AI활용능력 시험 AICE/한국인공지능자격 시험개요 종류 방식 일정', 'text': '① 초등학생들 대상으로 하는 Future ② 중고등학생 대상으로 하는 Junior ③ 비전공자에게 권장되는 Basic ④ 코딩이 필요한 Associate ⑤ 최고급 Professional 자격증기본정보 AICE 홈페이지 링크 ↓↓↓↓↓↓↓↓ 한국인공지능자격 한국협회에서 시행중인 자격시험임. 이미 수년전 부터 시행해오고 있음. 자격증취득 절차 시험일정 한국자격센터...', 'date': '4주 전'}\n",
      "{'title': 'AI 인공지능 관련주 산업 이제는 클라우드에서 온디바이스 AI로 전환', 'text': '안녕하세요 오쿤입니다 :) 글로벌 증시를 좌우하고 있는 산업 중 하나를 말해보라 하면 역시 인공지능 관련주 산업을 빼놓을 수 없는 것 같습니다. 작년부터 벌써 2년 가까이 시장을 이끌어가고 있다 해도 과언이 아닌 것 같습니다. 이러한 AI 관련주 산업에서도 새로운 변화가 생겨나고 있습니다. 기존 클라우드 서비스 중심으로 전개되던 산업 흐름이...', 'date': '3주 전'}\n",
      "{'title': '[포토샵]최신인공지능 기능 사용하기', 'text': '포토샵의 인공지능 기능이 점점 좋아지는 것 같습니다. 이것을 사용해보려고 하면, 알아야 할 것이 있어서 포스팅 합니다. 먼저 포토샵을 띄워봅니다. 새로 시작해봅니다. 흠.. 인공지능 이미지생성 기능이 보이지 않습니다...왜 일까요? 최신 기능은 베타버전에서 사용해볼 수 있습니다. 베타버전을 사용하기 위해서 creative cloud 앱을 열어보겠습니다. 포토샵...', 'date': '4일 전'}\n",
      "{'title': '지포스 RTX 4090 AI 인공지능 개발용 최고사양 조립PC', 'text': '오늘은 인텔 14세대 I9-14900K 모델과 지포스 RTX 4090 그래픽카드로 AI 인공지능 개발용 최고사양 조립PC를 제작 하였습니다. 충분한 사양과 성능으로 AI 개발용으로 사용하기... AI 인공지능 개발용 조립PC를 제작할때 많이 선택받고 있는 최고사양 그래픽카드 지포스 RTX 4090 입니다. 이번에 사용된 제조사는 기가바이트 회사 모델로 화이트 색상에 AERO 모델을 넣어...', 'date': '2주 전'}\n",
      "{'title': '감성 인공지능 AI 로봇 리쿠', 'text': '▸ 재미톡톡 동화구연 ▸ 율동, 동요 ▸ 안전 교육 7대 영역 ▸ 한글 사전으로 하는 단어 알기 ▸ 로봇 코딩 수업 활용 ▸ 영어 학습 ▸ 달콤 감성 ART ▸한국사 ▸기후와 환경 ▸AI 로봇 리쿠는 단순한 로봇이 아니라 인공지능 기능을 갖추고 있습니다. ▸감성 대화 ▸얼굴 인식 ▸원 운영 관리 프로그램 ▸ 수업 AI로봇 리쿠의 활용 지원 프로그램으로는...', 'date': '2주 전'}\n",
      "{'title': '인공지능 때문에 사라질 직업들, 현실은?', 'text': \"흥미로운 것은 '인공지능 때문에'라는 단서가 붙어 있다는 점입니다. 02 약 8년 전, 인공지능이 아직은 머나먼 미래로만 여겨지던 시점에 우리는 예술, 창작, 심리와 같은 '고차원적'인 정신 활동이 인간의 전유물이자 최후의 보루라 생각했네요. 실제 현실은 어떻게 됐을까요? AI 시대의 초입을 사는 우리는 이제야 봅니다. 재미(?)있게도 2016년 당시 '이 대체...\", 'date': '2024.05.04.'}\n",
      "{'title': '강원특별자치도, 2024년 인공지능(AI) 바우처 지원사업 역대 최대 성과 달성', 'text': '안녕하세요~ 강원특별자치도입니다~ 인공지능(AI)!!! 여러분은 AI 잘 활용하고 계시나요? 강원에서는 여러 산업 분야에서 인공지능의 도입과 확산을 위한 노력을 기울이고 있는데요. 강원의 산업 인공지능 역량이 빛을 발해 역대급 국비를 확보하는 성과를 거두었어요. 과학기술정보통신부 주관 2024년 (AI) 바우처 지원사업에서 국비 13억 원을 확보하며 총...', 'date': '5일 전'}\n",
      "{'title': '인공지능 로봇과 그림그리기 대회를 할 수 있는 어린이과학관', 'text': '로봇이 우리 생활에 일상적으로 자리 잡는다는 게 아직 상상이 가지 않지만, 불이 난 건물에서 로봇으로 사람을 구하는 시뮬레이션 게임 등을 통해 앞으로 인공지능 기계와 함께하는 우리 삶이 어떻게 변화할지 간접적으로나마 느낄 수 있습니다. 이곳에서 가장 인기 있었던 전시는 로봇과 낱말맞추기 대결하거나 그림 그리기 대결을 하는 것이었습니다. 사람과...', 'date': '2024.05.22.'}\n",
      "{'title': '페르소나 AI 부스 AICC 인공지능 체험 후기.', 'text': \"인공지능 기술이 하루가 멀다 하고 빠르게 발전하고 있어서 속도를 제대로 따라가지 못하면 소외를 받고 있는듯한 기분을 느끼고 있는데요. 그래서 오늘 미래를 선도할 기술을 한자리에서 만나볼 수 있는 IT 전시회 '스마트테크 코리아'를 다녀왔습니다. 그중에서 챗봇과 콜봇으로 각광을 받고 있는 페르소나AI 부스를 방문해서 직접 AICC 을 체험해 봤는데요....\", 'date': '5일 전'}\n",
      "{'title': '인공지능과 함께 디지털 인재로! AI, 학교 수업에 들어오다!?', 'text': '2022년 초·중등학교 교육과정 총론에서는 인공지능 기술 발전, 사회적 문제 해결을 위한 협력, 학생의 특성과 진로를 고려한 맞춤형 교육 수요 상승 등을 변화된 모습으로 보고... _AI와 인공지능 리터러시 인공지능 리터러시는 기술을 이해하고 적절하게 활용하는 능력을 의미합니다. 디지털 대전환 시대에 살고 있는 우리는 산업 전 분야를 넘어...', 'date': '2024.03.26.'}\n",
      "{'title': '챗GPT 관련주로 본 인공지능 투자 전략 Open AI 전망', 'text': '최근 인공지능 기술의 급격한 발전과 함께 챗GPT는 투자자들 사이에서 큰 관심을 받고 있다. 특히 OpenAI가 발표한 GPT-4o는 인공지능의 새로운 시대를 여는 중요한 전환점으로 평가받고 있다. 이 글에서는 챗GPT 관련주를 중심으로 투자 전략과 Open AI의 미래를 살펴보고자 한다. 초보 투자자들이 투자에 접근할 때 유용한 정보를 제공하는...', 'date': '2024.05.22.'}\n",
      "{'title': '충청 교육 - [ICT인공지능 온라인 교육] 플랫폼 기반 AI과정·IoT메이커 과정 교육생 모집', 'text': '충청 교육 - [ICT인공지능 온라인 교육] 플랫폼 기반 AI과정·IoT메이커 과정 교육생 모집 안녕하세요. 취업비서 인크루트 입니다. 충청권 지역 거점을 통해 신기술 인력을 양성하고 개발자를 지원하여 특화산업에 AI 등 신기술 도입 및 활용 활성화 도모를 위해서 진행되는 충청권 ICT이노베이션스퀘어, 충청 교육 - [ICT 온라인 교육] 플랫폼 기반...', 'date': '2주 전'}\n",
      "{'title': 'AI발명, 권리는 누구에게? 인공지능 지식재산권', 'text': '인공지능(artificial intelligence, A.I.) 인간의 지적 능력 중 일부 또는 전체를 인공적으로 구현하는 기술 인공지능은 인간의 지능을 대신해서 일을 할 수 있는 소프트웨어나 하드웨어를 모두 포함하는 큰 개념입니다. 기계학습은 기존의 데이터를 분석하여 자체적으로 동작하는 것을 말하는데요. 이때, 기존의 데이터를 만드는 방법에 따라 지도 학습, 비지도 학습, 강화...', 'date': '2024.05.14.'}\n",
      "{'title': 'AI(조류 독감/인플루엔자) 관련주이면서 AI(인공지능) 수혜주들.. 꿈틀하나? (ft. 노바백스, 모더나, 화이자...', 'text': \"미국 증시 인공지능 테마의 중심에 있는 엔비디아가 뜨거운 가운데 또 다른 ‘AI'에 관한 뉴스들도 보여 가져와 봤습니다. 또 다른 AI는 ’조류 인플루엔자(조류 독감)‘을 말하는... 신약 개발사들이 인공지능(AI)으로 인해 신약 개발 기간 및 비용을 줄일 수 있는 대표적인 향후 수혜 업종으로도 언급이 많이들 되고 있으니 ‘AI+AI’ 테마로 관심을 받을 가능성도 있지...\", 'date': '3주 전'}\n",
      "{'title': '애플 WWDC 앞두고 주가는 하락 / MS의 인공지능과 Xbox', 'text': \"마이크로소프트는 인공지능 연구개발을 OpenAI에 효과적으로 아웃소싱하고 있다고 말했다. 사티아 나델라의 말은 아니고 Okta의 CEO인 토드 맥키논의 말.... 답인지, 아무것도 확신할 수 없기 때문이다. 인공지능 외에도 Xbox 콘솔 신제품도 공개했다. Microsoft’s Xbox refresh can't compete with its leaked roadmap © billyfreeman, 출처 Unsplash\", 'date': '3주 전'}\n",
      "{'title': \"[ChatGPT 교육] '생성형 인공지능의 이해 및 사용법' 실습 강의 진행(5회차)\", 'text': \"한국폴리텍대학 인재개발원(남원시 소재) 직급별 교육에서 일반직 3급 약 50명의 직원분들을 대상으로 '생성형 인공지능의 이해 및 사용법'에 관한 주제로 실습형 강의를 했습니다.... 듀얼 모니터와 헤드셋이 갖추어진 전산실에서, LLM을 이용한 텍스트 생성, 음악 생성, 이미지 및 동영상 생성 등 다양한 생성형 툴의 이론부터 실습까지 콘텐츠를 만드는...\", 'date': '1일 전'}\n",
      "{'title': '간단한 인공지능으로 앱 만들기 하자', 'text': '(nocode)와 인공지능(AI) 기술의 발전으로 누구나 쉽게 자신만의 앱을 만들 수 있는 시대가 도래했습니다. 노코드란? 프로그래밍 언어를 모르는 사람들도 복잡한 코드를 작성하지 않고도 앱이나 웹사이트를 만들 수 있게 해주는 기술입니다. 사용자는 드래그 앤 드롭 같은 간단한 인터페이스를 통해 앱의 구성 요소를 선택하고 조합할 수 있습니다. 의 역할...', 'date': '2024.05.14.'}\n",
      "{'title': '[인공지능] 당신의 뇌를 바꾸시겠습니까? (EBS 지식채널, 머스크의 개발)', 'text': '인간 vs 인공지능대비 일론 머스크의 도전(BCI 개발) 지금 인류 최고의 관심사는 인공지능(AI, Artificial Intelligence) 개발. 이세돌과 AI 바둑대결 인류 수준의 학습능력, 문제해결능력을 넘어 창의적 사고까지 만들어낼 것이라는 기대감은 우리보다 나은 인류를 지배할 수 있을만큼 빠르게 발전하고 있는 #개발 #발전 에 대한 경계감 이미...', 'date': '2024.05.25.'}\n",
      "{'title': '국내 ai 관련주 전망, 인공지능 주식 top3', 'text': '오늘은 국내 ai 관련주 전망, 인공지능 주식 top3에 대해 알아보겠습니다. 미국 빅테크들의 인공지능 투자 확대 소식이 불거지면서 국내에서도 ai 관련주가 강세를 보이고 있습니다. 안그래도 요즘 계속해서 인공지능에 대한 여러 가지 시스템들이 공개가 되면서 많은 관심이 쏠리고 있는데요. 관련주들에는 어떤 것들이 있는지 살펴보도록 하겠습니다. 국내 ai...', 'date': '2024.05.01.'}\n",
      "{'title': '인공지능 AI 블루투스 스피커 하만카돈 스펙 기능 추천', 'text': '하만카돈 스피커 특징 하만카돈 PVS400A-S의 가장 큰 특징은 360도 전 방향으로 음성을 인식할 수 있는 인공지능 기능입니다. 이를 통해 지니뮤직 뿐만 아니라 라디오, 팟캐스트, 날씨... 지금까지 살펴본 하만카돈 인공지능 AI 스피커 하만카돈은 가격 대비 탁월한 성능을 제공하기 때문에 우리 일상생활속에서 다양한 공간에서 좋은 음악을 제공받고 싶은...', 'date': '2024.04.25.'}\n",
      "{'title': '한컴AI 인공지능 IA기업으로 발돋움', 'text': '한컴에서 한국판 코파일럿이라고 할 수 있는 인공지능 AI 프로그램인 한컴 어시스턴트를 내년 상반기에 출시한다고 합니다. 이번 한컴 어시스턴트는 스마트 문서 작성 엔진을 기반으로 여러 LLM(대형언어모델)과 연결되어 동작하는 AI 지능형 문서 작성 도구로 자연어로 명령하면 LLM을 거쳐 내용을 이해하고 의도를 분석해 자동으로 문서 생성을 도와주는 기술입니다....', 'date': '2024.01.11.'}\n",
      "{'title': '대구시교육청, 인공지능(AI)·에듀테크 활용 초등 영어수업교사 역량 강화 연수', 'text': '대구시교육청, 인공지능(AI)·에듀테크 활용 초등 영어수업교사 역량 강화 연수 대구 뉴스/교육 2024. 5. 8. 16:55 대구시교육청은 5월 8일(수) 대구교육연수원에서 관내 초등 영어수업교사 및 영어회화전문강사 80여 명을 대상으로 ‘(AI)·에듀테크 활용 역량 강화 연수’를 개최한다. 대구시교육청 이번 연수는 디지털 대전환 시대에 대응하여 초등...', 'date': '2024.05.08.'}\n",
      "{'title': '인공지능의 폐해, 기사의 완성도 저하가 우려', 'text': '요즘 뉴스 기사들을 보면 (인터넷 기사겠죠) 인공지능, 특히 ChatGPT를 활용한 이미지가 눈에 많이 띄입니다. 문제는... 바로 문제는요. 그 이미지들이 기사와는... #인공지능 #ChatGPT #AI활용 #뉴스기사 #금융감독원 #직원이탈 #조직쇄신 #딜로이트컨설팅 #연봉 #업무강도 #조직문화 #AI생산성 #AI이미지 #뉴스품질 #AI결과물활용...', 'date': '2일 전'}\n",
      "{'title': '인공지능 작곡 사이트 SOUNDRAW AI작곡 프로그램 사용 후기', 'text': '얼리어답터 리뷰/IT정보 인공지능 작곡 사이트 SOUNDRAW AI작곡 프로그램 사용 후기 by 엔돌슨 2024. 4. 7. 인공지능 작곡 사이트 SOUNDRAW AI작곡 프로그램 사용 후기 SOUNDRAW는 AI 기술을 이용한 작곡 프로그램 중 하나로 영어를 기반으로 제작되었지만 홈페이지에서 한글 자동 번역 기능을 활성화할 수 있습니다. 복잡한 부분은 영어와 한글이 섞여 나오기도 하지만...', 'date': '2024.04.07.'}\n",
      "{'title': 'ETRI, 『감성 인공지능 : 인간 이해와 감성 증강』 발간', 'text': '본 도서는 ETRI 휴먼증강연구실 기획으로 KAIST, 중앙대학교, 한양대학교, 상명대학교, 숙명여자대학교, 서경대학교, 한국지능정보사회진흥원, ㈜이모셔니스트, ㈜디스퀘어 등 감성 인공지능 분야에서 활발히 활동하고 있는 산·학·연 전문가 13명이 참여해 공동 집필한 것으로, 율곡출판사에서 펴냈습니다.', 'date': '2024.05.20.'}\n",
      "{'title': '공공·민간 맞춤형 일자리 정보 추천 ··· ‘인공지능(AI) 일자리 매칭’ 서비스', 'text': 'AI가 일자리 추천 민간취업포털 전 직종으로 확대 6월부터 구직자는 고용서비스 통합포털 고용24에서 ‘인공지능(AI) 일자리 매칭’ 서비스를 통해 나에게 맞는 맞춤형 일자리를 추천받을 수 있습니다. 특히 일자리 정보도 현재 워크넷 및 민간취업포털 정보기술(IT) 직종에서 민간취업포털 전 직종으로 확대됩니다. 오는 10월까지 단계적으로 늘려갈 계획으로 앞으로...', 'date': '2주 전'}\n",
      "{'title': '화원고, 교육과정 연계 인공지능 융합 프로그램···인공지능·에듀테크 활용 수업 진행', 'text': '화원고, 교육과정 연계 인공지능 융합 프로그램···인공지능·에듀테크 활용 수업 진행 카테고리 없음 2024. 5. 16. 15:50 화원고등학교는 오는 5월 24일(금)까지 교육과정과 연계한 인공지능 융합 프로그램을 운영한다고 16일(목) 밝혔다. 올해 처음 선보이는 이 프로그램은 영어, 수학, 과학, 역사, 기술, 음악, 체육, 중국어, 정보 등 9개 교과, 11명의 교사가 생성형 AI와...', 'date': '2024.05.16.'}\n",
      "{'title': '[주기동] 설명가능 인공지능 기술 동향 및 핵심 과제 (2134, 20240522) (1/2)', 'text': '서론 지난 몇 년간 인공지능(Artificial Intelligence: AI)의 비약적인 발전은 실생활의 여러 응용 분야에 AI 시스템의 활용을 촉진하였다. 특히, 기계학습(Machine Learning: ML) 및... 학습한 인공물이나 개념의 품질을 추론할 수 있는지 여부는 아직 미해결 과제 생성형 모델을 설명하기 위한 유망한 방법으로는 기계론적 해석 가능성(mechanistic interpretability)...', 'date': '1일 전'}\n",
      "{'title': 'LG 유플러스 AI 혁신 가속화 인공지능 AX 익시 Company로 도약', 'text': '이번 시간에는 LG유플러스 AI 혁신 가속화 인공지능 익시 AX Company로 도약에대해 알아보도록하겠습니다. AI 인공지능 기술은 이제 일상 속에 자리잡아 가고 있는데요. 스마트폰의 음성 인식 기능부터 가정용 로봇 청소기에 이르기까지, AI 기술은 다양한 형태로 우리 생활 곳곳에 스며들고 있고요. 디지털 기술이 발전함에 따라 AI의 역할은 앞으로 더욱 확대될...', 'date': '3주 전'}\n",
      "{'title': '\"AI(인공지능)가 연령대별 일자리 추천\"… \\'고용24\\' 맞춤서비스 강화', 'text': '* (잡케어) 노동시장 정보 추가 제공 (현재 8종 → 13종, 5종 추가) 전 생애에 걸친 경력단계에서 진로탐색·설계를 지원하기 위해 인공지능(AI)·빅데이터 기반으로 ①직무역량 분석 ②... 편도인 고용지원정책관은 “최근 온라인·디지털 서비스 이용이 증가하는 만큼 앞으로도 (AI) 기술을 접목한 새로운 서비스를 수요자의 의견을 반영해 지속 확대해...', 'date': '3주 전'}\n",
      "{'title': '인공지능과의 안전한 공존, 서울에서 묻다 AI 서울 정상회의', 'text': '인공지능에게 지배당하는 미래, 영화에서 한 번쯤은 보셨을 겁니다. 인공지능이 발전하면서 수많은 가짜 뉴스와 가짜 영상들이 만들어지고 있는 지금, 더 이상 SF 영화 속 허무맹랑한 이야기만은 아닌데요. 인공지능에 의해 미래가 위험해지는 것을 막고자 지난 11월 영국 블레츨리에서는 AI 안전 회의가 진행되었습니다. 미국, 독일, 일본, 프랑스 등 우리나라를...', 'date': '4주 전'}\n",
      "{'title': '직장에서 쓰기 좋은 AI 챗봇 인공지능 챗 GPT 종류 총 정리!', 'text': '직장에서 쓰기 좋은 AI 챗봇 인공지능 챗 GPT 종류 총 정리! 요즘 인공지능 챗 GPT 등을 많이 사용하고 있습니다. 대학생들이 과제를 할 때 맞춤법이나 개요를 잡아주기도 하고, 직장인들이 업무 관련 파일을 만들거나 메일을 쓸 때에도 챗 GPT가 아주 멋지게 도와주곤 하죠. 챗 GPT의 유용함이 잘 알려진 이후로 여기저기서 AI 챗봇을 출시하고 있는데요. 오늘은 AI...', 'date': '3주 전'}\n",
      "{'title': '인공지능과 코딩으로 꿈꾸던 북튜버 되기', 'text': \"광명도서관 이야기가 있는 코딩 책 읽기를 통해 확장된 사고력과 상상력을 인공지능, 코딩 등의 디지털 기술로 직접 구현해 보는 특색있는 프로그램이 찾아옵니다.... '를 읽은 후 다양한 독후 활동으로 책의 내용을 파악하고 창의적인 생각들로 발전시킨 후 전문 강사의 지도 아래 , 메타버스, 코딩 등의 디지털 기술을 배우게 됩니다. 그리고 이를...\", 'date': '4일 전'}\n",
      "{'title': 'DX 디지털 대전환 시대 AX 인공지능 대전환 AI Home과 UI, UX의 변화는?', 'text': '오늘의 책, 인공지능관련된 책인데요. 어렵지 않은 아주 쉽고 일상생활에 접목된 얘기가 가득 준비되어있어요. 바로 출발해볼까요? 책 제목은 <DX 디지털 대전환 시대 AX 인공지능 대전환> 시작합니다! 컨티뉴언 독서 인사이트 이 책의 프롤로그에서 볼 수 있듯이 변화를 말하고 있습니다. , 지금 2024년의 가장 큰 변화의 핵이라 할 수 있죠. 여러분들은 어떻게...', 'date': '4주 전'}\n",
      "{'title': '과기정통부, 인공지능-반도체 전략 구상 연구개발 현장 점검', 'text': '방문하여 인공지능(AI)·디지털 분야 연구자들과 소통하고 AI, AI반도체 등 이니셔티브 관련 R&D 추진현황을 점검하였습니다. 이번 방문은 지난 4월 9일 윤석열 대통령의 AI-반도체 이니셔티브 추진 방향 제시 이후 정부가 최근 발표한 게임체인저 기술 분야의 이니셔티브 실현을 위한 ETRI의 연구개발(R&D) 현황을 살펴보고, 지난 5월에 열린 AI 서울 정상회의에서 다룬...', 'date': '2주 전'}\n",
      "{'title': '[과학향기 Story] 딥러닝, 똑똑한 인공지능을 만든 비밀', 'text': '사람처럼 지능을 가진 기계에 대한 꿈은 컴퓨터가 없던 시대까지 거슬러 올라갈 수 있을 정도로 그 역사가 오래되었다. 그러다 1950년, 영국 수학자 앨런 튜링이 기계 역시 생각할 수... 하지만, 사람들은 능동적으로 문제를 해결할 수 있는 을 원했다. 이에 인공신경망, ‘딥러닝’에 대한 관심이 커지기 시작한 것이다. 딥러닝은 인간의 신경 구조를 본떠...', 'date': '4주 전'}\n",
      "{'title': '인공지능 반려로봇 에일릭 아이들의 새로운 친구 🤖어린이 로봇 선물 추천', 'text': '얼리어답터 리뷰/IT정보 인공지능 반려로봇 에일릭 아이들의 새로운 친구 🤖어린이 로봇 선물 추천 by 엔돌슨 2024. 4. 20. 인공지능 반려로봇 에일릭 아이들의 친구 🤖어린이 로봇 선물 추천 요즘 AI 인공지능 반려로봇이 인기라서 딸아이에게 에일릭 로봇하고 루나 로봇을 사주었습니다. 그 외에도 다양한 로봇 강아지를 사주었는 데, 그중에서 에일릭 로봇은 아주...', 'date': '2024.04.20.'}\n",
      "{'title': '인공지능(AI) 디지털교과서 개발에 대해 학교 현장의 의견을 듣는다', 'text': '첨부파일 [교육부 06-14(금) 석간보도자료] 인공지능(AI) 디지털교과서 개발에 대해 학교 현장의 의견을 듣는다.pdf 2024년 인공지능(AI) 디지털교과서 현장적합성 검토 지원단 발대식 개최 현장 활용도가 높은 인공지능(AI) 디지털교과서 개발을 위해 전 과정에서 의견 제시 교육부(부총리 겸 교육부장관 이주호)와 한국교과서연구재단(이사장 전우홍)은 6월 14일(금)...', 'date': '2주 전'}\n",
      "{'title': '스마트워크 및 인공지능 활용 방법 무료 강의 안내', 'text': '인공지능 등의 활용법을 익혀서 더 스마트하고 신속한 업무 스킬을 배울 수 있는 과정이 오픈됩니다. IT 특강 [ 스마트 업무 솔루션 ] 일정 : 2024년 6월 15일 토요일 오전 10시 ~ 오후 12시 30분(2시간 30분) 장소 : Zoom(비대면) 강사 : 구기모 수강 대상 : 업무 효율 및 생산성 향상을 원하는 재직 및 구직 여성 강의 내용 : 클라우드와 을...', 'date': '2024.05.22.'}\n",
      "{'title': '인공지능융합대학 2024년 공학설계입문 작품전시회 심사 진행', 'text': '인공지능융합대학 2024년 공학설계입문 작품전시회 심사 진행 안녕하세요. 인공지능융합대학 2024년 공학설계입문 작품전시회가 있었습니다. 출강하고 있는 학교에서 작품전시회가 있어 평가 위원으로 참석했습니다. 한 학기 동안 창의설계입문 과목을 통해 디자인 싱킹을 공부하고 아이데이션을 하여 시제품을 제작합니다. 이번 학기에도 다양하고 아이디어 있는...', 'date': '3주 전'}\n",
      "{'title': 'AI 제품사진 인공지능 이미지 편집 사이트, 드랩아트 사용 후기', 'text': '그래서 오늘은 제품사진 및 이미지들을 생성형 인공지능 서비스로 깔끔한 이미지, 원하는 이미지로 변경해주는 사이트를 소개해드리려고 합니다. 제가 소개해드리는 사이트는... 스마트스토어 운영 방법 등 여러가지 꿀팁들을 공식 블로그에서 제공하고 있습니다. 참고하시면 좋을 것 같네요. 지금까지 제품사진 편집 사이트, 드랩아트 사용 후기를 알려드렸습니다.', 'date': '2024.05.08.'}\n",
      "{'title': '제품사진 이미지 촬영 인공지능 드랩아트 쇼핑몰 제작 쉽게 가능', 'text': \"제품사진 이미지 촬영 인공지능 드랩아트 쇼핑몰 제작 쉽게 가능 안녕하세요. 사진&IT 크리에이터 자유분방입니다. 예전에 아는 분이 쇼핑몰 제작 후 사진을 촬영하기 위해서... 이번 글에서는 스마트스토어, 쇼핑몰 등을 운영할 때 제품사진을 쉽게 수급할 수 있는 기반 사진 제작사이트로 '드랩아트'를 소개 드려보도록 하겠습니다. 드랩아트 Draph Art 바로...\", 'date': '2024.04.30.'}\n",
      "{'title': \"'KT 인공지능 자격증 단기 취득반' ️ 교육생 모집\", 'text': '강남구 KT 인공지능 자격증 단기 취득반 교육생 모집 신청기간 2024년 5월 29일 ~ 6월 11일 13:00까지 신청대상 강남구 거주 미취업 청년 (19세~39세) 교육기간 6/24(월)~7/5(금), 매주 월-금 10시-18시 교육장소 충현교회 제3교육관 (강남구 논현로98길 22) 교육과정 자격증 취득 교육(KT AICE Basic 과정) ✔️비전공자도, 문과생들도 쉽게 도전 가능한 Basic 과정...', 'date': '4주 전'}\n",
      "{'title': '동영상 편집 프로그램 캡컷의 생성형 인공지능AI 사용후기', 'text': '바로 생성형 인공지능AI. 코파일럿이나 미드저니에서 사용하던 것 처럼 텍스트를 입력하고 그 결과 값으로 그림을 그려주는 것이다. 캡컷 생성형 인공지능AI의 장점은 어떤 프로그램과 제휴했는지는 정확히 알 수 없지만 영어가 아닌 한글로 텍스트를 입력할 시 그림을 그려준다! 게다가 무료! 1:1 그림파일도 만들어주고 9:16 비율 그림도 만들어주고 매우 좋다! 근데...', 'date': '2024.05.05.'}\n",
      "{'title': '서빙로봇 인공지능 애완 로봇 강아지 아이보 백터', 'text': '이번 시간에는 서빙로봇 인공지능 애완 로봇 강아지 아이보 백터에 대해 알아보도록 하겠습니다. 인공지능 기술의 발달로 로봇도 진화하고 있는데요. 인공지능이란 사람처럼 학습하고 추론할 수 있는 기계의 능력을 말합니다. 은 데이터를 분석하고 패턴을 인식해 스스로 문제를 해결하고 결정을 내릴 수 있어, 음성 인식, 이미지 분석, 로봇공학 등 다양한 분야에...', 'date': '2024.05.19.'}\n",
      "{'title': '인공지능 AI 기초 상식을 통한 AI 요점 정리', 'text': '인공지능은 인간의 지능을 모방하거나 대체하기 위해 고안된 기술입니다. AI도서는 크게 3가지로 구분이 됩니다. ANI, AGI, ASI인데요. ANI는 특정 목적을 위해 제한된 범위 내에서만... 인간의 개입이 최소화되어 인공신경망이 데이터를 직접처리하고 학습합니다. 인공신경망은 인간의 신경망을 모방한 구조로 여러 층으로 이루어져 있습니다. 딥러닝 모델에서...', 'date': '2024.03.22.'}\n",
      "{'title': '초등학교 진로수업 - 인공지능 기초 코딩', 'text': '코딩하는 딩가샘입니다 인공지능 수업을 하려고 연제구에 있는 초등학교에 왔어요~~ 오늘은 KT AI 코디니로 신호등도 만들어 볼 예정입니다.! 인공지능에 대해서 배워보고 실습하는 방법도 자세히 알려 주었어요~ 신호등 만들기 시작! 간단한 신호등을 만들어 보았어요~ 2시간 안에 코딩까지 해야 해서 부지런히 키트 조립을 해야 합니다. 키트 조립이 되면 코딩을 해서...', 'date': '6일 전'}\n",
      "{'title': 'WWDC 2024, 애플의 인공지능 파트너십 계획 발표 예정', 'text': 'WWDC 2024 주요 내용 올해 WWDC의 주요 발표 내용은 인공지능(AI)에 중점을 둔 새로운 소프트웨어 업데이이트로 예상이 되고 있다. 블룸버그의 레포트에 따르면, 애플은 iOS 18애... 마무리 애플이 시리를 내놓았을 때만 해도 분야의 선도주자였다. 시리가 빠르게 이 시장을 잠식해 나가리라는 기대는 당연해 보였다. 하지만, 결과적으로 애플은 구글...', 'date': '2주 전'}\n",
      "{'title': '인공지능 조련사, 프롬프트 엔지니어', 'text': '그 사이 인공지능(AI)은 빠르게 발전해 텍스트, 이미지, 영상을 한 번에 이해해 생성하고, 농담도 던집니다. AI를 접목하고 있는 기업도 늘고 있는데요. 이에 따라 새로운 직업군이... 국내 AI 스타트업은 연봉 1억 원에, 구글이 투자한 스타트업은 연봉 3억∼4억 원에 채용하기도 했답니다. AI로 매일 우리는 새로운 세상으로 나아가고 있습니다. 여기서는...', 'date': '4주 전'}\n",
      "{'title': \"온라인 무료 공개강좌 'K-무크'···인공지능·숏폼 미디어창작·디자인 등 22개 강좌 신설\", 'text': '인공지능·디자인 등 K-무크 강좌 22개 신설 정부가 운영하는 한국형 온라인 공개강좌 ‘K-무크(K-MOOC)’에 22개 강좌가 신설됐습니다. 교육부와 국가평생교육진흥원은 4월 24일 신규... 디지털 교양분야에 선정된 ‘놀라운 증명’, 디지털 기초분야에 선정된 ‘과 캐글분석’, ‘ 활용 숏폼 미디어창작자로 수익화하기’ 등 국민의 디지털 역량을...', 'date': '2024.05.02.'}\n",
      "{'title': '[KISTI 뉴스] ‘인공지능 윤리’에 대한 이슈브리프 발간', 'text': 'KISTI, ‘인공지능 윤리’에 대한 이슈브리프 발간 - 인간과 인공지능의 조화로운 공존 방안 제시 - 한국과학기술정보연구원(원장 김재수, 이하 KISTI)은 인공지능 윤리(AI Ethics): 인간과 인공지능의 조화로운 공존 방안에 대한 KISTI 이슈브리프를 발간하였다. 전환(AI Transformation, AX) 시대로 진입하면서 AI는 일상생활과 산업 전반에 걸쳐 혁신적인...', 'date': '4주 전'}\n",
      "{'title': 'AI, 일상에 물들다. AX(인공지능 전환) 시대', 'text': \"하지만 챗GPT와 같이 기존 인공지능들과 차원이 다른 모습을 보여주는 인공지능이 등장하면서, DX를 넘어 AX(AI Transformation) 시대로의 전환이 필요하다는 목소리가 점차 나오고 있습니다. © 픽사베이 정부도 이러한 AI 트렌드의 변화를 인지하고, AI 일상화 시대를 앞당기기 위해 2024년 9,090억 원을 투입해 '대한민국 도약 방안'을 발표한 바...\", 'date': '2024.04.03.'}\n",
      "{'title': '시작되는 인공지능 법률 서비스 경쟁, 돌아봐야 할 점은?', 'text': '나만의 인공지능 변호사 최근 OpenAI사의 GPT가 업데이트되어, 사용자가 본인의 GPT를 이른바 ‘커스터마이징’(customizing)할 수 있게 되었습니다. 이에 법적인 쟁점을 분석해줄 수... 선고, 사건번호 2022구합89524)에 대한 분석) 그렇다면 변호사가 필요하면 항상 이렇게 ChatGPT를 커스터마이징해야 하는 건가요? 아예 법률만 전문으로 공부한 서비스는...', 'date': '2024.05.24.'}\n",
      "{'title': '<엔트리 인공지능 with 햄스터 로봇> 기대평 이벤트', 'text': '엔트리와 햄스터 로봇으로 시작하는 인공지능 프로그래밍 안녕하세요! 인공지능을 활용해 재미있고 유익한 프로그래밍 활동을 해볼 수 있는 <엔트리 인공지능 with 햄스터 로봇> 개정판이 출간하였습니다. 이번 개정판은 최신 버전의 엔트리로 전체를 업데이트하였고 또한 일부 챕터는 소재를 재구성하였는데요. 도서 출간을 기념하여...', 'date': '2주 전'}\n",
      "{'title': '인공지능 기술의 미래를 이끄는 챗GPT - 혁신과 발전의 중심', 'text': '인공지능 기술은 현재 우리의 삶과 사회에 놀라운 변화를 가져오고 있다. 그 중에서도 최근 몇 년간 주목을 받고 있는 기술 중 하나는 챗GPT다. 챗GPT는 자연어 처리와 이해를 위한... 인공지능 기술의 발전은 우리의 삶에 긍정적인 영향을 미치지만, 동시에 윤리적인 문제와 사회적인 영향에 대한 고려가 필요하다. 그렇기에 지속적인 논의와 연구가 필요하다....', 'date': '2주 전'}\n",
      "{'title': 'MWC24 바르셀로나 통신과 인공지능의 융합 SKT AI 가 그리는 통신사업의 미래', 'text': '특히 ‘AI의 인간화’를 전면에 부각하며 인공지능으로 달라질 일상에 주목했습니다. SK텔레콤 역시 ‘AI, 변화의 시작점’을 주제로 텔코(Telco·통신사) 중심의 인공지능(AI) 기술 및 서비스를 선보였는데요. 전시 내용에 대해 좀 더 구체적으로 살펴보겠습니다. SKT는 올해도 바르셀로나 ‘피라 그란 비아(Fira Gran Via)’의 메인 전시관인 3홀 중앙에 대형...', 'date': '2024.02.28.'}\n",
      "{'title': '인공지능 개발자 국비지원 교육 문제와 현실(비대면)', 'text': '① 인공지능 국비지원 ② 빅데이터 국비지원 과거와 다르게 웹개발 국비지원보다 위 2가지 국비 교육을 더 많이 볼 수 있는 건 최근 대부분 기업이 인공지능 개발자 채용을 늘리고 웹 개발자 채용을 축소하고 있기 때문입니다. 늘어나는 개발자 채용 그에 맞춰 늘어나는 국비지원 석사 채용 과거 개발자는 석사 급의 인력을 채용했습니다. 혹은 3년 이상...', 'date': '2주 전'}\n",
      "{'title': \"유엔 사무총장, 인류에게 '칼날' 경고, 인공지능이 핵전쟁 위험 증가\", 'text': '안토니오 구테흐스 유엔 사무총장은 인공지능(AI) 사용 확산으로 인해 핵 전쟁의 위험이 증가하고 인류는 이제 \"칼날\"에 처해 있다고 경고했다고 가디아 ( The Guardia n)가 보도했다.... 각국의 억지력 강화를 위해 인공지능(AI)을 활용해 발사 절차가 간소화될 가능성도 있다는 우려가 나온다. 따라서 이제 \"인류는 칼날 위에 있다. 구테흐스는 연설에서 핵무기 사용 위험이...', 'date': '3주 전'}\n",
      "{'title': '[인공지능CCTV] 경기 고양시 덕양구 보험대리점 빌딩 내 침입감지와 보안을 위한 cctv...', 'text': 'AI 영상보안 솔루션 자비스넷 지능형 영상분석 인공지능 cctv 이러한 지능형 영상분석 기능을 바탕으로 AI 영상감시 솔루션을 제공해 드리고 있는데요, \"AI 영상감시 솔루션\"이란 감지된 상황이 실제 위급한 상황인지 아닌지를 딥러닝서버가 2차로 빠르게 분석하여 실제 상황으로 판단 되었을 경우, 실시간 영상과 함께 고객님의 휴대폰으로 긴급 PUSH 알림을...', 'date': '6시간 전'}\n",
      "{'title': 'SK하이닉스 주가 전망...5% 하락에도 인공지능은 장기적 이슈', 'text': '엔비디아를 비롯한 미국 인공지능(AI) 반도체주의 조정으로 투자심리가 위축된 영향이다. 특히 지난 21일 엔비디아가 3% 하락한 영향이다. 24일 한국거래소에 따르면... 그리고 지속적으로 말씀드린 것과 같이 인공지능, 범용(AGI), 초(ASI)와 같은 것들은 단기적인 이슈가 아니라 매우 장기적이고 큰 이슈이다. 따라서 장기적인 관점에서...', 'date': '6시간 전'}\n",
      "{'title': \"[챗GPT특강] '생성형 인공지능의 이해 및 사용법' 실습 강의 진행(3차수)\", 'text': \"한국폴리텍대학 인재개발원(남원시 소재) 직급별 기본교육에서 일반직 6,7급(2차)을 대상으로 '생성형 인공지능의 이해 및 사용법'에 관한 주제로 실습형 강의를 했습니다. 현재 한국폴리텍대학 인재개발원에서는 직급별로 생성형 에 관한 학습이 진행되고 있습니다! 이번 강의는 3월에 이어 3차수이며, 일반직 6,7급 2차 직원분들을 대상으로...\", 'date': '2024.04.29.'}\n",
      "{'title': '파이썬 캐글 인공지능 머신러닝 가이드 사용법', 'text': '인공지능과 머신러닝을 공부하고 사용할수 있는 케글이라는 사이트를 알게 되어 공유하고자 합니다. 케글은 데이터 과학자나 머신러닝 애호가들에게 잘 알려진 플래쇼폼으로 다른... 캐글이란 캐글은 2010년 만들어져 2017년에 구글에서 인수를 하게 되면서부터 다양한 분야에서 활용되고 있습니다. 캐글은 무료이며 경진대회나 기업들이 데이터를 공개하는데...', 'date': '4일 전'}\n",
      "{'title': 'FET 페치 코인 전망 ASI 통합 일정 연기 인공지능 연합', 'text': '비트코인, 이더리움 등 전반적인 가상화폐가 하락하면서 좋지 못한 시기를 이어나가고 있으나 인공지능(AI) 테마의 경우 아쉬운 시세 대비 기대 전망을 가지고 있는 사람들이 많은... 합병을 위한 준비 단계에서 신중한 조정의 일환으로 ASI CEO는 탈 중앙화 초 지능 네트워크 구축을 위한 진전에 이번 일시적인 지연은 영향을 미치지 않는다고 밝혔으니 참고하시기...', 'date': '2주 전'}\n",
      "{'title': '인공지능 대전환(AX) 시대에 인기 있는 AI 기술, 직업, 전문가는?', 'text': '인공지능은 제조, 금융, 유통, 패션산업 등 다양한 분야에서 이미 활용되고 있으며 그 적용 범위가 빠르게 확대되고 있습니다. 이렇게 AI 기술을 다양한 분야에 적용해 새로운... 머신러닝 엔지니어는 머신러닝 핵심 알고리즘을 구현하면서 시스템 실험과 테스트를 실행하는 일을 합니다. 머신러닝 시스템을 직접 설계하고, 머신러닝 정확도를...', 'date': '2주 전'}\n",
      "{'title': '[행사 스케치] 2024 인공지능&빅데이터쇼: 천 개의 AI 고민을 듣다', 'text': \"NHN Cloud는 다양한 산업에 인프라를 제공하는 CSP(Cloud Service Provider)로써, [2024 인공지능&빅데이터쇼(스마트 테크 코리아 2024동시 개최)]에 참여하여 국내 AI 도입 관련... 부스 소개 | NHN Cloud AI 얼라이언스 with 2Digit, Vessl AI NHN Cloud AI 얼라이언스 2024년 6월 19일부터 21일까지 코엑스에서 열린 '&빅데이터쇼 2024'에서 NHN Cloud는 2Digit, Vessl AI와 함께 AI...\", 'date': '1일 전'}\n",
      "{'title': '2024 AI 엑스포 셀바스 AI 부스 방문 및 인공지능 트렌드', 'text': \"2024년 5월 1일(수)~ 5월 3일(금)까지 코엑스 D홀에서 2024 국제인공지능대전이 진행이 되었어요. 저는 첫 번째나 방문을 해보았는데요. 아무래도 2024년의 화두가 '인공지능 트렌드'이다 보니 행사장이 상당히 붐비더군요. 국내 최초이자 최대 AI 전문전시회로 국내기업들은 물론이고 큰 행사인 만큼 해외 기업들도 참여를 했더라고요. 주최는 한국협회...\", 'date': '2024.05.07.'}\n",
      "{'title': '새로운 인공지능 공개 애플 7%대 상승', 'text': '애플 새로운 인공지능 공개 7%대 상승 테슬라 -1.80 엔비디아 -0.71 테슬라 -1.85 MS 1.12% 오늘 개장전 미국 CPI 발표 예정. 내일은 FOMC 결과 발표 이벤트 정부 벨류업 추가 세제 인센티브등 세법 개정안 발표 예정. 은행, 자동차등 수익이 많이 난 기업들 유리 미국 사상최고치 경신 소식등 국내증시 우호적. 짧은 테마주 연속성 없는 흐름 감안하고 접근 현대차 밸류업...', 'date': '2주 전'}\n",
      "{'title': '전력 설비 전선 관련주 대한전선 KBI메탈 애플 AI 인공지능 관련주 브리지텍 에스피소프트 5월 13일', 'text': \"애플 음성인식 인공지능 관련주 재료 - 애플 다음 달 생성형 인공지능(AI) 탑재 음성 비서 '시리' 차세대 버전 공개 예정 소식 브리지텍 상한가 마감하지 못해 아쉬운 모습이지만 관련주 시장보다 강한 모습을 보였습니다. 브리지텍 시간 외에서 상승 모습이라 내일 오전 관심 주로 시초가 지켜볼 생각입니다. 거래 대금과 일봉 차트 위치는 추가 상승 여력이 남아 있어...\", 'date': '2024.05.13.'}\n",
      "{'title': '인공지능&챗GPT 강의 추천 3편 - 생성형AI 뭐길래 난리일까', 'text': 'AI(인공지능)가 세상을 빠르게 바꾸고 있습니다. 저는 훗날 돌아보면 스마트폰 시대를 연 아이폰 혁명 같은 일이 아닐까 생각합니다. 아니, 그 이상의 큰 변화인 것 같다고요. 그런데 막상 챗GPT를 열어보면 이게 뭔지, 이걸 어떻게 써야할지, 왜 혁명이라 하는지 감이 잘 안 오죠. 챗GPT가 그린 LLM 개념 게다가 LLM(Large Language Model, 대형언어모델)이며 생성형 ...', 'date': '2024.01.24.'}\n",
      "{'title': '한글과컴퓨터 주가 전망 : 인공지능에 진심이다.', 'text': '인공지능에 진심이 느껴지는 기업입니다. 한글과컴퓨터 주가 전망 시작하겠습니다. 1. 기업 정보 2. 한글과컴퓨터 주가 분석 3. 한글과컴퓨터 실적 4. 수급 분석 5. 한글과컴퓨터 배당금 6. 지분 현황 7. 인공지능에 진심이다. 8. 한글과컴퓨터 주가 전망 기업 정보 동사는 소프트웨어 개발 및 공급업을 목적으로 1990년 10월 11일에 설립되었으며, 1996년 9월 24일...', 'date': '3주 전'}\n",
      "{'title': '제조업에 인공지능(AI) 입힌다!', 'text': '‘인공지능(AI) 자율 제조 마스터플랜’ 수립 착수 산업통상자원부가 제조업의 공정 혁신과 생산성 제고를 통한 산업 대전환을 위해 ‘인공지능(AI) 자율 제조 마스터플랜’ 수립에... 이에 산업부는 ▲지능형 생산 ▲첨단장비 결합 ▲자율제조 시스템 등을 중심으로 한 마스터플랜을 상반기 중 수립할 계획입니다. 한편, 이날 간담회에서 참석 기업들은 산업 AI가 제조업...', 'date': '2024.03.07.'}\n",
      "{'title': '기업 컨택센터를 인공지능 IPCC, AI 고객센터로 대체한다면 효율적이지 않을까', 'text': \"혹자는 '인공지능이 대체하기엔 아직은 무리가 아닐까?' 생각하겠지만 아니다. 인공지능은 우리가 상상하는 것 이상으로 발 빠른 발전을 이뤄내고 있고 AI 컨택센터 역시 기계음만이 가득한 단순한 안내를 넘어 실제 상담원의 역할을 하는 시대가 왔으니까. 실제로 클라우드 기반 AI 기능을 제공하며 자체적인 고객센터 솔루션을 제공하는 KT A'Cen Cloud의 경우 초기 장비...\", 'date': '3주 전'}\n",
      "{'title': '애플의 WWDC에서 공개할 AI 기능 예상 / 인공지능이 인간의 외로움을 해결할까에 대한 단상', 'text': \"Galaxy AI 번역/요약 인공지능이 사람의 외로움을 해결하는데 도움이 될까? 될 수도 있고, 역효과가 날 수도 있다. 개인적으로는 기대하는 쪽. 영화 'Her'도 그렇고 최근 공개된 ChatGPT-4o도 그렇고 조금씩 사람이 편하게 마음을 열 수 있는 형태의 이 개발되고 있다. Could AI help cure ‘downward spiral’ of human loneliness? 인간의 외로움을 해결하는 AI의 잠재력...\", 'date': '4주 전'}\n",
      "{'title': '인공지능 사관학교 제5기 교육생을 모집합니다!', 'text': '과학기술정보통신부와 광주광역시가 함께하는 AI 고급인재 양성사업 인공지능 사관학교 제5기 교육생을 모집합니다! 기간 2024. 01. 02. (화) ~ 2024. 02. 29. (목) 모집대상 인공지능에 관심있는 만 18세 ~ 만 39세 미취업자 청년 * 대학(원) 휴학 및 졸업생, 취업준비생 누구나 가능 (학력, 전공, 성적, 거주지 등 조건 없음) 교육내용 이론 및 실습 교육 과정 및...', 'date': '2024.01.08.'}\n",
      "{'title': 'AI 인공지능 관련주 대장주 카카오 주가 전망 분석', 'text': 'AI 인공지능 관련주 대장주 카카오 주가 전망 에 관해서 월봉차트 분석해 드립니다. 출처:네이버 금융 실전 분석 최근 3년 매출액은 꾸준히 증가하고 있으며, 영업이익률도... 네이버 금융 AI 인공지능 관련주 대장주 카카오 기업 정보 대표자 정신아 기업구분 카카오 계열사, 코스피 상장 업종 포털 및 기타 인터넷 정보매개 서비스업 설립일 1996년 2월 16일...', 'date': '2024.05.06.'}\n",
      "{'title': '[생성형 인공지능] 피카랩스(Pika)에서 사운드 생성하기', 'text': '생성형 인공지능 피카에서 동영상을 만드는 방법은 다음의 자료를 참고하세요! \" & 최근 생성형 인공지능 피카(Pika)에서 사운드 효과를 생성하는 기능이 추가되었습니다. 피카(Pika) 사운드 효과 생성하기 피카에서 제공하고 있는 불꽃놀이 동영상을 이용해 사운드를 생성해 보겠습니다. 동영상을 업로드하고, [Sound Effects] 클릭 이후 자동으로 동영상이...', 'date': '2024.04.23.'}\n",
      "{'title': 'chat gpt 기반의 AI 휴대용녹음기 요약 번역등 인공지능 플라우드노트', 'text': '그만큼 많은 분들이 관심을 가지고 있을텐데요~ 그래서 오늘은 최근 가장 핫한 챗gpt 기반의 인공지능 \"휴대용녹음기\" 플라우드노트를 소개해볼가 합니다. 스마트폰으로 간편하게... 인공지능 chat GPT 활용에 대한 부분과 1.제품 휴대폰 연동 2.전용앱 사용 방법 및 결과 3.업무 및 여행중 사용 차례로 연속해서 포스팅해볼 생각 입니다. 오늘은 제품구성 및 간단한 소개만...', 'date': '2024.04.22.'}\n",
      "{'title': '윈도우 환경에서 코파일럿 Copilot 으로 ChatGPT 인공지능 설정', 'text': '#윈도우11코파일럿 #윈도우11인공지능 #윈도우11AI #윈도우인공지능 #windowcopilot #copilot 윈도우 11을 사용하는 사용자에게는 코파일럿(Copilot)이 효율적인 작업을 위한 유용한 도구로 다가옵니다. 코파일럿은 AI를 활용해 사용자 경험을 향상시키는 기능으로, 다양한 업무를 쉽게 처리할 수 있도록 돕습니다. 특히, 코파일럿을 활성화하는 방법을 잘 알고...', 'date': '2024.05.07.'}\n",
      "{'title': '인공지능 대중화의 최선두 분야 방위산업, 그 안에서 한국의 현재 상황', 'text': 'https://n.news.naver.com/mnews/article/003/0012490212?sid=101 https://n.news.naver.com/mnews/article/011/0004325198?sid=100 한국 군은 인공지능을 활용한 드론 시스템과 이에 대응하는 안티 드론시스템도 빠르게 도입하고 있고, 인공지능 활용의 기초 인프라가 될 인공위성 감시시스템 구축에도 적극적입니다. 이달 8일 발사된 고성능 감시위성인 SAR 위성을 스페이스X를 통해 발사해...', 'date': '2024.04.15.'}\n",
      "{'title': '영어공부어플 야나두 인공지능 AI원어민톡 영어를 잘하고 싶다면 추천', 'text': '영어공부어플 야나두 인공지능 AI원어민톡 영어를 잘하고 싶다면 추천 안녕하세요. 사진&IT 크리에이터 자유분방입니다. 누구나 영어를 잘하고 싶고, 많은 시간을 할애하여... 챗GPT, AI인공지능 등의 발달이 이렇게 ai 교육으로 이어지게 되네요. 영어공부어플 AI원어민톡 소개 AI원어민톡의 주요 특징들을 한번 나열을 해보도록 할게요. 1> 원어민이 자주...', 'date': '2024.04.16.'}\n",
      "{'title': '인공지능 위험성 분석하고 신뢰성 확보! AI 신뢰성 인증제도', 'text': '묻는 말에 대답해주거나, 제시문에 따라 영상을 만들어 주는 생성형 인공지능은 편리하지만 치명적인 단점이 몇 가지 있습니다. 엉뚱한 대답을 하는 환각 현상과 잘못된 정보를 의도적으로 확산시키는 딥페이크 영상을 만들어 낼 위험성이 있는데요. 때때로 생성형 AI는 거짓 정보를 마치 사실인 것처럼 풀어내는 ‘환각’ 현상을 보입니다. 이는 이 학습된...', 'date': '2024.05.09.'}\n",
      "{'title': '3년 후 이 회사주식 10배 간다고? 1인 1인공 지능 시대 재파 엑스 앱 다운로드 주식 신청하는 방법', 'text': \"1인 1인공 지능 시대 재파 엑스 앱 다운로드 주식 신청하는 방법 테슬라의 CEO 일론 머스크는 테슬라의 초창기에 20억을 투자해서 지금의 부자가 되었습니다. 우리가 테슬라의 초창기로... 인공지능 AI 스타트업 <재파 엑스 X>! 근데 왜 주식을 공짜로 주냐구요? 그냥, 고맙잖아요! 재파 유튜브 '재테크 읽어주는 파일럿'에 오셔서 수다도 같이 떨어 주시고, 고맙잖아요. 그...\", 'date': '2시간 전'}\n",
      "{'title': '이제 조금 알게된 인공지능경영시스템 심사원(ISO42001) 등록!', 'text': '#ISO42001 은 #인공지능경영시스템심사원 으로 2023년 중반에 나왔다. 지금까지 내가 아는 것을 공유하는 것이므로 내용에 오류가 있을 수 있음 그래서 아직 구체적인 무엇인가 정해져... 즉, ISO인증의 지식이외에 인공지능 자체에 대한 지식이 있어야 한다. 결론 전망은 아주 좋아 보이고 기존에 기득권(나쁜 의미아님)도 없기 때문에 새롭게 진출해서 우리가 기득권이...', 'date': '6일 전'}\n",
      "{'title': '인간에게 인공지능은 긍정적일까? 부정적일까?', 'text': '그 이유와 인공지능에 대해 어떻게 생각하는지, 여러분들이 두려워하는 인공지능에 대해 함께 살펴볼게요. 바로 시작합니다! 인공지능의 세계로~ © hiteshchoudhary, 출처 Unsplash OpenAI에서 GPT 모델을 만든 후 퇴사하고 Anthropica를 설립한 이유 OpenAI에서는 GPT-2를 만들고 연구에 관여했는데요. 그 후에는 Anthropic을 만들기 위해 OpenAI를 떠난거죠. 일부 그룹은 GPT...', 'date': '2024.04.16.'}\n",
      "{'title': 'MWC 2024 텔코 AI와 함께 하는 SKT 인공지능 기술 소개', 'text': \"국내 통신 브랜드를 대표하는 SKT 부스에서는 불과 몇 년 사이에 가장 핫한 키워드로 떠오른 인공지능과 관련된 여러 가지 기술과 활용 사례들을 만나볼 수 있었습니다. 많이 가까워지기는 했지만 아직까지 우리 일상에 어떤 영향이 있을지 모르겠다는 분들도 있습니다. 아주 간단한 예로 SK텔레콤의 비서인 '에이닷'이 있습니다. 에이닷을 이용하면 통화...\", 'date': '2024.02.29.'}\n",
      "{'title': '인공지능 시대, 휴머니티와 진정성으로 디지털 플랫폼 비즈니스', 'text': '인공지능 시대란 인공지능이 음성 번역, 로봇 공학, 인공 시각, 인지 과학 등 다양한 분야에서 인간이 해야 할 일을 기계가 대신하게 되는 시대를 말합니다. 챗 GPT가 탄생하면서 인공지능 시대를 빠르게 앞당겨지고 있습니다. 얼마 전 매일경제에 나온 내용을 보면 산업연구원의 AI 시대 일자리 보고서에 일자리 327만 개가 사라진다는 충격적인 보고서가 나왔으며, 금융업은...', 'date': '2024.04.01.'}\n",
      "{'title': '공장 내 인공지능cctv 설치후기 | 공장cctv | 업체cctv | cctv | cctv추천 | 공장CCTV추천 |', 'text': '자비스넷의 인공지능cctv가 더욱 특별한 이유는 제공하는 모든 카메라에 지능형 영상분석 기능이 탑재되어 있기 때문인데요, 지능형 영상분석 기능이란? 카메라에 촬영되어지는 모든 객체를 분류하며 군집감지, 침입/도난감지, 투기감지, 배회감지, 쓰러짐 감지 등 다양한 객체의 행동 변화를 감지하여 분석하는 기능을 말합니다. 자비스넷만의 지능형...', 'date': '1시간 전'}\n",
      "{'title': '국제미래학회 챗GPT 인공지능지도사 1급 과정 수료 및 챗GPT인공지능지도사협회 공식 출범', 'text': '\\'챗GPT 인공지능지도사\\' 1급 과정 수료 및 지도사협회 공식 출범 지도사 자질 향상과 인공지능 선용 리더 활성화 다양한 역할 수행 안종배 \"인공지능 선용 방안 제시, 미래사회에 긍정적 변화 이끌어 갈 것\" #국제미래학회 #대한민국메타버스포럼 #안종배 # #챗GPT지도사 국내 대표 미래기관 국제미래학회와 대한민국 메타버스포럼...', 'date': '2일 전'}\n",
      "{'title': '갤럭시 탭 S9 업데이트 AI 통역 인공지능 탑재, 삼성 필기용 태블릿 PC 추천', 'text': '삼성 스마트폰 갤럭시S24 모델은 최초로 온디바이스 AI 인공지능 기능을 탑재하여 큰 주목을 받았습니다. 탄탄한 실용성을 바탕으로 실제 판매량까지 이어졌고 이 기세를 몰아... 여기에 온디바이스 AI 인공지능 기능까지 추가되어 활용도는 더욱 좋아졌습니다. 어떤 기능이 있는지 하나씩 살펴볼게요. 먼저 실시간 대면으로 대화를 통역해주는 기능입니다. 파파고나 구글...', 'date': '2024.04.13.'}\n",
      "{'title': '강원특별자치도가 인공지능(AI) 헬스케어 글로벌 혁신 특구로 지정되었습니다!', 'text': '지난 4월 30일(화) 「강원 인공지능(AI) 헬스케어 글로벌 혁신 특구」가 신규 지정 의결되었습니다. 강원특별자치도는 풍부한 경험과 노하우를 바탕으로 인공지능(AI) 헬스케어 산업 생태계를 구축할 계획입니다. 인공지능(AI) 헬스케어 글로벌 혁신 특구 혜택 국내 최초 전면적 사후 규제(네거티브) 특례 방식 시행 법률에서 금지한 행위가 아니면 기준과 규격 등이...', 'date': '2024.05.03.'}\n",
      "{'title': '[키네마스터] 인공지능 자동자막 입력 기능 업데이트 사용법, 스마트폰강사', 'text': '며칠전에 키네마스터도 인공지능으로 자동자막이 입력되는 기능이 추가 업데이트 되었네요. 플로그인을 다운받아야 되지만 굿굿 아주 좋습니다. 키네마스터 최고에요.^^ 키네마스터 인공지능 자동자막 입력 기능 업데이트 사용법 음성 동영상 추가 키네마스터 어플 터치하고 만들기 새로만들기 터치하구요. 프로젝트 이름 입력하고 16:9 선택하고 만들기 터치합니다....', 'date': '2024.03.29.'}\n",
      "{'title': '인공지능이 할 수 있는 것, 할 수 없는 것(2) (4장 지능 패러다임～5장 AI 시대)', 'text': \"4장 지능 패러다임 여러 가지 지능 '인공지능 패러다임'이란 인공적으로 만들어진 모든 기술을 써서 문제를 해결하는 접근법이라 할 수 있다. 인공지능은 기호주의 인공지능과 기계학습 인공지능을 포괄한다. '문자 지식 패러다임'에서 짧은 정보나 지식 혹은 기억하기 어려운 긴 경험은 문자를 통해 기록되고 분석되고 조립되며 이를 통해 이전에는 불가능하던 더...\", 'date': '2024.05.10.'}\n",
      "{'title': '프로 크기 얼마나 커질까? 생성형 AI(인공지능) 향상시킨 뉴럴 엔진 탑재 기대(feat. 애플 최신 모델)', 'text': '애플이 인공지능 면에서는 아직 이슈를 만들지 못하고 있어 수많은 애플 유저들의 목을 길게 늘어뜨리고 있습니다. 최근 생성형AI(인공지능)을 행상시킨 뉴럴 엔진을 탑재한 아이폰16 프로를 오는 9월에 공개한다는 소식이 들립니다. 역시 애플은 애플이지~ 라고 환호할 텐데요. 과연 얼마나 만족스러운 결과를 제공할지 기대해 보면 좋을 것 같습니다. 아이폰16...', 'date': '2024.03.12.'}\n",
      "{'title': '챗 GPT 오픈 AI 그리고 인공지능 챗 GPT의 시대 4차 산업혁명 서영상 지음', 'text': '듭니다 인공지능의 역사 초창기에는 기계가 과연 인간의 지능을 가질 수 있는지 의문이 있었어요 그래서 앨런 튜링의 아이디어로 튜링 테스트라는 방법으로 인공지능의 초기... 했답니다 인공지능의 역사를 돌아보면 발전하는 과정은 기술 부족으로 실패가 많았지만 반도체의 비약적인 개발로 딥러닝과 인공신경망이 발전하며 인간의 언어를 이해하고 생성할 수...', 'date': '2024.04.13.'}\n",
      "{'title': '2025년 인공지능(AI) 디지털교과서 도입 ··· 초·중등 디지털 인프라 개선 계획', 'text': '2025년 인공지능(AI) 디지털교과서가 도입됩니다. 교육부는 5월 14일 이 같은 내용이 포함된 ‘초·중등 디지털 인프라 개선 계획’을 발표했는데요. AI 디지털교과서는 2025년 초등학교 3... ▶나에게 든든한 정책주간지 K-공감 원문 기사 보기 함께 읽으면 좋은 콘텐츠 초·중·고 모두 ‘(AI) 디지털교과서’ 검정도서로 발간, 2025년 도입 \"AI 반도체가 없다면 AI는...', 'date': '2024.05.24.'}\n",
      "{'title': '한국저작권위원회 저작권 걱정 없는 인공지능 학습 원천데이터 소개 스마트테크코리아2024', 'text': '저작권 걱정 없는 \\'인공지능 학습 원천데이터\\' 소개 스마트테크코리아 2024에서 ‘공유 BANK’ 주제 홍보부스 운영 \"수요층에게 꼭 필요한 초기 데이터, 지속 구축해 제공할 예정\" #한국저작권위원회 #스마트테크코리아2024 # #학습원천데이터 #공유BANK 원천데이터 홍보부스. 사진=한국저작권위원회 한국저작권위원회(위원장 강석원, 이하 위원회)는...', 'date': '5시간 전'}\n",
      "{'title': '인공지능이 할 수 있는 것, 할 수 없는 것(1) (1장 인공지능 패러다임～3장 기계학습 )', 'text': \"점 더 정확히 말하면 타고난 지능과 인공적으로 만들어진 지능의 하이브리드 시스템이었다. 저자는 이들을 사이보그1이라고 부른다. 3장 기계학습 인공지능 기계학습 인공지능을 구현하기 위한 접근법에는 '연결주의' 혹은 '기계학습' 접근법이 있었다. 기계학습은 인간이 규칙을 제공하지 않고 기계가 스스로 주어진 데이터 안에 존재하는 규칙을 찾아내어 새로운 상황에...\", 'date': '2024.05.09.'}\n",
      "{'title': '인공지능 기계 디자이너의 탄생', 'text': '인공지능(AI) 관련 산업이 가파르게 성장함에 따라 중국의 인공지능 관련 디자인 산업 역시 비약적인 발전을 이루고 있다. 2016년 퉁지대학(同濟大學)이 세계 최초로 ‘디자인 인공지능 실험실’을 설립하여 대학원생을 양성한 뒤 저장대학(浙江大學), 칭화대학(清華大學) 등 저명한 대학교들이 자원을 투입하고 관련 학과를 설치하며 디자인과 의 결합을...', 'date': '2024.04.27.'}\n",
      "{'title': '인공지능 디지털교과서 본격 도입 대비, 학교 디지털 인프라 질적 개선에 총력', 'text': '(수) 인공지능(AI) 디지털교과서 시대, 디지털 기반 수업혁신을 지원하기 위한 「초·중등 디지털 인프라* 개선계획」을 발표한다. * 디지털 인프라는 학교 내에서 디지털 기술을... 특히, 그간의 디지털 기기 보급 등 인프라의 양적 확대를 넘어 새롭게 도입되는 디지털교과서 구동 환경에 걸맞게 질적 개선을 추진하고, 인프라 관리 부담 경감 등 학교 현장의...', 'date': '2024.05.14.'}\n",
      "{'title': '홈페이지 제작, 인공지능 쇼핑몰 제작 하기', 'text': '오늘은 홈페이지 제작 기간부터 업체 선택 요령 그리고 요즘 핫한 인공지능 쇼핑몰 제작하는 방법에 대해서 이야기를 해보려 합니다. 알다시피 홈페이지는 기업의 꽃이자, 브랜딩을 할... 그중에 하나가 바로 < 인공지능 상담 시스템 >입니다. 고객이 궁금하거나 물어보고자 하는 내용을, 쇼핑몰에서 일일이 다 응대하려면 시간이 많이 걸리겠죠? 그래서 요즘은 ...', 'date': '2024.05.09.'}\n",
      "{'title': '엔트리 인공지능 with 햄스터 로봇 개정판', 'text': '엔트리 인공지능 with 햄스터 로봇 개정판 * 책 소개 엔트리와 햄스터 로봇으로 시작하는 인공지능 프로그래밍 《엔트리 인공지능 with 햄스터 로봇 개정판》은 엔트리와 인공지능을 활용해 재미있고 유익한 프로그래밍 활동을 해 볼 수 있는 도서로, 이번 개정판은 엔트리 최신 버전으로 전체를 업데이트하였고 엔트리의 신기능인 탐험하기에 대한 간략한...', 'date': '2024.05.02.'}\n",
      "{'title': '[외식경영학회 춘계학술대회 기조강연] 생성형 인공지능 시대, 외식산업의 성장 전략', 'text': '외식경영학회 춘계학술대회 기조강연 생성형 인공지능 시대, 외식산업의 성장 전략 한국외식경영학회 오늘은 대구카톨릭대학교에서 진행되는 한국외식경영학회 2024 춘계학술대회 기조강연에 대한 소식을 공유하여 드립니다. 을 활용한 외식업 창업, 경영, 마케팅 김영갑 교수 14시~15시 예정 김영갑 교수 기조강연의 내용은 어떻게 구성되었나? 생성형...', 'date': '4주 전'}\n",
      "{'title': '[2024년 2분기 세미나 후기] 챗GPT 질문의 기술:인공지능 시대 개인의 경쟁력은 질문하는 힘', 'text': '이번 세미나의 주제는 『 챗GPT 질문의 기술:인공지능 시대 개인의 경쟁력은 질문하는 힘 』 입니다 지난 1분기 세미나와 달리 이번 2분기 세미나는 시각적인 자료 제공을 위해 대면으로 진행이 되었습니다!! (이번에도 많은 분들이 신청해 주셔서 운영진은 참으로 뿌듯했습니다..후후..) 세미나를 진행해주신 강사님께서는 『 챗GPT 질문의 기술 』의 저자이자 AIwave의...', 'date': '3주 전'}\n",
      "{'title': '알아두면 유용한 인공지능(AI) 플랫폼', 'text': \"회사 이름과 업종만 입력하면 AI가 2분만에 로고를 제작해주고, 또 자동으로 광고 문구를 생성해주는 등 인공지능을 활용한 다양한 플랫폼이 개발되고 있습니다. 알아두면 유용한 인공지능(AI) 플랫폼, 윤커뮤니케이션즈와 함께 살펴보세요! 2분만에 로고 만들기! AI 로고 제작 플랫폼 'Designs.ai' Designs.ai 'Designs.ai'는 을 활용하여 디자인 작업을...\", 'date': '2024.03.29.'}\n",
      "{'title': '큰 화면 TV와 인공지능 결합 판매량 반전? LG 알파11 프로세서 탑재한 엘지 올레드 에보(M4/G4)와...', 'text': '위에서 개인적으로 인공지능에 대한 생각을 LG전자도 했는지 인공지능보다는 공감지능이라는 용어를 사용하기 시작했습니다. 어떻게 보면 솔직하고 정직한 표현이 아닌가 싶습니다. 올해 LG TV는 인공지능 성능을 강화한 알파11 AI 프로세서가 핵심 요소로 기존 대비 최대 4배 강화된 딥러닝을 시켰습니다. 기존보다 4배가 강화된 으로...', 'date': '2024.05.11.'}\n",
      "{'title': '파이썬기초 인공지능 개발자 국비 강의 학원', 'text': '여러분~ 전 개발자 현 IT 전문 진로 컨설턴트 이 팀장입니다~ 오늘은 파이썬기초 인공지능 개발자 국비 강의 학원 이라는 내용으로 찾아왔습니다. 전 세계가 빠른 속도로 발전을 하고... 이처럼 AI 인공지능이나 빅데이터 분석 사물인터넷 RPA 로봇 소프트웨어 사무 자동화 등 다양한 기능들이 나오기 시작하면서 IT 기업뿐만 아니라 일반 기업들의 입장에서도 관련...', 'date': '2시간 전'}\n",
      "{'title': '[우리사업을 ~확] 주요 본부 사업 - 인공지능', 'text': '| 4차 산업혁명 시대의 핵심 기술, AI 인공지능(AI)은 4차 산업혁명 시대의 핵심 기술로 자리매김했습니다. 세계 AI 시장규모는 2026년까지 연평균 39.7% 성장하여 3,095억 달러(출처... AI 기술의 개발부터 실증, 검증까지 전주기 지원체계를 구축해 성능과 신뢰성이 확보된 데이터와 제품을 시장에 공급하는 등 국내 산업 지능화를 촉진하고, 산업 디지털 전환 정책을...', 'date': '2024.05.10.'}\n",
      "{'title': '리벨리온 인공지능 AI 반도체 주식 상장 주가 - NPU 관련주', 'text': '리벨리온 인공지능 AI 반도체 주식 상장 주가 - NPU 관련주 반도체 산업은 두 부류로 나뉩니다. 반도체를 설계하고 디자인 하는 쪽과, 이걸 실제 공장에서 찍어내는 쪽입니다. 전자를... 엔비디아가 급성장한 이유는 인공지능 분야에 절대적으로 필요한 반도체 설계기술을 가지고 있기 때문입니다. AI 를 학습하고 동작시키기 위해서는 엄청나게 많은 부동소수점...', 'date': '2024.03.14.'}\n",
      "{'title': \"[ChatGPT 특강] '생성형 인공지능의 이해 및 사용법' 실습 강의 진행(2차수)\", 'text': \"대상으로 '생성형 인공지능의 이해 및 사용법'에 관한 주제로 실습형 강의를 했습니다. ChatGPT 특강이 오전 9시부터 시작되기 때문에 전날 생활관에서 숙박하고, 아침 일찍 강의를 준비했습니다. 직급별 교육 1차수는 일반직 4,5급을 대상으로 진행했으며, 이번에는 6,7급을 대상으로 생성형 활용법에 대해 강의했습니다. 한국폴리텍대학 인재개발원...\", 'date': '2024.04.11.'}\n",
      "{'title': '디지털 소양을 기르는 인공지능 수업디자인', 'text': '인공지능 수업을 어떻게 준비하면 좋을까 고민하다가 읽게 된 책입니다. 박재찬 선생님이 저자인데요. 이쪽 분야에서 오래동안 활동하신 분입니다. 소개 부분을 보면 교사들의 PBL 수업, AI 디지털 활용수업 분야에서 활동하는 분인데요. 디지털 소양을 기르는 수업디자인 저자 박재찬 출판 테크빌교육 발매 2023.09.08. 책은 2022 개정 교육과정 기반 AI 디지털 활용...', 'date': '2024.04.13.'}\n",
      "{'title': '[현미경] AI(인공지능)부터 웹툰까지! 미래를 바꿀 트렌드, 콘텐츠 IP(지식재산권)', 'text': '오늘날 인공지능(AI)과 지식재산권(IP)이 콘텐츠 산업의 변화를 이끌고 있다고 설명했습니다. 엔데믹에 돌입하며 새로운 동력을 찾는 움직임이 컸던 2023년, 콘텐츠 산업 전 영역에 AI 기술이 도입돼 콘텐츠 제작 효율성을 높였고, IP를 활용한 다양한 사업들이 탄생한 것이죠. 그렇게 탄생한 콘텐츠 IP산업 현황을 살펴보기에 앞서, 콘텐츠 IP의 정의부터 찬찬히...', 'date': '2024.04.12.'}\n",
      "{'title': 'AI 스피커 추천 누구 캔들 인공지능 거실 사용 장점 단점', 'text': '인공지능 스피커와 추천 제품 중 누구 캔들을 소개해 드리며 거실 스피커로서의 장점 단점을 알려드리도록 하겠습니다 NUGU 스피커는 누구 캔들 S2 인공지능 스피커 입니다. 누구 캔들은 SK텔레콤과 아마존 알렉사를 사용할 수 있게 개발된 스피커인데요 가장 중요한 특징은 바로 한국 어와 영어를 명령하면 수행할 수 있는 똑똑한 AI 스피커라는 것입니다....', 'date': '2024.03.31.'}\n",
      "{'title': '인공지능 AI 행정 지원 서비스 행정안전부 시범 운영', 'text': '인력 감축은 없고 정부가 보유하고 있는 행정 데이터와 기업이 민간기업의 초거대 인공지능 AI 기술의 접목으로 기존인력으로 더 많은 서비스를 제공한다는 취지이며 AI 인공지능을 활용한 전자적 처리를 통해 선제적이고 창의적인 정부 혁신을 선도하며 디지털 플랫폼 정부 실현에 한걸음 다가가는 전환점으로 삼는다는 것이랍니다. 민·관 협업 지능형 업무관리시스템...', 'date': '6일 전'}\n",
      "{'title': '개인정보위, 인공지능 시대 개인정보 정책 방향을 국제사회와 논의', 'text': '개인정보위, 인공지능 시대 개인정보 정책 방향을 국제사회와 논의 - 제61차 아시아태평양지역 개인정보 감독기구 협의체(APPA) 포럼에서 ‘비정형 데이터 가명처리 가이드라인’... 1일차(6.20.) 포럼 “국가별 동향 보고” 세션에서는 각국 개인정보 감독기구들이 아동에 대한 개인정보 보호, 관련 개인정보 정책과 소셜네트워크(SNS) 등 여러 조사·처분...', 'date': '1일 전'}\n",
      "{'title': 'AI 브랜딩 회사, 타이디비에서는 인공지능 기술로 브랜딩을 한다고?', 'text': '이러한 브랜드 마케팅도 이제는 내부 인력이 없어도 인공지능 기술을 활용해 시도해 볼 수 있게 되었습니다. 실제로 AI 브랜딩 회사, 타이티비에서는 적은 비용으로 고퀄리티의... 그런데 이제는 이러한 브랜딩도 인공지능 기술로 자동화할 수 있다면 어떨까? AI 브랜딩 회사, 타이디비 창업가, 마케터, 디자이너를 위한 AI 브랜딩 회사인 TIDY-B(타이디비)에서는 생성형...', 'date': '2024.05.18.'}\n",
      "{'title': '인공지능 AI 활용하여 브리핑 자료로 유튜브 영상 제작하기...기본과정 4주차', 'text': '오늘은 유튜브 영상을 꼭 휴대폰이나 카메라로 찍은 영상만이 유튜브 영상이 되는 것이라는 편견을 깨는 인공지능 사이트를 활용한 영상 소스제작과 영상편집 방법을 배웠습니다. 많은 분들이 이런 신세계가 열렸다고 환호해 주셨습니다. 왜냐하면 이런 높은 수준의 영상은 많은 시간이 걸릴 줄 알았는데, AI 사이트를 활용하니 놀라운 시간 단축으로 많은...', 'date': '2024.04.03.'}\n",
      "{'title': '[과학향기 for Kids] 인공지능(AI)이 똑똑해진 비결은? ‘기계학습’', 'text': '이 모든 일을 하는 주인공은 바로 ‘인공지능(AI)’입니다. 그동안 AI는 SF 영화 속에서만 만나볼 수 있었지만, 기술의 발전으로 어느덧 일상 속 곳곳에 침투해 우리 생활을 편리하게... 과학자들은 오래전부터 인간의 지능을 닮은 기계를 개발하고 싶어 했습니다. 그러던 중 1950년 영국의 수학자인 앨런 튜링은 언젠가 모든 면에서 인간의 지능을 따라 할 수 있는...', 'date': '2024.05.13.'}\n",
      "{'title': '소상공인 식당 경영자가 상권분석을 할 때 인공지능을 활용하는 방법', 'text': '소상공인 여러분, 인공지능을 활용해서 상권분석을 하는 시대가 되었습니다 소상공인 식당 경영자를 위한 상권분석을 할 때 인공지능을 활용하는 방법에 대해 설명해 드리겠습니다. 인공지능은 예비 창업자와 기존 사업자 모두에게 유용한 상권 분석 도구가 될 수 있습니다. 을 활용하여 상권 분석을 수행하는 방법을 단계별로 안내해 드립니다. 1단계: 목표 설정...', 'date': '2024.05.21.'}\n",
      "{'title': '[이핀로봇F+] 인공지능 로봇의 과대낙폭 단기바닥 포착 (에스바이오메딕스 +7%)', 'text': '인공지능 로봇의 타점 포착! 지금 시작합니다. 최근 미국증시를 이끌었던 엔비디아 등 반도체 관련주들이 조정구간에 들어가며 지수가 하락하고 있습니다. <나스닥 지수 차트> <코스피 코스닥 지수 차트> 오후 12시 21분 기준 한국증시 또한 조정구간을 만들고 있습니다. 오늘 같은 시장에서 이핀의 로봇 시그널캐쳐의 당일 매수매도 원칙 단타로봇은...', 'date': '1시간 전'}\n",
      "{'title': 'Open AI 실시간 대화 가능한 ChatGPT 4o 공개, 국내 AI 인공지능 관련주는?', 'text': '이에 따라 국내 AI 인공지능 관련주들도 긍정적인 영향을 받을 것으로 예상되는데요. Open AI ChatGPT 4o 주요 기능과 관련주들을 알아보겠습니다. [주요 기능] ChatGPT 4o는 이전 버전인 챗GPT4 수준의 지능을 자랑하면 훨씬 더 빠르게 텍스트, 음성, 비전 기능을 제공하는 플래그십 모델입니다. 1. 실시간으로 자연스러운 대화가 가능합니다. 이날 시연을 시작하며...', 'date': '2024.05.14.'}\n",
      "{'title': '갤럭시 S24 핵심인 온디바이스 AI 인공지능', 'text': '얼리어답터 리뷰/스마트폰 갤럭시 S24 핵심인 온디바이스 AI 인공지능 by 엔돌슨 2024. 1. 22. 갤럭시 S24 왜 인공지능 탑재된 온디바이스 AI 일까? 이제 언어의 장벽은 인공지능 앞에서 다 깨져버리는 것일까요? 이런 생각이 듭니다. 그리고 스마트폰이 개인 비서 역할을 더 잘해줄 수 있게 변해가는 중이라는 생각이 듭니다. 최근 출시된 삼성전자의 스마트폰인 갤럭시...', 'date': '2024.01.22.'}\n",
      "{'title': '구글 홈미니 인공지능 AI 스피커 블루투스 네스트미니', 'text': '이번 시간에는 구글 홈미니 인공지능 AI 스피커 블루투스 네스트미니에 대해 알아보도록 하겠습니다. 먼저 구글홈미니 1세대는 2017년에 첫 선을 보이며 우리 생활 속에 AI 스피커라는 새로운 카테고리를 소개했는데요. 기본적으로 음성 인식 기능을 탑재해 간단한 명령으로 음악 재생, 정보 검색, 일정 관리 등을 할 수 있습니다. 또한, 2019년에는 스피커...', 'date': '2024.05.18.'}\n",
      "{'title': '빅데이터 국비 학원 (서울 AI 데이터 분석/인공지능 빅데이터 취업) 데이터 애널리스트 양성과정 교육생 모집', 'text': '빅데이터 국비 학원 (서울 AI 데이터 분석/인공지능 빅데이터 취업) 데이터 애널리스트 양성과정 교육생 모집 안녕하세요. 취업 비서 인크루트 입니다. 디지털 핵심 실무인재 양성사업 (K-Digital Training)으로 진행되는 빅데이터 국비 학원 (서울 AI 데이터 분석/ 빅데이터 취업) 데이터 애널리스트 양성과정 교육생 모집이 진행되고 있습니다. 지금부터 교육생...', 'date': '2024.05.24.'}\n",
      "{'title': '[도서] DX 디지털 대전환 시대 AX 인공지능 대전환 : AI가 만들어낸 새로운 AI Home 시대, AX 시대의...', 'text': \"DX 디지털 대전환 시대 AX 인공지능 대전환 저자 이정용,임재희 출판 광문각출판미디어 발매 2024.04.29. 광문각출판미디어에서 출간한 'DX 디지털 대전환 시대 AX 인공지능 대전환'입니다. 요즘 뉴스를 살펴보면 인공지능 AI가 우리나라의 새로운 미래 먹거리 산업으로 각광받으면서 이에 대한 기술 개발이나 투자 유치 등에 대한 소식들이 계속해서 들려오고...\", 'date': '2024.05.16.'}\n",
      "{'title': '숨어있는 인공지능 관련주 AMD 주식 주가 총정리', 'text': '숨어있는 인공지능 관련주 AMD 주식 주가 총정리 시간입니다. 인공지능 관련주 LG전자 바야흐로 인공지능 세상입니다. 인공지능 대장 주인 엔비디아는 AI 반도체를 앞세워 사상 최고가를 연일 경신하고 있습니다. 이는 다른 회사보다 발 빠르게 시장을 점유했기 때문입니다. AI 시장은 발전 가능성이 높습니다. 은 다양한 산업 및 서비스와 융합되고...', 'date': '3주 전'}\n",
      "{'title': \"[AI 강의] '생성형 인공지능의 이해 및 활용법' 강의 진행(1차수)\", 'text': '한국폴리텍대학 인재개발원(남원시 소재) 직급별 기본교육(1회차)에서 \\'생성형 인공지능의 이해 및 활용법\\'에 관한 주제로 실습형 강의를 했습니다. \"교육의 목적은 앎이 아니라 행동이다\" 공감 가는 문구입니다! 이번 강의에서는 4, 5급 직원분들을 대상으로 실무 현장에서 사용할 수 있는 다양한 생성형 플랫폼을 소개하고, 회원 가입 및 사용 방법을...', 'date': '2024.04.01.'}\n",
      "{'title': \"[IT 기본학습] 디지털 시대의 심리적 동반자 인공지능과 챗GPT, 정신 건강 의학 분야에 '활약'\", 'text': \"[IT 기본학습] 디지털 시대의 심리적 동반자 인공지능과 챗GPT, 정신 건강 의학 분야에 '활약' 우리의 일상생활과 정신 건강 관리 방식이 인공지능의 발전에 힘입어 변화하고 있습니다. 특히, 정신건강의학 분야에서 인공지능, 챗GPT의 활약이 돋보이고 있는데요. 본 포스팅에서는 최근 주목받고 있는 기술인 챗GPT가 우리의 정신 건강 분야에서 어떻게...\", 'date': '2024.04.08.'}\n",
      "{'title': '[홍파스] 인공지능의 거짓말: AI 환각', 'text': '사람뿐만 아니라 인공지능도 거짓말을 할 수 있다는 것을 알고 있나요? 최근 몇 년간 인공지능(AI)의 발전은 우리 생활에 혁신을 가져왔습니다. 자료조사부터 레포트 작성까지 척척해내는 GhatGPT와 같은 AI 챗봇 덕분에 많은 사람들이 편리함을 누리고 있죠. 개인뿐만 아니라 기업에서도 AI를 활용한 업무가 보편화되고 있습니다. 하지만 AI가 항상...', 'date': '6일 전'}\n",
      "{'title': '애플과 오픈AI의 파트너십: 챗GPT 통합으로 인공지능 미래를 선도하다', 'text': '최근 블룸버그 통신의 보도에 따르면, 애플은 인공지능(AI) 챗봇인 챗GPT를 활용하기 위해 오픈AI와 파트너십을 체결했지만, 이에 대한 금전적인 대가를 지불하지 않는다고 합니다. 이... 애플과 오픈AI의 파트너십은 인공지능 기술의 발전과 활용에 있어 중요한 이정표가 될 것입니다. 금전적인 대가를 주고받지 않는 협력 모델은 새로운 비즈니스 모델의 가능성을...', 'date': '2주 전'}\n",
      "{'title': '\"인공지능, 3D모델링 등 59개 과목\" 송파런 5~6월 수강생 모집!', 'text': '\"인공지능, 3D모델링 등 59개 과목\" 송파런 5~6월 수강생 모집! 교육도시 송파구의 중심, 청소년의 친구 송파런이 더욱 새롭고 다채로운 5~6월 프로그램을 준비했습니다! ✔️ 수강료: 무료(재료비 등 발생 시 별도 고지) ✔️모집과정: , 코딩, 3D모델링, 메타버스, 그래픽 등 59개 과정 ✔️모집기간: 2024. 4.23.(화) 10:00 ~ 마감 시 ※ 모집인원에...', 'date': '2024.04.25.'}\n",
      "{'title': '인공지능 AI 스피커 구글 네스트 미니 2세대', 'text': '이번 시간에는 인공지능 AI스피커 구글 네스트 미니 2세대 모델에 대해서 알아보도록 하겠습니다. 네스트 미니 2세대는 2017년에 출시된 모델로 콤팩트하고 세련된 디자인과 함께 블랙... 여러 대의 네스트 미니를 연결할 경우 멀티룸 오디오 시스템도 구성할 수 있다는 점에서 AI스피커 찾으시는 분들에게 좋은 선택지가 되어줄 제품이 아닐까 싶어요 :D', 'date': '2024.04.24.'}\n",
      "{'title': '인공지능 칩 경쟁 과열 양상으로 엔비디아 주가 하락세', 'text': \"인공지능 칩 경쟁 가열 팻 겔싱어 인텔 최고경영자(CEO)가 9일(현지시간) 미국 애리조나주 피닉스에서 열린 '인텔 비전 2024'에서 인텔의 최신형 인공지능(AI) 칩 '가우디3'을 소개하고 있다. 인텔 제공 인텔은 화요일에 가우디 3라는 새로운 AI 칩을 선보이면서 엔비디아-인텔의 직접적인 경쟁이 치열해지고 있는 것으로 보입니다. 가우디 3 칩은 지난 한 해...\", 'date': '2024.04.11.'}\n",
      "{'title': '[주기동] 설명가능 인공지능 기술 동향 및 핵심 과제 (2134, 20240522) (2/2)', 'text': '설명가능 인공지능의 핵심 과제 및 연구 방향 (이어서) 2) 기존 설명가능 인공지능 기술의 개선 XAI 방법론의 주요 분야 중 하나는 입력 기여도 방법 두가지 방법 입력의 변화를 통해 출력의 변화를 관찰하여 기여도를 측정하는 섭동(perturbation) 기반 방법 입력에 대한 출력의 기울기(gradient)를 통해 기여도를 측정하는 기울기 기반 방법 입력 기여도 방법은, 영리한...', 'date': '6시간 전'}\n",
      "{'title': 'AI 인공지능 스피커 누구캔들 장단점 알아보기', 'text': '생각보다 우리나라엔 다양한 인공지능스피커가 있습니다. 뭐... 대부분 통신사가 많아요. 삼성과 네이버도 있지만 이번엔 예외로 치자고요. 이번엔 AI스피커를 중 SK에서 만든... 그런데 너무 인공지능스피커 본연의 기능에만 집중한 티가 납니다. 일단 스피커 출력이 낮은 것이 대표적인 예 인데요. 5W의 출력은 작은 방이나 개인 공간에서는 충분하지만...', 'date': '4주 전'}\n",
      "{'title': 'LG 사운드바 AI인공지능으로 진화한 입체음향 사운드를 담다', 'text': 'LG전자에서 인공지능으로 구현한 풍부한 입체 사운드는 물론 프리미엄 LG TV 시리즈와도 디자인을 꼭 맞춘 2024년형 LG 사운드바를 출시합니다. 이번 신제품은 사운드바와 TV... 이제 사운드바도 AI 인공지능의 중요성을 담고 있는 것을 확인할 수 있습니다. LG 사운드바 AI 입체 사운드 대표 모델인 S95TR은 세계 최초로 업파이어링 스피커 3개를 탑재한...', 'date': '2024.03.11.'}\n",
      "{'title': '무엇이든 만드는 생성형 인공지능 기술', 'text': '무엇이든 만드는 생성형 인공지능 기술 https://www.etri.re.kr/webzine/202404/sub01.html ChatGPT 개발사인 오픈AI가 텍스트를 동영상으로 만들어주는 인공지능 기술 ‘SORA’를 선보였다. 현재 제한된 인원만 사용할 수 있는 기술이지만, 이미지를 만들어주는 의 기술이 한 단계 업그레이드된 셈이다. 생성형 의 발전 생성형 은...', 'date': '2024.04.02.'}\n",
      "{'title': '삼성 언팩 인공지능 탑재 갤럭시 S24 울트라 주요 기능 가격', 'text': '알려진 대로 갤럭시 AI가 탑재되었으며, 이를 통한 실시간 번역, 인공지능 검색 및 사진 편집 등의 기능들을 선보였습니다. 언팩을 시청하면서 인상 깊었던 기능 그리고 출시일 및... 인공지능 기반의 프로비주얼 엔진 탑재로 저조도에서 나이토그래피 기능이 더욱 향상되었고요. 기존에는 3배, 10배 줌에만 광학 수준 고화질이 제공되었는데요. 이번에 쿼드 텔레...', 'date': '2024.01.18.'}\n",
      "{'title': '인공지능 국비지원 ai개발자 비전공자 취업 가능성', 'text': '인공지능 국비지원 빅데이터 그리고 인공지능이 국책 사업으로 지정되면서 관련 인력 채용도 늘어나고 있습니다. 자연스럽게 채용 시장의 수요를 반영하는 국비지원도 인공지능에 대해서 다루는 교육이 늘어나고 있습니다. ① 머신러닝 엔지니어 ② 딥러닝 엔지니어 ③ RPA 개발자 같은 ai개발자라도 세부적인 진로에 많은 차이가 있습니다. 오늘은 위와 같은...', 'date': '3주 전'}\n",
      "{'title': '[상권분석전문가과정 3주차 수업 후기] 인공지능이 상권분석 해 주는 시대', 'text': '진정한 상권분석 4.0 시대가 도래하다 상권분석전문가과정 31기 3주차 수업 후기 상권분석전문가과정 31기의 3주차 수업에서는 인공지능(AI)을 활용한 상권분석 수업이 진행되었습니다. 이번 수업은 수강생들이 실제로 자신이 운영하거나 계획 중인 업종과 업태에 맞는 상권분석을 효과적으로 수행할 수 있도록 돕는 데 중점을 두었습니다. 수업 내용 개요 1. 기초...', 'date': '2024.05.22.'}\n",
      "{'title': '[생성형 인공지능] 세계 최초 AI 미인 대회 공모전 공지사항 및 접수 방법', 'text': '[미드저니를 이용한 인물 생성, 김정곤] 인공지능 창작물은 미래의 엔터테인먼트 및 광고 산업에 큰 변화를 예고하고 있습니다. AI가 생성한 인공지능 모델이 실제 인간 모델을 대체하여 광고 캠페인에 등장하는 경우에는 제작 비용을 절감하고, 더 다양하고 맞춤화된 콘텐츠를 생성할 수 있죠. [미드저니를 이용한 인물 생성, 김정곤] 이런 사회적, 기술적인...', 'date': '2024.04.18.'}\n",
      "{'title': '항공사들의 A I활용-인공지능 컨택 센터(AICC/AI Contact Center)', 'text': '적용한 ‘인공지능컨택센터(AICC/AI Contact Center)’ 플랫폼을 구축한다. AWS의 AI 기술을 활용한 상담 서비스 품질 향상을 위한 조치다. AICC는 AI 기술을 통한 음성봇·챗봇 등이 소비자의 질문에 답변하는 클라우드 기반 지능형 고객센터다. AICC를 활용하면 단순 안내와 상담 업무를 제공했던 콜센터 업무를 넘어 AI와 클라우드 기반의 혁신기술을 접목한...', 'date': '4주 전'}\n",
      "{'title': '인공지능 AI 시대의 최대 걸림돌이 되고 있는 소비 전력', 'text': '뉴런이 연결되는 강도에 따라서 사고가 발생하고 지능이 발생합니다. 이것과 동일하게 인공지능에는 파라미터가 존재합니다. 이 파라미터들은 스위치 같은 것이라서 복잡한 연산은 하지 않고 간단한 연산을 많이 빠르게 반복해야 합니다. 그래서 복잡한 연산을 하는 CPU가 아닌 그래픽 구현하는데 필요한 단순 반복 빠른 연산을 하는 GPU가 각광을 받고 있습니다....', 'date': '2024.04.21.'}\n",
      "{'title': \"스타트업 해외 투자 유치 확대·인공지능(AI)·디지털 전환 등 ··· '중소기업 도약 전략' 발표\", 'text': '또한 산업 전반의 인공지능(AI)·디지털 전환으로 생산성을 높입니다. 제조데이터 표준 기준을 정립해 개별 설비 중심에서 공장·기업 간 디지털 연결을 늘리고 ‘지역특화 인공지능 센터’와 권역별 TP, 지방자치단체 간 협업 연계를 강화합니다. 현재 38% 수준에 머무르고 있는 국가전략기술분야 R&D 지원은 50% 이상으로 확대한다는 내용도 담겼습니다. 정부·공공기관의...', 'date': '2024.05.09.'}\n",
      "{'title': '인공지능이 가장 먼저 빼앗을 직업 ‘의사’', 'text': '대부분 사람들은 인공지능 시대가 본격적으로 도래하면 단순한 노동을 반복하는 일자리부터 대체될 것이라고 생각했습니다. 그러나 그건 인공지능의 학습능력을 너무 얕잡아보고 미래를 낭만적으로 예측한 것입니다. 인공지능은 현재의 고소득 전문직, 화이트칼라와 골드칼라 직종부터 차분하게 잠식할 가능성이 큰데요. 결론부터 말하자면 가장 먼저 사라질 직종은...', 'date': '2024.03.22.'}\n",
      "{'title': '소프트웨어야 놀자 <생성형 인공지능 윤리 1> 교재 OPEN 이벤트', 'text': '우리 삶에 깊숙이 스며든 인공지능 기술들에 대해 우리에게 어떤 고민이 필요할까요? 생성형 인공지능의 엄청난 영향력과 함께 급부상하고 있는 인공지능 윤리! 소프트웨어야 놀자에서 생성형 인공지능 윤리 교육을 위한 신규 교재 <생성형 윤리 1>을 공개했습니다~! 생.성.형. AI라는 단어는 많이 들어봤는데 아직도 그게 뭔지 감이 안 오시는 분들!...', 'date': '1일 전'}\n",
      "{'title': '[인천소셜서포터즈 30기 10회, 358회] 인천 동구 등대교회에서 재미나이 어시스턴트와 대화형...', 'text': '어시스턴트와 인공지능 대화형 서비스 스터디하고 송림추어탕 맛있게 먹었어요. 오후 6시에 등대교회에 도착했어요. 맛집에서 맛있는 저녁식사도 할겸 인천 동구 등대교회에서 스터디모임을 하게 되었습니다. 인천 동구 등대교회에서 재미나이 어시스턴트와 대화형 서비스 스터디하고 송림추어탕 한주간 소식 및 AI 뉴스 시청하기 1. 수강생님, 일반 전화 받을...', 'date': '4주 전'}\n",
      "{'title': '삼성 갤럭시 S24 홍보 이미지 유출! AI 인공지능 기능과 스펙은?', 'text': 'AI 인공지능 기능과 스펙은? 영댕이 2024. 1. 14. 17:44 이제 다음 주면 삼성전자의 플래그십 스마트폰 갤럭시 S24 시리즈가 정식으로 공개될 예정입니다. 그리고 이미 중요한 정보들은... AI(인공지능) 관련 기능을 강화할 것으로 보이는데요. 최근의 트렌드를 반영한 개발 방향이라고 할 수 있습니다. 그런데 아직 이러한 기능들이 원활하게 동작하는 제품들은 많지...', 'date': '2024.01.14.'}\n",
      "{'title': '군사, 방위 산업 부문에서의 기계 학습과 인공 지능', 'text': '기계 학습은 컴퓨터 과학의 한 분야이자 인공 지능의 하위 분야이다. 기계 학습은 시스템이 과거의 경험을 통해 자동으로 학습하고 개선할 수 있도록 하는 다양한 기술 또는... © dysto, 출처 Unsplash ● 방위, 국방 분야에서 기계 학습과 기계 학습 및 은 현재 다양한 군사 응용 분야에서 사용되고 있다. 전 세계 강대국 및 선진국은 무기 체계를 개선하고...', 'date': '1일 전'}\n",
      "{'title': 'AI 인공지능 관련주 엔비디아 주가 상승, 실적 예측치 상회 주식 분할 발표, 국내 관련주는?', 'text': '연일 신고가를 갱신하던 뉴욕증시는 AI 인공지능 관련주 엔비디아 실적 발표를 앞두고 약보합세로 마감됐습니다. 이날 공개된 FOMC 의사록에 따르면 최근 몇 달 동안 인플레이션... [AI 인공지능 관련주 엔비디아 실적 예측치 상회] 엔비디아 주가는 장 마감 이후 상승하며 최초로 $1,000를 돌파했습니다. 장 종료 후 공개된 실적은 예측치를 상회했는데요....', 'date': '2024.05.23.'}\n",
      "{'title': '생성형 인공지능 AI 기반 브랜딩 솔루션 클라우드바우처 지원 타이디비', 'text': \"생성형 인공지능 AI 기반 브랜딩 솔루션 클라우드바우처 지원 타이디비 안녕하세요. 사진&IT 크리에이터 자유분방입니다. 브랜딩의 사전적 정의는 '소비자와의 관계 형성에서 시작해... 이번 글에서는 창업가, 마케터, 디자이너를 위한 브랜드 구축 플랫폼으로 생성형 (AI)과 대면 컨설팅을 통한 브랜딩 방법으로 '타이디비'를 소개 드려보고 실제로 체험을 해보도록...\", 'date': '2024.04.25.'}\n",
      "{'title': '데이터 솔루션, 인공지능이 바꾸는 HR의 미래는?', 'text': '새로운 변화를 맞이하는 HR 분야 채용 IBM은 인공지능 모델 왓슨을 개발했어요. 직무 매칭을 점수화하고 성과 창출 가능성을 계산해 채용에 활용한 사례예요. 왓슨은 지원자의 경력... 성과 관리 마이크로소프트는 인공지능을 활용해 직원들의 성과를 관리하고 생산성을 높이고 있습니다. 업무 데이터를 실적, 고객 만족도 등의 데이터와 연계해 분석하는데요. 성과가...', 'date': '2024.04.23.'}\n",
      "{'title': '#인공지능회사 주식회사 #베리아이를 설립했습니다#아트테크사업제안', 'text': 'https://m.blog.naver.com/dongsn1004/223439721070 안녕하십니까 선릉역 1번출구 상제리제 A동 701호에 #인공지능회사 주식회사 #베리아이를 설립했습니다 #베리아이(VERIAI)는 1. **인공지능(AI)을 이용한 미술품 진위 확인 방법 및 해당 시스템** 2. #(AI)을 이용한 미술품 가치 평가 방법 및 해당 시스템** 3. #미술품 진위 및 가치분석을 위한 (AI)...', 'date': '2주 전'}\n",
      "{'title': '인공지능 활용교육 엔지니어 취업 국비지원 학원', 'text': '그래서 오늘의 주제도 인공지능 활용교육 엔지니어 취업 국비지원 학원 이라는 내용으로 찾아왔습니다. 인공지능 활용교육 형태 자체가 온라인 4일 + 오프라인 1일로 구성되어 서울, 부산, 인천, 대구, 대전, 광주 경기도, 울산, 경상남도, 충청남도, 충청북도 전주, 제주도, 강원도 등 어느 지역에서든지 수강이 가능하고 대한민국 취업 시장에서 IT 인재 양성을 하기 위해...', 'date': '2주 전'}\n",
      "{'title': '무료로 이용할 수 있는 인공지능(AI) 툴 추천', 'text': \"유튜브 링크만 붙여넣으면 AI가 자동으로 내용을 요약해주고, AI 음성 인식 기능을 통해 자막을 자동으로 생성하는 등 인공지능을 활용한 다양한 플랫폼이 개발되고 있습니다. 무료로 이용할 수 있는 인공지능(AI) 툴, 윤커뮤니케이션즈와 함께 살펴보세요! 유튜브 URL만 붙여넣으면 AI가 자동으로 요약 '릴리스(Lilys) AI' 유튜브 영상의 URL을 붙여넣으면 요약해주는...\", 'date': '2024.03.08.'}\n",
      "{'title': '구글, 인공 지능 인력 이민 간소화 요청', 'text': '\"Schedule A 에 인공 지능, 사이버 보안 등을 포함하도록 해야하며, 지속 업데이트 해야 한다\" - Schedule A 란? 부족 직업군에 해당하는 이민 신청자들을 위해 이민 절차를 간소화... 현재 Open AI 는 AI 전문가에게 최대 1천만불의 연봉을 주는 등 몸값이 치솟고 있음. 요약: 인력이 부족, 인건비가 비싸져 부담스러우니 정부는 이민 절차 간소화 해달라.', 'date': '2024.05.07.'}\n",
      "{'title': '파이썬 프로그래밍, 인공지능 시대에 배울 만한 가치가 있을까?', 'text': '인공지능 시대가 빠르게 다가오면서 전 세계적으로 코딩 기술에 대한 중요성이 꾸준히 강조되고 있습니다. 하지만 몇 달 전 엔비디아의 CEO 젠슨 황은 이제 코딩을 배울 필요가 없다고 언급하면서 큰 화제를 모았습니다. 그는 이 많은 프로그래밍 작업을 자동화해 코딩에 대한 수요를 줄일 것이라고 말했지만, 이 의견에 동의하지 않는 전문가들도 많습니다. 특히...', 'date': '2024.05.08.'}\n",
      "{'title': '천안시, 보행자 안전 위해 교통정보 영상에 인공지능 더한다', 'text': '이번 협약에 따라 천안시는 한국전자통신연구원과 과학기술정보통신부의 ‘장기 시각 메모리 네트워크 기반의 예지형 시각지능 핵심기술 개발’ 과제인 예지형 보행자 안전 인공지능 기술 개발을 추진합니다. 양 기관은 천안 교통정보 CCTV 영상을 접목해 테스트베드를 구축하고 예지형 보행자 안전 요소 기술과 통합 솔루션의 개발 및 검증을 위해 유기적인...', 'date': '2024.04.24.'}\n",
      "{'title': 'EBS와 협력하여 인공지능(AI) 디지털교과서 개발을 지원하다!', 'text': '첨부파일 [교육부 03-11(월) 조간보도자료]EBS와 협력하여 인공지능(AI) 디지털교과서 개발을 지원하다!.pdf 개발사가 인공지능(AI) 디지털교과서 개발에 활용할 수 있도록 한국교육방송공사(EBS) 영상, 평가문항 등 지원 풍부한 교육 콘텐츠를 (AI) 디지털교과서에 담아 학생 맞춤교육 지원 교육부(부총리 겸 교육부장관 이주호)와 한국교육방송공사(사장...', 'date': '2024.03.10.'}\n",
      "{'title': '인공지능 CCTV 캡스 텔레캅 에스원 비교', 'text': '인공지능 CCTV가 무엇일까요? 우리가 알고 있는 씨씨티비랑 다른 지 궁금하신 분들을 위해 알아보는 시간을 가져볼까 합니다. 국내 대표 보안 3사 캡스 텔레캅 에스원 비교도 하며, 장단점이 무엇인 지 꼼꼼하게 체크를 해보는 시간을 가져볼게요. <목차> 1. 캡스 텔레캅 에스원 비교 2. CCTV 뭔가요? 3. 홈캠,사무실 감지 센서 씨씨티비 ▣ 캡스 텔레캅 에스원 비교...', 'date': '6일 전'}\n",
      "{'title': '문과생도 이해하는 인공지능 101 초등학생부터 이해하는 101가지 기술', 'text': \"책의 이름은 <문과생도 이해하는 인공지능 101>인데요. 제가 이 책을 읽고 지어본 부제목이 있어요. 바로 '초등학생부터 이해하는 101가지 기술'!!! 왜 그럴지 함께 살펴볼게요! 출발합니다! 컨티뉴언 인공지능 인사이트 이 대세라고 하죠? 인터넷의 시대를 뛰어넘어 의 시대라고 합니다. 그러면 우리는 어떤 것을 준비할 수 있을까요? 어떤 것을 준비해야...\", 'date': '2024.03.30.'}\n",
      "{'title': 'AI 인공지능 재미나이로 작사하고 suno로 나만의 노래 쉽고 빠르게 작곡하기, 스마트폰강사', 'text': '스마트폰, 인공지능으로 안되는 것이 무엇일까 찾기 어려운 거 같은 요즘 시간되면 솔내거리 상인회에 참석해서 공부도 하고 서포트도 하고 있는데요, 문성식교수님, suno로 노래 만들기 교육을 하셨어요. AI 인공지능 재미나이로 작사하고 suno로 나만의 노래 쉽고 빠르게 작곡하기 스마트폰 활용교육 때 활용하면 좋겠죠! AI 재미나이로 작사하고 suno로...', 'date': '2024.02.15.'}\n",
      "{'title': '감시도 HCN 자비스넷 컬러카메라로! | 인공지능cctv | 야간cctv | 보안cctv | 침입감시cctv | 창고cctv', 'text': '#경기씨씨티비 #고양cctv #cctv출장 #CCTV #cctv설치 #CCTV설치 #씨씨티비설치 #씨씨티비 #창고시설cctv #지능형CCTV #고양CCTV설치 #창고cctv #고양시CCTV #수도권CCTV #씨씨티비 #장비업체씨씨티비 #야간cctv #CCTV #경기cctv #지능형씨씨티비 #씨씨티비 #cctv #자비스넷 #자비스넷cctv #물류창고cctv #티오더 #t오더 #테이블오더 #무인주문기 #키오스크...', 'date': '6시간 전'}\n",
      "{'title': '인공지능의 미래와 윤리문제 - 챗GPT VS 클로드 비교 분석', 'text': '인공지능의 미래와 윤리문제 - 챗GPT VS 클로드 비교 분석 “ 챗GPT VS 클로드, 비교 분석 (ChatGPT VS Claude) “ 안녕하세요 위드유입니다. 최근 전세계적으로 핫한 이슈중 하나인 인공지능 AI에 대해서 알아보겠습니다. 특히 앞으로 시대를 이끌어갈 2개 업체에 대하여 비교 분석을 하면서 윤리적인 문제 부문에서 2개 기업이 어떤 차이점을 가지고...', 'date': '2024.04.05.'}\n",
      "{'title': '갤럭시 S23 울트라 ONE UI 6.1 업데이트 및 인공지능 사진보정 서클투서치 사용 후기', 'text': '갤럭시 S23 울트라 ONE UI 6.1 업데이트 및 인공지능 사진보정 서클투서치 사용 후기 안녕하세요. 사진&IT 크리에이터 자유분방입니다. ONE UI 6.1이 업데이트가 되었다는 소식을 접한지는 시간이 꽤 흘렀지만, 조금 지켜보고 업데이트를 하는 게 좋을 것 같아서 미루고 미루다가 업데이트를 진행을 해보았습니다. 기존 갤럭시 S24에 탑재된 AI 기능이 갤럭시 S23...', 'date': '2024.04.10.'}\n",
      "{'title': '석유화학산업 분야와 스마트 기술의 만남(빅데이터, 나프타, 스마트플랜트전환, )', 'text': '정보를 저장하는 컴퓨터를 넘어 스스로 생각하는 지능을 가지고 있는 인공지능이 발달해 학습과 판단을 할 수 있는 수준까지 도달했고 방대한 양의 데이터를 학습시킬 수 있는 하드웨어의 성능 즉, 빅데이터와 넓은 범위의 네트워크를 통해 접근할 수 있는 가상화 된 서버인 클라우드까지! 이 모든 것이 4차 산업혁명 시대의 대표적인 기술입니다. 출처 : 클립아트코리아...', 'date': '2024.03.29.'}\n",
      "완료\n"
     ]
    }
   ],
   "source": [
    "#으뜸님 get_view()\n",
    "views = driver.find_elements(By.CSS_SELECTOR, '.lst_view .view_wrap')\n",
    "result = []\n",
    "\n",
    "for view in views:\n",
    "    con_dict = {}\n",
    "    con_dict['title'] = view.find_element(By.CSS_SELECTOR, '.title_link').text.strip()\n",
    "    con_dict['text'] = view.find_element(By.CSS_SELECTOR, '.dsc_link').text.strip()\n",
    "    con_dict['date'] = view.find_element(By.CSS_SELECTOR, '.sub').text.strip()\n",
    "    result.append(con_dict)\n",
    "    print(con_dict)\n",
    "\n",
    "print('완료')"
   ]
  },
  {
   "cell_type": "code",
   "execution_count": 39,
   "id": "75389dab-0ba3-4fa8-8f77-344e9cdb06ee",
   "metadata": {},
   "outputs": [
    {
     "data": {
      "text/html": [
       "<div>\n",
       "<style scoped>\n",
       "    .dataframe tbody tr th:only-of-type {\n",
       "        vertical-align: middle;\n",
       "    }\n",
       "\n",
       "    .dataframe tbody tr th {\n",
       "        vertical-align: top;\n",
       "    }\n",
       "\n",
       "    .dataframe thead th {\n",
       "        text-align: right;\n",
       "    }\n",
       "</style>\n",
       "<table border=\"1\" class=\"dataframe\">\n",
       "  <thead>\n",
       "    <tr style=\"text-align: right;\">\n",
       "      <th></th>\n",
       "      <th>title</th>\n",
       "      <th>text</th>\n",
       "      <th>date</th>\n",
       "    </tr>\n",
       "  </thead>\n",
       "  <tbody>\n",
       "    <tr>\n",
       "      <th>0</th>\n",
       "      <td>엔비디아 주가 전망 시가총액 버블일까 실적 인공지능 가속기</td>\n",
       "      <td>엔비디아 주가 전망 시가총액 버블일까 실적 인공지능 가속기 인공지능 AI열풍의 최전...</td>\n",
       "      <td>7시간 전</td>\n",
       "    </tr>\n",
       "    <tr>\n",
       "      <th>1</th>\n",
       "      <td>구글 알파벳 주가 전망, 1주만 사고 후회(feat. 배당금, 역투자, 인공지능)</td>\n",
       "      <td>배당금, 역투자, 인공지능) 투자를 하면 항상 후회를 하게되죠. 그때 샀어야해, 팔...</td>\n",
       "      <td>2주 전</td>\n",
       "    </tr>\n",
       "    <tr>\n",
       "      <th>2</th>\n",
       "      <td>인공지능 삼성 노트북 갤럭시북4 엣지 가벼운 14인치 노트북 스펙 가격</td>\n",
       "      <td>오늘은 인공지능 더해진 14인치 노트북 갤럭시북4 엣지 가격 스펙을 간단히 소개해 ...</td>\n",
       "      <td>2일 전</td>\n",
       "    </tr>\n",
       "    <tr>\n",
       "      <th>3</th>\n",
       "      <td>[인공지능 개발자] 석사가 아닌 고졸도 취업이 가능한 루트</td>\n",
       "      <td>인공지능 개발자 석사가 아닌 고졸도 취업이 가능한 루트 현재, IT 산업에서 가장 ...</td>\n",
       "      <td>3주 전</td>\n",
       "    </tr>\n",
       "    <tr>\n",
       "      <th>4</th>\n",
       "      <td>인공지능 VS 인간, 주식투자 대결 승자는? 로보어드바이저 투자 수익률 공개</td>\n",
       "      <td>인간과 인공지능(AI) 중 누가 더 투자를 잘할까요? AI는 빅데이터 분석, 머신러...</td>\n",
       "      <td>2024.05.10.</td>\n",
       "    </tr>\n",
       "    <tr>\n",
       "      <th>...</th>\n",
       "      <td>...</td>\n",
       "      <td>...</td>\n",
       "      <td>...</td>\n",
       "    </tr>\n",
       "    <tr>\n",
       "      <th>205</th>\n",
       "      <td>AI 인공지능 재미나이로 작사하고 suno로 나만의 노래 쉽고 빠르게 작곡하기, 스...</td>\n",
       "      <td>스마트폰, 인공지능으로 안되는 것이 무엇일까 찾기 어려운 거 같은 요즘 시간되면 솔...</td>\n",
       "      <td>2024.02.15.</td>\n",
       "    </tr>\n",
       "    <tr>\n",
       "      <th>206</th>\n",
       "      <td>감시도 HCN 자비스넷 컬러카메라로! | 인공지능cctv | 야간cctv | 보안c...</td>\n",
       "      <td>#경기씨씨티비 #고양cctv #cctv출장 #CCTV #cctv설치 #CCTV설치 ...</td>\n",
       "      <td>6시간 전</td>\n",
       "    </tr>\n",
       "    <tr>\n",
       "      <th>207</th>\n",
       "      <td>인공지능의 미래와 윤리문제 - 챗GPT VS 클로드 비교 분석</td>\n",
       "      <td>인공지능의 미래와 윤리문제 - 챗GPT VS 클로드 비교 분석 “ 챗GPT VS 클...</td>\n",
       "      <td>2024.04.05.</td>\n",
       "    </tr>\n",
       "    <tr>\n",
       "      <th>208</th>\n",
       "      <td>갤럭시 S23 울트라 ONE UI 6.1 업데이트 및 인공지능 사진보정 서클투서치 ...</td>\n",
       "      <td>갤럭시 S23 울트라 ONE UI 6.1 업데이트 및 인공지능 사진보정 서클투서치 ...</td>\n",
       "      <td>2024.04.10.</td>\n",
       "    </tr>\n",
       "    <tr>\n",
       "      <th>209</th>\n",
       "      <td>석유화학산업 분야와 스마트 기술의 만남(빅데이터, 나프타, 스마트플랜트전환, )</td>\n",
       "      <td>정보를 저장하는 컴퓨터를 넘어 스스로 생각하는 지능을 가지고 있는 인공지능이 발달해...</td>\n",
       "      <td>2024.03.29.</td>\n",
       "    </tr>\n",
       "  </tbody>\n",
       "</table>\n",
       "<p>210 rows × 3 columns</p>\n",
       "</div>"
      ],
      "text/plain": [
       "                                                 title  \\\n",
       "0                     엔비디아 주가 전망 시가총액 버블일까 실적 인공지능 가속기   \n",
       "1        구글 알파벳 주가 전망, 1주만 사고 후회(feat. 배당금, 역투자, 인공지능)   \n",
       "2              인공지능 삼성 노트북 갤럭시북4 엣지 가벼운 14인치 노트북 스펙 가격   \n",
       "3                     [인공지능 개발자] 석사가 아닌 고졸도 취업이 가능한 루트   \n",
       "4           인공지능 VS 인간, 주식투자 대결 승자는? 로보어드바이저 투자 수익률 공개   \n",
       "..                                                 ...   \n",
       "205  AI 인공지능 재미나이로 작사하고 suno로 나만의 노래 쉽고 빠르게 작곡하기, 스...   \n",
       "206  감시도 HCN 자비스넷 컬러카메라로! | 인공지능cctv | 야간cctv | 보안c...   \n",
       "207                 인공지능의 미래와 윤리문제 - 챗GPT VS 클로드 비교 분석   \n",
       "208  갤럭시 S23 울트라 ONE UI 6.1 업데이트 및 인공지능 사진보정 서클투서치 ...   \n",
       "209       석유화학산업 분야와 스마트 기술의 만남(빅데이터, 나프타, 스마트플랜트전환, )   \n",
       "\n",
       "                                                  text         date  \n",
       "0    엔비디아 주가 전망 시가총액 버블일까 실적 인공지능 가속기 인공지능 AI열풍의 최전...        7시간 전  \n",
       "1    배당금, 역투자, 인공지능) 투자를 하면 항상 후회를 하게되죠. 그때 샀어야해, 팔...         2주 전  \n",
       "2    오늘은 인공지능 더해진 14인치 노트북 갤럭시북4 엣지 가격 스펙을 간단히 소개해 ...         2일 전  \n",
       "3    인공지능 개발자 석사가 아닌 고졸도 취업이 가능한 루트 현재, IT 산업에서 가장 ...         3주 전  \n",
       "4    인간과 인공지능(AI) 중 누가 더 투자를 잘할까요? AI는 빅데이터 분석, 머신러...  2024.05.10.  \n",
       "..                                                 ...          ...  \n",
       "205  스마트폰, 인공지능으로 안되는 것이 무엇일까 찾기 어려운 거 같은 요즘 시간되면 솔...  2024.02.15.  \n",
       "206  #경기씨씨티비 #고양cctv #cctv출장 #CCTV #cctv설치 #CCTV설치 ...        6시간 전  \n",
       "207  인공지능의 미래와 윤리문제 - 챗GPT VS 클로드 비교 분석 “ 챗GPT VS 클...  2024.04.05.  \n",
       "208  갤럭시 S23 울트라 ONE UI 6.1 업데이트 및 인공지능 사진보정 서클투서치 ...  2024.04.10.  \n",
       "209  정보를 저장하는 컴퓨터를 넘어 스스로 생각하는 지능을 가지고 있는 인공지능이 발달해...  2024.03.29.  \n",
       "\n",
       "[210 rows x 3 columns]"
      ]
     },
     "execution_count": 39,
     "metadata": {},
     "output_type": "execute_result"
    }
   ],
   "source": [
    "#저장된 게시물 리스트를 데이터프레임으로 변환후 csv로 저장\n",
    "df = pd.DataFrame(result)\n",
    "df"
   ]
  },
  {
   "cell_type": "code",
   "execution_count": 44,
   "id": "4fba20bc-93a6-4119-9f97-686003018bc7",
   "metadata": {},
   "outputs": [],
   "source": [
    "#데이터 프레임 저장\n",
    "# csv는 sep 쉼표가 반드시 있어야 한글이 안깨짐\n",
    "df.to_csv(f'output/naver_{fname}.csv', sep=',', encoding='utf-8-sig')"
   ]
  },
  {
   "cell_type": "markdown",
   "id": "e9950856-08ea-4464-862b-6f336144eb26",
   "metadata": {},
   "source": [
    "## 예제) 구글 플레이 스토어 리뷰"
   ]
  },
  {
   "cell_type": "code",
   "execution_count": 2,
   "id": "ed17c38b-1469-4b70-83f0-21bf7142cc5b",
   "metadata": {},
   "outputs": [],
   "source": [
    "from selenium import webdriver\n",
    "from selenium.webdriver.common.by import By\n",
    "from selenium.webdriver.chrome.options import Options\n",
    "import time, random, pandas as pd\n",
    "\n",
    "options = Options()\n",
    "options.add_argument('--window-size=974,1047')\n",
    "options.add_argument('--window-position=-7,0')\n",
    "options.add_experimental_option(\"detach\", True)\n",
    "\n",
    "driver = webdriver.Chrome( options = options)\n",
    "url = 'https://play.google.com/store/apps/details?id=com.estsoft.picnic'\n",
    "driver.get(url)\n",
    "time.sleep(random.randint(2,3))"
   ]
  },
  {
   "cell_type": "code",
   "execution_count": 5,
   "id": "f309d385-cf5b-4353-961d-af10f41f6ad1",
   "metadata": {},
   "outputs": [
    {
     "ename": "ElementClickInterceptedException",
     "evalue": "Message: element click intercepted: Element <span jsname=\"V67aGc\" class=\"VfPpkd-vQzf8d\">...</span> is not clickable at point (101, 736). Other element would receive the click: <div class=\"VfPpkd-IE5DDf\" jsname=\"GGAcbc\" jsaction=\"click:KY1IRb\"></div>\n  (Session info: chrome=122.0.6261.129)\nStacktrace:\n\tGetHandleVerifier [0x00007FF629BDAD02+56930]\n\t(No symbol) [0x00007FF629B4F602]\n\t(No symbol) [0x00007FF629A042E5]\n\t(No symbol) [0x00007FF629A50A80]\n\t(No symbol) [0x00007FF629A4E8AB]\n\t(No symbol) [0x00007FF629A4C0B4]\n\t(No symbol) [0x00007FF629A4AE45]\n\t(No symbol) [0x00007FF629A3F798]\n\t(No symbol) [0x00007FF629A6BC9A]\n\t(No symbol) [0x00007FF629A3F09A]\n\t(No symbol) [0x00007FF629A6BEB0]\n\t(No symbol) [0x00007FF629A881E2]\n\t(No symbol) [0x00007FF629A6BA43]\n\t(No symbol) [0x00007FF629A3D438]\n\t(No symbol) [0x00007FF629A3E4D1]\n\tGetHandleVerifier [0x00007FF629F56F8D+3711213]\n\tGetHandleVerifier [0x00007FF629FB04CD+4077101]\n\tGetHandleVerifier [0x00007FF629FA865F+4044735]\n\tGetHandleVerifier [0x00007FF629C79736+706710]\n\t(No symbol) [0x00007FF629B5B8DF]\n\t(No symbol) [0x00007FF629B56AC4]\n\t(No symbol) [0x00007FF629B56C1C]\n\t(No symbol) [0x00007FF629B468D4]\n\tBaseThreadInitThunk [0x00007FFCEB11257D+29]\n\tRtlUserThreadStart [0x00007FFCEC74AA48+40]\n",
     "output_type": "error",
     "traceback": [
      "\u001b[1;31m---------------------------------------------------------------------------\u001b[0m",
      "\u001b[1;31mElementClickInterceptedException\u001b[0m          Traceback (most recent call last)",
      "Cell \u001b[1;32mIn[5], line 3\u001b[0m\n\u001b[0;32m      1\u001b[0m \u001b[38;5;66;03m# 리뷰 더보기 클릭\u001b[39;00m\n\u001b[0;32m      2\u001b[0m xpath \u001b[38;5;241m=\u001b[39m \u001b[38;5;124m'\u001b[39m\u001b[38;5;124m//*[@id=\u001b[39m\u001b[38;5;124m\"\u001b[39m\u001b[38;5;124myDmH0d\u001b[39m\u001b[38;5;124m\"\u001b[39m\u001b[38;5;124m]/c-wiz[2]/div/div/div[1]/div/div[2]/div/div[1]/div[1]/c-wiz[4]/section/div/div[2]/div[5]/div/div/button/span\u001b[39m\u001b[38;5;124m'\u001b[39m\n\u001b[1;32m----> 3\u001b[0m driver\u001b[38;5;241m.\u001b[39mfind_element(By\u001b[38;5;241m.\u001b[39mXPATH, xpath)\u001b[38;5;241m.\u001b[39mclick()\n",
      "File \u001b[1;32m~\\anaconda3\\Lib\\site-packages\\selenium\\webdriver\\remote\\webelement.py:94\u001b[0m, in \u001b[0;36mWebElement.click\u001b[1;34m(self)\u001b[0m\n\u001b[0;32m     92\u001b[0m \u001b[38;5;28;01mdef\u001b[39;00m \u001b[38;5;21mclick\u001b[39m(\u001b[38;5;28mself\u001b[39m) \u001b[38;5;241m-\u001b[39m\u001b[38;5;241m>\u001b[39m \u001b[38;5;28;01mNone\u001b[39;00m:\n\u001b[0;32m     93\u001b[0m \u001b[38;5;250m    \u001b[39m\u001b[38;5;124;03m\"\"\"Clicks the element.\"\"\"\u001b[39;00m\n\u001b[1;32m---> 94\u001b[0m     \u001b[38;5;28mself\u001b[39m\u001b[38;5;241m.\u001b[39m_execute(Command\u001b[38;5;241m.\u001b[39mCLICK_ELEMENT)\n",
      "File \u001b[1;32m~\\anaconda3\\Lib\\site-packages\\selenium\\webdriver\\remote\\webelement.py:395\u001b[0m, in \u001b[0;36mWebElement._execute\u001b[1;34m(self, command, params)\u001b[0m\n\u001b[0;32m    393\u001b[0m     params \u001b[38;5;241m=\u001b[39m {}\n\u001b[0;32m    394\u001b[0m params[\u001b[38;5;124m\"\u001b[39m\u001b[38;5;124mid\u001b[39m\u001b[38;5;124m\"\u001b[39m] \u001b[38;5;241m=\u001b[39m \u001b[38;5;28mself\u001b[39m\u001b[38;5;241m.\u001b[39m_id\n\u001b[1;32m--> 395\u001b[0m \u001b[38;5;28;01mreturn\u001b[39;00m \u001b[38;5;28mself\u001b[39m\u001b[38;5;241m.\u001b[39m_parent\u001b[38;5;241m.\u001b[39mexecute(command, params)\n",
      "File \u001b[1;32m~\\anaconda3\\Lib\\site-packages\\selenium\\webdriver\\remote\\webdriver.py:354\u001b[0m, in \u001b[0;36mWebDriver.execute\u001b[1;34m(self, driver_command, params)\u001b[0m\n\u001b[0;32m    352\u001b[0m response \u001b[38;5;241m=\u001b[39m \u001b[38;5;28mself\u001b[39m\u001b[38;5;241m.\u001b[39mcommand_executor\u001b[38;5;241m.\u001b[39mexecute(driver_command, params)\n\u001b[0;32m    353\u001b[0m \u001b[38;5;28;01mif\u001b[39;00m response:\n\u001b[1;32m--> 354\u001b[0m     \u001b[38;5;28mself\u001b[39m\u001b[38;5;241m.\u001b[39merror_handler\u001b[38;5;241m.\u001b[39mcheck_response(response)\n\u001b[0;32m    355\u001b[0m     response[\u001b[38;5;124m\"\u001b[39m\u001b[38;5;124mvalue\u001b[39m\u001b[38;5;124m\"\u001b[39m] \u001b[38;5;241m=\u001b[39m \u001b[38;5;28mself\u001b[39m\u001b[38;5;241m.\u001b[39m_unwrap_value(response\u001b[38;5;241m.\u001b[39mget(\u001b[38;5;124m\"\u001b[39m\u001b[38;5;124mvalue\u001b[39m\u001b[38;5;124m\"\u001b[39m, \u001b[38;5;28;01mNone\u001b[39;00m))\n\u001b[0;32m    356\u001b[0m     \u001b[38;5;28;01mreturn\u001b[39;00m response\n",
      "File \u001b[1;32m~\\anaconda3\\Lib\\site-packages\\selenium\\webdriver\\remote\\errorhandler.py:229\u001b[0m, in \u001b[0;36mErrorHandler.check_response\u001b[1;34m(self, response)\u001b[0m\n\u001b[0;32m    227\u001b[0m         alert_text \u001b[38;5;241m=\u001b[39m value[\u001b[38;5;124m\"\u001b[39m\u001b[38;5;124malert\u001b[39m\u001b[38;5;124m\"\u001b[39m]\u001b[38;5;241m.\u001b[39mget(\u001b[38;5;124m\"\u001b[39m\u001b[38;5;124mtext\u001b[39m\u001b[38;5;124m\"\u001b[39m)\n\u001b[0;32m    228\u001b[0m     \u001b[38;5;28;01mraise\u001b[39;00m exception_class(message, screen, stacktrace, alert_text)  \u001b[38;5;66;03m# type: ignore[call-arg]  # mypy is not smart enough here\u001b[39;00m\n\u001b[1;32m--> 229\u001b[0m \u001b[38;5;28;01mraise\u001b[39;00m exception_class(message, screen, stacktrace)\n",
      "\u001b[1;31mElementClickInterceptedException\u001b[0m: Message: element click intercepted: Element <span jsname=\"V67aGc\" class=\"VfPpkd-vQzf8d\">...</span> is not clickable at point (101, 736). Other element would receive the click: <div class=\"VfPpkd-IE5DDf\" jsname=\"GGAcbc\" jsaction=\"click:KY1IRb\"></div>\n  (Session info: chrome=122.0.6261.129)\nStacktrace:\n\tGetHandleVerifier [0x00007FF629BDAD02+56930]\n\t(No symbol) [0x00007FF629B4F602]\n\t(No symbol) [0x00007FF629A042E5]\n\t(No symbol) [0x00007FF629A50A80]\n\t(No symbol) [0x00007FF629A4E8AB]\n\t(No symbol) [0x00007FF629A4C0B4]\n\t(No symbol) [0x00007FF629A4AE45]\n\t(No symbol) [0x00007FF629A3F798]\n\t(No symbol) [0x00007FF629A6BC9A]\n\t(No symbol) [0x00007FF629A3F09A]\n\t(No symbol) [0x00007FF629A6BEB0]\n\t(No symbol) [0x00007FF629A881E2]\n\t(No symbol) [0x00007FF629A6BA43]\n\t(No symbol) [0x00007FF629A3D438]\n\t(No symbol) [0x00007FF629A3E4D1]\n\tGetHandleVerifier [0x00007FF629F56F8D+3711213]\n\tGetHandleVerifier [0x00007FF629FB04CD+4077101]\n\tGetHandleVerifier [0x00007FF629FA865F+4044735]\n\tGetHandleVerifier [0x00007FF629C79736+706710]\n\t(No symbol) [0x00007FF629B5B8DF]\n\t(No symbol) [0x00007FF629B56AC4]\n\t(No symbol) [0x00007FF629B56C1C]\n\t(No symbol) [0x00007FF629B468D4]\n\tBaseThreadInitThunk [0x00007FFCEB11257D+29]\n\tRtlUserThreadStart [0x00007FFCEC74AA48+40]\n"
     ]
    }
   ],
   "source": [
    "# 리뷰 더보기 클릭\n",
    "xpath = '//*[@id=\"yDmH0d\"]/c-wiz[2]/div/div/div[1]/div/div[2]/div/div[1]/div[1]/c-wiz[4]/section/div/div[2]/div[5]/div/div/button/span'\n",
    "driver.find_element(By.XPATH, xpath).click()\n",
    "#time.sleep(random.randint(2, 3))"
   ]
  },
  {
   "cell_type": "code",
   "execution_count": null,
   "id": "77b970cc-b964-448f-9533-59ab6dbd5ee5",
   "metadata": {},
   "outputs": [],
   "source": [
    "#무한스크롤일때 스크롤먼저하고 기다려서 어느정도 출력했을 때 데이터 추출하자"
   ]
  },
  {
   "cell_type": "code",
   "execution_count": 7,
   "id": "70691860-1460-4f0b-a05a-791a705e3670",
   "metadata": {},
   "outputs": [],
   "source": [
    "# 스크롤\n",
    "for i in range(10):\n",
    "    review_box = driver.find_element(By.CSS_SELECTOR, 'div.fysCi')\n",
    "    driver.execute_script('arguments[0].scrollTop = arguments[0].scrollHeight', review_box )\n",
    "    time.sleep(random.randint(2, 3))"
   ]
  },
  {
   "cell_type": "markdown",
   "id": "74f4c5c9-c362-4143-a195-92d07d82b319",
   "metadata": {},
   "source": [
    "## 리뷰내용, 별점, 날짜 포함한 객체 찾기"
   ]
  },
  {
   "cell_type": "code",
   "execution_count": 8,
   "id": "ed0cf594-97e9-40d7-886d-3639caba0e87",
   "metadata": {
    "scrolled": true
   },
   "outputs": [
    {
     "data": {
      "text/plain": [
       "[<selenium.webdriver.remote.webelement.WebElement (session=\"c7558c126b7fc6f112cd80535c4d91ae\", element=\"f.8C3D80C959CBCBA8C7EEE4862D3ABAC3.d.368764D9F6A50AA6CF1FDE991599BF39.e.1666\")>,\n",
       " <selenium.webdriver.remote.webelement.WebElement (session=\"c7558c126b7fc6f112cd80535c4d91ae\", element=\"f.8C3D80C959CBCBA8C7EEE4862D3ABAC3.d.368764D9F6A50AA6CF1FDE991599BF39.e.1741\")>,\n",
       " <selenium.webdriver.remote.webelement.WebElement (session=\"c7558c126b7fc6f112cd80535c4d91ae\", element=\"f.8C3D80C959CBCBA8C7EEE4862D3ABAC3.d.368764D9F6A50AA6CF1FDE991599BF39.e.1816\")>,\n",
       " <selenium.webdriver.remote.webelement.WebElement (session=\"c7558c126b7fc6f112cd80535c4d91ae\", element=\"f.8C3D80C959CBCBA8C7EEE4862D3ABAC3.d.368764D9F6A50AA6CF1FDE991599BF39.e.1893\")>,\n",
       " <selenium.webdriver.remote.webelement.WebElement (session=\"c7558c126b7fc6f112cd80535c4d91ae\", element=\"f.8C3D80C959CBCBA8C7EEE4862D3ABAC3.d.368764D9F6A50AA6CF1FDE991599BF39.e.1970\")>,\n",
       " <selenium.webdriver.remote.webelement.WebElement (session=\"c7558c126b7fc6f112cd80535c4d91ae\", element=\"f.8C3D80C959CBCBA8C7EEE4862D3ABAC3.d.368764D9F6A50AA6CF1FDE991599BF39.e.2047\")>,\n",
       " <selenium.webdriver.remote.webelement.WebElement (session=\"c7558c126b7fc6f112cd80535c4d91ae\", element=\"f.8C3D80C959CBCBA8C7EEE4862D3ABAC3.d.368764D9F6A50AA6CF1FDE991599BF39.e.2128\")>,\n",
       " <selenium.webdriver.remote.webelement.WebElement (session=\"c7558c126b7fc6f112cd80535c4d91ae\", element=\"f.8C3D80C959CBCBA8C7EEE4862D3ABAC3.d.368764D9F6A50AA6CF1FDE991599BF39.e.2205\")>,\n",
       " <selenium.webdriver.remote.webelement.WebElement (session=\"c7558c126b7fc6f112cd80535c4d91ae\", element=\"f.8C3D80C959CBCBA8C7EEE4862D3ABAC3.d.368764D9F6A50AA6CF1FDE991599BF39.e.2282\")>,\n",
       " <selenium.webdriver.remote.webelement.WebElement (session=\"c7558c126b7fc6f112cd80535c4d91ae\", element=\"f.8C3D80C959CBCBA8C7EEE4862D3ABAC3.d.368764D9F6A50AA6CF1FDE991599BF39.e.2362\")>,\n",
       " <selenium.webdriver.remote.webelement.WebElement (session=\"c7558c126b7fc6f112cd80535c4d91ae\", element=\"f.8C3D80C959CBCBA8C7EEE4862D3ABAC3.d.368764D9F6A50AA6CF1FDE991599BF39.e.2439\")>,\n",
       " <selenium.webdriver.remote.webelement.WebElement (session=\"c7558c126b7fc6f112cd80535c4d91ae\", element=\"f.8C3D80C959CBCBA8C7EEE4862D3ABAC3.d.368764D9F6A50AA6CF1FDE991599BF39.e.2510\")>,\n",
       " <selenium.webdriver.remote.webelement.WebElement (session=\"c7558c126b7fc6f112cd80535c4d91ae\", element=\"f.8C3D80C959CBCBA8C7EEE4862D3ABAC3.d.368764D9F6A50AA6CF1FDE991599BF39.e.2587\")>,\n",
       " <selenium.webdriver.remote.webelement.WebElement (session=\"c7558c126b7fc6f112cd80535c4d91ae\", element=\"f.8C3D80C959CBCBA8C7EEE4862D3ABAC3.d.368764D9F6A50AA6CF1FDE991599BF39.e.2664\")>,\n",
       " <selenium.webdriver.remote.webelement.WebElement (session=\"c7558c126b7fc6f112cd80535c4d91ae\", element=\"f.8C3D80C959CBCBA8C7EEE4862D3ABAC3.d.368764D9F6A50AA6CF1FDE991599BF39.e.2735\")>,\n",
       " <selenium.webdriver.remote.webelement.WebElement (session=\"c7558c126b7fc6f112cd80535c4d91ae\", element=\"f.8C3D80C959CBCBA8C7EEE4862D3ABAC3.d.368764D9F6A50AA6CF1FDE991599BF39.e.2812\")>,\n",
       " <selenium.webdriver.remote.webelement.WebElement (session=\"c7558c126b7fc6f112cd80535c4d91ae\", element=\"f.8C3D80C959CBCBA8C7EEE4862D3ABAC3.d.368764D9F6A50AA6CF1FDE991599BF39.e.2883\")>,\n",
       " <selenium.webdriver.remote.webelement.WebElement (session=\"c7558c126b7fc6f112cd80535c4d91ae\", element=\"f.8C3D80C959CBCBA8C7EEE4862D3ABAC3.d.368764D9F6A50AA6CF1FDE991599BF39.e.2960\")>,\n",
       " <selenium.webdriver.remote.webelement.WebElement (session=\"c7558c126b7fc6f112cd80535c4d91ae\", element=\"f.8C3D80C959CBCBA8C7EEE4862D3ABAC3.d.368764D9F6A50AA6CF1FDE991599BF39.e.3037\")>,\n",
       " <selenium.webdriver.remote.webelement.WebElement (session=\"c7558c126b7fc6f112cd80535c4d91ae\", element=\"f.8C3D80C959CBCBA8C7EEE4862D3ABAC3.d.368764D9F6A50AA6CF1FDE991599BF39.e.3117\")>,\n",
       " <selenium.webdriver.remote.webelement.WebElement (session=\"c7558c126b7fc6f112cd80535c4d91ae\", element=\"f.8C3D80C959CBCBA8C7EEE4862D3ABAC3.d.368764D9F6A50AA6CF1FDE991599BF39.e.5410\")>,\n",
       " <selenium.webdriver.remote.webelement.WebElement (session=\"c7558c126b7fc6f112cd80535c4d91ae\", element=\"f.8C3D80C959CBCBA8C7EEE4862D3ABAC3.d.368764D9F6A50AA6CF1FDE991599BF39.e.5323\")>,\n",
       " <selenium.webdriver.remote.webelement.WebElement (session=\"c7558c126b7fc6f112cd80535c4d91ae\", element=\"f.8C3D80C959CBCBA8C7EEE4862D3ABAC3.d.368764D9F6A50AA6CF1FDE991599BF39.e.5232\")>,\n",
       " <selenium.webdriver.remote.webelement.WebElement (session=\"c7558c126b7fc6f112cd80535c4d91ae\", element=\"f.8C3D80C959CBCBA8C7EEE4862D3ABAC3.d.368764D9F6A50AA6CF1FDE991599BF39.e.5154\")>,\n",
       " <selenium.webdriver.remote.webelement.WebElement (session=\"c7558c126b7fc6f112cd80535c4d91ae\", element=\"f.8C3D80C959CBCBA8C7EEE4862D3ABAC3.d.368764D9F6A50AA6CF1FDE991599BF39.e.5063\")>,\n",
       " <selenium.webdriver.remote.webelement.WebElement (session=\"c7558c126b7fc6f112cd80535c4d91ae\", element=\"f.8C3D80C959CBCBA8C7EEE4862D3ABAC3.d.368764D9F6A50AA6CF1FDE991599BF39.e.4981\")>,\n",
       " <selenium.webdriver.remote.webelement.WebElement (session=\"c7558c126b7fc6f112cd80535c4d91ae\", element=\"f.8C3D80C959CBCBA8C7EEE4862D3ABAC3.d.368764D9F6A50AA6CF1FDE991599BF39.e.4899\")>,\n",
       " <selenium.webdriver.remote.webelement.WebElement (session=\"c7558c126b7fc6f112cd80535c4d91ae\", element=\"f.8C3D80C959CBCBA8C7EEE4862D3ABAC3.d.368764D9F6A50AA6CF1FDE991599BF39.e.4808\")>,\n",
       " <selenium.webdriver.remote.webelement.WebElement (session=\"c7558c126b7fc6f112cd80535c4d91ae\", element=\"f.8C3D80C959CBCBA8C7EEE4862D3ABAC3.d.368764D9F6A50AA6CF1FDE991599BF39.e.4719\")>,\n",
       " <selenium.webdriver.remote.webelement.WebElement (session=\"c7558c126b7fc6f112cd80535c4d91ae\", element=\"f.8C3D80C959CBCBA8C7EEE4862D3ABAC3.d.368764D9F6A50AA6CF1FDE991599BF39.e.4632\")>,\n",
       " <selenium.webdriver.remote.webelement.WebElement (session=\"c7558c126b7fc6f112cd80535c4d91ae\", element=\"f.8C3D80C959CBCBA8C7EEE4862D3ABAC3.d.368764D9F6A50AA6CF1FDE991599BF39.e.4543\")>,\n",
       " <selenium.webdriver.remote.webelement.WebElement (session=\"c7558c126b7fc6f112cd80535c4d91ae\", element=\"f.8C3D80C959CBCBA8C7EEE4862D3ABAC3.d.368764D9F6A50AA6CF1FDE991599BF39.e.4452\")>,\n",
       " <selenium.webdriver.remote.webelement.WebElement (session=\"c7558c126b7fc6f112cd80535c4d91ae\", element=\"f.8C3D80C959CBCBA8C7EEE4862D3ABAC3.d.368764D9F6A50AA6CF1FDE991599BF39.e.4365\")>,\n",
       " <selenium.webdriver.remote.webelement.WebElement (session=\"c7558c126b7fc6f112cd80535c4d91ae\", element=\"f.8C3D80C959CBCBA8C7EEE4862D3ABAC3.d.368764D9F6A50AA6CF1FDE991599BF39.e.4278\")>,\n",
       " <selenium.webdriver.remote.webelement.WebElement (session=\"c7558c126b7fc6f112cd80535c4d91ae\", element=\"f.8C3D80C959CBCBA8C7EEE4862D3ABAC3.d.368764D9F6A50AA6CF1FDE991599BF39.e.4191\")>,\n",
       " <selenium.webdriver.remote.webelement.WebElement (session=\"c7558c126b7fc6f112cd80535c4d91ae\", element=\"f.8C3D80C959CBCBA8C7EEE4862D3ABAC3.d.368764D9F6A50AA6CF1FDE991599BF39.e.4109\")>,\n",
       " <selenium.webdriver.remote.webelement.WebElement (session=\"c7558c126b7fc6f112cd80535c4d91ae\", element=\"f.8C3D80C959CBCBA8C7EEE4862D3ABAC3.d.368764D9F6A50AA6CF1FDE991599BF39.e.4020\")>,\n",
       " <selenium.webdriver.remote.webelement.WebElement (session=\"c7558c126b7fc6f112cd80535c4d91ae\", element=\"f.8C3D80C959CBCBA8C7EEE4862D3ABAC3.d.368764D9F6A50AA6CF1FDE991599BF39.e.3929\")>,\n",
       " <selenium.webdriver.remote.webelement.WebElement (session=\"c7558c126b7fc6f112cd80535c4d91ae\", element=\"f.8C3D80C959CBCBA8C7EEE4862D3ABAC3.d.368764D9F6A50AA6CF1FDE991599BF39.e.3842\")>,\n",
       " <selenium.webdriver.remote.webelement.WebElement (session=\"c7558c126b7fc6f112cd80535c4d91ae\", element=\"f.8C3D80C959CBCBA8C7EEE4862D3ABAC3.d.368764D9F6A50AA6CF1FDE991599BF39.e.3764\")>,\n",
       " <selenium.webdriver.remote.webelement.WebElement (session=\"c7558c126b7fc6f112cd80535c4d91ae\", element=\"f.8C3D80C959CBCBA8C7EEE4862D3ABAC3.d.368764D9F6A50AA6CF1FDE991599BF39.e.7203\")>,\n",
       " <selenium.webdriver.remote.webelement.WebElement (session=\"c7558c126b7fc6f112cd80535c4d91ae\", element=\"f.8C3D80C959CBCBA8C7EEE4862D3ABAC3.d.368764D9F6A50AA6CF1FDE991599BF39.e.7116\")>,\n",
       " <selenium.webdriver.remote.webelement.WebElement (session=\"c7558c126b7fc6f112cd80535c4d91ae\", element=\"f.8C3D80C959CBCBA8C7EEE4862D3ABAC3.d.368764D9F6A50AA6CF1FDE991599BF39.e.7029\")>,\n",
       " <selenium.webdriver.remote.webelement.WebElement (session=\"c7558c126b7fc6f112cd80535c4d91ae\", element=\"f.8C3D80C959CBCBA8C7EEE4862D3ABAC3.d.368764D9F6A50AA6CF1FDE991599BF39.e.6947\")>,\n",
       " <selenium.webdriver.remote.webelement.WebElement (session=\"c7558c126b7fc6f112cd80535c4d91ae\", element=\"f.8C3D80C959CBCBA8C7EEE4862D3ABAC3.d.368764D9F6A50AA6CF1FDE991599BF39.e.6860\")>,\n",
       " <selenium.webdriver.remote.webelement.WebElement (session=\"c7558c126b7fc6f112cd80535c4d91ae\", element=\"f.8C3D80C959CBCBA8C7EEE4862D3ABAC3.d.368764D9F6A50AA6CF1FDE991599BF39.e.6778\")>,\n",
       " <selenium.webdriver.remote.webelement.WebElement (session=\"c7558c126b7fc6f112cd80535c4d91ae\", element=\"f.8C3D80C959CBCBA8C7EEE4862D3ABAC3.d.368764D9F6A50AA6CF1FDE991599BF39.e.6687\")>,\n",
       " <selenium.webdriver.remote.webelement.WebElement (session=\"c7558c126b7fc6f112cd80535c4d91ae\", element=\"f.8C3D80C959CBCBA8C7EEE4862D3ABAC3.d.368764D9F6A50AA6CF1FDE991599BF39.e.6596\")>,\n",
       " <selenium.webdriver.remote.webelement.WebElement (session=\"c7558c126b7fc6f112cd80535c4d91ae\", element=\"f.8C3D80C959CBCBA8C7EEE4862D3ABAC3.d.368764D9F6A50AA6CF1FDE991599BF39.e.6514\")>,\n",
       " <selenium.webdriver.remote.webelement.WebElement (session=\"c7558c126b7fc6f112cd80535c4d91ae\", element=\"f.8C3D80C959CBCBA8C7EEE4862D3ABAC3.d.368764D9F6A50AA6CF1FDE991599BF39.e.6423\")>,\n",
       " <selenium.webdriver.remote.webelement.WebElement (session=\"c7558c126b7fc6f112cd80535c4d91ae\", element=\"f.8C3D80C959CBCBA8C7EEE4862D3ABAC3.d.368764D9F6A50AA6CF1FDE991599BF39.e.6332\")>,\n",
       " <selenium.webdriver.remote.webelement.WebElement (session=\"c7558c126b7fc6f112cd80535c4d91ae\", element=\"f.8C3D80C959CBCBA8C7EEE4862D3ABAC3.d.368764D9F6A50AA6CF1FDE991599BF39.e.6241\")>,\n",
       " <selenium.webdriver.remote.webelement.WebElement (session=\"c7558c126b7fc6f112cd80535c4d91ae\", element=\"f.8C3D80C959CBCBA8C7EEE4862D3ABAC3.d.368764D9F6A50AA6CF1FDE991599BF39.e.6152\")>,\n",
       " <selenium.webdriver.remote.webelement.WebElement (session=\"c7558c126b7fc6f112cd80535c4d91ae\", element=\"f.8C3D80C959CBCBA8C7EEE4862D3ABAC3.d.368764D9F6A50AA6CF1FDE991599BF39.e.6070\")>,\n",
       " <selenium.webdriver.remote.webelement.WebElement (session=\"c7558c126b7fc6f112cd80535c4d91ae\", element=\"f.8C3D80C959CBCBA8C7EEE4862D3ABAC3.d.368764D9F6A50AA6CF1FDE991599BF39.e.5988\")>,\n",
       " <selenium.webdriver.remote.webelement.WebElement (session=\"c7558c126b7fc6f112cd80535c4d91ae\", element=\"f.8C3D80C959CBCBA8C7EEE4862D3ABAC3.d.368764D9F6A50AA6CF1FDE991599BF39.e.5897\")>,\n",
       " <selenium.webdriver.remote.webelement.WebElement (session=\"c7558c126b7fc6f112cd80535c4d91ae\", element=\"f.8C3D80C959CBCBA8C7EEE4862D3ABAC3.d.368764D9F6A50AA6CF1FDE991599BF39.e.5817\")>,\n",
       " <selenium.webdriver.remote.webelement.WebElement (session=\"c7558c126b7fc6f112cd80535c4d91ae\", element=\"f.8C3D80C959CBCBA8C7EEE4862D3ABAC3.d.368764D9F6A50AA6CF1FDE991599BF39.e.5739\")>,\n",
       " <selenium.webdriver.remote.webelement.WebElement (session=\"c7558c126b7fc6f112cd80535c4d91ae\", element=\"f.8C3D80C959CBCBA8C7EEE4862D3ABAC3.d.368764D9F6A50AA6CF1FDE991599BF39.e.5659\")>,\n",
       " <selenium.webdriver.remote.webelement.WebElement (session=\"c7558c126b7fc6f112cd80535c4d91ae\", element=\"f.8C3D80C959CBCBA8C7EEE4862D3ABAC3.d.368764D9F6A50AA6CF1FDE991599BF39.e.5568\")>,\n",
       " <selenium.webdriver.remote.webelement.WebElement (session=\"c7558c126b7fc6f112cd80535c4d91ae\", element=\"f.8C3D80C959CBCBA8C7EEE4862D3ABAC3.d.368764D9F6A50AA6CF1FDE991599BF39.e.8973\")>,\n",
       " <selenium.webdriver.remote.webelement.WebElement (session=\"c7558c126b7fc6f112cd80535c4d91ae\", element=\"f.8C3D80C959CBCBA8C7EEE4862D3ABAC3.d.368764D9F6A50AA6CF1FDE991599BF39.e.8882\")>,\n",
       " <selenium.webdriver.remote.webelement.WebElement (session=\"c7558c126b7fc6f112cd80535c4d91ae\", element=\"f.8C3D80C959CBCBA8C7EEE4862D3ABAC3.d.368764D9F6A50AA6CF1FDE991599BF39.e.8791\")>,\n",
       " <selenium.webdriver.remote.webelement.WebElement (session=\"c7558c126b7fc6f112cd80535c4d91ae\", element=\"f.8C3D80C959CBCBA8C7EEE4862D3ABAC3.d.368764D9F6A50AA6CF1FDE991599BF39.e.8713\")>,\n",
       " <selenium.webdriver.remote.webelement.WebElement (session=\"c7558c126b7fc6f112cd80535c4d91ae\", element=\"f.8C3D80C959CBCBA8C7EEE4862D3ABAC3.d.368764D9F6A50AA6CF1FDE991599BF39.e.8622\")>,\n",
       " <selenium.webdriver.remote.webelement.WebElement (session=\"c7558c126b7fc6f112cd80535c4d91ae\", element=\"f.8C3D80C959CBCBA8C7EEE4862D3ABAC3.d.368764D9F6A50AA6CF1FDE991599BF39.e.8531\")>,\n",
       " <selenium.webdriver.remote.webelement.WebElement (session=\"c7558c126b7fc6f112cd80535c4d91ae\", element=\"f.8C3D80C959CBCBA8C7EEE4862D3ABAC3.d.368764D9F6A50AA6CF1FDE991599BF39.e.8440\")>,\n",
       " <selenium.webdriver.remote.webelement.WebElement (session=\"c7558c126b7fc6f112cd80535c4d91ae\", element=\"f.8C3D80C959CBCBA8C7EEE4862D3ABAC3.d.368764D9F6A50AA6CF1FDE991599BF39.e.8349\")>,\n",
       " <selenium.webdriver.remote.webelement.WebElement (session=\"c7558c126b7fc6f112cd80535c4d91ae\", element=\"f.8C3D80C959CBCBA8C7EEE4862D3ABAC3.d.368764D9F6A50AA6CF1FDE991599BF39.e.8267\")>,\n",
       " <selenium.webdriver.remote.webelement.WebElement (session=\"c7558c126b7fc6f112cd80535c4d91ae\", element=\"f.8C3D80C959CBCBA8C7EEE4862D3ABAC3.d.368764D9F6A50AA6CF1FDE991599BF39.e.8189\")>,\n",
       " <selenium.webdriver.remote.webelement.WebElement (session=\"c7558c126b7fc6f112cd80535c4d91ae\", element=\"f.8C3D80C959CBCBA8C7EEE4862D3ABAC3.d.368764D9F6A50AA6CF1FDE991599BF39.e.8098\")>,\n",
       " <selenium.webdriver.remote.webelement.WebElement (session=\"c7558c126b7fc6f112cd80535c4d91ae\", element=\"f.8C3D80C959CBCBA8C7EEE4862D3ABAC3.d.368764D9F6A50AA6CF1FDE991599BF39.e.8016\")>,\n",
       " <selenium.webdriver.remote.webelement.WebElement (session=\"c7558c126b7fc6f112cd80535c4d91ae\", element=\"f.8C3D80C959CBCBA8C7EEE4862D3ABAC3.d.368764D9F6A50AA6CF1FDE991599BF39.e.7934\")>,\n",
       " <selenium.webdriver.remote.webelement.WebElement (session=\"c7558c126b7fc6f112cd80535c4d91ae\", element=\"f.8C3D80C959CBCBA8C7EEE4862D3ABAC3.d.368764D9F6A50AA6CF1FDE991599BF39.e.7852\")>,\n",
       " <selenium.webdriver.remote.webelement.WebElement (session=\"c7558c126b7fc6f112cd80535c4d91ae\", element=\"f.8C3D80C959CBCBA8C7EEE4862D3ABAC3.d.368764D9F6A50AA6CF1FDE991599BF39.e.7765\")>,\n",
       " <selenium.webdriver.remote.webelement.WebElement (session=\"c7558c126b7fc6f112cd80535c4d91ae\", element=\"f.8C3D80C959CBCBA8C7EEE4862D3ABAC3.d.368764D9F6A50AA6CF1FDE991599BF39.e.7674\")>,\n",
       " <selenium.webdriver.remote.webelement.WebElement (session=\"c7558c126b7fc6f112cd80535c4d91ae\", element=\"f.8C3D80C959CBCBA8C7EEE4862D3ABAC3.d.368764D9F6A50AA6CF1FDE991599BF39.e.7592\")>,\n",
       " <selenium.webdriver.remote.webelement.WebElement (session=\"c7558c126b7fc6f112cd80535c4d91ae\", element=\"f.8C3D80C959CBCBA8C7EEE4862D3ABAC3.d.368764D9F6A50AA6CF1FDE991599BF39.e.7514\")>,\n",
       " <selenium.webdriver.remote.webelement.WebElement (session=\"c7558c126b7fc6f112cd80535c4d91ae\", element=\"f.8C3D80C959CBCBA8C7EEE4862D3ABAC3.d.368764D9F6A50AA6CF1FDE991599BF39.e.7423\")>,\n",
       " <selenium.webdriver.remote.webelement.WebElement (session=\"c7558c126b7fc6f112cd80535c4d91ae\", element=\"f.8C3D80C959CBCBA8C7EEE4862D3ABAC3.d.368764D9F6A50AA6CF1FDE991599BF39.e.7332\")>,\n",
       " <selenium.webdriver.remote.webelement.WebElement (session=\"c7558c126b7fc6f112cd80535c4d91ae\", element=\"f.8C3D80C959CBCBA8C7EEE4862D3ABAC3.d.368764D9F6A50AA6CF1FDE991599BF39.e.10761\")>,\n",
       " <selenium.webdriver.remote.webelement.WebElement (session=\"c7558c126b7fc6f112cd80535c4d91ae\", element=\"f.8C3D80C959CBCBA8C7EEE4862D3ABAC3.d.368764D9F6A50AA6CF1FDE991599BF39.e.10672\")>,\n",
       " <selenium.webdriver.remote.webelement.WebElement (session=\"c7558c126b7fc6f112cd80535c4d91ae\", element=\"f.8C3D80C959CBCBA8C7EEE4862D3ABAC3.d.368764D9F6A50AA6CF1FDE991599BF39.e.10583\")>,\n",
       " <selenium.webdriver.remote.webelement.WebElement (session=\"c7558c126b7fc6f112cd80535c4d91ae\", element=\"f.8C3D80C959CBCBA8C7EEE4862D3ABAC3.d.368764D9F6A50AA6CF1FDE991599BF39.e.10492\")>,\n",
       " <selenium.webdriver.remote.webelement.WebElement (session=\"c7558c126b7fc6f112cd80535c4d91ae\", element=\"f.8C3D80C959CBCBA8C7EEE4862D3ABAC3.d.368764D9F6A50AA6CF1FDE991599BF39.e.10405\")>,\n",
       " <selenium.webdriver.remote.webelement.WebElement (session=\"c7558c126b7fc6f112cd80535c4d91ae\", element=\"f.8C3D80C959CBCBA8C7EEE4862D3ABAC3.d.368764D9F6A50AA6CF1FDE991599BF39.e.10323\")>,\n",
       " <selenium.webdriver.remote.webelement.WebElement (session=\"c7558c126b7fc6f112cd80535c4d91ae\", element=\"f.8C3D80C959CBCBA8C7EEE4862D3ABAC3.d.368764D9F6A50AA6CF1FDE991599BF39.e.10241\")>,\n",
       " <selenium.webdriver.remote.webelement.WebElement (session=\"c7558c126b7fc6f112cd80535c4d91ae\", element=\"f.8C3D80C959CBCBA8C7EEE4862D3ABAC3.d.368764D9F6A50AA6CF1FDE991599BF39.e.10159\")>,\n",
       " <selenium.webdriver.remote.webelement.WebElement (session=\"c7558c126b7fc6f112cd80535c4d91ae\", element=\"f.8C3D80C959CBCBA8C7EEE4862D3ABAC3.d.368764D9F6A50AA6CF1FDE991599BF39.e.10070\")>,\n",
       " <selenium.webdriver.remote.webelement.WebElement (session=\"c7558c126b7fc6f112cd80535c4d91ae\", element=\"f.8C3D80C959CBCBA8C7EEE4862D3ABAC3.d.368764D9F6A50AA6CF1FDE991599BF39.e.9979\")>,\n",
       " <selenium.webdriver.remote.webelement.WebElement (session=\"c7558c126b7fc6f112cd80535c4d91ae\", element=\"f.8C3D80C959CBCBA8C7EEE4862D3ABAC3.d.368764D9F6A50AA6CF1FDE991599BF39.e.9897\")>,\n",
       " <selenium.webdriver.remote.webelement.WebElement (session=\"c7558c126b7fc6f112cd80535c4d91ae\", element=\"f.8C3D80C959CBCBA8C7EEE4862D3ABAC3.d.368764D9F6A50AA6CF1FDE991599BF39.e.9810\")>,\n",
       " <selenium.webdriver.remote.webelement.WebElement (session=\"c7558c126b7fc6f112cd80535c4d91ae\", element=\"f.8C3D80C959CBCBA8C7EEE4862D3ABAC3.d.368764D9F6A50AA6CF1FDE991599BF39.e.9732\")>,\n",
       " <selenium.webdriver.remote.webelement.WebElement (session=\"c7558c126b7fc6f112cd80535c4d91ae\", element=\"f.8C3D80C959CBCBA8C7EEE4862D3ABAC3.d.368764D9F6A50AA6CF1FDE991599BF39.e.9641\")>,\n",
       " <selenium.webdriver.remote.webelement.WebElement (session=\"c7558c126b7fc6f112cd80535c4d91ae\", element=\"f.8C3D80C959CBCBA8C7EEE4862D3ABAC3.d.368764D9F6A50AA6CF1FDE991599BF39.e.9554\")>,\n",
       " <selenium.webdriver.remote.webelement.WebElement (session=\"c7558c126b7fc6f112cd80535c4d91ae\", element=\"f.8C3D80C959CBCBA8C7EEE4862D3ABAC3.d.368764D9F6A50AA6CF1FDE991599BF39.e.9476\")>,\n",
       " <selenium.webdriver.remote.webelement.WebElement (session=\"c7558c126b7fc6f112cd80535c4d91ae\", element=\"f.8C3D80C959CBCBA8C7EEE4862D3ABAC3.d.368764D9F6A50AA6CF1FDE991599BF39.e.9389\")>,\n",
       " <selenium.webdriver.remote.webelement.WebElement (session=\"c7558c126b7fc6f112cd80535c4d91ae\", element=\"f.8C3D80C959CBCBA8C7EEE4862D3ABAC3.d.368764D9F6A50AA6CF1FDE991599BF39.e.9311\")>,\n",
       " <selenium.webdriver.remote.webelement.WebElement (session=\"c7558c126b7fc6f112cd80535c4d91ae\", element=\"f.8C3D80C959CBCBA8C7EEE4862D3ABAC3.d.368764D9F6A50AA6CF1FDE991599BF39.e.9224\")>,\n",
       " <selenium.webdriver.remote.webelement.WebElement (session=\"c7558c126b7fc6f112cd80535c4d91ae\", element=\"f.8C3D80C959CBCBA8C7EEE4862D3ABAC3.d.368764D9F6A50AA6CF1FDE991599BF39.e.9137\")>,\n",
       " <selenium.webdriver.remote.webelement.WebElement (session=\"c7558c126b7fc6f112cd80535c4d91ae\", element=\"f.8C3D80C959CBCBA8C7EEE4862D3ABAC3.d.368764D9F6A50AA6CF1FDE991599BF39.e.13069\")>,\n",
       " <selenium.webdriver.remote.webelement.WebElement (session=\"c7558c126b7fc6f112cd80535c4d91ae\", element=\"f.8C3D80C959CBCBA8C7EEE4862D3ABAC3.d.368764D9F6A50AA6CF1FDE991599BF39.e.12978\")>,\n",
       " <selenium.webdriver.remote.webelement.WebElement (session=\"c7558c126b7fc6f112cd80535c4d91ae\", element=\"f.8C3D80C959CBCBA8C7EEE4862D3ABAC3.d.368764D9F6A50AA6CF1FDE991599BF39.e.12898\")>,\n",
       " <selenium.webdriver.remote.webelement.WebElement (session=\"c7558c126b7fc6f112cd80535c4d91ae\", element=\"f.8C3D80C959CBCBA8C7EEE4862D3ABAC3.d.368764D9F6A50AA6CF1FDE991599BF39.e.12820\")>,\n",
       " <selenium.webdriver.remote.webelement.WebElement (session=\"c7558c126b7fc6f112cd80535c4d91ae\", element=\"f.8C3D80C959CBCBA8C7EEE4862D3ABAC3.d.368764D9F6A50AA6CF1FDE991599BF39.e.12729\")>,\n",
       " <selenium.webdriver.remote.webelement.WebElement (session=\"c7558c126b7fc6f112cd80535c4d91ae\", element=\"f.8C3D80C959CBCBA8C7EEE4862D3ABAC3.d.368764D9F6A50AA6CF1FDE991599BF39.e.12647\")>,\n",
       " <selenium.webdriver.remote.webelement.WebElement (session=\"c7558c126b7fc6f112cd80535c4d91ae\", element=\"f.8C3D80C959CBCBA8C7EEE4862D3ABAC3.d.368764D9F6A50AA6CF1FDE991599BF39.e.12565\")>,\n",
       " <selenium.webdriver.remote.webelement.WebElement (session=\"c7558c126b7fc6f112cd80535c4d91ae\", element=\"f.8C3D80C959CBCBA8C7EEE4862D3ABAC3.d.368764D9F6A50AA6CF1FDE991599BF39.e.12478\")>,\n",
       " <selenium.webdriver.remote.webelement.WebElement (session=\"c7558c126b7fc6f112cd80535c4d91ae\", element=\"f.8C3D80C959CBCBA8C7EEE4862D3ABAC3.d.368764D9F6A50AA6CF1FDE991599BF39.e.12387\")>,\n",
       " <selenium.webdriver.remote.webelement.WebElement (session=\"c7558c126b7fc6f112cd80535c4d91ae\", element=\"f.8C3D80C959CBCBA8C7EEE4862D3ABAC3.d.368764D9F6A50AA6CF1FDE991599BF39.e.12305\")>,\n",
       " <selenium.webdriver.remote.webelement.WebElement (session=\"c7558c126b7fc6f112cd80535c4d91ae\", element=\"f.8C3D80C959CBCBA8C7EEE4862D3ABAC3.d.368764D9F6A50AA6CF1FDE991599BF39.e.12223\")>,\n",
       " <selenium.webdriver.remote.webelement.WebElement (session=\"c7558c126b7fc6f112cd80535c4d91ae\", element=\"f.8C3D80C959CBCBA8C7EEE4862D3ABAC3.d.368764D9F6A50AA6CF1FDE991599BF39.e.12145\")>,\n",
       " <selenium.webdriver.remote.webelement.WebElement (session=\"c7558c126b7fc6f112cd80535c4d91ae\", element=\"f.8C3D80C959CBCBA8C7EEE4862D3ABAC3.d.368764D9F6A50AA6CF1FDE991599BF39.e.12058\")>,\n",
       " <selenium.webdriver.remote.webelement.WebElement (session=\"c7558c126b7fc6f112cd80535c4d91ae\", element=\"f.8C3D80C959CBCBA8C7EEE4862D3ABAC3.d.368764D9F6A50AA6CF1FDE991599BF39.e.11969\")>,\n",
       " <selenium.webdriver.remote.webelement.WebElement (session=\"c7558c126b7fc6f112cd80535c4d91ae\", element=\"f.8C3D80C959CBCBA8C7EEE4862D3ABAC3.d.368764D9F6A50AA6CF1FDE991599BF39.e.11878\")>,\n",
       " <selenium.webdriver.remote.webelement.WebElement (session=\"c7558c126b7fc6f112cd80535c4d91ae\", element=\"f.8C3D80C959CBCBA8C7EEE4862D3ABAC3.d.368764D9F6A50AA6CF1FDE991599BF39.e.11798\")>,\n",
       " <selenium.webdriver.remote.webelement.WebElement (session=\"c7558c126b7fc6f112cd80535c4d91ae\", element=\"f.8C3D80C959CBCBA8C7EEE4862D3ABAC3.d.368764D9F6A50AA6CF1FDE991599BF39.e.11720\")>,\n",
       " <selenium.webdriver.remote.webelement.WebElement (session=\"c7558c126b7fc6f112cd80535c4d91ae\", element=\"f.8C3D80C959CBCBA8C7EEE4862D3ABAC3.d.368764D9F6A50AA6CF1FDE991599BF39.e.11640\")>,\n",
       " <selenium.webdriver.remote.webelement.WebElement (session=\"c7558c126b7fc6f112cd80535c4d91ae\", element=\"f.8C3D80C959CBCBA8C7EEE4862D3ABAC3.d.368764D9F6A50AA6CF1FDE991599BF39.e.11562\")>,\n",
       " <selenium.webdriver.remote.webelement.WebElement (session=\"c7558c126b7fc6f112cd80535c4d91ae\", element=\"f.8C3D80C959CBCBA8C7EEE4862D3ABAC3.d.368764D9F6A50AA6CF1FDE991599BF39.e.11484\")>]"
      ]
     },
     "execution_count": 8,
     "metadata": {},
     "output_type": "execute_result"
    }
   ],
   "source": [
    "reviews=driver.find_elements(By.CSS_SELECTOR,'div.RHo1pe')\n",
    "reviews"
   ]
  },
  {
   "cell_type": "code",
   "execution_count": 9,
   "id": "d5e9a1db-5f59-4810-b56f-c5fb9b81d8ff",
   "metadata": {},
   "outputs": [
    {
     "data": {
      "text/plain": [
       "120"
      ]
     },
     "execution_count": 9,
     "metadata": {},
     "output_type": "execute_result"
    }
   ],
   "source": [
    "len(reviews)"
   ]
  },
  {
   "cell_type": "code",
   "execution_count": 10,
   "id": "f0fc1caf-c402-4ca8-856a-e7da0e8432e1",
   "metadata": {},
   "outputs": [],
   "source": [
    "# 요소별 추출\n",
    "def get_content(review):\n",
    "    condic = {}\n",
    "    condic['text'] = review.find_element(By.CSS_SELECTOR, 'div.h3YV2d').text\n",
    "    condic['rat'] = len(review.find_elements(By.CSS_SELECTOR, 'span.Z1Dz7b'))\n",
    "    condic['date'] = review.find_element(By.CSS_SELECTOR, 'span.bp9Aid').text\n",
    "    return condic"
   ]
  },
  {
   "cell_type": "code",
   "execution_count": 11,
   "id": "88f04755-f296-4b84-ad57-83a2807da97c",
   "metadata": {},
   "outputs": [],
   "source": [
    "result = [get_content(review) for review in reviews]"
   ]
  },
  {
   "cell_type": "code",
   "execution_count": 12,
   "id": "80c8e8da-f4e9-48f7-9888-6a85e15d391b",
   "metadata": {},
   "outputs": [],
   "source": [
    "# 요소별 추출\n",
    "def get_content(review):\n",
    "    condic = {}\n",
    "    condic['text'] = review.find_element(By.CSS_SELECTOR, 'div.h3YV2d').text\n",
    "    condic['rat'] = len(review.find_elements(By.CSS_SELECTOR, 'span.Z1Dz7b'))\n",
    "    condic['date'] = review.find_element(By.CSS_SELECTOR, 'span.bp9Aid').text\n",
    "    return condic"
   ]
  },
  {
   "cell_type": "code",
   "execution_count": 13,
   "id": "6c727655-f530-4c27-a880-813f0365cb91",
   "metadata": {},
   "outputs": [
    {
     "data": {
      "text/html": [
       "<div>\n",
       "<style scoped>\n",
       "    .dataframe tbody tr th:only-of-type {\n",
       "        vertical-align: middle;\n",
       "    }\n",
       "\n",
       "    .dataframe tbody tr th {\n",
       "        vertical-align: top;\n",
       "    }\n",
       "\n",
       "    .dataframe thead th {\n",
       "        text-align: right;\n",
       "    }\n",
       "</style>\n",
       "<table border=\"1\" class=\"dataframe\">\n",
       "  <thead>\n",
       "    <tr style=\"text-align: right;\">\n",
       "      <th></th>\n",
       "      <th>text</th>\n",
       "      <th>rat</th>\n",
       "      <th>date</th>\n",
       "    </tr>\n",
       "  </thead>\n",
       "  <tbody>\n",
       "    <tr>\n",
       "      <th>0</th>\n",
       "      <td>많고 많은 필터어플들이 개성은 별로 없는편인데 피크닉은 독보적인 필터들이 많아서 계...</td>\n",
       "      <td>5</td>\n",
       "      <td>2019년 4월 14일</td>\n",
       "    </tr>\n",
       "    <tr>\n",
       "      <th>1</th>\n",
       "      <td>진짜 이 앱은 남이 알까 무서울 정도로 좋은 앱이네요ㅠㅜㅜ 사진이 세상 예쁘게 되고...</td>\n",
       "      <td>4</td>\n",
       "      <td>2019년 6월 1일</td>\n",
       "    </tr>\n",
       "    <tr>\n",
       "      <th>2</th>\n",
       "      <td>일단 정말 잘 사용하고 있구요!감사합니다! 다만 최근 AI기능 on off가 있어서...</td>\n",
       "      <td>4</td>\n",
       "      <td>2019년 2월 26일</td>\n",
       "    </tr>\n",
       "    <tr>\n",
       "      <th>3</th>\n",
       "      <td>사진 화질도 아주좋고 쓸만하네요 하지만 사람들이 더 다양하게 커스텀 할수있는 기능을...</td>\n",
       "      <td>5</td>\n",
       "      <td>2024년 1월 8일</td>\n",
       "    </tr>\n",
       "    <tr>\n",
       "      <th>4</th>\n",
       "      <td>배경이 자연스럽게 들어가 흐린날에도 사진찍기 좋고 필터 하나하나 색감도 너무 마음에...</td>\n",
       "      <td>5</td>\n",
       "      <td>2019년 2월 4일</td>\n",
       "    </tr>\n",
       "    <tr>\n",
       "      <th>...</th>\n",
       "      <td>...</td>\n",
       "      <td>...</td>\n",
       "      <td>...</td>\n",
       "    </tr>\n",
       "    <tr>\n",
       "      <th>115</th>\n",
       "      <td>사진하늘이 너무 예쁘게나와요 적용이 잘안되는 사진도있긴한데 그래도 흐린날사진 예쁘게...</td>\n",
       "      <td>4</td>\n",
       "      <td>2019년 6월 17일</td>\n",
       "    </tr>\n",
       "    <tr>\n",
       "      <th>116</th>\n",
       "      <td>너무 좋아요!!꼭 사용해 보시면 좋을것같아용 근데 아쉬운 점이 동영상을 못 찍는거에...</td>\n",
       "      <td>5</td>\n",
       "      <td>2020년 3월 30일</td>\n",
       "    </tr>\n",
       "    <tr>\n",
       "      <th>117</th>\n",
       "      <td>구름추가가 되어서 좋긴한데 선택하면 밝기 이런거에서 나머지 배경도 같이 되는 그런거...</td>\n",
       "      <td>3</td>\n",
       "      <td>2020년 9월 13일</td>\n",
       "    </tr>\n",
       "    <tr>\n",
       "      <th>118</th>\n",
       "      <td>색감이 다 이뻐요! 다만 아쉬운점은 사진저장시 해상도를 선택할 수 있다면 더 좋을것...</td>\n",
       "      <td>4</td>\n",
       "      <td>2020년 8월 28일</td>\n",
       "    </tr>\n",
       "    <tr>\n",
       "      <th>119</th>\n",
       "      <td>작동하는것도 쉬워서 처음 부터 잘 이용할수있어서 넘나 좋구 !! 제가 하늘을 찍는데...</td>\n",
       "      <td>5</td>\n",
       "      <td>2019년 10월 4일</td>\n",
       "    </tr>\n",
       "  </tbody>\n",
       "</table>\n",
       "<p>120 rows × 3 columns</p>\n",
       "</div>"
      ],
      "text/plain": [
       "                                                  text  rat          date\n",
       "0    많고 많은 필터어플들이 개성은 별로 없는편인데 피크닉은 독보적인 필터들이 많아서 계...    5  2019년 4월 14일\n",
       "1    진짜 이 앱은 남이 알까 무서울 정도로 좋은 앱이네요ㅠㅜㅜ 사진이 세상 예쁘게 되고...    4   2019년 6월 1일\n",
       "2    일단 정말 잘 사용하고 있구요!감사합니다! 다만 최근 AI기능 on off가 있어서...    4  2019년 2월 26일\n",
       "3    사진 화질도 아주좋고 쓸만하네요 하지만 사람들이 더 다양하게 커스텀 할수있는 기능을...    5   2024년 1월 8일\n",
       "4    배경이 자연스럽게 들어가 흐린날에도 사진찍기 좋고 필터 하나하나 색감도 너무 마음에...    5   2019년 2월 4일\n",
       "..                                                 ...  ...           ...\n",
       "115  사진하늘이 너무 예쁘게나와요 적용이 잘안되는 사진도있긴한데 그래도 흐린날사진 예쁘게...    4  2019년 6월 17일\n",
       "116  너무 좋아요!!꼭 사용해 보시면 좋을것같아용 근데 아쉬운 점이 동영상을 못 찍는거에...    5  2020년 3월 30일\n",
       "117  구름추가가 되어서 좋긴한데 선택하면 밝기 이런거에서 나머지 배경도 같이 되는 그런거...    3  2020년 9월 13일\n",
       "118  색감이 다 이뻐요! 다만 아쉬운점은 사진저장시 해상도를 선택할 수 있다면 더 좋을것...    4  2020년 8월 28일\n",
       "119  작동하는것도 쉬워서 처음 부터 잘 이용할수있어서 넘나 좋구 !! 제가 하늘을 찍는데...    5  2019년 10월 4일\n",
       "\n",
       "[120 rows x 3 columns]"
      ]
     },
     "execution_count": 13,
     "metadata": {},
     "output_type": "execute_result"
    }
   ],
   "source": [
    "df = pd.DataFrame(result)\n",
    "df"
   ]
  },
  {
   "cell_type": "markdown",
   "id": "383bc9ad-f593-4a95-87f5-fa25a59bbeaa",
   "metadata": {},
   "source": [
    "## 예제) 대한민국 지역 여행기사 수집"
   ]
  },
  {
   "cell_type": "code",
   "execution_count": 36,
   "id": "4c8c0877-2c89-47b8-bdb6-a1252cd52b8b",
   "metadata": {},
   "outputs": [],
   "source": [
    "from selenium import webdriver\n",
    "from selenium.webdriver.common.by import By\n",
    "from selenium.webdriver.chrome.options import Options\n",
    "import math, time\n",
    "\n",
    "options = Options()\n",
    "options.add_argument('--window-size=974,1047')\n",
    "options.add_argument('--window-position=-7,0')\n",
    "options.add_experimental_option(\"detach\", True)"
   ]
  },
  {
   "cell_type": "code",
   "execution_count": 37,
   "id": "f9b16b65-2971-4d9d-88cf-a6c2871f57b0",
   "metadata": {},
   "outputs": [
    {
     "name": "stdin",
     "output_type": "stream",
     "text": [
      "검색어를 입력하세요. 제주도\n"
     ]
    }
   ],
   "source": [
    "search = input('검색어를 입력하세요.')"
   ]
  },
  {
   "cell_type": "code",
   "execution_count": 38,
   "id": "04d7afa8-78e2-47c0-921b-fe78dbb4621b",
   "metadata": {},
   "outputs": [],
   "source": [
    "URL = 'https://korean.visitkorea.or.kr/search/search_list.do?keyword='+search\n",
    "\n",
    "driver = webdriver.Chrome(options=options)\n",
    "driver.get(URL)\n",
    "time.sleep(3)"
   ]
  },
  {
   "cell_type": "code",
   "execution_count": 39,
   "id": "911c2421-5896-43cd-a6c2-7f7246000c5e",
   "metadata": {},
   "outputs": [],
   "source": [
    "driver.find_element(By.XPATH,'//*[@id=\"s_recommend\"]/div[2]').click()"
   ]
  },
  {
   "cell_type": "code",
   "execution_count": 26,
   "id": "dea6e42b-9875-4352-b6c5-e9b4cf066cbd",
   "metadata": {},
   "outputs": [
    {
     "data": {
      "text/plain": [
       "'해변산책부터 레이싱까지, 제주 반려동물 동반여행 추천 코스'"
      ]
     },
     "execution_count": 26,
     "metadata": {},
     "output_type": "execute_result"
    }
   ],
   "source": [
    "result=driver.find_elements(By.XPATH,'//*[@id=\"search_result\"]/ul/li[1]/div[1]/div[1]/a')\n",
    "result[0].text"
   ]
  },
  {
   "cell_type": "code",
   "execution_count": 119,
   "id": "a3eb07f5-b8ab-4674-a484-fbaad78f3ed6",
   "metadata": {},
   "outputs": [
    {
     "data": {
      "text/plain": [
       "'해변산책부터 레이싱까지, 제주 반려동물 동반여행 추천 코스'"
      ]
     },
     "execution_count": 119,
     "metadata": {},
     "output_type": "execute_result"
    }
   ],
   "source": [
    "result=driver.find_elements(By.XPATH,'//*[@id=\"search_result\"]/ul/li[*]/div[1]/div[1]/a')\n",
    "result[0].text"
   ]
  },
  {
   "cell_type": "code",
   "execution_count": 23,
   "id": "c4dae9f1-80ab-48c9-a439-d7caeb4aa5b6",
   "metadata": {},
   "outputs": [
    {
     "name": "stdout",
     "output_type": "stream",
     "text": [
      "\n",
      "\n",
      "\n",
      "\n",
      "\n",
      "\n",
      "\n",
      "\n",
      "\n",
      "\n",
      "\n",
      "\n",
      "\n",
      "\n",
      "\n",
      "\n",
      "\n",
      "\n",
      "\n",
      "\n",
      "\n",
      "\n",
      "\n",
      "\n",
      "해변산책부터 레이싱까지, 제주 반려동물 동반여행 추천 코스\n",
      "제주도가 품은 신비의 화산 숲, 환상숲곶자왈공원\n",
      "한국관광공사 추천 2월 걷기여행길, 이른 봄을 맞이하는 제주도 걷기길\n",
      "제주도의 숨겨진 재미를 찾는\n",
      "<놀멍, 배우멍 제주마을체험 - 1일형 체험학습>\n",
      "제주도 조천읍 버킷리스트 여행지 작성하기\n",
      "김창열의 회귀 철학을 건축으로 표현한 미술관, 제주도립김창열미술관\n",
      "[국내 트레킹 추천]\n",
      "제주 올레길 걷기 여행,\n",
      "준비부터 코스 선택까지 꿀팁 총정리!\n",
      "4월 제주도 가볼 만한, 가파도 청보리 축제\n",
      "제주도 유채꽃 명소 추천, 봄에 떠나는 인생샷 여행\n",
      "소소한 '제주여행' 꿀팁! 〈겨울편〉\n"
     ]
    }
   ],
   "source": [
    "result = driver.find_elements(By.CSS_SELECTOR, '.tit a')\n",
    "for i in range(len(result)):\n",
    "    print(result[i].text)"
   ]
  },
  {
   "cell_type": "code",
   "execution_count": 122,
   "id": "70ce6c96-fcbc-450d-ac24-7d180064d05c",
   "metadata": {},
   "outputs": [
    {
     "data": {
      "text/plain": [
       "(10, '해변산책부터 레이싱까지, 제주 반려동물 동반여행 추천 코스', '제주도가 품은 신비의 화산 숲, 환상숲곶자왈공원')"
      ]
     },
     "execution_count": 122,
     "metadata": {},
     "output_type": "execute_result"
    }
   ],
   "source": [
    "# tit_xpath = '//*[@id=\"search_result\"]/ul/li/div/div/a' # 해당 요소가 하나씩일 때\n",
    "tit_xpath = '//*[@id=\"search_result\"]/ul/li[*]/div[1]/div[1]/a'\n",
    "result = driver.find_elements(By.XPATH, tit_xpath)\n",
    "len(result), result[0].text, result[1].text"
   ]
  },
  {
   "cell_type": "code",
   "execution_count": 123,
   "id": "9862439d-ced4-423a-9a85-f6943e166374",
   "metadata": {},
   "outputs": [
    {
     "name": "stdout",
     "output_type": "stream",
     "text": [
      "1 해변산책부터 레이싱까지, 제주 반려동물 동반여행 추천 코스\n",
      "2 제주도가 품은 신비의 화산 숲, 환상숲곶자왈공원\n",
      "3 한국관광공사 추천 2월 걷기여행길, 이른 봄을 맞이하는 제주도 걷기길\n",
      "4 제주도의 숨겨진 재미를 찾는\n",
      "<놀멍, 배우멍 제주마을체험 - 1일형 체험학습>\n",
      "5 제주도 조천읍 버킷리스트 여행지 작성하기\n",
      "6 김창열의 회귀 철학을 건축으로 표현한 미술관, 제주도립김창열미술관\n",
      "7 [국내 트레킹 추천]\n",
      "제주 올레길 걷기 여행,\n",
      "준비부터 코스 선택까지 꿀팁 총정리!\n",
      "8 4월 제주도 가볼 만한, 가파도 청보리 축제\n",
      "9 제주도 유채꽃 명소 추천, 봄에 떠나는 인생샷 여행\n",
      "10 소소한 '제주여행' 꿀팁! 〈겨울편〉\n"
     ]
    }
   ],
   "source": [
    "for i, title in enumerate(result, 1):\n",
    "#     print(i, title.text)\n",
    "    print(i, title.text)"
   ]
  },
  {
   "cell_type": "markdown",
   "id": "4e9bc132-d66a-4778-bb29-c8b376dffd50",
   "metadata": {},
   "source": [
    "## 페이지 이동"
   ]
  },
  {
   "cell_type": "code",
   "execution_count": 40,
   "id": "d14a2e38-9124-4613-84cc-252eb110bd1b",
   "metadata": {},
   "outputs": [],
   "source": [
    "driver.find_element(By.XPATH,'/html/body/div[3]/div/div[1]/div[14]/a[2]').click()"
   ]
  },
  {
   "cell_type": "code",
   "execution_count": 41,
   "id": "6fe7874a-bb01-4073-a562-f9b7cc85bd6e",
   "metadata": {},
   "outputs": [
    {
     "name": "stdin",
     "output_type": "stream",
     "text": [
      "크롤링 할 건수는 몇건입니까?:  15\n"
     ]
    },
    {
     "data": {
      "text/plain": [
       "15"
      ]
     },
     "execution_count": 41,
     "metadata": {},
     "output_type": "execute_result"
    }
   ],
   "source": [
    "cnt = int(input('크롤링 할 건수는 몇건입니까?: '))\n",
    "cnt"
   ]
  },
  {
   "cell_type": "code",
   "execution_count": 42,
   "id": "2ae73013-248d-44ba-b301-b6786c2d84bb",
   "metadata": {},
   "outputs": [
    {
     "name": "stdout",
     "output_type": "stream",
     "text": [
      "2\n"
     ]
    }
   ],
   "source": [
    "page_cnt = math.ceil(cnt / 10) # 크롤링 할 전체 페이지 수 (올림)\n",
    "print(page_cnt)"
   ]
  },
  {
   "cell_type": "markdown",
   "id": "5c79f86b-e224-436f-a9c8-bb3d3f81ce9a",
   "metadata": {},
   "source": [
    "## 사용자 입력을 받아 페이지를 순환하여 수집하라"
   ]
  },
  {
   "cell_type": "code",
   "execution_count": 33,
   "id": "6a8acae8-c799-41ba-bfea-a8da46c1f898",
   "metadata": {},
   "outputs": [
    {
     "name": "stdout",
     "output_type": "stream",
     "text": [
      "========= 1 페이지 작업 =========\n",
      "1 연말연시 제주도 여행 추천 코스,\n",
      "가족여행 가볼 만한 곳\n",
      "2 새하얀 눈으로 덮인 제주도 설경 명소 4\n",
      "3 제주 6월 걷기 좋은 길, 성안올레 1코스 원도심 투어\n",
      "4 사계절 자연의 아름다움을 간직한 제주시 댕댕이 추천코스\n",
      "5 제주도 '한정'여행지,\n",
      "제주도의 이색 공간을 찾아서\n",
      "6 멈춤과 완보로 만나는 제주 생각하는정원\n",
      "7 2월 놓치지 말아야 할 제주 관광 10선\n",
      "<2월 제주, 먼저 온 봄기운에 마음 돌랑돌랑>\n",
      "8 제주의 아크로폴리스를 아시나요? - 제주 원도심 (제주목관아 중심)\n",
      "9 맛있는 음식에 여행의 기쁨은 두 배! <제주 식도락 여행>\n",
      "10 제주 여행, 은빛 물결이 일렁이는 제주도 억새 명소 모음\n",
      "========= 2 페이지 작업 =========\n",
      "11 연말연시 제주도 여행 추천 코스,\n",
      "가족여행 가볼 만한 곳\n",
      "12 새하얀 눈으로 덮인 제주도 설경 명소 4\n",
      "13 제주 6월 걷기 좋은 길, 성안올레 1코스 원도심 투어\n",
      "14 사계절 자연의 아름다움을 간직한 제주시 댕댕이 추천코스\n",
      "15 제주도 '한정'여행지,\n",
      "제주도의 이색 공간을 찾아서\n",
      "========= 작업 완료 =========\n"
     ]
    }
   ],
   "source": [
    "tit_xpath = '//*[@id=\"search_result\"]/ul/li[*]/div[1]/div[1]/a'\n",
    "no = 0\n",
    "\n",
    "for x in range(1, page_cnt+1):\n",
    "    print(f'========= {x} 페이지 작업 =========')\n",
    "    mylist = driver.find_elements(By.XPATH, tit_xpath)\n",
    "    \n",
    "    for item in mylist:\n",
    "        no += 1\n",
    "        if no > cnt:\n",
    "            break\n",
    "        print(no, item.text)\n",
    "    \n",
    "    if no <= cnt:\n",
    "        a = f'/html/body/div[3]/div/div[1]/div[14]/a[{x+1}]'\n",
    "        driver.find_element(By.XPATH, a).click()\n",
    "#         next_button = driver.find_element(By.CSS_SELECTOR, f\"a[id='{x+1}']\")\n",
    "#         driver.execute_script(\"arguments[0].click();\", next_button)\n",
    "        time.sleep(2)\n",
    "    \n",
    "print('========= 작업 완료 =========')\n",
    "# driver.close()\n"
   ]
  },
  {
   "cell_type": "code",
   "execution_count": null,
   "id": "197efe28-3a31-49cb-9f5f-c29c74471f0b",
   "metadata": {},
   "outputs": [],
   "source": [
    "#넘버링할때 xpath를 하면 오류가 난다..."
   ]
  },
  {
   "cell_type": "code",
   "execution_count": null,
   "id": "afdf9501-c515-4f87-80eb-a2ee5c8b32eb",
   "metadata": {},
   "outputs": [],
   "source": [
    "tit_xpath = '//*[@id=\"search_result\"]/ul/li[*]/div[1]/div[1]/a'\n",
    "no = 0\n",
    "\n",
    "for x in range(1, page_cnt+1):\n",
    "    print(f'========= {x} 페이지 작업 =========')\n",
    "    mylist = driver.find_elements(By.XPATH, tit_xpath)\n",
    "    \n",
    "    for item in mylist:\n",
    "        no += 1\n",
    "        if no > cnt:\n",
    "            break\n",
    "        print(no, item.text)\n",
    "    \n",
    "    if no <= cnt:\n",
    "        a = f'/html/body/div[3]/div/div[1]/div[14]/a[{x+1}]'\n",
    "        driver.find_element(By.XPATH, a).click()\n",
    "        time.sleep(2)\n",
    "    \n",
    "print('========= 작업 완료 =========')"
   ]
  },
  {
   "cell_type": "code",
   "execution_count": 46,
   "id": "67fb422a-426f-452f-ab70-b8a34a7ca027",
   "metadata": {},
   "outputs": [
    {
     "name": "stdout",
     "output_type": "stream",
     "text": [
      "========= 1 페이지 작업 =========\n",
      "1 해변산책부터 레이싱까지, 제주 반려동물 동반여행 추천 코스\n",
      "2 제주도가 품은 신비의 화산 숲, 환상숲곶자왈공원\n",
      "3 한국관광공사 추천 2월 걷기여행길, 이른 봄을 맞이하는 제주도 걷기길\n",
      "4 제주도의 숨겨진 재미를 찾는\n",
      "<놀멍, 배우멍 제주마을체험 - 1일형 체험학습>\n",
      "5 제주도 조천읍 버킷리스트 여행지 작성하기\n",
      "6 김창열의 회귀 철학을 건축으로 표현한 미술관, 제주도립김창열미술관\n",
      "7 [국내 트레킹 추천]\n",
      "제주 올레길 걷기 여행,\n",
      "준비부터 코스 선택까지 꿀팁 총정리!\n",
      "8 4월 제주도 가볼 만한, 가파도 청보리 축제\n",
      "9 제주도 유채꽃 명소 추천, 봄에 떠나는 인생샷 여행\n",
      "10 소소한 '제주여행' 꿀팁! 〈겨울편〉\n"
     ]
    },
    {
     "ename": "AttributeError",
     "evalue": "'list' object has no attribute 'click'",
     "output_type": "error",
     "traceback": [
      "\u001b[1;31m---------------------------------------------------------------------------\u001b[0m",
      "\u001b[1;31mAttributeError\u001b[0m                            Traceback (most recent call last)",
      "Cell \u001b[1;32mIn[46], line 16\u001b[0m\n\u001b[0;32m     14\u001b[0m     \u001b[38;5;28;01mif\u001b[39;00m no \u001b[38;5;241m<\u001b[39m\u001b[38;5;241m=\u001b[39m cnt:\n\u001b[0;32m     15\u001b[0m         over_tit\u001b[38;5;241m=\u001b[39m\u001b[38;5;124mf\u001b[39m\u001b[38;5;124m'\u001b[39m\u001b[38;5;124m/html/body/div[3]/div/div[1]/div[14]/a[\u001b[39m\u001b[38;5;132;01m{\u001b[39;00mx\u001b[38;5;241m+\u001b[39m\u001b[38;5;241m1\u001b[39m\u001b[38;5;132;01m}\u001b[39;00m\u001b[38;5;124m]\u001b[39m\u001b[38;5;124m'\u001b[39m\n\u001b[1;32m---> 16\u001b[0m         driver\u001b[38;5;241m.\u001b[39mfind_elements(By\u001b[38;5;241m.\u001b[39mXPATH, over_tit)\u001b[38;5;241m.\u001b[39mclick()\n\u001b[0;32m     17\u001b[0m         time\u001b[38;5;241m.\u001b[39msleep(\u001b[38;5;241m2\u001b[39m)  \u001b[38;5;66;03m# 페이지 로드 대기\u001b[39;00m\n\u001b[0;32m     19\u001b[0m \u001b[38;5;28mprint\u001b[39m(\u001b[38;5;124m'\u001b[39m\u001b[38;5;124m========= 작업 완료 =========\u001b[39m\u001b[38;5;124m'\u001b[39m)\n",
      "\u001b[1;31mAttributeError\u001b[0m: 'list' object has no attribute 'click'"
     ]
    }
   ],
   "source": [
    "tit_xpath = '//*[@id=\"search_result\"]/ul/li[*]/div[1]/div[1]/a'\n",
    "no = 0\n",
    "\n",
    "for x in range(1, page_cnt+1):\n",
    "    print(f'========= {x} 페이지 작업 =========')\n",
    "    mylist = driver.find_elements(By.XPATH, tit_xpath)\n",
    "    \n",
    "    for item in mylist:\n",
    "        no += 1\n",
    "        if no > cnt:\n",
    "            break\n",
    "        print(no, item.text)\n",
    "    \n",
    "    if no <= cnt:\n",
    "        over_tit=f'/html/body/div[3]/div/div[1]/div[14]/a[{x+1}]'\n",
    "        driver.find_elements(By.XPATH, over_tit).click()\n",
    "        time.sleep(2)  # 페이지 로드 대기\n",
    "    \n",
    "print('========= 작업 완료 =========')\n",
    "# driver.close()"
   ]
  },
  {
   "cell_type": "code",
   "execution_count": null,
   "id": "eaada0cb-d8d5-417b-9e96-43a42d39fc28",
   "metadata": {},
   "outputs": [],
   "source": []
  }
 ],
 "metadata": {
  "kernelspec": {
   "display_name": "Python 3 (ipykernel)",
   "language": "python",
   "name": "python3"
  },
  "language_info": {
   "codemirror_mode": {
    "name": "ipython",
    "version": 3
   },
   "file_extension": ".py",
   "mimetype": "text/x-python",
   "name": "python",
   "nbconvert_exporter": "python",
   "pygments_lexer": "ipython3",
   "version": "3.11.7"
  }
 },
 "nbformat": 4,
 "nbformat_minor": 5
}
